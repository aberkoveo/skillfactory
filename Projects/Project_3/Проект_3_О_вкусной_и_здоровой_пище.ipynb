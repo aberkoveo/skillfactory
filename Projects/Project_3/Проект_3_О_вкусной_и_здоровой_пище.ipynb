{
 "metadata": {
  "language_info": {
   "codemirror_mode": {
    "name": "ipython",
    "version": 3
   },
   "file_extension": ".py",
   "mimetype": "text/x-python",
   "name": "python",
   "nbconvert_exporter": "python",
   "pygments_lexer": "ipython3",
   "version": "3.7.6-final"
  },
  "orig_nbformat": 2,
  "kernelspec": {
   "name": "python_defaultSpec_1597316740808",
   "display_name": "Python 3.7.6 64-bit ('anaconda3': conda)"
  }
 },
 "nbformat": 4,
 "nbformat_minor": 2,
 "cells": [
  {
   "cell_type": "code",
   "execution_count": 519,
   "metadata": {},
   "outputs": [],
   "source": [
    "import pandas as pd\n",
    "import numpy as np\n",
    "import itertools\n",
    "from collections import Counter\n",
    "from datetime import datetime\n",
    "import re\n",
    "import ast\n",
    "\n",
    "import my_functions\n",
    "import importlib\n",
    "importlib.reload(my_functions)\n",
    "\n",
    "import matplotlib.pyplot as plt\n",
    "import seaborn as sns\n",
    "\n",
    "# Загружаем специальный инструмент для разбивки:\n",
    "from sklearn.model_selection import train_test_split\n",
    "# Импортируем необходимые библиотеки:\n",
    "from sklearn.ensemble import RandomForestRegressor # инструмент для создания и обучения модели\n",
    "from sklearn import metrics # инструменты для оценки точности модели"
   ]
  },
  {
   "cell_type": "code",
   "execution_count": 501,
   "metadata": {
    "tags": []
   },
   "outputs": [
    {
     "output_type": "stream",
     "name": "stdout",
     "text": "['main_task.csv']\n"
    }
   ],
   "source": [
    "input_folder = 'input\\\\'\n",
    "print(os.listdir(\"input\"))"
   ]
  },
  {
   "cell_type": "markdown",
   "metadata": {},
   "source": [
    "# DATA\n",
    "## Первоначальная версия датасета состоит из десяти столбцов, содержащих следующую информацию:\n",
    "* Restaurant_id — идентификационный номер ресторана / сети ресторанов;\n",
    "* City — город, в котором находится ресторан;\n",
    "* Cuisine Style — кухня или кухни, к которым можно отнести блюда, предлагаемые в ресторане;\n",
    "* Ranking — место, которое занимает данный ресторан среди всех ресторанов своего города;\n",
    "* Rating — рейтинг ресторана по данным TripAdvisor (именно это значение должна будет предсказывать модель);\n",
    "* Price Range — диапазон цен в ресторане;\n",
    "* Number of Reviews — количество отзывов о ресторане;\n",
    "* Reviews — данные о двух отзывах, которые отображаются на сайте ресторана;\n",
    "* URL_TA — URL страницы ресторана на TripAdvosor;\n",
    "* ID_TA — идентификатор ресторана в базе данных TripAdvisor."
   ]
  },
  {
   "cell_type": "code",
   "execution_count": 502,
   "metadata": {
    "tags": []
   },
   "outputs": [],
   "source": [
    "data = pd.read_csv(input_folder + 'main_task.csv')\n",
    "\n",
    "data.columns = data.columns.str.lower()\n",
    "data.columns = [name.replace(' ', '_') for name in data.columns]\n",
    "\n",
    "\n",
    "# data['price_range'].fillna('$$ - $$$', inplace=True)\n",
    "\n",
    "data['cuisine_style'] = data['cuisine_style'].fillna('[\\'not_specified\\']')\n",
    "data['cuisine_style'] = data['cuisine_style'].apply(ast.literal_eval)\n",
    "\n",
    "data['reviews'] = data['reviews'].apply(lambda x: re.sub((r'\\bnan\\b'), '\\'empty_voice\\'', x))\n",
    "data['reviews'] = data['reviews'].apply(ast.literal_eval)\n",
    "data['reviews_text'] =  data['reviews'].apply(lambda x: x[0])\n",
    "data['reviews_dates'] = data['reviews'].apply(lambda x: [datetime.strptime(date, '%m/%d/%Y') for date in x[1]])\n",
    "\n",
    "data['number_of_reviews'].fillna(data.number_of_reviews.mean(),inplace=True)\n",
    "data['price_range_int'] = data['price_range'].apply(lambda x: 0 if x == '$' else (1 if x == '$$ - $$$' else 2))\n",
    "# data['reviews_dates'] = data['reviews'].apply(lambda x: [pd.to_datetime(date,format='%m/%d/%Y').date() for date in x[1]])\n"
   ]
  },
  {
   "cell_type": "code",
   "execution_count": 523,
   "metadata": {
    "tags": []
   },
   "outputs": [
    {
     "output_type": "stream",
     "name": "stdout",
     "text": "<class 'pandas.core.frame.DataFrame'>\nRangeIndex: 40000 entries, 0 to 39999\nData columns (total 14 columns):\n #   Column             Non-Null Count  Dtype  \n---  ------             --------------  -----  \n 0   restaurant_id      40000 non-null  object \n 1   city               40000 non-null  object \n 2   cuisine_style      40000 non-null  object \n 3   ranking            40000 non-null  float64\n 4   rating             40000 non-null  float64\n 5   price_range        26114 non-null  object \n 6   number_of_reviews  40000 non-null  float64\n 7   reviews            40000 non-null  object \n 8   url_ta             40000 non-null  object \n 9   id_ta              40000 non-null  object \n 10  reviews_text       40000 non-null  object \n 11  reviews_dates      40000 non-null  object \n 12  price_range_int    40000 non-null  int64  \n 13  dif_days           40000 non-null  int64  \ndtypes: float64(3), int64(2), object(9)\nmemory usage: 4.3+ MB\n"
    }
   ],
   "source": [
    "set_dates = set()\n",
    "data['dif_days'] = data.reviews_dates.apply(lambda x: (x[0] - x[-1]) if len(x) > 0 else pd.Timedelta('0 days') )\n",
    "data['dif_days'] = data['dif_days'].dt.days\n",
    "\n",
    "# data['price_range_int'] = data.price_range.apply(lambda x: 0 if x == '')\n",
    "data.info()"
   ]
  },
  {
   "cell_type": "code",
   "execution_count": 529,
   "metadata": {},
   "outputs": [
    {
     "output_type": "error",
     "ename": "SyntaxError",
     "evalue": "invalid syntax (<ipython-input-529-b85b2aeb6dca>, line 3)",
     "traceback": [
      "\u001b[1;36m  File \u001b[1;32m\"<ipython-input-529-b85b2aeb6dca>\"\u001b[1;36m, line \u001b[1;32m3\u001b[0m\n\u001b[1;33m    data.groupby(by='city').agg({'price_range_int':'mean'}, 'city':'size')\u001b[0m\n\u001b[1;37m                                                                  ^\u001b[0m\n\u001b[1;31mSyntaxError\u001b[0m\u001b[1;31m:\u001b[0m invalid syntax\n"
     ]
    }
   ],
   "source": [
    "\n",
    "\n",
    "data.price_range.value_counts(dropna=False)\n",
    "\n",
    "data.groupby(by='city').agg({'price_range_int':'mean'}, 'city':'size')\n",
    "\n"
   ]
  },
  {
   "cell_type": "code",
   "execution_count": 505,
   "metadata": {},
   "outputs": [],
   "source": [
    "# Наборы данных с меткой \"train\" будут использоваться для обучения модели, \"test\" - для тестирования.\n",
    "# Для тестирования мы будем использовать 25% от исходного датасета.\n",
    "# Х - данные с информацией о ресторанах, у - целевая переменная (рейтинги ресторанов)\n",
    "\n",
    "X = data.drop(['restaurant_id','city', 'rating', 'cuisine_style', 'price_range', 'reviews', 'url_ta', 'id_ta', 'reviews_text','reviews_dates'], axis = 1)\n",
    "y = data['rating']\n",
    "\n",
    "X_train, X_test, y_train, y_test = train_test_split(X, y, test_size=0.25)\n",
    "X_train\n",
    "\n",
    "# Создаём модель\n",
    "regr = RandomForestRegressor(n_estimators=100)\n",
    "\n",
    "# Обучаем модель на тестовом наборе данных\n",
    "regr.fit(X_train, y_train)\n",
    "\n",
    "# Используем обученную модель для предсказания рейтинга ресторанов в тестовой выборке.\n",
    "# Предсказанные значения записываем в переменную y_pred\n",
    "y_pred = regr.predict(X_test)"
   ]
  },
  {
   "cell_type": "code",
   "execution_count": 506,
   "metadata": {
    "tags": []
   },
   "outputs": [
    {
     "output_type": "stream",
     "name": "stdout",
     "text": "MAE: 0.39302600286796535\n"
    }
   ],
   "source": [
    "# Сравниваем предсказанные значения (y_pred) с реальными (y_test), и смотрим насколько они в среднем отличаются\n",
    "# Метрика называется Mean Absolute Error (MAE) и показывает среднее отклонение предсказанных значений от фактических.\n",
    "print('MAE:', metrics.mean_absolute_error(y_test, y_pred))"
   ]
  }
 ]
}
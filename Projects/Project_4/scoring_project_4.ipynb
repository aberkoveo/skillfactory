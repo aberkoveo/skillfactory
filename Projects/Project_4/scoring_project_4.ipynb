{
 "cells": [
  {
   "cell_type": "code",
   "execution_count": 317,
   "metadata": {},
   "outputs": [],
   "source": [
    "from pandas import Series\n",
    "import pandas as pd\n",
    "import numpy as np\n",
    "\n",
    "\n",
    "import matplotlib.pyplot as plt\n",
    "import seaborn as sns\n",
    "%matplotlib inline\n",
    "\n",
    "from sklearn.feature_selection import f_classif, mutual_info_classif\n",
    "from sklearn.preprocessing import LabelEncoder, OneHotEncoder, StandardScaler\n",
    "\n",
    "from sklearn.model_selection import train_test_split, cross_val_score\n",
    "from sklearn.linear_model import LogisticRegression\n",
    "from os import listdir\n",
    "\n",
    "from sklearn.metrics import confusion_matrix\n",
    "from sklearn.metrics import auc, roc_auc_score, roc_curve\n",
    "\n",
    "\n",
    "from main import df_scrolling_object\n",
    "\n",
    "import my_func\n",
    "import importlib\n",
    "# importlib.reload(main)\n",
    "importlib.reload(my_func)\n",
    "\n",
    "from pandas_profiling import ProfileReport"
   ]
  },
  {
   "cell_type": "code",
   "execution_count": 318,
   "metadata": {},
   "outputs": [],
   "source": [
    "RANDOM_SEED = 42\n",
    "!pip freeze > requirements.txt"
   ]
  },
  {
   "cell_type": "code",
   "execution_count": 319,
   "metadata": {},
   "outputs": [
    {
     "output_type": "execute_result",
     "data": {
      "text/plain": "[&#39;train.csv&#39;]"
     },
     "metadata": {},
     "execution_count": 319
    }
   ],
   "source": [
    "input_folder = 'input/'\n",
    "listdir(input_folder)"
   ]
  },
  {
   "cell_type": "markdown",
   "metadata": {},
   "source": [
    "| Столбец        |     Значение                    |\n",
    "|:---------------|:--------------------------------|\n",
    "|client_id\t     |    идентификатор клиента        |  \n",
    "|education\t     |   уровень образования           | \n",
    "|sex\t         | пол заёмщика  \n",
    "|age             |\tвозраст заёмщика  \n",
    "|car\t         |флаг наличия автомобиля  \n",
    "|car_type\t     |флаг автомобиля-иномарки  \n",
    "|decline_app_cnt |\tколичество отказанных прошлых заявок  \n",
    "|good_work       |\tфлаг наличия «хорошей» работы  \n",
    "|bki_request_cnt |\tколичество запросов в БКИ  \n",
    "|home_address\t |категоризатор домашнего адреса  \n",
    "|work_address\t |категоризатор рабочего адреса  \n",
    "|income\t         |доход заёмщика  \n",
    "|foreign_passport|\tналичие загранпаспорта  \n",
    "|sna | связь заемщика с клиентами банка\n",
    "|first_time | давность наличия информации о заемщике\n",
    "|score_bki | скоринговый балл по данным из БКИ\n",
    "|region_rating | рейтинг региона\n",
    "|app_date | дата подачи заявки\n",
    "|default\t     |наличие дефолта  "
   ]
  },
  {
   "cell_type": "code",
   "execution_count": 320,
   "metadata": {
    "tags": []
   },
   "outputs": [],
   "source": [
    "data_train = pd.read_csv('kaggle/train.csv')\n",
    "data_subm = pd.read_csv('kaggle/sample_submission.csv')\n",
    "data_test = pd.read_csv('kaggle/test.csv')\n",
    "data_train['train'] = 1 # помечаем где у нас трейн\n",
    "data_test['train'] = 0 # помечаем где у нас тест\n",
    "data = data_train.append(data_test, sort=False).reset_index(drop=True)"
   ]
  },
  {
   "cell_type": "code",
   "execution_count": 321,
   "metadata": {},
   "outputs": [],
   "source": [
    "bin_cols = ['good_work', 'foreign_passport', 'car', 'car_type', 'sex' ]\n",
    "num_cols = ['age', 'decline_app_cnt', 'bki_request_cnt', 'income', 'score_bki']\n",
    "cat_cols = ['education', 'home_address' , 'work_address', 'first_time', 'sna' , 'region_rating']"
   ]
  },
  {
   "cell_type": "code",
   "execution_count": 322,
   "metadata": {},
   "outputs": [],
   "source": [
    "# переведем признак data.score_bki к положительным значениям, чтобы проще можно было логорифмировать\n",
    "data.score_bki = data.score_bki - data.score_bki.min() "
   ]
  },
  {
   "cell_type": "code",
   "execution_count": 323,
   "metadata": {
    "code_folding": [],
    "tags": []
   },
   "outputs": [],
   "source": [
    "edu_income_rel = dict({'SCH': list([0, 31960.275039]),\n",
    "                       'UGR': list([31960.275039,39391.796251]),\n",
    "                       'GRD': list([39391.796251, 54663.948941]),\n",
    "                       'PGR': list([54663.948941, 77548.206046]),\n",
    "                       'ACD': list([77548.206046, 999999999999])})\n",
    "def fill_edu(income, edu_income_rel):\n",
    "    for edu, income_edu in edu_income_rel.items():\n",
    "         if income_edu[0] < income <  income_edu[1]:\n",
    "             return edu\n",
    "na_index = data[data.education.isna()].index\n",
    "data.loc[data['education'].isna(), 'education'] = data[data.education.isna()].income.apply(lambda x: fill_edu(x, edu_income_rel))"
   ]
  },
  {
   "source": [
    "### Собираем дату"
   ],
   "cell_type": "markdown",
   "metadata": {}
  },
  {
   "cell_type": "code",
   "execution_count": 324,
   "metadata": {},
   "outputs": [],
   "source": [
    "data.app_date = pd.to_datetime(data.app_date)\n",
    "data['month'] = data.app_date.dt.month\n",
    "data['day'] = data.app_date.dt.day\n",
    "data['year'] = data.app_date.dt.year\n",
    "last_date = set()\n",
    "data['app_date_diff_today'] = pd.datetime.today() - data.app_date\n",
    "data['app_date_diff_today'] = data['app_date_diff_today'].dt.days\n",
    "data.drop(['app_date'], axis=1, inplace=True)"
   ]
  },
  {
   "source": [
    "# ВЫБРОСЫ !!!!!!!   \n",
    "Все нумерные признаки оставляем с выбросами, как таковые выбросы были   \n",
    "обнаружены в колонке дохода, но для любого сокращенного диапазона по этому признаку   \n",
    "скор падает"
   ],
   "cell_type": "markdown",
   "metadata": {}
  },
  {
   "source": [
    "# Образование"
   ],
   "cell_type": "markdown",
   "metadata": {}
  },
  {
   "cell_type": "code",
   "execution_count": 325,
   "metadata": {
    "tags": []
   },
   "outputs": [],
   "source": [
    "edu_dict = dict({'SCH': 0, #school\n",
    "                 'GRD': 1, #out-student\n",
    "                 'UGR': 2, #student\n",
    "                 'PGR': 3, #aspirant\n",
    "                 'ACD': 4})#academic \n",
    "data['education'] = data['education'].map(edu_dict)"
   ]
  },
  {
   "source": [
    "# PROFILER"
   ],
   "cell_type": "markdown",
   "metadata": {}
  },
  {
   "cell_type": "code",
   "execution_count": 326,
   "metadata": {},
   "outputs": [],
   "source": [
    "# profile = ProfileReport(data)\n",
    "# profile.to_widgets()"
   ]
  },
  {
   "source": [
    "# Кодируем бинарные признаки"
   ],
   "cell_type": "markdown",
   "metadata": {}
  },
  {
   "cell_type": "code",
   "execution_count": 327,
   "metadata": {},
   "outputs": [],
   "source": [
    "label_encoder = LabelEncoder()\n",
    "\n",
    "for bin_col in bin_cols:\n",
    "    data[bin_col] = label_encoder.fit_transform(data[bin_col])"
   ]
  },
  {
   "source": [
    "# НОВЫЕ!!!!!!!!!!!!!!!!!!!!!!!!!!!!!!!!!!!!!!!!"
   ],
   "cell_type": "markdown",
   "metadata": {}
  },
  {
   "cell_type": "code",
   "execution_count": 328,
   "metadata": {},
   "outputs": [],
   "source": [
    "data['region_firstt'] = data['region_rating'] / (data['first_time'])\n",
    "data['age_first'] = data['age'] - data['first_time'] \n",
    "data['sna_age'] =  data['age'] * data['sna'] \n",
    "data['age_eduaction'] = data['age'] / (data['education']+1 )\n",
    "data['age_foreign_pass'] = data['age'] / data['foreign_passport'].apply(lambda x: 1/1.1 if x==1 else 1.1)\n",
    "data['age_good_work'] = data['age'] / data['good_work'].apply(lambda x: 1/1.2 if x==1 else 1.2)\n",
    "\n",
    "data['sna_age'] =  data['age'] * data['sna'] \n",
    "data['work_adr_age'] = data['age'] / data['work_address']\n",
    "data['bki_cnt_word_adr'] = data['bki_request_cnt'] / data['work_address']\n",
    "data['score_bki_work_adr'] = data['score_bki'] - data['work_address']\n",
    "data['bki_cnt_first_time'] = data['bki_request_cnt'] * data['first_time']\n",
    "data['region_age'] = data['age'] * (data['decline_app_cnt'])\n",
    "\n",
    "new_num_cols = ['sna_age' , 'age_eduaction', 'age_foreign_pass', 'age_good_work']\n",
    "\n",
    "# добавим новый признак к списку категорий, чтобы он попал на логарифмирование и стандартизацию\n",
    "num_cols = num_cols + ['region_firstt'] #+ ['work_adr_age']"
   ]
  },
  {
   "source": [
    "# Определение важности признаков"
   ],
   "cell_type": "markdown",
   "metadata": {}
  },
  {
   "cell_type": "code",
   "execution_count": 329,
   "metadata": {
    "tags": []
   },
   "outputs": [],
   "source": [
    "label_encoder = LabelEncoder()\n",
    "\n",
    "for bin_col in bin_cols:\n",
    "    data[bin_col] = label_encoder.fit_transform(data[bin_col])\n",
    "\n",
    "# data.education = data.education.astype('category').cat.codes"
   ]
  },
  {
   "cell_type": "code",
   "execution_count": 330,
   "metadata": {},
   "outputs": [
    {
     "output_type": "execute_result",
     "data": {
      "text/plain": "&lt;AxesSubplot:&gt;"
     },
     "metadata": {},
     "execution_count": 330
    },
    {
     "output_type": "display_data",
     "data": {
      "text/plain": "&lt;Figure size 432x288 with 1 Axes&gt;",
      "image/svg+xml": "<?xml version=\"1.0\" encoding=\"utf-8\" standalone=\"no\"?>\r\n<!DOCTYPE svg PUBLIC \"-//W3C//DTD SVG 1.1//EN\"\r\n  \"http://www.w3.org/Graphics/SVG/1.1/DTD/svg11.dtd\">\r\n<!-- Created with matplotlib (https://matplotlib.org/) -->\r\n<svg height=\"251.485313pt\" version=\"1.1\" viewBox=\"0 0 434.185937 251.485313\" width=\"434.185937pt\" xmlns=\"http://www.w3.org/2000/svg\" xmlns:xlink=\"http://www.w3.org/1999/xlink\">\r\n <metadata>\r\n  <rdf:RDF xmlns:cc=\"http://creativecommons.org/ns#\" xmlns:dc=\"http://purl.org/dc/elements/1.1/\" xmlns:rdf=\"http://www.w3.org/1999/02/22-rdf-syntax-ns#\">\r\n   <cc:Work>\r\n    <dc:type rdf:resource=\"http://purl.org/dc/dcmitype/StillImage\"/>\r\n    <dc:date>2020-10-05T18:28:52.699273</dc:date>\r\n    <dc:format>image/svg+xml</dc:format>\r\n    <dc:creator>\r\n     <cc:Agent>\r\n      <dc:title>Matplotlib v3.3.1, https://matplotlib.org/</dc:title>\r\n     </cc:Agent>\r\n    </dc:creator>\r\n   </cc:Work>\r\n  </rdf:RDF>\r\n </metadata>\r\n <defs>\r\n  <style type=\"text/css\">*{stroke-linecap:butt;stroke-linejoin:round;}</style>\r\n </defs>\r\n <g id=\"figure_1\">\r\n  <g id=\"patch_1\">\r\n   <path d=\"M 0 251.485313 \r\nL 434.185937 251.485313 \r\nL 434.185937 0 \r\nL 0 0 \r\nz\r\n\" style=\"fill:none;\"/>\r\n  </g>\r\n  <g id=\"axes_1\">\r\n   <g id=\"patch_2\">\r\n    <path d=\"M 92.185938 224.64 \r\nL 426.985938 224.64 \r\nL 426.985938 7.2 \r\nL 92.185938 7.2 \r\nz\r\n\" style=\"fill:#eaeaf2;\"/>\r\n   </g>\r\n   <g id=\"matplotlib.axis_1\">\r\n    <g id=\"xtick_1\">\r\n     <g id=\"line2d_1\">\r\n      <path clip-path=\"url(#pce92617082)\" d=\"M 92.185938 224.64 \r\nL 92.185938 7.2 \r\n\" style=\"fill:none;stroke:#ffffff;stroke-linecap:round;\"/>\r\n     </g>\r\n     <g id=\"line2d_2\">\r\n      <defs>\r\n       <path d=\"M 0 0 \r\nL 0 3.5 \r\n\" id=\"m1c37f3656b\" style=\"stroke:#262626;\"/>\r\n      </defs>\r\n      <g>\r\n       <use style=\"fill:#262626;stroke:#262626;\" x=\"92.185938\" xlink:href=\"#m1c37f3656b\" y=\"224.64\"/>\r\n      </g>\r\n     </g>\r\n     <g id=\"text_1\">\r\n      <!-- 0.000 -->\r\n      <g style=\"fill:#262626;\" transform=\"translate(79.675 242.297813)scale(0.1 -0.1)\">\r\n       <defs>\r\n        <path d=\"M 4.15625 35.296875 \r\nQ 4.15625 48 6.765625 55.734375 \r\nQ 9.375 63.484375 14.515625 67.671875 \r\nQ 19.671875 71.875 27.484375 71.875 \r\nQ 33.25 71.875 37.59375 69.546875 \r\nQ 41.9375 67.234375 44.765625 62.859375 \r\nQ 47.609375 58.5 49.21875 52.21875 \r\nQ 50.828125 45.953125 50.828125 35.296875 \r\nQ 50.828125 22.703125 48.234375 14.96875 \r\nQ 45.65625 7.234375 40.5 3 \r\nQ 35.359375 -1.21875 27.484375 -1.21875 \r\nQ 17.140625 -1.21875 11.234375 6.203125 \r\nQ 4.15625 15.140625 4.15625 35.296875 \r\nz\r\nM 13.1875 35.296875 \r\nQ 13.1875 17.671875 17.3125 11.828125 \r\nQ 21.4375 6 27.484375 6 \r\nQ 33.546875 6 37.671875 11.859375 \r\nQ 41.796875 17.71875 41.796875 35.296875 \r\nQ 41.796875 52.984375 37.671875 58.78125 \r\nQ 33.546875 64.59375 27.390625 64.59375 \r\nQ 21.34375 64.59375 17.71875 59.46875 \r\nQ 13.1875 52.9375 13.1875 35.296875 \r\nz\r\n\" id=\"ArialMT-48\"/>\r\n        <path d=\"M 9.078125 0 \r\nL 9.078125 10.015625 \r\nL 19.09375 10.015625 \r\nL 19.09375 0 \r\nz\r\n\" id=\"ArialMT-46\"/>\r\n       </defs>\r\n       <use xlink:href=\"#ArialMT-48\"/>\r\n       <use x=\"55.615234\" xlink:href=\"#ArialMT-46\"/>\r\n       <use x=\"83.398438\" xlink:href=\"#ArialMT-48\"/>\r\n       <use x=\"139.013672\" xlink:href=\"#ArialMT-48\"/>\r\n       <use x=\"194.628906\" xlink:href=\"#ArialMT-48\"/>\r\n      </g>\r\n     </g>\r\n    </g>\r\n    <g id=\"xtick_2\">\r\n     <g id=\"line2d_3\">\r\n      <path clip-path=\"url(#pce92617082)\" d=\"M 134.629519 224.64 \r\nL 134.629519 7.2 \r\n\" style=\"fill:none;stroke:#ffffff;stroke-linecap:round;\"/>\r\n     </g>\r\n     <g id=\"line2d_4\">\r\n      <g>\r\n       <use style=\"fill:#262626;stroke:#262626;\" x=\"134.629519\" xlink:href=\"#m1c37f3656b\" y=\"224.64\"/>\r\n      </g>\r\n     </g>\r\n     <g id=\"text_2\">\r\n      <!-- 0.001 -->\r\n      <g style=\"fill:#262626;\" transform=\"translate(122.118582 242.297813)scale(0.1 -0.1)\">\r\n       <defs>\r\n        <path d=\"M 37.25 0 \r\nL 28.46875 0 \r\nL 28.46875 56 \r\nQ 25.296875 52.984375 20.140625 49.953125 \r\nQ 14.984375 46.921875 10.890625 45.40625 \r\nL 10.890625 53.90625 \r\nQ 18.265625 57.375 23.78125 62.296875 \r\nQ 29.296875 67.234375 31.59375 71.875 \r\nL 37.25 71.875 \r\nz\r\n\" id=\"ArialMT-49\"/>\r\n       </defs>\r\n       <use xlink:href=\"#ArialMT-48\"/>\r\n       <use x=\"55.615234\" xlink:href=\"#ArialMT-46\"/>\r\n       <use x=\"83.398438\" xlink:href=\"#ArialMT-48\"/>\r\n       <use x=\"139.013672\" xlink:href=\"#ArialMT-48\"/>\r\n       <use x=\"194.628906\" xlink:href=\"#ArialMT-49\"/>\r\n      </g>\r\n     </g>\r\n    </g>\r\n    <g id=\"xtick_3\">\r\n     <g id=\"line2d_5\">\r\n      <path clip-path=\"url(#pce92617082)\" d=\"M 177.073101 224.64 \r\nL 177.073101 7.2 \r\n\" style=\"fill:none;stroke:#ffffff;stroke-linecap:round;\"/>\r\n     </g>\r\n     <g id=\"line2d_6\">\r\n      <g>\r\n       <use style=\"fill:#262626;stroke:#262626;\" x=\"177.073101\" xlink:href=\"#m1c37f3656b\" y=\"224.64\"/>\r\n      </g>\r\n     </g>\r\n     <g id=\"text_3\">\r\n      <!-- 0.002 -->\r\n      <g style=\"fill:#262626;\" transform=\"translate(164.562163 242.297813)scale(0.1 -0.1)\">\r\n       <defs>\r\n        <path d=\"M 50.34375 8.453125 \r\nL 50.34375 0 \r\nL 3.03125 0 \r\nQ 2.9375 3.171875 4.046875 6.109375 \r\nQ 5.859375 10.9375 9.828125 15.625 \r\nQ 13.8125 20.3125 21.34375 26.46875 \r\nQ 33.015625 36.03125 37.109375 41.625 \r\nQ 41.21875 47.21875 41.21875 52.203125 \r\nQ 41.21875 57.421875 37.46875 61 \r\nQ 33.734375 64.59375 27.734375 64.59375 \r\nQ 21.390625 64.59375 17.578125 60.78125 \r\nQ 13.765625 56.984375 13.71875 50.25 \r\nL 4.6875 51.171875 \r\nQ 5.609375 61.28125 11.65625 66.578125 \r\nQ 17.71875 71.875 27.9375 71.875 \r\nQ 38.234375 71.875 44.234375 66.15625 \r\nQ 50.25 60.453125 50.25 52 \r\nQ 50.25 47.703125 48.484375 43.546875 \r\nQ 46.734375 39.40625 42.65625 34.8125 \r\nQ 38.578125 30.21875 29.109375 22.21875 \r\nQ 21.1875 15.578125 18.9375 13.203125 \r\nQ 16.703125 10.84375 15.234375 8.453125 \r\nz\r\n\" id=\"ArialMT-50\"/>\r\n       </defs>\r\n       <use xlink:href=\"#ArialMT-48\"/>\r\n       <use x=\"55.615234\" xlink:href=\"#ArialMT-46\"/>\r\n       <use x=\"83.398438\" xlink:href=\"#ArialMT-48\"/>\r\n       <use x=\"139.013672\" xlink:href=\"#ArialMT-48\"/>\r\n       <use x=\"194.628906\" xlink:href=\"#ArialMT-50\"/>\r\n      </g>\r\n     </g>\r\n    </g>\r\n    <g id=\"xtick_4\">\r\n     <g id=\"line2d_7\">\r\n      <path clip-path=\"url(#pce92617082)\" d=\"M 219.516683 224.64 \r\nL 219.516683 7.2 \r\n\" style=\"fill:none;stroke:#ffffff;stroke-linecap:round;\"/>\r\n     </g>\r\n     <g id=\"line2d_8\">\r\n      <g>\r\n       <use style=\"fill:#262626;stroke:#262626;\" x=\"219.516683\" xlink:href=\"#m1c37f3656b\" y=\"224.64\"/>\r\n      </g>\r\n     </g>\r\n     <g id=\"text_4\">\r\n      <!-- 0.003 -->\r\n      <g style=\"fill:#262626;\" transform=\"translate(207.005745 242.297813)scale(0.1 -0.1)\">\r\n       <defs>\r\n        <path d=\"M 4.203125 18.890625 \r\nL 12.984375 20.0625 \r\nQ 14.5 12.59375 18.140625 9.296875 \r\nQ 21.78125 6 27 6 \r\nQ 33.203125 6 37.46875 10.296875 \r\nQ 41.75 14.59375 41.75 20.953125 \r\nQ 41.75 27 37.796875 30.921875 \r\nQ 33.84375 34.859375 27.734375 34.859375 \r\nQ 25.25 34.859375 21.53125 33.890625 \r\nL 22.515625 41.609375 \r\nQ 23.390625 41.5 23.921875 41.5 \r\nQ 29.546875 41.5 34.03125 44.421875 \r\nQ 38.53125 47.359375 38.53125 53.46875 \r\nQ 38.53125 58.296875 35.25 61.46875 \r\nQ 31.984375 64.65625 26.8125 64.65625 \r\nQ 21.6875 64.65625 18.265625 61.421875 \r\nQ 14.84375 58.203125 13.875 51.765625 \r\nL 5.078125 53.328125 \r\nQ 6.6875 62.15625 12.390625 67.015625 \r\nQ 18.109375 71.875 26.609375 71.875 \r\nQ 32.46875 71.875 37.390625 69.359375 \r\nQ 42.328125 66.84375 44.9375 62.5 \r\nQ 47.5625 58.15625 47.5625 53.265625 \r\nQ 47.5625 48.640625 45.0625 44.828125 \r\nQ 42.578125 41.015625 37.703125 38.765625 \r\nQ 44.046875 37.3125 47.5625 32.6875 \r\nQ 51.078125 28.078125 51.078125 21.140625 \r\nQ 51.078125 11.765625 44.234375 5.25 \r\nQ 37.40625 -1.265625 26.953125 -1.265625 \r\nQ 17.53125 -1.265625 11.296875 4.34375 \r\nQ 5.078125 9.96875 4.203125 18.890625 \r\nz\r\n\" id=\"ArialMT-51\"/>\r\n       </defs>\r\n       <use xlink:href=\"#ArialMT-48\"/>\r\n       <use x=\"55.615234\" xlink:href=\"#ArialMT-46\"/>\r\n       <use x=\"83.398438\" xlink:href=\"#ArialMT-48\"/>\r\n       <use x=\"139.013672\" xlink:href=\"#ArialMT-48\"/>\r\n       <use x=\"194.628906\" xlink:href=\"#ArialMT-51\"/>\r\n      </g>\r\n     </g>\r\n    </g>\r\n    <g id=\"xtick_5\">\r\n     <g id=\"line2d_9\">\r\n      <path clip-path=\"url(#pce92617082)\" d=\"M 261.960264 224.64 \r\nL 261.960264 7.2 \r\n\" style=\"fill:none;stroke:#ffffff;stroke-linecap:round;\"/>\r\n     </g>\r\n     <g id=\"line2d_10\">\r\n      <g>\r\n       <use style=\"fill:#262626;stroke:#262626;\" x=\"261.960264\" xlink:href=\"#m1c37f3656b\" y=\"224.64\"/>\r\n      </g>\r\n     </g>\r\n     <g id=\"text_5\">\r\n      <!-- 0.004 -->\r\n      <g style=\"fill:#262626;\" transform=\"translate(249.449327 242.297813)scale(0.1 -0.1)\">\r\n       <defs>\r\n        <path d=\"M 32.328125 0 \r\nL 32.328125 17.140625 \r\nL 1.265625 17.140625 \r\nL 1.265625 25.203125 \r\nL 33.9375 71.578125 \r\nL 41.109375 71.578125 \r\nL 41.109375 25.203125 \r\nL 50.78125 25.203125 \r\nL 50.78125 17.140625 \r\nL 41.109375 17.140625 \r\nL 41.109375 0 \r\nz\r\nM 32.328125 25.203125 \r\nL 32.328125 57.46875 \r\nL 9.90625 25.203125 \r\nz\r\n\" id=\"ArialMT-52\"/>\r\n       </defs>\r\n       <use xlink:href=\"#ArialMT-48\"/>\r\n       <use x=\"55.615234\" xlink:href=\"#ArialMT-46\"/>\r\n       <use x=\"83.398438\" xlink:href=\"#ArialMT-48\"/>\r\n       <use x=\"139.013672\" xlink:href=\"#ArialMT-48\"/>\r\n       <use x=\"194.628906\" xlink:href=\"#ArialMT-52\"/>\r\n      </g>\r\n     </g>\r\n    </g>\r\n    <g id=\"xtick_6\">\r\n     <g id=\"line2d_11\">\r\n      <path clip-path=\"url(#pce92617082)\" d=\"M 304.403846 224.64 \r\nL 304.403846 7.2 \r\n\" style=\"fill:none;stroke:#ffffff;stroke-linecap:round;\"/>\r\n     </g>\r\n     <g id=\"line2d_12\">\r\n      <g>\r\n       <use style=\"fill:#262626;stroke:#262626;\" x=\"304.403846\" xlink:href=\"#m1c37f3656b\" y=\"224.64\"/>\r\n      </g>\r\n     </g>\r\n     <g id=\"text_6\">\r\n      <!-- 0.005 -->\r\n      <g style=\"fill:#262626;\" transform=\"translate(291.892909 242.297813)scale(0.1 -0.1)\">\r\n       <defs>\r\n        <path d=\"M 4.15625 18.75 \r\nL 13.375 19.53125 \r\nQ 14.40625 12.796875 18.140625 9.390625 \r\nQ 21.875 6 27.15625 6 \r\nQ 33.5 6 37.890625 10.78125 \r\nQ 42.28125 15.578125 42.28125 23.484375 \r\nQ 42.28125 31 38.0625 35.34375 \r\nQ 33.84375 39.703125 27 39.703125 \r\nQ 22.75 39.703125 19.328125 37.765625 \r\nQ 15.921875 35.84375 13.96875 32.765625 \r\nL 5.71875 33.84375 \r\nL 12.640625 70.609375 \r\nL 48.25 70.609375 \r\nL 48.25 62.203125 \r\nL 19.671875 62.203125 \r\nL 15.828125 42.96875 \r\nQ 22.265625 47.46875 29.34375 47.46875 \r\nQ 38.71875 47.46875 45.15625 40.96875 \r\nQ 51.609375 34.46875 51.609375 24.265625 \r\nQ 51.609375 14.546875 45.953125 7.46875 \r\nQ 39.0625 -1.21875 27.15625 -1.21875 \r\nQ 17.390625 -1.21875 11.203125 4.25 \r\nQ 5.03125 9.71875 4.15625 18.75 \r\nz\r\n\" id=\"ArialMT-53\"/>\r\n       </defs>\r\n       <use xlink:href=\"#ArialMT-48\"/>\r\n       <use x=\"55.615234\" xlink:href=\"#ArialMT-46\"/>\r\n       <use x=\"83.398438\" xlink:href=\"#ArialMT-48\"/>\r\n       <use x=\"139.013672\" xlink:href=\"#ArialMT-48\"/>\r\n       <use x=\"194.628906\" xlink:href=\"#ArialMT-53\"/>\r\n      </g>\r\n     </g>\r\n    </g>\r\n    <g id=\"xtick_7\">\r\n     <g id=\"line2d_13\">\r\n      <path clip-path=\"url(#pce92617082)\" d=\"M 346.847428 224.64 \r\nL 346.847428 7.2 \r\n\" style=\"fill:none;stroke:#ffffff;stroke-linecap:round;\"/>\r\n     </g>\r\n     <g id=\"line2d_14\">\r\n      <g>\r\n       <use style=\"fill:#262626;stroke:#262626;\" x=\"346.847428\" xlink:href=\"#m1c37f3656b\" y=\"224.64\"/>\r\n      </g>\r\n     </g>\r\n     <g id=\"text_7\">\r\n      <!-- 0.006 -->\r\n      <g style=\"fill:#262626;\" transform=\"translate(334.33649 242.297813)scale(0.1 -0.1)\">\r\n       <defs>\r\n        <path d=\"M 49.75 54.046875 \r\nL 41.015625 53.375 \r\nQ 39.84375 58.546875 37.703125 60.890625 \r\nQ 34.125 64.65625 28.90625 64.65625 \r\nQ 24.703125 64.65625 21.53125 62.3125 \r\nQ 17.390625 59.28125 14.984375 53.46875 \r\nQ 12.59375 47.65625 12.5 36.921875 \r\nQ 15.671875 41.75 20.265625 44.09375 \r\nQ 24.859375 46.4375 29.890625 46.4375 \r\nQ 38.671875 46.4375 44.84375 39.96875 \r\nQ 51.03125 33.5 51.03125 23.25 \r\nQ 51.03125 16.5 48.125 10.71875 \r\nQ 45.21875 4.9375 40.140625 1.859375 \r\nQ 35.0625 -1.21875 28.609375 -1.21875 \r\nQ 17.625 -1.21875 10.6875 6.859375 \r\nQ 3.765625 14.9375 3.765625 33.5 \r\nQ 3.765625 54.25 11.421875 63.671875 \r\nQ 18.109375 71.875 29.4375 71.875 \r\nQ 37.890625 71.875 43.28125 67.140625 \r\nQ 48.6875 62.40625 49.75 54.046875 \r\nz\r\nM 13.875 23.1875 \r\nQ 13.875 18.65625 15.796875 14.5 \r\nQ 17.71875 10.359375 21.1875 8.171875 \r\nQ 24.65625 6 28.46875 6 \r\nQ 34.03125 6 38.03125 10.484375 \r\nQ 42.046875 14.984375 42.046875 22.703125 \r\nQ 42.046875 30.125 38.078125 34.390625 \r\nQ 34.125 38.671875 28.125 38.671875 \r\nQ 22.171875 38.671875 18.015625 34.390625 \r\nQ 13.875 30.125 13.875 23.1875 \r\nz\r\n\" id=\"ArialMT-54\"/>\r\n       </defs>\r\n       <use xlink:href=\"#ArialMT-48\"/>\r\n       <use x=\"55.615234\" xlink:href=\"#ArialMT-46\"/>\r\n       <use x=\"83.398438\" xlink:href=\"#ArialMT-48\"/>\r\n       <use x=\"139.013672\" xlink:href=\"#ArialMT-48\"/>\r\n       <use x=\"194.628906\" xlink:href=\"#ArialMT-54\"/>\r\n      </g>\r\n     </g>\r\n    </g>\r\n    <g id=\"xtick_8\">\r\n     <g id=\"line2d_15\">\r\n      <path clip-path=\"url(#pce92617082)\" d=\"M 389.291009 224.64 \r\nL 389.291009 7.2 \r\n\" style=\"fill:none;stroke:#ffffff;stroke-linecap:round;\"/>\r\n     </g>\r\n     <g id=\"line2d_16\">\r\n      <g>\r\n       <use style=\"fill:#262626;stroke:#262626;\" x=\"389.291009\" xlink:href=\"#m1c37f3656b\" y=\"224.64\"/>\r\n      </g>\r\n     </g>\r\n     <g id=\"text_8\">\r\n      <!-- 0.007 -->\r\n      <g style=\"fill:#262626;\" transform=\"translate(376.780072 242.297813)scale(0.1 -0.1)\">\r\n       <defs>\r\n        <path d=\"M 4.734375 62.203125 \r\nL 4.734375 70.65625 \r\nL 51.078125 70.65625 \r\nL 51.078125 63.8125 \r\nQ 44.234375 56.546875 37.515625 44.484375 \r\nQ 30.8125 32.421875 27.15625 19.671875 \r\nQ 24.515625 10.6875 23.78125 0 \r\nL 14.75 0 \r\nQ 14.890625 8.453125 18.0625 20.40625 \r\nQ 21.234375 32.375 27.171875 43.484375 \r\nQ 33.109375 54.59375 39.796875 62.203125 \r\nz\r\n\" id=\"ArialMT-55\"/>\r\n       </defs>\r\n       <use xlink:href=\"#ArialMT-48\"/>\r\n       <use x=\"55.615234\" xlink:href=\"#ArialMT-46\"/>\r\n       <use x=\"83.398438\" xlink:href=\"#ArialMT-48\"/>\r\n       <use x=\"139.013672\" xlink:href=\"#ArialMT-48\"/>\r\n       <use x=\"194.628906\" xlink:href=\"#ArialMT-55\"/>\r\n      </g>\r\n     </g>\r\n    </g>\r\n   </g>\r\n   <g id=\"matplotlib.axis_2\">\r\n    <g id=\"ytick_1\">\r\n     <g id=\"line2d_17\">\r\n      <path clip-path=\"url(#pce92617082)\" d=\"M 92.185938 214.756364 \r\nL 426.985938 214.756364 \r\n\" style=\"fill:none;stroke:#ffffff;stroke-linecap:round;\"/>\r\n     </g>\r\n     <g id=\"line2d_18\">\r\n      <defs>\r\n       <path d=\"M 0 0 \r\nL -3.5 0 \r\n\" id=\"m162777350f\" style=\"stroke:#262626;\"/>\r\n      </defs>\r\n      <g>\r\n       <use style=\"fill:#262626;stroke:#262626;\" x=\"92.185938\" xlink:href=\"#m162777350f\" y=\"214.756364\"/>\r\n      </g>\r\n     </g>\r\n     <g id=\"text_9\">\r\n      <!-- sex -->\r\n      <g style=\"fill:#262626;\" transform=\"translate(66.125 218.33527)scale(0.1 -0.1)\">\r\n       <defs>\r\n        <path d=\"M 3.078125 15.484375 \r\nL 11.765625 16.84375 \r\nQ 12.5 11.625 15.84375 8.84375 \r\nQ 19.1875 6.0625 25.203125 6.0625 \r\nQ 31.25 6.0625 34.171875 8.515625 \r\nQ 37.109375 10.984375 37.109375 14.3125 \r\nQ 37.109375 17.28125 34.515625 19 \r\nQ 32.71875 20.171875 25.53125 21.96875 \r\nQ 15.875 24.421875 12.140625 26.203125 \r\nQ 8.40625 27.984375 6.46875 31.125 \r\nQ 4.546875 34.28125 4.546875 38.09375 \r\nQ 4.546875 41.546875 6.125 44.5 \r\nQ 7.71875 47.46875 10.453125 49.421875 \r\nQ 12.5 50.921875 16.03125 51.96875 \r\nQ 19.578125 53.03125 23.640625 53.03125 \r\nQ 29.734375 53.03125 34.34375 51.265625 \r\nQ 38.96875 49.515625 41.15625 46.5 \r\nQ 43.359375 43.5 44.1875 38.484375 \r\nL 35.59375 37.3125 \r\nQ 35.015625 41.3125 32.203125 43.546875 \r\nQ 29.390625 45.796875 24.265625 45.796875 \r\nQ 18.21875 45.796875 15.625 43.796875 \r\nQ 13.03125 41.796875 13.03125 39.109375 \r\nQ 13.03125 37.40625 14.109375 36.03125 \r\nQ 15.1875 34.625 17.484375 33.6875 \r\nQ 18.796875 33.203125 25.25 31.453125 \r\nQ 34.578125 28.953125 38.25 27.359375 \r\nQ 41.9375 25.78125 44.03125 22.75 \r\nQ 46.140625 19.734375 46.140625 15.234375 \r\nQ 46.140625 10.84375 43.578125 6.953125 \r\nQ 41.015625 3.078125 36.171875 0.953125 \r\nQ 31.34375 -1.171875 25.25 -1.171875 \r\nQ 15.140625 -1.171875 9.84375 3.03125 \r\nQ 4.546875 7.234375 3.078125 15.484375 \r\nz\r\n\" id=\"ArialMT-115\"/>\r\n        <path d=\"M 42.09375 16.703125 \r\nL 51.171875 15.578125 \r\nQ 49.03125 7.625 43.21875 3.21875 \r\nQ 37.40625 -1.171875 28.375 -1.171875 \r\nQ 17 -1.171875 10.328125 5.828125 \r\nQ 3.65625 12.84375 3.65625 25.484375 \r\nQ 3.65625 38.578125 10.390625 45.796875 \r\nQ 17.140625 53.03125 27.875 53.03125 \r\nQ 38.28125 53.03125 44.875 45.953125 \r\nQ 51.46875 38.875 51.46875 26.03125 \r\nQ 51.46875 25.25 51.421875 23.6875 \r\nL 12.75 23.6875 \r\nQ 13.234375 15.140625 17.578125 10.59375 \r\nQ 21.921875 6.0625 28.421875 6.0625 \r\nQ 33.25 6.0625 36.671875 8.59375 \r\nQ 40.09375 11.140625 42.09375 16.703125 \r\nz\r\nM 13.234375 30.90625 \r\nL 42.1875 30.90625 \r\nQ 41.609375 37.453125 38.875 40.71875 \r\nQ 34.671875 45.796875 27.984375 45.796875 \r\nQ 21.921875 45.796875 17.796875 41.75 \r\nQ 13.671875 37.703125 13.234375 30.90625 \r\nz\r\n\" id=\"ArialMT-101\"/>\r\n        <path d=\"M 0.734375 0 \r\nL 19.671875 26.953125 \r\nL 2.15625 51.859375 \r\nL 13.140625 51.859375 \r\nL 21.09375 39.703125 \r\nQ 23.34375 36.234375 24.703125 33.890625 \r\nQ 26.859375 37.109375 28.65625 39.59375 \r\nL 37.40625 51.859375 \r\nL 47.90625 51.859375 \r\nL 29.984375 27.4375 \r\nL 49.265625 0 \r\nL 38.484375 0 \r\nL 27.828125 16.109375 \r\nL 25 20.453125 \r\nL 11.375 0 \r\nz\r\n\" id=\"ArialMT-120\"/>\r\n       </defs>\r\n       <use xlink:href=\"#ArialMT-115\"/>\r\n       <use x=\"50\" xlink:href=\"#ArialMT-101\"/>\r\n       <use x=\"105.615234\" xlink:href=\"#ArialMT-120\"/>\r\n      </g>\r\n     </g>\r\n    </g>\r\n    <g id=\"ytick_2\">\r\n     <g id=\"line2d_19\">\r\n      <path clip-path=\"url(#pce92617082)\" d=\"M 92.185938 194.989091 \r\nL 426.985938 194.989091 \r\n\" style=\"fill:none;stroke:#ffffff;stroke-linecap:round;\"/>\r\n     </g>\r\n     <g id=\"line2d_20\">\r\n      <g>\r\n       <use style=\"fill:#262626;stroke:#262626;\" x=\"92.185938\" xlink:href=\"#m162777350f\" y=\"194.989091\"/>\r\n      </g>\r\n     </g>\r\n     <g id=\"text_10\">\r\n      <!-- car -->\r\n      <g style=\"fill:#262626;\" transform=\"translate(67.795313 198.567997)scale(0.1 -0.1)\">\r\n       <defs>\r\n        <path d=\"M 40.4375 19 \r\nL 49.078125 17.875 \r\nQ 47.65625 8.9375 41.8125 3.875 \r\nQ 35.984375 -1.171875 27.484375 -1.171875 \r\nQ 16.84375 -1.171875 10.375 5.78125 \r\nQ 3.90625 12.75 3.90625 25.734375 \r\nQ 3.90625 34.125 6.6875 40.421875 \r\nQ 9.46875 46.734375 15.15625 49.875 \r\nQ 20.84375 53.03125 27.546875 53.03125 \r\nQ 35.984375 53.03125 41.359375 48.75 \r\nQ 46.734375 44.484375 48.25 36.625 \r\nL 39.703125 35.296875 \r\nQ 38.484375 40.53125 35.375 43.15625 \r\nQ 32.28125 45.796875 27.875 45.796875 \r\nQ 21.234375 45.796875 17.078125 41.03125 \r\nQ 12.9375 36.28125 12.9375 25.984375 \r\nQ 12.9375 15.53125 16.9375 10.796875 \r\nQ 20.953125 6.0625 27.390625 6.0625 \r\nQ 32.5625 6.0625 36.03125 9.234375 \r\nQ 39.5 12.40625 40.4375 19 \r\nz\r\n\" id=\"ArialMT-99\"/>\r\n        <path d=\"M 40.4375 6.390625 \r\nQ 35.546875 2.25 31.03125 0.53125 \r\nQ 26.515625 -1.171875 21.34375 -1.171875 \r\nQ 12.796875 -1.171875 8.203125 3 \r\nQ 3.609375 7.171875 3.609375 13.671875 \r\nQ 3.609375 17.484375 5.34375 20.625 \r\nQ 7.078125 23.78125 9.890625 25.6875 \r\nQ 12.703125 27.59375 16.21875 28.5625 \r\nQ 18.796875 29.25 24.03125 29.890625 \r\nQ 34.671875 31.15625 39.703125 32.90625 \r\nQ 39.75 34.71875 39.75 35.203125 \r\nQ 39.75 40.578125 37.25 42.78125 \r\nQ 33.890625 45.75 27.25 45.75 \r\nQ 21.046875 45.75 18.09375 43.578125 \r\nQ 15.140625 41.40625 13.71875 35.890625 \r\nL 5.125 37.0625 \r\nQ 6.296875 42.578125 8.984375 45.96875 \r\nQ 11.671875 49.359375 16.75 51.1875 \r\nQ 21.828125 53.03125 28.515625 53.03125 \r\nQ 35.15625 53.03125 39.296875 51.46875 \r\nQ 43.453125 49.90625 45.40625 47.53125 \r\nQ 47.359375 45.171875 48.140625 41.546875 \r\nQ 48.578125 39.3125 48.578125 33.453125 \r\nL 48.578125 21.734375 \r\nQ 48.578125 9.46875 49.140625 6.21875 \r\nQ 49.703125 2.984375 51.375 0 \r\nL 42.1875 0 \r\nQ 40.828125 2.734375 40.4375 6.390625 \r\nz\r\nM 39.703125 26.03125 \r\nQ 34.90625 24.078125 25.34375 22.703125 \r\nQ 19.921875 21.921875 17.671875 20.9375 \r\nQ 15.4375 19.96875 14.203125 18.09375 \r\nQ 12.984375 16.21875 12.984375 13.921875 \r\nQ 12.984375 10.40625 15.640625 8.0625 \r\nQ 18.3125 5.71875 23.4375 5.71875 \r\nQ 28.515625 5.71875 32.46875 7.9375 \r\nQ 36.421875 10.15625 38.28125 14.015625 \r\nQ 39.703125 17 39.703125 22.796875 \r\nz\r\n\" id=\"ArialMT-97\"/>\r\n        <path d=\"M 6.5 0 \r\nL 6.5 51.859375 \r\nL 14.40625 51.859375 \r\nL 14.40625 44 \r\nQ 17.4375 49.515625 20 51.265625 \r\nQ 22.5625 53.03125 25.640625 53.03125 \r\nQ 30.078125 53.03125 34.671875 50.203125 \r\nL 31.640625 42.046875 \r\nQ 28.421875 43.953125 25.203125 43.953125 \r\nQ 22.3125 43.953125 20.015625 42.21875 \r\nQ 17.71875 40.484375 16.75 37.40625 \r\nQ 15.28125 32.71875 15.28125 27.15625 \r\nL 15.28125 0 \r\nz\r\n\" id=\"ArialMT-114\"/>\r\n       </defs>\r\n       <use xlink:href=\"#ArialMT-99\"/>\r\n       <use x=\"50\" xlink:href=\"#ArialMT-97\"/>\r\n       <use x=\"105.615234\" xlink:href=\"#ArialMT-114\"/>\r\n      </g>\r\n     </g>\r\n    </g>\r\n    <g id=\"ytick_3\">\r\n     <g id=\"line2d_21\">\r\n      <path clip-path=\"url(#pce92617082)\" d=\"M 92.185938 175.221818 \r\nL 426.985938 175.221818 \r\n\" style=\"fill:none;stroke:#ffffff;stroke-linecap:round;\"/>\r\n     </g>\r\n     <g id=\"line2d_22\">\r\n      <g>\r\n       <use style=\"fill:#262626;stroke:#262626;\" x=\"92.185938\" xlink:href=\"#m162777350f\" y=\"175.221818\"/>\r\n      </g>\r\n     </g>\r\n     <g id=\"text_11\">\r\n      <!-- good_work -->\r\n      <g style=\"fill:#262626;\" transform=\"translate(32.76875 178.800724)scale(0.1 -0.1)\">\r\n       <defs>\r\n        <path d=\"M 4.984375 -4.296875 \r\nL 13.53125 -5.5625 \r\nQ 14.0625 -9.515625 16.5 -11.328125 \r\nQ 19.78125 -13.765625 25.4375 -13.765625 \r\nQ 31.546875 -13.765625 34.859375 -11.328125 \r\nQ 38.1875 -8.890625 39.359375 -4.5 \r\nQ 40.046875 -1.8125 39.984375 6.78125 \r\nQ 34.234375 0 25.640625 0 \r\nQ 14.9375 0 9.078125 7.71875 \r\nQ 3.21875 15.4375 3.21875 26.21875 \r\nQ 3.21875 33.640625 5.90625 39.90625 \r\nQ 8.59375 46.1875 13.6875 49.609375 \r\nQ 18.796875 53.03125 25.6875 53.03125 \r\nQ 34.859375 53.03125 40.828125 45.609375 \r\nL 40.828125 51.859375 \r\nL 48.921875 51.859375 \r\nL 48.921875 7.03125 \r\nQ 48.921875 -5.078125 46.453125 -10.125 \r\nQ 44 -15.1875 38.640625 -18.109375 \r\nQ 33.296875 -21.046875 25.484375 -21.046875 \r\nQ 16.21875 -21.046875 10.5 -16.875 \r\nQ 4.78125 -12.703125 4.984375 -4.296875 \r\nz\r\nM 12.25 26.859375 \r\nQ 12.25 16.65625 16.296875 11.96875 \r\nQ 20.359375 7.28125 26.46875 7.28125 \r\nQ 32.515625 7.28125 36.609375 11.9375 \r\nQ 40.71875 16.609375 40.71875 26.5625 \r\nQ 40.71875 36.078125 36.5 40.90625 \r\nQ 32.28125 45.75 26.3125 45.75 \r\nQ 20.453125 45.75 16.34375 40.984375 \r\nQ 12.25 36.234375 12.25 26.859375 \r\nz\r\n\" id=\"ArialMT-103\"/>\r\n        <path d=\"M 3.328125 25.921875 \r\nQ 3.328125 40.328125 11.328125 47.265625 \r\nQ 18.015625 53.03125 27.640625 53.03125 \r\nQ 38.328125 53.03125 45.109375 46.015625 \r\nQ 51.90625 39.015625 51.90625 26.65625 \r\nQ 51.90625 16.65625 48.90625 10.90625 \r\nQ 45.90625 5.171875 40.15625 2 \r\nQ 34.421875 -1.171875 27.640625 -1.171875 \r\nQ 16.75 -1.171875 10.03125 5.8125 \r\nQ 3.328125 12.796875 3.328125 25.921875 \r\nz\r\nM 12.359375 25.921875 \r\nQ 12.359375 15.96875 16.703125 11.015625 \r\nQ 21.046875 6.0625 27.640625 6.0625 \r\nQ 34.1875 6.0625 38.53125 11.03125 \r\nQ 42.875 16.015625 42.875 26.21875 \r\nQ 42.875 35.84375 38.5 40.796875 \r\nQ 34.125 45.75 27.640625 45.75 \r\nQ 21.046875 45.75 16.703125 40.8125 \r\nQ 12.359375 35.890625 12.359375 25.921875 \r\nz\r\n\" id=\"ArialMT-111\"/>\r\n        <path d=\"M 40.234375 0 \r\nL 40.234375 6.546875 \r\nQ 35.296875 -1.171875 25.734375 -1.171875 \r\nQ 19.53125 -1.171875 14.328125 2.25 \r\nQ 9.125 5.671875 6.265625 11.796875 \r\nQ 3.421875 17.921875 3.421875 25.875 \r\nQ 3.421875 33.640625 6 39.96875 \r\nQ 8.59375 46.296875 13.765625 49.65625 \r\nQ 18.953125 53.03125 25.34375 53.03125 \r\nQ 30.03125 53.03125 33.6875 51.046875 \r\nQ 37.359375 49.078125 39.65625 45.90625 \r\nL 39.65625 71.578125 \r\nL 48.390625 71.578125 \r\nL 48.390625 0 \r\nz\r\nM 12.453125 25.875 \r\nQ 12.453125 15.921875 16.640625 10.984375 \r\nQ 20.84375 6.0625 26.5625 6.0625 \r\nQ 32.328125 6.0625 36.34375 10.765625 \r\nQ 40.375 15.484375 40.375 25.140625 \r\nQ 40.375 35.796875 36.265625 40.765625 \r\nQ 32.171875 45.75 26.171875 45.75 \r\nQ 20.3125 45.75 16.375 40.96875 \r\nQ 12.453125 36.1875 12.453125 25.875 \r\nz\r\n\" id=\"ArialMT-100\"/>\r\n        <path d=\"M -1.515625 -19.875 \r\nL -1.515625 -13.53125 \r\nL 56.734375 -13.53125 \r\nL 56.734375 -19.875 \r\nz\r\n\" id=\"ArialMT-95\"/>\r\n        <path d=\"M 16.15625 0 \r\nL 0.296875 51.859375 \r\nL 9.375 51.859375 \r\nL 17.625 21.921875 \r\nL 20.703125 10.796875 \r\nQ 20.90625 11.625 23.390625 21.484375 \r\nL 31.640625 51.859375 \r\nL 40.671875 51.859375 \r\nL 48.4375 21.78125 \r\nL 51.03125 11.859375 \r\nL 54 21.875 \r\nL 62.890625 51.859375 \r\nL 71.4375 51.859375 \r\nL 55.21875 0 \r\nL 46.09375 0 \r\nL 37.84375 31.0625 \r\nL 35.84375 39.890625 \r\nL 25.34375 0 \r\nz\r\n\" id=\"ArialMT-119\"/>\r\n        <path d=\"M 6.640625 0 \r\nL 6.640625 71.578125 \r\nL 15.4375 71.578125 \r\nL 15.4375 30.765625 \r\nL 36.234375 51.859375 \r\nL 47.609375 51.859375 \r\nL 27.78125 32.625 \r\nL 49.609375 0 \r\nL 38.765625 0 \r\nL 21.625 26.515625 \r\nL 15.4375 20.5625 \r\nL 15.4375 0 \r\nz\r\n\" id=\"ArialMT-107\"/>\r\n       </defs>\r\n       <use xlink:href=\"#ArialMT-103\"/>\r\n       <use x=\"55.615234\" xlink:href=\"#ArialMT-111\"/>\r\n       <use x=\"111.230469\" xlink:href=\"#ArialMT-111\"/>\r\n       <use x=\"166.845703\" xlink:href=\"#ArialMT-100\"/>\r\n       <use x=\"222.460938\" xlink:href=\"#ArialMT-95\"/>\r\n       <use x=\"278.076172\" xlink:href=\"#ArialMT-119\"/>\r\n       <use x=\"350.292969\" xlink:href=\"#ArialMT-111\"/>\r\n       <use x=\"405.908203\" xlink:href=\"#ArialMT-114\"/>\r\n       <use x=\"439.208984\" xlink:href=\"#ArialMT-107\"/>\r\n      </g>\r\n     </g>\r\n    </g>\r\n    <g id=\"ytick_4\">\r\n     <g id=\"line2d_23\">\r\n      <path clip-path=\"url(#pce92617082)\" d=\"M 92.185938 155.454545 \r\nL 426.985938 155.454545 \r\n\" style=\"fill:none;stroke:#ffffff;stroke-linecap:round;\"/>\r\n     </g>\r\n     <g id=\"line2d_24\">\r\n      <g>\r\n       <use style=\"fill:#262626;stroke:#262626;\" x=\"92.185938\" xlink:href=\"#m162777350f\" y=\"155.454545\"/>\r\n      </g>\r\n     </g>\r\n     <g id=\"text_12\">\r\n      <!-- car_type -->\r\n      <g style=\"fill:#262626;\" transform=\"translate(43.334375 158.974858)scale(0.1 -0.1)\">\r\n       <defs>\r\n        <path d=\"M 25.78125 7.859375 \r\nL 27.046875 0.09375 \r\nQ 23.34375 -0.6875 20.40625 -0.6875 \r\nQ 15.625 -0.6875 12.984375 0.828125 \r\nQ 10.359375 2.34375 9.28125 4.8125 \r\nQ 8.203125 7.28125 8.203125 15.1875 \r\nL 8.203125 45.015625 \r\nL 1.765625 45.015625 \r\nL 1.765625 51.859375 \r\nL 8.203125 51.859375 \r\nL 8.203125 64.703125 \r\nL 16.9375 69.96875 \r\nL 16.9375 51.859375 \r\nL 25.78125 51.859375 \r\nL 25.78125 45.015625 \r\nL 16.9375 45.015625 \r\nL 16.9375 14.703125 \r\nQ 16.9375 10.9375 17.40625 9.859375 \r\nQ 17.875 8.796875 18.921875 8.15625 \r\nQ 19.96875 7.515625 21.921875 7.515625 \r\nQ 23.390625 7.515625 25.78125 7.859375 \r\nz\r\n\" id=\"ArialMT-116\"/>\r\n        <path d=\"M 6.203125 -19.96875 \r\nL 5.21875 -11.71875 \r\nQ 8.109375 -12.5 10.25 -12.5 \r\nQ 13.1875 -12.5 14.9375 -11.515625 \r\nQ 16.703125 -10.546875 17.828125 -8.796875 \r\nQ 18.65625 -7.46875 20.515625 -2.25 \r\nQ 20.75 -1.515625 21.296875 -0.09375 \r\nL 1.609375 51.859375 \r\nL 11.078125 51.859375 \r\nL 21.875 21.828125 \r\nQ 23.96875 16.109375 25.640625 9.8125 \r\nQ 27.15625 15.875 29.25 21.625 \r\nL 40.328125 51.859375 \r\nL 49.125 51.859375 \r\nL 29.390625 -0.875 \r\nQ 26.21875 -9.421875 24.46875 -12.640625 \r\nQ 22.125 -17 19.09375 -19.015625 \r\nQ 16.0625 -21.046875 11.859375 -21.046875 \r\nQ 9.328125 -21.046875 6.203125 -19.96875 \r\nz\r\n\" id=\"ArialMT-121\"/>\r\n        <path d=\"M 6.59375 -19.875 \r\nL 6.59375 51.859375 \r\nL 14.59375 51.859375 \r\nL 14.59375 45.125 \r\nQ 17.4375 49.078125 21 51.046875 \r\nQ 24.5625 53.03125 29.640625 53.03125 \r\nQ 36.28125 53.03125 41.359375 49.609375 \r\nQ 46.4375 46.1875 49.015625 39.953125 \r\nQ 51.609375 33.734375 51.609375 26.3125 \r\nQ 51.609375 18.359375 48.75 11.984375 \r\nQ 45.90625 5.609375 40.453125 2.21875 \r\nQ 35.015625 -1.171875 29 -1.171875 \r\nQ 24.609375 -1.171875 21.109375 0.6875 \r\nQ 17.625 2.546875 15.375 5.375 \r\nL 15.375 -19.875 \r\nz\r\nM 14.546875 25.640625 \r\nQ 14.546875 15.625 18.59375 10.84375 \r\nQ 22.65625 6.0625 28.421875 6.0625 \r\nQ 34.28125 6.0625 38.453125 11.015625 \r\nQ 42.625 15.96875 42.625 26.375 \r\nQ 42.625 36.28125 38.546875 41.203125 \r\nQ 34.46875 46.140625 28.8125 46.140625 \r\nQ 23.1875 46.140625 18.859375 40.890625 \r\nQ 14.546875 35.640625 14.546875 25.640625 \r\nz\r\n\" id=\"ArialMT-112\"/>\r\n       </defs>\r\n       <use xlink:href=\"#ArialMT-99\"/>\r\n       <use x=\"50\" xlink:href=\"#ArialMT-97\"/>\r\n       <use x=\"105.615234\" xlink:href=\"#ArialMT-114\"/>\r\n       <use x=\"138.916016\" xlink:href=\"#ArialMT-95\"/>\r\n       <use x=\"194.53125\" xlink:href=\"#ArialMT-116\"/>\r\n       <use x=\"222.314453\" xlink:href=\"#ArialMT-121\"/>\r\n       <use x=\"272.314453\" xlink:href=\"#ArialMT-112\"/>\r\n       <use x=\"327.929688\" xlink:href=\"#ArialMT-101\"/>\r\n      </g>\r\n     </g>\r\n    </g>\r\n    <g id=\"ytick_5\">\r\n     <g id=\"line2d_25\">\r\n      <path clip-path=\"url(#pce92617082)\" d=\"M 92.185938 135.687273 \r\nL 426.985938 135.687273 \r\n\" style=\"fill:none;stroke:#ffffff;stroke-linecap:round;\"/>\r\n     </g>\r\n     <g id=\"line2d_26\">\r\n      <g>\r\n       <use style=\"fill:#262626;stroke:#262626;\" x=\"92.185938\" xlink:href=\"#m162777350f\" y=\"135.687273\"/>\r\n      </g>\r\n     </g>\r\n     <g id=\"text_13\">\r\n      <!-- foreign_passport -->\r\n      <g style=\"fill:#262626;\" transform=\"translate(7.2 139.327116)scale(0.1 -0.1)\">\r\n       <defs>\r\n        <path d=\"M 8.6875 0 \r\nL 8.6875 45.015625 \r\nL 0.921875 45.015625 \r\nL 0.921875 51.859375 \r\nL 8.6875 51.859375 \r\nL 8.6875 57.375 \r\nQ 8.6875 62.59375 9.625 65.140625 \r\nQ 10.890625 68.5625 14.078125 70.671875 \r\nQ 17.28125 72.796875 23.046875 72.796875 \r\nQ 26.765625 72.796875 31.25 71.921875 \r\nL 29.9375 64.265625 \r\nQ 27.203125 64.75 24.75 64.75 \r\nQ 20.75 64.75 19.09375 63.03125 \r\nQ 17.4375 61.328125 17.4375 56.640625 \r\nL 17.4375 51.859375 \r\nL 27.546875 51.859375 \r\nL 27.546875 45.015625 \r\nL 17.4375 45.015625 \r\nL 17.4375 0 \r\nz\r\n\" id=\"ArialMT-102\"/>\r\n        <path d=\"M 6.640625 61.46875 \r\nL 6.640625 71.578125 \r\nL 15.4375 71.578125 \r\nL 15.4375 61.46875 \r\nz\r\nM 6.640625 0 \r\nL 6.640625 51.859375 \r\nL 15.4375 51.859375 \r\nL 15.4375 0 \r\nz\r\n\" id=\"ArialMT-105\"/>\r\n        <path d=\"M 6.59375 0 \r\nL 6.59375 51.859375 \r\nL 14.5 51.859375 \r\nL 14.5 44.484375 \r\nQ 20.21875 53.03125 31 53.03125 \r\nQ 35.6875 53.03125 39.625 51.34375 \r\nQ 43.5625 49.65625 45.515625 46.921875 \r\nQ 47.46875 44.1875 48.25 40.4375 \r\nQ 48.734375 37.984375 48.734375 31.890625 \r\nL 48.734375 0 \r\nL 39.9375 0 \r\nL 39.9375 31.546875 \r\nQ 39.9375 36.921875 38.90625 39.578125 \r\nQ 37.890625 42.234375 35.28125 43.8125 \r\nQ 32.671875 45.40625 29.15625 45.40625 \r\nQ 23.53125 45.40625 19.453125 41.84375 \r\nQ 15.375 38.28125 15.375 28.328125 \r\nL 15.375 0 \r\nz\r\n\" id=\"ArialMT-110\"/>\r\n       </defs>\r\n       <use xlink:href=\"#ArialMT-102\"/>\r\n       <use x=\"27.783203\" xlink:href=\"#ArialMT-111\"/>\r\n       <use x=\"83.398438\" xlink:href=\"#ArialMT-114\"/>\r\n       <use x=\"116.699219\" xlink:href=\"#ArialMT-101\"/>\r\n       <use x=\"172.314453\" xlink:href=\"#ArialMT-105\"/>\r\n       <use x=\"194.53125\" xlink:href=\"#ArialMT-103\"/>\r\n       <use x=\"250.146484\" xlink:href=\"#ArialMT-110\"/>\r\n       <use x=\"305.761719\" xlink:href=\"#ArialMT-95\"/>\r\n       <use x=\"361.376953\" xlink:href=\"#ArialMT-112\"/>\r\n       <use x=\"416.992188\" xlink:href=\"#ArialMT-97\"/>\r\n       <use x=\"472.607422\" xlink:href=\"#ArialMT-115\"/>\r\n       <use x=\"522.607422\" xlink:href=\"#ArialMT-115\"/>\r\n       <use x=\"572.607422\" xlink:href=\"#ArialMT-112\"/>\r\n       <use x=\"628.222656\" xlink:href=\"#ArialMT-111\"/>\r\n       <use x=\"683.837891\" xlink:href=\"#ArialMT-114\"/>\r\n       <use x=\"717.138672\" xlink:href=\"#ArialMT-116\"/>\r\n      </g>\r\n     </g>\r\n    </g>\r\n    <g id=\"ytick_6\">\r\n     <g id=\"line2d_27\">\r\n      <path clip-path=\"url(#pce92617082)\" d=\"M 92.185938 115.92 \r\nL 426.985938 115.92 \r\n\" style=\"fill:none;stroke:#ffffff;stroke-linecap:round;\"/>\r\n     </g>\r\n     <g id=\"line2d_28\">\r\n      <g>\r\n       <use style=\"fill:#262626;stroke:#262626;\" x=\"92.185938\" xlink:href=\"#m162777350f\" y=\"115.92\"/>\r\n      </g>\r\n     </g>\r\n     <g id=\"text_14\">\r\n      <!-- work_address -->\r\n      <g style=\"fill:#262626;\" transform=\"translate(19.439063 119.498906)scale(0.1 -0.1)\">\r\n       <use xlink:href=\"#ArialMT-119\"/>\r\n       <use x=\"72.216797\" xlink:href=\"#ArialMT-111\"/>\r\n       <use x=\"127.832031\" xlink:href=\"#ArialMT-114\"/>\r\n       <use x=\"161.132812\" xlink:href=\"#ArialMT-107\"/>\r\n       <use x=\"211.132812\" xlink:href=\"#ArialMT-95\"/>\r\n       <use x=\"266.748047\" xlink:href=\"#ArialMT-97\"/>\r\n       <use x=\"322.363281\" xlink:href=\"#ArialMT-100\"/>\r\n       <use x=\"377.978516\" xlink:href=\"#ArialMT-100\"/>\r\n       <use x=\"433.59375\" xlink:href=\"#ArialMT-114\"/>\r\n       <use x=\"466.894531\" xlink:href=\"#ArialMT-101\"/>\r\n       <use x=\"522.509766\" xlink:href=\"#ArialMT-115\"/>\r\n       <use x=\"572.509766\" xlink:href=\"#ArialMT-115\"/>\r\n      </g>\r\n     </g>\r\n    </g>\r\n    <g id=\"ytick_7\">\r\n     <g id=\"line2d_29\">\r\n      <path clip-path=\"url(#pce92617082)\" d=\"M 92.185938 96.152727 \r\nL 426.985938 96.152727 \r\n\" style=\"fill:none;stroke:#ffffff;stroke-linecap:round;\"/>\r\n     </g>\r\n     <g id=\"line2d_30\">\r\n      <g>\r\n       <use style=\"fill:#262626;stroke:#262626;\" x=\"92.185938\" xlink:href=\"#m162777350f\" y=\"96.152727\"/>\r\n      </g>\r\n     </g>\r\n     <g id=\"text_15\">\r\n      <!-- education -->\r\n      <g style=\"fill:#262626;\" transform=\"translate(38.320313 99.731634)scale(0.1 -0.1)\">\r\n       <defs>\r\n        <path d=\"M 40.578125 0 \r\nL 40.578125 7.625 \r\nQ 34.515625 -1.171875 24.125 -1.171875 \r\nQ 19.53125 -1.171875 15.546875 0.578125 \r\nQ 11.578125 2.34375 9.640625 5 \r\nQ 7.71875 7.671875 6.9375 11.53125 \r\nQ 6.390625 14.109375 6.390625 19.734375 \r\nL 6.390625 51.859375 \r\nL 15.1875 51.859375 \r\nL 15.1875 23.09375 \r\nQ 15.1875 16.21875 15.71875 13.8125 \r\nQ 16.546875 10.359375 19.234375 8.375 \r\nQ 21.921875 6.390625 25.875 6.390625 \r\nQ 29.828125 6.390625 33.296875 8.421875 \r\nQ 36.765625 10.453125 38.203125 13.9375 \r\nQ 39.65625 17.4375 39.65625 24.078125 \r\nL 39.65625 51.859375 \r\nL 48.4375 51.859375 \r\nL 48.4375 0 \r\nz\r\n\" id=\"ArialMT-117\"/>\r\n       </defs>\r\n       <use xlink:href=\"#ArialMT-101\"/>\r\n       <use x=\"55.615234\" xlink:href=\"#ArialMT-100\"/>\r\n       <use x=\"111.230469\" xlink:href=\"#ArialMT-117\"/>\r\n       <use x=\"166.845703\" xlink:href=\"#ArialMT-99\"/>\r\n       <use x=\"216.845703\" xlink:href=\"#ArialMT-97\"/>\r\n       <use x=\"272.460938\" xlink:href=\"#ArialMT-116\"/>\r\n       <use x=\"300.244141\" xlink:href=\"#ArialMT-105\"/>\r\n       <use x=\"322.460938\" xlink:href=\"#ArialMT-111\"/>\r\n       <use x=\"378.076172\" xlink:href=\"#ArialMT-110\"/>\r\n      </g>\r\n     </g>\r\n    </g>\r\n    <g id=\"ytick_8\">\r\n     <g id=\"line2d_31\">\r\n      <path clip-path=\"url(#pce92617082)\" d=\"M 92.185938 76.385455 \r\nL 426.985938 76.385455 \r\n\" style=\"fill:none;stroke:#ffffff;stroke-linecap:round;\"/>\r\n     </g>\r\n     <g id=\"line2d_32\">\r\n      <g>\r\n       <use style=\"fill:#262626;stroke:#262626;\" x=\"92.185938\" xlink:href=\"#m162777350f\" y=\"76.385455\"/>\r\n      </g>\r\n     </g>\r\n     <g id=\"text_16\">\r\n      <!-- home_address -->\r\n      <g style=\"fill:#262626;\" transform=\"translate(15.539062 79.964361)scale(0.1 -0.1)\">\r\n       <defs>\r\n        <path d=\"M 6.59375 0 \r\nL 6.59375 71.578125 \r\nL 15.375 71.578125 \r\nL 15.375 45.90625 \r\nQ 21.53125 53.03125 30.90625 53.03125 \r\nQ 36.671875 53.03125 40.921875 50.75 \r\nQ 45.171875 48.484375 47 44.484375 \r\nQ 48.828125 40.484375 48.828125 32.859375 \r\nL 48.828125 0 \r\nL 40.046875 0 \r\nL 40.046875 32.859375 \r\nQ 40.046875 39.453125 37.1875 42.453125 \r\nQ 34.328125 45.453125 29.109375 45.453125 \r\nQ 25.203125 45.453125 21.75 43.421875 \r\nQ 18.3125 41.40625 16.84375 37.9375 \r\nQ 15.375 34.46875 15.375 28.375 \r\nL 15.375 0 \r\nz\r\n\" id=\"ArialMT-104\"/>\r\n        <path d=\"M 6.59375 0 \r\nL 6.59375 51.859375 \r\nL 14.453125 51.859375 \r\nL 14.453125 44.578125 \r\nQ 16.890625 48.390625 20.9375 50.703125 \r\nQ 25 53.03125 30.171875 53.03125 \r\nQ 35.9375 53.03125 39.625 50.640625 \r\nQ 43.3125 48.25 44.828125 43.953125 \r\nQ 50.984375 53.03125 60.84375 53.03125 \r\nQ 68.5625 53.03125 72.703125 48.75 \r\nQ 76.859375 44.484375 76.859375 35.59375 \r\nL 76.859375 0 \r\nL 68.109375 0 \r\nL 68.109375 32.671875 \r\nQ 68.109375 37.9375 67.25 40.25 \r\nQ 66.40625 42.578125 64.15625 43.984375 \r\nQ 61.921875 45.40625 58.890625 45.40625 \r\nQ 53.421875 45.40625 49.796875 41.765625 \r\nQ 46.1875 38.140625 46.1875 30.125 \r\nL 46.1875 0 \r\nL 37.40625 0 \r\nL 37.40625 33.6875 \r\nQ 37.40625 39.546875 35.25 42.46875 \r\nQ 33.109375 45.40625 28.21875 45.40625 \r\nQ 24.515625 45.40625 21.359375 43.453125 \r\nQ 18.21875 41.5 16.796875 37.734375 \r\nQ 15.375 33.984375 15.375 26.90625 \r\nL 15.375 0 \r\nz\r\n\" id=\"ArialMT-109\"/>\r\n       </defs>\r\n       <use xlink:href=\"#ArialMT-104\"/>\r\n       <use x=\"55.615234\" xlink:href=\"#ArialMT-111\"/>\r\n       <use x=\"111.230469\" xlink:href=\"#ArialMT-109\"/>\r\n       <use x=\"194.53125\" xlink:href=\"#ArialMT-101\"/>\r\n       <use x=\"250.146484\" xlink:href=\"#ArialMT-95\"/>\r\n       <use x=\"305.761719\" xlink:href=\"#ArialMT-97\"/>\r\n       <use x=\"361.376953\" xlink:href=\"#ArialMT-100\"/>\r\n       <use x=\"416.992188\" xlink:href=\"#ArialMT-100\"/>\r\n       <use x=\"472.607422\" xlink:href=\"#ArialMT-114\"/>\r\n       <use x=\"505.908203\" xlink:href=\"#ArialMT-101\"/>\r\n       <use x=\"561.523438\" xlink:href=\"#ArialMT-115\"/>\r\n       <use x=\"611.523438\" xlink:href=\"#ArialMT-115\"/>\r\n      </g>\r\n     </g>\r\n    </g>\r\n    <g id=\"ytick_9\">\r\n     <g id=\"line2d_33\">\r\n      <path clip-path=\"url(#pce92617082)\" d=\"M 92.185938 56.618182 \r\nL 426.985938 56.618182 \r\n\" style=\"fill:none;stroke:#ffffff;stroke-linecap:round;\"/>\r\n     </g>\r\n     <g id=\"line2d_34\">\r\n      <g>\r\n       <use style=\"fill:#262626;stroke:#262626;\" x=\"92.185938\" xlink:href=\"#m162777350f\" y=\"56.618182\"/>\r\n      </g>\r\n     </g>\r\n     <g id=\"text_17\">\r\n      <!-- region_rating -->\r\n      <g style=\"fill:#262626;\" transform=\"translate(23.317188 60.197088)scale(0.1 -0.1)\">\r\n       <use xlink:href=\"#ArialMT-114\"/>\r\n       <use x=\"33.300781\" xlink:href=\"#ArialMT-101\"/>\r\n       <use x=\"88.916016\" xlink:href=\"#ArialMT-103\"/>\r\n       <use x=\"144.53125\" xlink:href=\"#ArialMT-105\"/>\r\n       <use x=\"166.748047\" xlink:href=\"#ArialMT-111\"/>\r\n       <use x=\"222.363281\" xlink:href=\"#ArialMT-110\"/>\r\n       <use x=\"277.978516\" xlink:href=\"#ArialMT-95\"/>\r\n       <use x=\"333.59375\" xlink:href=\"#ArialMT-114\"/>\r\n       <use x=\"366.894531\" xlink:href=\"#ArialMT-97\"/>\r\n       <use x=\"422.509766\" xlink:href=\"#ArialMT-116\"/>\r\n       <use x=\"450.292969\" xlink:href=\"#ArialMT-105\"/>\r\n       <use x=\"472.509766\" xlink:href=\"#ArialMT-110\"/>\r\n       <use x=\"528.125\" xlink:href=\"#ArialMT-103\"/>\r\n      </g>\r\n     </g>\r\n    </g>\r\n    <g id=\"ytick_10\">\r\n     <g id=\"line2d_35\">\r\n      <path clip-path=\"url(#pce92617082)\" d=\"M 92.185938 36.850909 \r\nL 426.985938 36.850909 \r\n\" style=\"fill:none;stroke:#ffffff;stroke-linecap:round;\"/>\r\n     </g>\r\n     <g id=\"line2d_36\">\r\n      <g>\r\n       <use style=\"fill:#262626;stroke:#262626;\" x=\"92.185938\" xlink:href=\"#m162777350f\" y=\"36.850909\"/>\r\n      </g>\r\n     </g>\r\n     <g id=\"text_18\">\r\n      <!-- first_time -->\r\n      <g style=\"fill:#262626;\" transform=\"translate(41.126563 40.490753)scale(0.1 -0.1)\">\r\n       <use xlink:href=\"#ArialMT-102\"/>\r\n       <use x=\"27.783203\" xlink:href=\"#ArialMT-105\"/>\r\n       <use x=\"50\" xlink:href=\"#ArialMT-114\"/>\r\n       <use x=\"83.300781\" xlink:href=\"#ArialMT-115\"/>\r\n       <use x=\"133.300781\" xlink:href=\"#ArialMT-116\"/>\r\n       <use x=\"161.083984\" xlink:href=\"#ArialMT-95\"/>\r\n       <use x=\"216.699219\" xlink:href=\"#ArialMT-116\"/>\r\n       <use x=\"244.482422\" xlink:href=\"#ArialMT-105\"/>\r\n       <use x=\"266.699219\" xlink:href=\"#ArialMT-109\"/>\r\n       <use x=\"350\" xlink:href=\"#ArialMT-101\"/>\r\n      </g>\r\n     </g>\r\n    </g>\r\n    <g id=\"ytick_11\">\r\n     <g id=\"line2d_37\">\r\n      <path clip-path=\"url(#pce92617082)\" d=\"M 92.185938 17.083636 \r\nL 426.985938 17.083636 \r\n\" style=\"fill:none;stroke:#ffffff;stroke-linecap:round;\"/>\r\n     </g>\r\n     <g id=\"line2d_38\">\r\n      <g>\r\n       <use style=\"fill:#262626;stroke:#262626;\" x=\"92.185938\" xlink:href=\"#m162777350f\" y=\"17.083636\"/>\r\n      </g>\r\n     </g>\r\n     <g id=\"text_19\">\r\n      <!-- sna -->\r\n      <g style=\"fill:#262626;\" transform=\"translate(65.564063 20.662543)scale(0.1 -0.1)\">\r\n       <use xlink:href=\"#ArialMT-115\"/>\r\n       <use x=\"50\" xlink:href=\"#ArialMT-110\"/>\r\n       <use x=\"105.615234\" xlink:href=\"#ArialMT-97\"/>\r\n      </g>\r\n     </g>\r\n    </g>\r\n   </g>\r\n   <g id=\"patch_3\">\r\n    <path clip-path=\"url(#pce92617082)\" d=\"M 92.185938 219.698182 \r\nL 100.326814 219.698182 \r\nL 100.326814 209.814545 \r\nL 92.185938 209.814545 \r\nz\r\n\" style=\"fill:#1f77b4;\"/>\r\n   </g>\r\n   <g id=\"patch_4\">\r\n    <path clip-path=\"url(#pce92617082)\" d=\"M 92.185938 199.930909 \r\nL 132.799873 199.930909 \r\nL 132.799873 190.047273 \r\nL 92.185938 190.047273 \r\nz\r\n\" style=\"fill:#1f77b4;\"/>\r\n   </g>\r\n   <g id=\"patch_5\">\r\n    <path clip-path=\"url(#pce92617082)\" d=\"M 92.185938 180.163636 \r\nL 134.7995 180.163636 \r\nL 134.7995 170.28 \r\nL 92.185938 170.28 \r\nz\r\n\" style=\"fill:#1f77b4;\"/>\r\n   </g>\r\n   <g id=\"patch_6\">\r\n    <path clip-path=\"url(#pce92617082)\" d=\"M 92.185938 160.396364 \r\nL 168.077551 160.396364 \r\nL 168.077551 150.512727 \r\nL 92.185938 150.512727 \r\nz\r\n\" style=\"fill:#1f77b4;\"/>\r\n   </g>\r\n   <g id=\"patch_7\">\r\n    <path clip-path=\"url(#pce92617082)\" d=\"M 92.185938 140.629091 \r\nL 198.632718 140.629091 \r\nL 198.632718 130.745455 \r\nL 92.185938 130.745455 \r\nz\r\n\" style=\"fill:#1f77b4;\"/>\r\n   </g>\r\n   <g id=\"patch_8\">\r\n    <path clip-path=\"url(#pce92617082)\" d=\"M 92.185938 120.861818 \r\nL 244.611504 120.861818 \r\nL 244.611504 110.978182 \r\nL 92.185938 110.978182 \r\nz\r\n\" style=\"fill:#1f77b4;\"/>\r\n   </g>\r\n   <g id=\"patch_9\">\r\n    <path clip-path=\"url(#pce92617082)\" d=\"M 92.185938 101.094545 \r\nL 258.156612 101.094545 \r\nL 258.156612 91.210909 \r\nL 92.185938 91.210909 \r\nz\r\n\" style=\"fill:#1f77b4;\"/>\r\n   </g>\r\n   <g id=\"patch_10\">\r\n    <path clip-path=\"url(#pce92617082)\" d=\"M 92.185938 81.327273 \r\nL 277.077043 81.327273 \r\nL 277.077043 71.443636 \r\nL 92.185938 71.443636 \r\nz\r\n\" style=\"fill:#1f77b4;\"/>\r\n   </g>\r\n   <g id=\"patch_11\">\r\n    <path clip-path=\"url(#pce92617082)\" d=\"M 92.185938 61.56 \r\nL 277.23348 61.56 \r\nL 277.23348 51.676364 \r\nL 92.185938 51.676364 \r\nz\r\n\" style=\"fill:#1f77b4;\"/>\r\n   </g>\r\n   <g id=\"patch_12\">\r\n    <path clip-path=\"url(#pce92617082)\" d=\"M 92.185938 41.792727 \r\nL 328.284883 41.792727 \r\nL 328.284883 31.909091 \r\nL 92.185938 31.909091 \r\nz\r\n\" style=\"fill:#1f77b4;\"/>\r\n   </g>\r\n   <g id=\"patch_13\">\r\n    <path clip-path=\"url(#pce92617082)\" d=\"M 92.185938 22.025455 \r\nL 411.04308 22.025455 \r\nL 411.04308 12.141818 \r\nL 92.185938 12.141818 \r\nz\r\n\" style=\"fill:#1f77b4;\"/>\r\n   </g>\r\n   <g id=\"patch_14\">\r\n    <path d=\"M 92.185938 224.64 \r\nL 92.185938 7.2 \r\n\" style=\"fill:none;\"/>\r\n   </g>\r\n   <g id=\"patch_15\">\r\n    <path d=\"M 426.985938 224.64 \r\nL 426.985938 7.2 \r\n\" style=\"fill:none;\"/>\r\n   </g>\r\n   <g id=\"patch_16\">\r\n    <path d=\"M 92.185938 224.64 \r\nL 426.985937 224.64 \r\n\" style=\"fill:none;\"/>\r\n   </g>\r\n   <g id=\"patch_17\">\r\n    <path d=\"M 92.185938 7.2 \r\nL 426.985937 7.2 \r\n\" style=\"fill:none;\"/>\r\n   </g>\r\n  </g>\r\n </g>\r\n <defs>\r\n  <clipPath id=\"pce92617082\">\r\n   <rect height=\"217.44\" width=\"334.8\" x=\"92.185938\" y=\"7.2\"/>\r\n  </clipPath>\r\n </defs>\r\n</svg>\r\n",
      "image/png": "[encoded data removed]"
     },
     "metadata": {
      "needs_background": "light"
     }
    }
   ],
   "source": [
    "data_cat = data[data.train==1].copy()\n",
    "imp_cat = Series(mutual_info_classif(data_cat[bin_cols + cat_cols], data_cat['default'],\n",
    "                                     discrete_features =True), index = bin_cols + cat_cols)\n",
    "imp_cat.sort_values(inplace = True)\n",
    "imp_cat.plot(kind = 'barh')"
   ]
  },
  {
   "cell_type": "code",
   "execution_count": 331,
   "metadata": {
    "tags": []
   },
   "outputs": [],
   "source": [
    "data = pd.get_dummies(data, columns=cat_cols, drop_first=False)"
   ]
  },
  {
   "cell_type": "code",
   "execution_count": 332,
   "metadata": {},
   "outputs": [
    {
     "output_type": "execute_result",
     "data": {
      "text/plain": "[&#39;education&#39;,\n &#39;home_address&#39;,\n &#39;work_address&#39;,\n &#39;first_time&#39;,\n &#39;sna&#39;,\n &#39;region_rating&#39;]"
     },
     "metadata": {},
     "execution_count": 332
    }
   ],
   "source": [
    "cat_cols"
   ]
  },
  {
   "cell_type": "code",
   "execution_count": 333,
   "metadata": {},
   "outputs": [],
   "source": [
    "data[num_cols] = data[num_cols].apply(lambda x: np.log(x + 1))"
   ]
  },
  {
   "cell_type": "code",
   "execution_count": 334,
   "metadata": {},
   "outputs": [],
   "source": [
    "# Стандартизация числовых переменных\n",
    "\n",
    "data[num_cols] = StandardScaler().fit_transform(data[num_cols].values)"
   ]
  },
  {
   "cell_type": "code",
   "execution_count": 335,
   "metadata": {},
   "outputs": [],
   "source": [
    "import main\n",
    "from main import df_scrolling_object\n",
    "import importlib\n",
    "importlib.reload(main)\n",
    "\n",
    "# data_obj = df_scrolling_object(data)\n",
    "# X, Y = data_obj.return_XY()\n",
    "\n",
    "X = data[data.train==1].drop(['default'], axis=1)\n",
    "Y = data[data.train==1]['default']\n",
    "subm_client_id = data[data.train==0]['client_id']"
   ]
  },
  {
   "cell_type": "code",
   "execution_count": 336,
   "metadata": {},
   "outputs": [],
   "source": [
    "from sklearn.feature_selection import RFE\n",
    "C = 1\n",
    "penalty = 'l1'\n",
    "solver = 'liblinear'\n",
    "\n",
    "estimator = LogisticRegression(C=C, penalty=penalty, solver = solver,  random_state=RANDOM_SEED)\n",
    "selector = RFE(estimator, n_features_to_select=50, step=1)\n",
    "selector = selector.fit(X, Y)\n",
    "\n",
    "X = selector.transform(X)"
   ]
  },
  {
   "cell_type": "code",
   "execution_count": 337,
   "metadata": {},
   "outputs": [],
   "source": [
    "X_train, X_test, y_train, y_test = train_test_split(X, Y, test_size=0.20, random_state=RANDOM_SEED)"
   ]
  },
  {
   "cell_type": "code",
   "execution_count": 338,
   "metadata": {},
   "outputs": [
    {
     "output_type": "execute_result",
     "data": {
      "text/plain": "(73799, 50)"
     },
     "metadata": {},
     "execution_count": 338
    }
   ],
   "source": [
    "X.shape"
   ]
  },
  {
   "cell_type": "code",
   "execution_count": 339,
   "metadata": {
    "tags": []
   },
   "outputs": [
    {
     "output_type": "display_data",
     "data": {
      "text/plain": "&lt;Figure size 432x288 with 1 Axes&gt;",
      "image/svg+xml": "<?xml version=\"1.0\" encoding=\"utf-8\" standalone=\"no\"?>\r\n<!DOCTYPE svg PUBLIC \"-//W3C//DTD SVG 1.1//EN\"\r\n  \"http://www.w3.org/Graphics/SVG/1.1/DTD/svg11.dtd\">\r\n<!-- Created with matplotlib (https://matplotlib.org/) -->\r\n<svg height=\"280.288281pt\" version=\"1.1\" viewBox=\"0 0 387.659844 280.288281\" width=\"387.659844pt\" xmlns=\"http://www.w3.org/2000/svg\" xmlns:xlink=\"http://www.w3.org/1999/xlink\">\r\n <metadata>\r\n  <rdf:RDF xmlns:cc=\"http://creativecommons.org/ns#\" xmlns:dc=\"http://purl.org/dc/elements/1.1/\" xmlns:rdf=\"http://www.w3.org/1999/02/22-rdf-syntax-ns#\">\r\n   <cc:Work>\r\n    <dc:type rdf:resource=\"http://purl.org/dc/dcmitype/StillImage\"/>\r\n    <dc:date>2020-10-05T18:29:26.576688</dc:date>\r\n    <dc:format>image/svg+xml</dc:format>\r\n    <dc:creator>\r\n     <cc:Agent>\r\n      <dc:title>Matplotlib v3.3.1, https://matplotlib.org/</dc:title>\r\n     </cc:Agent>\r\n    </dc:creator>\r\n   </cc:Work>\r\n  </rdf:RDF>\r\n </metadata>\r\n <defs>\r\n  <style type=\"text/css\">*{stroke-linecap:butt;stroke-linejoin:round;}</style>\r\n </defs>\r\n <g id=\"figure_1\">\r\n  <g id=\"patch_1\">\r\n   <path d=\"M 0 280.288281 \r\nL 387.659844 280.288281 \r\nL 387.659844 0 \r\nL 0 0 \r\nz\r\n\" style=\"fill:none;\"/>\r\n  </g>\r\n  <g id=\"axes_1\">\r\n   <g id=\"patch_2\">\r\n    <path d=\"M 45.659844 239.383125 \r\nL 380.459844 239.383125 \r\nL 380.459844 21.943125 \r\nL 45.659844 21.943125 \r\nz\r\n\" style=\"fill:#eaeaf2;\"/>\r\n   </g>\r\n   <g id=\"matplotlib.axis_1\">\r\n    <g id=\"xtick_1\">\r\n     <g id=\"line2d_1\">\r\n      <path clip-path=\"url(#p1cc85d755e)\" d=\"M 60.878026 239.383125 \r\nL 60.878026 21.943125 \r\n\" style=\"fill:none;stroke:#ffffff;stroke-linecap:round;\"/>\r\n     </g>\r\n     <g id=\"line2d_2\">\r\n      <defs>\r\n       <path d=\"M 0 0 \r\nL 0 3.5 \r\n\" id=\"m751b4f12a2\" style=\"stroke:#262626;\"/>\r\n      </defs>\r\n      <g>\r\n       <use style=\"fill:#262626;stroke:#262626;\" x=\"60.878026\" xlink:href=\"#m751b4f12a2\" y=\"239.383125\"/>\r\n      </g>\r\n     </g>\r\n     <g id=\"text_1\">\r\n      <!-- 0.0 -->\r\n      <g style=\"fill:#262626;\" transform=\"translate(53.928026 257.040937)scale(0.1 -0.1)\">\r\n       <defs>\r\n        <path d=\"M 4.15625 35.296875 \r\nQ 4.15625 48 6.765625 55.734375 \r\nQ 9.375 63.484375 14.515625 67.671875 \r\nQ 19.671875 71.875 27.484375 71.875 \r\nQ 33.25 71.875 37.59375 69.546875 \r\nQ 41.9375 67.234375 44.765625 62.859375 \r\nQ 47.609375 58.5 49.21875 52.21875 \r\nQ 50.828125 45.953125 50.828125 35.296875 \r\nQ 50.828125 22.703125 48.234375 14.96875 \r\nQ 45.65625 7.234375 40.5 3 \r\nQ 35.359375 -1.21875 27.484375 -1.21875 \r\nQ 17.140625 -1.21875 11.234375 6.203125 \r\nQ 4.15625 15.140625 4.15625 35.296875 \r\nz\r\nM 13.1875 35.296875 \r\nQ 13.1875 17.671875 17.3125 11.828125 \r\nQ 21.4375 6 27.484375 6 \r\nQ 33.546875 6 37.671875 11.859375 \r\nQ 41.796875 17.71875 41.796875 35.296875 \r\nQ 41.796875 52.984375 37.671875 58.78125 \r\nQ 33.546875 64.59375 27.390625 64.59375 \r\nQ 21.34375 64.59375 17.71875 59.46875 \r\nQ 13.1875 52.9375 13.1875 35.296875 \r\nz\r\n\" id=\"ArialMT-48\"/>\r\n        <path d=\"M 9.078125 0 \r\nL 9.078125 10.015625 \r\nL 19.09375 10.015625 \r\nL 19.09375 0 \r\nz\r\n\" id=\"ArialMT-46\"/>\r\n       </defs>\r\n       <use xlink:href=\"#ArialMT-48\"/>\r\n       <use x=\"55.615234\" xlink:href=\"#ArialMT-46\"/>\r\n       <use x=\"83.398438\" xlink:href=\"#ArialMT-48\"/>\r\n      </g>\r\n     </g>\r\n    </g>\r\n    <g id=\"xtick_2\">\r\n     <g id=\"line2d_3\">\r\n      <path clip-path=\"url(#p1cc85d755e)\" d=\"M 121.750753 239.383125 \r\nL 121.750753 21.943125 \r\n\" style=\"fill:none;stroke:#ffffff;stroke-linecap:round;\"/>\r\n     </g>\r\n     <g id=\"line2d_4\">\r\n      <g>\r\n       <use style=\"fill:#262626;stroke:#262626;\" x=\"121.750753\" xlink:href=\"#m751b4f12a2\" y=\"239.383125\"/>\r\n      </g>\r\n     </g>\r\n     <g id=\"text_2\">\r\n      <!-- 0.2 -->\r\n      <g style=\"fill:#262626;\" transform=\"translate(114.800753 257.040937)scale(0.1 -0.1)\">\r\n       <defs>\r\n        <path d=\"M 50.34375 8.453125 \r\nL 50.34375 0 \r\nL 3.03125 0 \r\nQ 2.9375 3.171875 4.046875 6.109375 \r\nQ 5.859375 10.9375 9.828125 15.625 \r\nQ 13.8125 20.3125 21.34375 26.46875 \r\nQ 33.015625 36.03125 37.109375 41.625 \r\nQ 41.21875 47.21875 41.21875 52.203125 \r\nQ 41.21875 57.421875 37.46875 61 \r\nQ 33.734375 64.59375 27.734375 64.59375 \r\nQ 21.390625 64.59375 17.578125 60.78125 \r\nQ 13.765625 56.984375 13.71875 50.25 \r\nL 4.6875 51.171875 \r\nQ 5.609375 61.28125 11.65625 66.578125 \r\nQ 17.71875 71.875 27.9375 71.875 \r\nQ 38.234375 71.875 44.234375 66.15625 \r\nQ 50.25 60.453125 50.25 52 \r\nQ 50.25 47.703125 48.484375 43.546875 \r\nQ 46.734375 39.40625 42.65625 34.8125 \r\nQ 38.578125 30.21875 29.109375 22.21875 \r\nQ 21.1875 15.578125 18.9375 13.203125 \r\nQ 16.703125 10.84375 15.234375 8.453125 \r\nz\r\n\" id=\"ArialMT-50\"/>\r\n       </defs>\r\n       <use xlink:href=\"#ArialMT-48\"/>\r\n       <use x=\"55.615234\" xlink:href=\"#ArialMT-46\"/>\r\n       <use x=\"83.398438\" xlink:href=\"#ArialMT-50\"/>\r\n      </g>\r\n     </g>\r\n    </g>\r\n    <g id=\"xtick_3\">\r\n     <g id=\"line2d_5\">\r\n      <path clip-path=\"url(#p1cc85d755e)\" d=\"M 182.62348 239.383125 \r\nL 182.62348 21.943125 \r\n\" style=\"fill:none;stroke:#ffffff;stroke-linecap:round;\"/>\r\n     </g>\r\n     <g id=\"line2d_6\">\r\n      <g>\r\n       <use style=\"fill:#262626;stroke:#262626;\" x=\"182.62348\" xlink:href=\"#m751b4f12a2\" y=\"239.383125\"/>\r\n      </g>\r\n     </g>\r\n     <g id=\"text_3\">\r\n      <!-- 0.4 -->\r\n      <g style=\"fill:#262626;\" transform=\"translate(175.67348 257.040937)scale(0.1 -0.1)\">\r\n       <defs>\r\n        <path d=\"M 32.328125 0 \r\nL 32.328125 17.140625 \r\nL 1.265625 17.140625 \r\nL 1.265625 25.203125 \r\nL 33.9375 71.578125 \r\nL 41.109375 71.578125 \r\nL 41.109375 25.203125 \r\nL 50.78125 25.203125 \r\nL 50.78125 17.140625 \r\nL 41.109375 17.140625 \r\nL 41.109375 0 \r\nz\r\nM 32.328125 25.203125 \r\nL 32.328125 57.46875 \r\nL 9.90625 25.203125 \r\nz\r\n\" id=\"ArialMT-52\"/>\r\n       </defs>\r\n       <use xlink:href=\"#ArialMT-48\"/>\r\n       <use x=\"55.615234\" xlink:href=\"#ArialMT-46\"/>\r\n       <use x=\"83.398438\" xlink:href=\"#ArialMT-52\"/>\r\n      </g>\r\n     </g>\r\n    </g>\r\n    <g id=\"xtick_4\">\r\n     <g id=\"line2d_7\">\r\n      <path clip-path=\"url(#p1cc85d755e)\" d=\"M 243.496207 239.383125 \r\nL 243.496207 21.943125 \r\n\" style=\"fill:none;stroke:#ffffff;stroke-linecap:round;\"/>\r\n     </g>\r\n     <g id=\"line2d_8\">\r\n      <g>\r\n       <use style=\"fill:#262626;stroke:#262626;\" x=\"243.496207\" xlink:href=\"#m751b4f12a2\" y=\"239.383125\"/>\r\n      </g>\r\n     </g>\r\n     <g id=\"text_4\">\r\n      <!-- 0.6 -->\r\n      <g style=\"fill:#262626;\" transform=\"translate(236.546207 257.040937)scale(0.1 -0.1)\">\r\n       <defs>\r\n        <path d=\"M 49.75 54.046875 \r\nL 41.015625 53.375 \r\nQ 39.84375 58.546875 37.703125 60.890625 \r\nQ 34.125 64.65625 28.90625 64.65625 \r\nQ 24.703125 64.65625 21.53125 62.3125 \r\nQ 17.390625 59.28125 14.984375 53.46875 \r\nQ 12.59375 47.65625 12.5 36.921875 \r\nQ 15.671875 41.75 20.265625 44.09375 \r\nQ 24.859375 46.4375 29.890625 46.4375 \r\nQ 38.671875 46.4375 44.84375 39.96875 \r\nQ 51.03125 33.5 51.03125 23.25 \r\nQ 51.03125 16.5 48.125 10.71875 \r\nQ 45.21875 4.9375 40.140625 1.859375 \r\nQ 35.0625 -1.21875 28.609375 -1.21875 \r\nQ 17.625 -1.21875 10.6875 6.859375 \r\nQ 3.765625 14.9375 3.765625 33.5 \r\nQ 3.765625 54.25 11.421875 63.671875 \r\nQ 18.109375 71.875 29.4375 71.875 \r\nQ 37.890625 71.875 43.28125 67.140625 \r\nQ 48.6875 62.40625 49.75 54.046875 \r\nz\r\nM 13.875 23.1875 \r\nQ 13.875 18.65625 15.796875 14.5 \r\nQ 17.71875 10.359375 21.1875 8.171875 \r\nQ 24.65625 6 28.46875 6 \r\nQ 34.03125 6 38.03125 10.484375 \r\nQ 42.046875 14.984375 42.046875 22.703125 \r\nQ 42.046875 30.125 38.078125 34.390625 \r\nQ 34.125 38.671875 28.125 38.671875 \r\nQ 22.171875 38.671875 18.015625 34.390625 \r\nQ 13.875 30.125 13.875 23.1875 \r\nz\r\n\" id=\"ArialMT-54\"/>\r\n       </defs>\r\n       <use xlink:href=\"#ArialMT-48\"/>\r\n       <use x=\"55.615234\" xlink:href=\"#ArialMT-46\"/>\r\n       <use x=\"83.398438\" xlink:href=\"#ArialMT-54\"/>\r\n      </g>\r\n     </g>\r\n    </g>\r\n    <g id=\"xtick_5\">\r\n     <g id=\"line2d_9\">\r\n      <path clip-path=\"url(#p1cc85d755e)\" d=\"M 304.368935 239.383125 \r\nL 304.368935 21.943125 \r\n\" style=\"fill:none;stroke:#ffffff;stroke-linecap:round;\"/>\r\n     </g>\r\n     <g id=\"line2d_10\">\r\n      <g>\r\n       <use style=\"fill:#262626;stroke:#262626;\" x=\"304.368935\" xlink:href=\"#m751b4f12a2\" y=\"239.383125\"/>\r\n      </g>\r\n     </g>\r\n     <g id=\"text_5\">\r\n      <!-- 0.8 -->\r\n      <g style=\"fill:#262626;\" transform=\"translate(297.418935 257.040937)scale(0.1 -0.1)\">\r\n       <defs>\r\n        <path d=\"M 17.671875 38.8125 \r\nQ 12.203125 40.828125 9.5625 44.53125 \r\nQ 6.9375 48.25 6.9375 53.421875 \r\nQ 6.9375 61.234375 12.546875 66.546875 \r\nQ 18.171875 71.875 27.484375 71.875 \r\nQ 36.859375 71.875 42.578125 66.421875 \r\nQ 48.296875 60.984375 48.296875 53.171875 \r\nQ 48.296875 48.1875 45.671875 44.5 \r\nQ 43.0625 40.828125 37.75 38.8125 \r\nQ 44.34375 36.671875 47.78125 31.875 \r\nQ 51.21875 27.09375 51.21875 20.453125 \r\nQ 51.21875 11.28125 44.71875 5.03125 \r\nQ 38.234375 -1.21875 27.640625 -1.21875 \r\nQ 17.046875 -1.21875 10.546875 5.046875 \r\nQ 4.046875 11.328125 4.046875 20.703125 \r\nQ 4.046875 27.6875 7.59375 32.390625 \r\nQ 11.140625 37.109375 17.671875 38.8125 \r\nz\r\nM 15.921875 53.71875 \r\nQ 15.921875 48.640625 19.1875 45.40625 \r\nQ 22.46875 42.1875 27.6875 42.1875 \r\nQ 32.765625 42.1875 36.015625 45.375 \r\nQ 39.265625 48.578125 39.265625 53.21875 \r\nQ 39.265625 58.0625 35.90625 61.359375 \r\nQ 32.5625 64.65625 27.59375 64.65625 \r\nQ 22.5625 64.65625 19.234375 61.421875 \r\nQ 15.921875 58.203125 15.921875 53.71875 \r\nz\r\nM 13.09375 20.65625 \r\nQ 13.09375 16.890625 14.875 13.375 \r\nQ 16.65625 9.859375 20.171875 7.921875 \r\nQ 23.6875 6 27.734375 6 \r\nQ 34.03125 6 38.125 10.046875 \r\nQ 42.234375 14.109375 42.234375 20.359375 \r\nQ 42.234375 26.703125 38.015625 30.859375 \r\nQ 33.796875 35.015625 27.4375 35.015625 \r\nQ 21.234375 35.015625 17.15625 30.90625 \r\nQ 13.09375 26.8125 13.09375 20.65625 \r\nz\r\n\" id=\"ArialMT-56\"/>\r\n       </defs>\r\n       <use xlink:href=\"#ArialMT-48\"/>\r\n       <use x=\"55.615234\" xlink:href=\"#ArialMT-46\"/>\r\n       <use x=\"83.398438\" xlink:href=\"#ArialMT-56\"/>\r\n      </g>\r\n     </g>\r\n    </g>\r\n    <g id=\"xtick_6\">\r\n     <g id=\"line2d_11\">\r\n      <path clip-path=\"url(#p1cc85d755e)\" d=\"M 365.241662 239.383125 \r\nL 365.241662 21.943125 \r\n\" style=\"fill:none;stroke:#ffffff;stroke-linecap:round;\"/>\r\n     </g>\r\n     <g id=\"line2d_12\">\r\n      <g>\r\n       <use style=\"fill:#262626;stroke:#262626;\" x=\"365.241662\" xlink:href=\"#m751b4f12a2\" y=\"239.383125\"/>\r\n      </g>\r\n     </g>\r\n     <g id=\"text_6\">\r\n      <!-- 1.0 -->\r\n      <g style=\"fill:#262626;\" transform=\"translate(358.291662 257.040937)scale(0.1 -0.1)\">\r\n       <defs>\r\n        <path d=\"M 37.25 0 \r\nL 28.46875 0 \r\nL 28.46875 56 \r\nQ 25.296875 52.984375 20.140625 49.953125 \r\nQ 14.984375 46.921875 10.890625 45.40625 \r\nL 10.890625 53.90625 \r\nQ 18.265625 57.375 23.78125 62.296875 \r\nQ 29.296875 67.234375 31.59375 71.875 \r\nL 37.25 71.875 \r\nz\r\n\" id=\"ArialMT-49\"/>\r\n       </defs>\r\n       <use xlink:href=\"#ArialMT-49\"/>\r\n       <use x=\"55.615234\" xlink:href=\"#ArialMT-46\"/>\r\n       <use x=\"83.398438\" xlink:href=\"#ArialMT-48\"/>\r\n      </g>\r\n     </g>\r\n    </g>\r\n    <g id=\"text_7\">\r\n     <!-- False Positive Rate -->\r\n     <g style=\"fill:#262626;\" transform=\"translate(165.680781 270.902031)scale(0.11 -0.11)\">\r\n      <defs>\r\n       <path d=\"M 8.203125 0 \r\nL 8.203125 71.578125 \r\nL 56.5 71.578125 \r\nL 56.5 63.140625 \r\nL 17.671875 63.140625 \r\nL 17.671875 40.96875 \r\nL 51.265625 40.96875 \r\nL 51.265625 32.515625 \r\nL 17.671875 32.515625 \r\nL 17.671875 0 \r\nz\r\n\" id=\"ArialMT-70\"/>\r\n       <path d=\"M 40.4375 6.390625 \r\nQ 35.546875 2.25 31.03125 0.53125 \r\nQ 26.515625 -1.171875 21.34375 -1.171875 \r\nQ 12.796875 -1.171875 8.203125 3 \r\nQ 3.609375 7.171875 3.609375 13.671875 \r\nQ 3.609375 17.484375 5.34375 20.625 \r\nQ 7.078125 23.78125 9.890625 25.6875 \r\nQ 12.703125 27.59375 16.21875 28.5625 \r\nQ 18.796875 29.25 24.03125 29.890625 \r\nQ 34.671875 31.15625 39.703125 32.90625 \r\nQ 39.75 34.71875 39.75 35.203125 \r\nQ 39.75 40.578125 37.25 42.78125 \r\nQ 33.890625 45.75 27.25 45.75 \r\nQ 21.046875 45.75 18.09375 43.578125 \r\nQ 15.140625 41.40625 13.71875 35.890625 \r\nL 5.125 37.0625 \r\nQ 6.296875 42.578125 8.984375 45.96875 \r\nQ 11.671875 49.359375 16.75 51.1875 \r\nQ 21.828125 53.03125 28.515625 53.03125 \r\nQ 35.15625 53.03125 39.296875 51.46875 \r\nQ 43.453125 49.90625 45.40625 47.53125 \r\nQ 47.359375 45.171875 48.140625 41.546875 \r\nQ 48.578125 39.3125 48.578125 33.453125 \r\nL 48.578125 21.734375 \r\nQ 48.578125 9.46875 49.140625 6.21875 \r\nQ 49.703125 2.984375 51.375 0 \r\nL 42.1875 0 \r\nQ 40.828125 2.734375 40.4375 6.390625 \r\nz\r\nM 39.703125 26.03125 \r\nQ 34.90625 24.078125 25.34375 22.703125 \r\nQ 19.921875 21.921875 17.671875 20.9375 \r\nQ 15.4375 19.96875 14.203125 18.09375 \r\nQ 12.984375 16.21875 12.984375 13.921875 \r\nQ 12.984375 10.40625 15.640625 8.0625 \r\nQ 18.3125 5.71875 23.4375 5.71875 \r\nQ 28.515625 5.71875 32.46875 7.9375 \r\nQ 36.421875 10.15625 38.28125 14.015625 \r\nQ 39.703125 17 39.703125 22.796875 \r\nz\r\n\" id=\"ArialMT-97\"/>\r\n       <path d=\"M 6.390625 0 \r\nL 6.390625 71.578125 \r\nL 15.1875 71.578125 \r\nL 15.1875 0 \r\nz\r\n\" id=\"ArialMT-108\"/>\r\n       <path d=\"M 3.078125 15.484375 \r\nL 11.765625 16.84375 \r\nQ 12.5 11.625 15.84375 8.84375 \r\nQ 19.1875 6.0625 25.203125 6.0625 \r\nQ 31.25 6.0625 34.171875 8.515625 \r\nQ 37.109375 10.984375 37.109375 14.3125 \r\nQ 37.109375 17.28125 34.515625 19 \r\nQ 32.71875 20.171875 25.53125 21.96875 \r\nQ 15.875 24.421875 12.140625 26.203125 \r\nQ 8.40625 27.984375 6.46875 31.125 \r\nQ 4.546875 34.28125 4.546875 38.09375 \r\nQ 4.546875 41.546875 6.125 44.5 \r\nQ 7.71875 47.46875 10.453125 49.421875 \r\nQ 12.5 50.921875 16.03125 51.96875 \r\nQ 19.578125 53.03125 23.640625 53.03125 \r\nQ 29.734375 53.03125 34.34375 51.265625 \r\nQ 38.96875 49.515625 41.15625 46.5 \r\nQ 43.359375 43.5 44.1875 38.484375 \r\nL 35.59375 37.3125 \r\nQ 35.015625 41.3125 32.203125 43.546875 \r\nQ 29.390625 45.796875 24.265625 45.796875 \r\nQ 18.21875 45.796875 15.625 43.796875 \r\nQ 13.03125 41.796875 13.03125 39.109375 \r\nQ 13.03125 37.40625 14.109375 36.03125 \r\nQ 15.1875 34.625 17.484375 33.6875 \r\nQ 18.796875 33.203125 25.25 31.453125 \r\nQ 34.578125 28.953125 38.25 27.359375 \r\nQ 41.9375 25.78125 44.03125 22.75 \r\nQ 46.140625 19.734375 46.140625 15.234375 \r\nQ 46.140625 10.84375 43.578125 6.953125 \r\nQ 41.015625 3.078125 36.171875 0.953125 \r\nQ 31.34375 -1.171875 25.25 -1.171875 \r\nQ 15.140625 -1.171875 9.84375 3.03125 \r\nQ 4.546875 7.234375 3.078125 15.484375 \r\nz\r\n\" id=\"ArialMT-115\"/>\r\n       <path d=\"M 42.09375 16.703125 \r\nL 51.171875 15.578125 \r\nQ 49.03125 7.625 43.21875 3.21875 \r\nQ 37.40625 -1.171875 28.375 -1.171875 \r\nQ 17 -1.171875 10.328125 5.828125 \r\nQ 3.65625 12.84375 3.65625 25.484375 \r\nQ 3.65625 38.578125 10.390625 45.796875 \r\nQ 17.140625 53.03125 27.875 53.03125 \r\nQ 38.28125 53.03125 44.875 45.953125 \r\nQ 51.46875 38.875 51.46875 26.03125 \r\nQ 51.46875 25.25 51.421875 23.6875 \r\nL 12.75 23.6875 \r\nQ 13.234375 15.140625 17.578125 10.59375 \r\nQ 21.921875 6.0625 28.421875 6.0625 \r\nQ 33.25 6.0625 36.671875 8.59375 \r\nQ 40.09375 11.140625 42.09375 16.703125 \r\nz\r\nM 13.234375 30.90625 \r\nL 42.1875 30.90625 \r\nQ 41.609375 37.453125 38.875 40.71875 \r\nQ 34.671875 45.796875 27.984375 45.796875 \r\nQ 21.921875 45.796875 17.796875 41.75 \r\nQ 13.671875 37.703125 13.234375 30.90625 \r\nz\r\n\" id=\"ArialMT-101\"/>\r\n       <path id=\"ArialMT-32\"/>\r\n       <path d=\"M 7.71875 0 \r\nL 7.71875 71.578125 \r\nL 34.71875 71.578125 \r\nQ 41.84375 71.578125 45.609375 70.90625 \r\nQ 50.875 70.015625 54.4375 67.546875 \r\nQ 58.015625 65.09375 60.1875 60.640625 \r\nQ 62.359375 56.203125 62.359375 50.875 \r\nQ 62.359375 41.75 56.546875 35.421875 \r\nQ 50.734375 29.109375 35.546875 29.109375 \r\nL 17.1875 29.109375 \r\nL 17.1875 0 \r\nz\r\nM 17.1875 37.546875 \r\nL 35.6875 37.546875 \r\nQ 44.875 37.546875 48.734375 40.96875 \r\nQ 52.59375 44.390625 52.59375 50.59375 \r\nQ 52.59375 55.078125 50.3125 58.265625 \r\nQ 48.046875 61.46875 44.34375 62.5 \r\nQ 41.9375 63.140625 35.5 63.140625 \r\nL 17.1875 63.140625 \r\nz\r\n\" id=\"ArialMT-80\"/>\r\n       <path d=\"M 3.328125 25.921875 \r\nQ 3.328125 40.328125 11.328125 47.265625 \r\nQ 18.015625 53.03125 27.640625 53.03125 \r\nQ 38.328125 53.03125 45.109375 46.015625 \r\nQ 51.90625 39.015625 51.90625 26.65625 \r\nQ 51.90625 16.65625 48.90625 10.90625 \r\nQ 45.90625 5.171875 40.15625 2 \r\nQ 34.421875 -1.171875 27.640625 -1.171875 \r\nQ 16.75 -1.171875 10.03125 5.8125 \r\nQ 3.328125 12.796875 3.328125 25.921875 \r\nz\r\nM 12.359375 25.921875 \r\nQ 12.359375 15.96875 16.703125 11.015625 \r\nQ 21.046875 6.0625 27.640625 6.0625 \r\nQ 34.1875 6.0625 38.53125 11.03125 \r\nQ 42.875 16.015625 42.875 26.21875 \r\nQ 42.875 35.84375 38.5 40.796875 \r\nQ 34.125 45.75 27.640625 45.75 \r\nQ 21.046875 45.75 16.703125 40.8125 \r\nQ 12.359375 35.890625 12.359375 25.921875 \r\nz\r\n\" id=\"ArialMT-111\"/>\r\n       <path d=\"M 6.640625 61.46875 \r\nL 6.640625 71.578125 \r\nL 15.4375 71.578125 \r\nL 15.4375 61.46875 \r\nz\r\nM 6.640625 0 \r\nL 6.640625 51.859375 \r\nL 15.4375 51.859375 \r\nL 15.4375 0 \r\nz\r\n\" id=\"ArialMT-105\"/>\r\n       <path d=\"M 25.78125 7.859375 \r\nL 27.046875 0.09375 \r\nQ 23.34375 -0.6875 20.40625 -0.6875 \r\nQ 15.625 -0.6875 12.984375 0.828125 \r\nQ 10.359375 2.34375 9.28125 4.8125 \r\nQ 8.203125 7.28125 8.203125 15.1875 \r\nL 8.203125 45.015625 \r\nL 1.765625 45.015625 \r\nL 1.765625 51.859375 \r\nL 8.203125 51.859375 \r\nL 8.203125 64.703125 \r\nL 16.9375 69.96875 \r\nL 16.9375 51.859375 \r\nL 25.78125 51.859375 \r\nL 25.78125 45.015625 \r\nL 16.9375 45.015625 \r\nL 16.9375 14.703125 \r\nQ 16.9375 10.9375 17.40625 9.859375 \r\nQ 17.875 8.796875 18.921875 8.15625 \r\nQ 19.96875 7.515625 21.921875 7.515625 \r\nQ 23.390625 7.515625 25.78125 7.859375 \r\nz\r\n\" id=\"ArialMT-116\"/>\r\n       <path d=\"M 21 0 \r\nL 1.265625 51.859375 \r\nL 10.546875 51.859375 \r\nL 21.6875 20.796875 \r\nQ 23.484375 15.765625 25 10.359375 \r\nQ 26.171875 14.453125 28.265625 20.21875 \r\nL 39.796875 51.859375 \r\nL 48.828125 51.859375 \r\nL 29.203125 0 \r\nz\r\n\" id=\"ArialMT-118\"/>\r\n       <path d=\"M 7.859375 0 \r\nL 7.859375 71.578125 \r\nL 39.59375 71.578125 \r\nQ 49.171875 71.578125 54.140625 69.640625 \r\nQ 59.125 67.71875 62.109375 62.828125 \r\nQ 65.09375 57.953125 65.09375 52.046875 \r\nQ 65.09375 44.4375 60.15625 39.203125 \r\nQ 55.21875 33.984375 44.921875 32.5625 \r\nQ 48.6875 30.765625 50.640625 29 \r\nQ 54.78125 25.203125 58.5 19.484375 \r\nL 70.953125 0 \r\nL 59.03125 0 \r\nL 49.5625 14.890625 \r\nQ 45.40625 21.34375 42.71875 24.75 \r\nQ 40.046875 28.171875 37.921875 29.53125 \r\nQ 35.796875 30.90625 33.59375 31.453125 \r\nQ 31.984375 31.78125 28.328125 31.78125 \r\nL 17.328125 31.78125 \r\nL 17.328125 0 \r\nz\r\nM 17.328125 39.984375 \r\nL 37.703125 39.984375 \r\nQ 44.1875 39.984375 47.84375 41.328125 \r\nQ 51.515625 42.671875 53.421875 45.625 \r\nQ 55.328125 48.578125 55.328125 52.046875 \r\nQ 55.328125 57.125 51.640625 60.390625 \r\nQ 47.953125 63.671875 39.984375 63.671875 \r\nL 17.328125 63.671875 \r\nz\r\n\" id=\"ArialMT-82\"/>\r\n      </defs>\r\n      <use xlink:href=\"#ArialMT-70\"/>\r\n      <use x=\"61.083984\" xlink:href=\"#ArialMT-97\"/>\r\n      <use x=\"116.699219\" xlink:href=\"#ArialMT-108\"/>\r\n      <use x=\"138.916016\" xlink:href=\"#ArialMT-115\"/>\r\n      <use x=\"188.916016\" xlink:href=\"#ArialMT-101\"/>\r\n      <use x=\"244.53125\" xlink:href=\"#ArialMT-32\"/>\r\n      <use x=\"272.314453\" xlink:href=\"#ArialMT-80\"/>\r\n      <use x=\"339.013672\" xlink:href=\"#ArialMT-111\"/>\r\n      <use x=\"394.628906\" xlink:href=\"#ArialMT-115\"/>\r\n      <use x=\"444.628906\" xlink:href=\"#ArialMT-105\"/>\r\n      <use x=\"466.845703\" xlink:href=\"#ArialMT-116\"/>\r\n      <use x=\"494.628906\" xlink:href=\"#ArialMT-105\"/>\r\n      <use x=\"516.845703\" xlink:href=\"#ArialMT-118\"/>\r\n      <use x=\"566.845703\" xlink:href=\"#ArialMT-101\"/>\r\n      <use x=\"622.460938\" xlink:href=\"#ArialMT-32\"/>\r\n      <use x=\"650.244141\" xlink:href=\"#ArialMT-82\"/>\r\n      <use x=\"722.460938\" xlink:href=\"#ArialMT-97\"/>\r\n      <use x=\"778.076172\" xlink:href=\"#ArialMT-116\"/>\r\n      <use x=\"805.859375\" xlink:href=\"#ArialMT-101\"/>\r\n     </g>\r\n    </g>\r\n   </g>\r\n   <g id=\"matplotlib.axis_2\">\r\n    <g id=\"ytick_1\">\r\n     <g id=\"line2d_13\">\r\n      <path clip-path=\"url(#p1cc85d755e)\" d=\"M 45.659844 229.499489 \r\nL 380.459844 229.499489 \r\n\" style=\"fill:none;stroke:#ffffff;stroke-linecap:round;\"/>\r\n     </g>\r\n     <g id=\"line2d_14\">\r\n      <defs>\r\n       <path d=\"M 0 0 \r\nL -3.5 0 \r\n\" id=\"md883738bdd\" style=\"stroke:#262626;\"/>\r\n      </defs>\r\n      <g>\r\n       <use style=\"fill:#262626;stroke:#262626;\" x=\"45.659844\" xlink:href=\"#md883738bdd\" y=\"229.499489\"/>\r\n      </g>\r\n     </g>\r\n     <g id=\"text_8\">\r\n      <!-- 0.0 -->\r\n      <g style=\"fill:#262626;\" transform=\"translate(21.259844 233.078395)scale(0.1 -0.1)\">\r\n       <use xlink:href=\"#ArialMT-48\"/>\r\n       <use x=\"55.615234\" xlink:href=\"#ArialMT-46\"/>\r\n       <use x=\"83.398438\" xlink:href=\"#ArialMT-48\"/>\r\n      </g>\r\n     </g>\r\n    </g>\r\n    <g id=\"ytick_2\">\r\n     <g id=\"line2d_15\">\r\n      <path clip-path=\"url(#p1cc85d755e)\" d=\"M 45.659844 189.964943 \r\nL 380.459844 189.964943 \r\n\" style=\"fill:none;stroke:#ffffff;stroke-linecap:round;\"/>\r\n     </g>\r\n     <g id=\"line2d_16\">\r\n      <g>\r\n       <use style=\"fill:#262626;stroke:#262626;\" x=\"45.659844\" xlink:href=\"#md883738bdd\" y=\"189.964943\"/>\r\n      </g>\r\n     </g>\r\n     <g id=\"text_9\">\r\n      <!-- 0.2 -->\r\n      <g style=\"fill:#262626;\" transform=\"translate(21.259844 193.543849)scale(0.1 -0.1)\">\r\n       <use xlink:href=\"#ArialMT-48\"/>\r\n       <use x=\"55.615234\" xlink:href=\"#ArialMT-46\"/>\r\n       <use x=\"83.398438\" xlink:href=\"#ArialMT-50\"/>\r\n      </g>\r\n     </g>\r\n    </g>\r\n    <g id=\"ytick_3\">\r\n     <g id=\"line2d_17\">\r\n      <path clip-path=\"url(#p1cc85d755e)\" d=\"M 45.659844 150.430398 \r\nL 380.459844 150.430398 \r\n\" style=\"fill:none;stroke:#ffffff;stroke-linecap:round;\"/>\r\n     </g>\r\n     <g id=\"line2d_18\">\r\n      <g>\r\n       <use style=\"fill:#262626;stroke:#262626;\" x=\"45.659844\" xlink:href=\"#md883738bdd\" y=\"150.430398\"/>\r\n      </g>\r\n     </g>\r\n     <g id=\"text_10\">\r\n      <!-- 0.4 -->\r\n      <g style=\"fill:#262626;\" transform=\"translate(21.259844 154.009304)scale(0.1 -0.1)\">\r\n       <use xlink:href=\"#ArialMT-48\"/>\r\n       <use x=\"55.615234\" xlink:href=\"#ArialMT-46\"/>\r\n       <use x=\"83.398438\" xlink:href=\"#ArialMT-52\"/>\r\n      </g>\r\n     </g>\r\n    </g>\r\n    <g id=\"ytick_4\">\r\n     <g id=\"line2d_19\">\r\n      <path clip-path=\"url(#p1cc85d755e)\" d=\"M 45.659844 110.895852 \r\nL 380.459844 110.895852 \r\n\" style=\"fill:none;stroke:#ffffff;stroke-linecap:round;\"/>\r\n     </g>\r\n     <g id=\"line2d_20\">\r\n      <g>\r\n       <use style=\"fill:#262626;stroke:#262626;\" x=\"45.659844\" xlink:href=\"#md883738bdd\" y=\"110.895852\"/>\r\n      </g>\r\n     </g>\r\n     <g id=\"text_11\">\r\n      <!-- 0.6 -->\r\n      <g style=\"fill:#262626;\" transform=\"translate(21.259844 114.474759)scale(0.1 -0.1)\">\r\n       <use xlink:href=\"#ArialMT-48\"/>\r\n       <use x=\"55.615234\" xlink:href=\"#ArialMT-46\"/>\r\n       <use x=\"83.398438\" xlink:href=\"#ArialMT-54\"/>\r\n      </g>\r\n     </g>\r\n    </g>\r\n    <g id=\"ytick_5\">\r\n     <g id=\"line2d_21\">\r\n      <path clip-path=\"url(#p1cc85d755e)\" d=\"M 45.659844 71.361307 \r\nL 380.459844 71.361307 \r\n\" style=\"fill:none;stroke:#ffffff;stroke-linecap:round;\"/>\r\n     </g>\r\n     <g id=\"line2d_22\">\r\n      <g>\r\n       <use style=\"fill:#262626;stroke:#262626;\" x=\"45.659844\" xlink:href=\"#md883738bdd\" y=\"71.361307\"/>\r\n      </g>\r\n     </g>\r\n     <g id=\"text_12\">\r\n      <!-- 0.8 -->\r\n      <g style=\"fill:#262626;\" transform=\"translate(21.259844 74.940213)scale(0.1 -0.1)\">\r\n       <use xlink:href=\"#ArialMT-48\"/>\r\n       <use x=\"55.615234\" xlink:href=\"#ArialMT-46\"/>\r\n       <use x=\"83.398438\" xlink:href=\"#ArialMT-56\"/>\r\n      </g>\r\n     </g>\r\n    </g>\r\n    <g id=\"ytick_6\">\r\n     <g id=\"line2d_23\">\r\n      <path clip-path=\"url(#p1cc85d755e)\" d=\"M 45.659844 31.826761 \r\nL 380.459844 31.826761 \r\n\" style=\"fill:none;stroke:#ffffff;stroke-linecap:round;\"/>\r\n     </g>\r\n     <g id=\"line2d_24\">\r\n      <g>\r\n       <use style=\"fill:#262626;stroke:#262626;\" x=\"45.659844\" xlink:href=\"#md883738bdd\" y=\"31.826761\"/>\r\n      </g>\r\n     </g>\r\n     <g id=\"text_13\">\r\n      <!-- 1.0 -->\r\n      <g style=\"fill:#262626;\" transform=\"translate(21.259844 35.405668)scale(0.1 -0.1)\">\r\n       <use xlink:href=\"#ArialMT-49\"/>\r\n       <use x=\"55.615234\" xlink:href=\"#ArialMT-46\"/>\r\n       <use x=\"83.398438\" xlink:href=\"#ArialMT-48\"/>\r\n      </g>\r\n     </g>\r\n    </g>\r\n    <g id=\"text_14\">\r\n     <!-- True Positive Rate -->\r\n     <g style=\"fill:#262626;\" transform=\"translate(15.073594 175.695234)rotate(-90)scale(0.11 -0.11)\">\r\n      <defs>\r\n       <path d=\"M 25.921875 0 \r\nL 25.921875 63.140625 \r\nL 2.34375 63.140625 \r\nL 2.34375 71.578125 \r\nL 59.078125 71.578125 \r\nL 59.078125 63.140625 \r\nL 35.40625 63.140625 \r\nL 35.40625 0 \r\nz\r\n\" id=\"ArialMT-84\"/>\r\n       <path d=\"M 6.5 0 \r\nL 6.5 51.859375 \r\nL 14.40625 51.859375 \r\nL 14.40625 44 \r\nQ 17.4375 49.515625 20 51.265625 \r\nQ 22.5625 53.03125 25.640625 53.03125 \r\nQ 30.078125 53.03125 34.671875 50.203125 \r\nL 31.640625 42.046875 \r\nQ 28.421875 43.953125 25.203125 43.953125 \r\nQ 22.3125 43.953125 20.015625 42.21875 \r\nQ 17.71875 40.484375 16.75 37.40625 \r\nQ 15.28125 32.71875 15.28125 27.15625 \r\nL 15.28125 0 \r\nz\r\n\" id=\"ArialMT-114\"/>\r\n       <path d=\"M 40.578125 0 \r\nL 40.578125 7.625 \r\nQ 34.515625 -1.171875 24.125 -1.171875 \r\nQ 19.53125 -1.171875 15.546875 0.578125 \r\nQ 11.578125 2.34375 9.640625 5 \r\nQ 7.71875 7.671875 6.9375 11.53125 \r\nQ 6.390625 14.109375 6.390625 19.734375 \r\nL 6.390625 51.859375 \r\nL 15.1875 51.859375 \r\nL 15.1875 23.09375 \r\nQ 15.1875 16.21875 15.71875 13.8125 \r\nQ 16.546875 10.359375 19.234375 8.375 \r\nQ 21.921875 6.390625 25.875 6.390625 \r\nQ 29.828125 6.390625 33.296875 8.421875 \r\nQ 36.765625 10.453125 38.203125 13.9375 \r\nQ 39.65625 17.4375 39.65625 24.078125 \r\nL 39.65625 51.859375 \r\nL 48.4375 51.859375 \r\nL 48.4375 0 \r\nz\r\n\" id=\"ArialMT-117\"/>\r\n      </defs>\r\n      <use xlink:href=\"#ArialMT-84\"/>\r\n      <use x=\"57.333984\" xlink:href=\"#ArialMT-114\"/>\r\n      <use x=\"90.634766\" xlink:href=\"#ArialMT-117\"/>\r\n      <use x=\"146.25\" xlink:href=\"#ArialMT-101\"/>\r\n      <use x=\"201.865234\" xlink:href=\"#ArialMT-32\"/>\r\n      <use x=\"229.648438\" xlink:href=\"#ArialMT-80\"/>\r\n      <use x=\"296.347656\" xlink:href=\"#ArialMT-111\"/>\r\n      <use x=\"351.962891\" xlink:href=\"#ArialMT-115\"/>\r\n      <use x=\"401.962891\" xlink:href=\"#ArialMT-105\"/>\r\n      <use x=\"424.179688\" xlink:href=\"#ArialMT-116\"/>\r\n      <use x=\"451.962891\" xlink:href=\"#ArialMT-105\"/>\r\n      <use x=\"474.179688\" xlink:href=\"#ArialMT-118\"/>\r\n      <use x=\"524.179688\" xlink:href=\"#ArialMT-101\"/>\r\n      <use x=\"579.794922\" xlink:href=\"#ArialMT-32\"/>\r\n      <use x=\"607.578125\" xlink:href=\"#ArialMT-82\"/>\r\n      <use x=\"679.794922\" xlink:href=\"#ArialMT-97\"/>\r\n      <use x=\"735.410156\" xlink:href=\"#ArialMT-116\"/>\r\n      <use x=\"763.193359\" xlink:href=\"#ArialMT-101\"/>\r\n     </g>\r\n    </g>\r\n   </g>\r\n   <g id=\"line2d_25\">\r\n    <path clip-path=\"url(#p1cc85d755e)\" d=\"M 60.878026 229.499489 \r\nL 365.241662 31.826761 \r\n\" style=\"fill:none;stroke:#1f77b4;stroke-dasharray:6.475,2.8;stroke-dashoffset:0;stroke-width:1.75;\"/>\r\n   </g>\r\n   <g id=\"line2d_26\">\r\n    <path clip-path=\"url(#p1cc85d755e)\" d=\"M 60.878026 229.499489 \r\nL 60.901559 229.499489 \r\nL 60.995695 228.850317 \r\nL 61.042763 228.742122 \r\nL 61.113364 227.768365 \r\nL 61.231034 227.660169 \r\nL 61.254568 227.443779 \r\nL 61.584042 227.335584 \r\nL 61.678177 226.794607 \r\nL 61.772313 226.686412 \r\nL 61.866448 226.470022 \r\nL 61.913516 226.361826 \r\nL 61.93705 226.037241 \r\nL 62.078253 226.037241 \r\nL 62.125321 224.847093 \r\nL 62.266524 224.738898 \r\nL 62.337126 224.197921 \r\nL 62.407728 224.197921 \r\nL 62.454795 223.76514 \r\nL 62.690134 223.656945 \r\nL 62.760736 223.224164 \r\nL 62.854871 223.115969 \r\nL 62.854871 222.899578 \r\nL 62.972541 222.899578 \r\nL 63.066676 222.574992 \r\nL 63.137278 222.466797 \r\nL 63.137278 222.358602 \r\nL 63.302015 222.358602 \r\nL 63.372617 221.601235 \r\nL 63.443218 221.601235 \r\nL 63.537354 221.060259 \r\nL 63.607955 220.952064 \r\nL 63.678557 220.411087 \r\nL 63.725625 220.411087 \r\nL 63.81976 219.978306 \r\nL 63.843294 219.978306 \r\nL 63.93743 219.22094 \r\nL 63.960964 219.22094 \r\nL 63.984497 218.463573 \r\nL 64.078633 218.463573 \r\nL 64.149235 217.922597 \r\nL 64.24337 217.814401 \r\nL 64.24337 217.489816 \r\nL 64.361039 217.489816 \r\nL 64.408107 216.732449 \r\nL 64.596378 216.624254 \r\nL 64.643446 216.299668 \r\nL 64.761115 216.299668 \r\nL 64.855251 215.650496 \r\nL 64.949386 215.650496 \r\nL 65.043522 214.784934 \r\nL 65.184725 214.676739 \r\nL 65.184725 214.460348 \r\nL 65.325928 214.352153 \r\nL 65.372996 213.486591 \r\nL 65.584801 213.378396 \r\nL 65.655403 212.729224 \r\nL 65.796606 212.621029 \r\nL 65.843674 212.188248 \r\nL 65.984877 212.080053 \r\nL 66.055479 211.322686 \r\nL 66.12608 211.214491 \r\nL 66.173148 210.240734 \r\nL 66.54969 210.132538 \r\nL 66.54969 210.024343 \r\nL 66.737961 210.024343 \r\nL 66.832097 209.699757 \r\nL 66.926232 209.591562 \r\nL 66.996834 208.942391 \r\nL 67.114503 208.834195 \r\nL 67.185105 207.968633 \r\nL 67.302774 207.860438 \r\nL 67.349842 207.535852 \r\nL 67.561647 207.427657 \r\nL 67.608715 207.103071 \r\nL 67.70285 206.994876 \r\nL 67.773452 206.778486 \r\nL 67.867587 206.67029 \r\nL 67.961723 206.129314 \r\nL 68.00879 206.021119 \r\nL 68.055858 205.371947 \r\nL 68.338265 205.263752 \r\nL 68.4324 204.939166 \r\nL 68.479468 204.939166 \r\nL 68.526536 204.61458 \r\nL 68.597137 204.61458 \r\nL 68.691273 204.289995 \r\nL 68.785408 204.181799 \r\nL 68.879544 203.640823 \r\nL 68.997213 203.640823 \r\nL 69.091349 203.208042 \r\nL 69.209018 203.099847 \r\nL 69.303154 202.775261 \r\nL 69.350221 202.667066 \r\nL 69.350221 202.450675 \r\nL 69.679696 202.34248 \r\nL 69.726763 202.017894 \r\nL 69.915034 202.017894 \r\nL 69.915034 201.801504 \r\nL 70.079772 201.693309 \r\nL 70.173907 201.260528 \r\nL 70.244509 201.152332 \r\nL 70.31511 200.611356 \r\nL 70.43278 200.611356 \r\nL 70.456314 200.28677 \r\nL 70.573983 200.28677 \r\nL 70.621051 199.853989 \r\nL 70.809322 199.745794 \r\nL 70.879923 199.421208 \r\nL 71.068194 199.313013 \r\nL 71.115262 198.880232 \r\nL 71.232932 198.772037 \r\nL 71.279999 198.555646 \r\nL 71.350601 198.555646 \r\nL 71.374135 198.231061 \r\nL 71.491804 198.231061 \r\nL 71.538872 197.365498 \r\nL 71.797745 197.257303 \r\nL 71.89188 197.040913 \r\nL 72.00955 196.932717 \r\nL 72.056617 196.499936 \r\nL 72.127219 196.499936 \r\nL 72.150753 195.95896 \r\nL 72.386092 195.850765 \r\nL 72.409625 195.309789 \r\nL 72.833235 195.201593 \r\nL 72.927371 194.660617 \r\nL 73.04504 194.660617 \r\nL 73.139176 193.795055 \r\nL 73.303913 193.68686 \r\nL 73.398048 193.254079 \r\nL 73.421582 193.254079 \r\nL 73.46865 192.821298 \r\nL 73.586319 192.713103 \r\nL 73.680455 192.172126 \r\nL 73.915794 192.063931 \r\nL 73.986395 191.847541 \r\nL 74.104065 191.739345 \r\nL 74.174666 191.306564 \r\nL 74.268802 191.306564 \r\nL 74.362937 190.765588 \r\nL 74.645344 190.657393 \r\nL 74.692412 190.008221 \r\nL 74.810081 189.900026 \r\nL 74.880683 189.57544 \r\nL 74.998352 189.467245 \r\nL 75.021886 189.142659 \r\nL 75.186623 189.034464 \r\nL 75.210157 188.818073 \r\nL 75.327826 188.818073 \r\nL 75.374894 188.277097 \r\nL 75.798504 188.168902 \r\nL 75.798504 188.060707 \r\nL 76.104444 188.060707 \r\nL 76.104444 187.844316 \r\nL 76.339783 187.736121 \r\nL 76.363317 187.51973 \r\nL 76.692791 187.411535 \r\nL 76.692791 187.30334 \r\nL 76.857528 187.30334 \r\nL 76.92813 186.870559 \r\nL 76.975198 186.870559 \r\nL 77.045799 186.545973 \r\nL 77.257604 186.437778 \r\nL 77.304672 186.004997 \r\nL 77.375274 186.004997 \r\nL 77.469409 185.464021 \r\nL 77.492943 185.464021 \r\nL 77.540011 185.139435 \r\nL 78.08129 185.03124 \r\nL 78.151892 184.706654 \r\nL 78.269561 184.598459 \r\nL 78.269561 184.382068 \r\nL 78.457832 184.273873 \r\nL 78.551967 183.732897 \r\nL 78.622569 183.732897 \r\nL 78.622569 183.516506 \r\nL 78.881442 183.408311 \r\nL 78.952043 183.19192 \r\nL 79.187382 183.19192 \r\nL 79.281518 182.650944 \r\nL 79.493323 182.542749 \r\nL 79.516856 182.326358 \r\nL 79.634526 182.218163 \r\nL 79.634526 181.893577 \r\nL 79.916932 181.785382 \r\nL 79.940466 181.568992 \r\nL 80.269941 181.460796 \r\nL 80.269941 181.352601 \r\nL 80.434678 181.244406 \r\nL 80.505279 180.595234 \r\nL 80.670016 180.487039 \r\nL 80.69355 180.270649 \r\nL 81.023025 180.270649 \r\nL 81.11716 179.296891 \r\nL 81.211296 179.188696 \r\nL 81.305431 178.86411 \r\nL 81.446634 178.755915 \r\nL 81.493702 178.431329 \r\nL 81.611372 178.431329 \r\nL 81.705507 177.673962 \r\nL 81.799643 177.565767 \r\nL 81.870244 177.349377 \r\nL 82.058515 177.241181 \r\nL 82.152651 176.700205 \r\nL 82.199718 176.59201 \r\nL 82.223252 176.375619 \r\nL 82.576261 176.267424 \r\nL 82.623328 176.051034 \r\nL 83.070472 175.942838 \r\nL 83.070472 175.834643 \r\nL 83.352878 175.726448 \r\nL 83.352878 175.618253 \r\nL 83.588217 175.510057 \r\nL 83.658819 175.185472 \r\nL 83.84709 175.077276 \r\nL 83.941225 174.860886 \r\nL 83.988293 174.752691 \r\nL 84.082429 174.31991 \r\nL 84.200098 174.31991 \r\nL 84.294234 173.778933 \r\nL 84.364835 173.778933 \r\nL 84.411903 173.346152 \r\nL 84.482505 173.346152 \r\nL 84.482505 173.129762 \r\nL 84.670776 173.021567 \r\nL 84.717843 172.805176 \r\nL 84.859047 172.805176 \r\nL 84.953182 172.2642 \r\nL 85.376792 172.156005 \r\nL 85.470927 171.723224 \r\nL 85.635665 171.723224 \r\nL 85.7298 171.290443 \r\nL 85.800402 171.290443 \r\nL 85.847469 170.857661 \r\nL 85.918071 170.857661 \r\nL 86.012207 170.42488 \r\nL 86.082808 170.316685 \r\nL 86.082808 170.20849 \r\nL 86.388749 170.100295 \r\nL 86.45935 169.883904 \r\nL 86.600554 169.775709 \r\nL 86.600554 169.667514 \r\nL 86.765291 169.559318 \r\nL 86.765291 169.451123 \r\nL 86.906494 169.342928 \r\nL 86.906494 169.234733 \r\nL 87.094765 169.126537 \r\nL 87.1889 168.801952 \r\nL 87.283036 168.801952 \r\nL 87.377172 168.260975 \r\nL 87.494841 168.15278 \r\nL 87.518375 167.93639 \r\nL 87.777247 167.828194 \r\nL 87.871383 167.287218 \r\nL 88.106722 167.179023 \r\nL 88.106722 167.070828 \r\nL 88.224391 167.070828 \r\nL 88.318527 166.638047 \r\nL 88.45973 166.529851 \r\nL 88.530332 166.313461 \r\nL 88.695069 166.205266 \r\nL 88.718603 165.988875 \r\nL 88.859806 165.988875 \r\nL 88.953941 165.664289 \r\nL 88.977475 165.664289 \r\nL 89.071611 165.231508 \r\nL 89.306949 165.123313 \r\nL 89.401085 164.798727 \r\nL 89.424619 164.798727 \r\nL 89.471687 164.041361 \r\nL 89.989432 163.933165 \r\nL 90.060034 163.716775 \r\nL 90.201237 163.716775 \r\nL 90.295372 163.392189 \r\nL 90.695448 163.283994 \r\nL 90.695448 163.175799 \r\nL 90.860185 163.067603 \r\nL 90.954321 162.526627 \r\nL 91.095524 162.418432 \r\nL 91.166126 162.093846 \r\nL 91.236727 161.985651 \r\nL 91.330863 161.661065 \r\nL 91.424998 161.55287 \r\nL 91.4956 161.120089 \r\nL 91.754473 161.011893 \r\nL 91.80154 160.795503 \r\nL 91.966278 160.687308 \r\nL 91.966278 160.579112 \r\nL 92.389887 160.470917 \r\nL 92.484023 160.254527 \r\nL 92.601692 160.146331 \r\nL 92.601692 160.038136 \r\nL 92.837031 159.929941 \r\nL 92.931167 159.605355 \r\nL 93.001768 159.49716 \r\nL 93.001768 159.280769 \r\nL 93.472446 159.172574 \r\nL 93.519514 158.847988 \r\nL 93.731318 158.739793 \r\nL 93.80192 158.307012 \r\nL 94.10786 158.198817 \r\nL 94.154928 157.982426 \r\nL 94.319665 157.874231 \r\nL 94.319665 157.766036 \r\nL 94.625606 157.657841 \r\nL 94.719741 156.684083 \r\nL 94.837411 156.575888 \r\nL 94.908012 156.251302 \r\nL 94.95508 156.251302 \r\nL 94.978614 155.710326 \r\nL 95.072749 155.710326 \r\nL 95.143351 155.277545 \r\nL 95.37869 155.16935 \r\nL 95.425758 154.844764 \r\nL 95.919969 154.736569 \r\nL 95.967037 154.520178 \r\nL 96.625985 154.411983 \r\nL 96.696587 154.087397 \r\nL 97.073129 153.979202 \r\nL 97.120197 153.546421 \r\nL 97.308468 153.438226 \r\nL 97.308468 153.330031 \r\nL 97.614408 153.221835 \r\nL 97.68501 152.897249 \r\nL 97.967416 152.789054 \r\nL 98.038018 152.248078 \r\nL 98.249823 152.139883 \r\nL 98.296891 151.707102 \r\nL 98.579297 151.598906 \r\nL 98.649899 151.274321 \r\nL 98.932305 151.166125 \r\nL 98.979373 150.949735 \r\nL 99.167644 150.84154 \r\nL 99.214712 150.625149 \r\nL 99.332381 150.516954 \r\nL 99.332381 150.408759 \r\nL 99.661856 150.300563 \r\nL 99.661856 150.192368 \r\nL 100.156067 150.084173 \r\nL 100.156067 149.975978 \r\nL 100.29727 149.975978 \r\nL 100.344338 149.543197 \r\nL 100.485541 149.435001 \r\nL 100.579677 149.110416 \r\nL 100.603211 149.110416 \r\nL 100.603211 148.894025 \r\nL 100.956219 148.894025 \r\nL 100.956219 148.677635 \r\nL 101.262159 148.569439 \r\nL 101.356295 148.028463 \r\nL 101.473964 147.920268 \r\nL 101.5681 147.271096 \r\nL 101.638701 147.162901 \r\nL 101.732837 146.838315 \r\nL 102.062311 146.73012 \r\nL 102.085845 146.405534 \r\nL 102.203514 146.297339 \r\nL 102.29765 145.756363 \r\nL 102.368251 145.756363 \r\nL 102.391785 145.431777 \r\nL 102.838929 145.323582 \r\nL 102.838929 145.215387 \r\nL 103.003666 145.107191 \r\nL 103.003666 144.890801 \r\nL 103.286073 144.782606 \r\nL 103.286073 144.67441 \r\nL 103.403742 144.67441 \r\nL 103.474344 144.241629 \r\nL 103.592013 144.133434 \r\nL 103.615547 143.808848 \r\nL 103.992089 143.700653 \r\nL 104.086224 143.484262 \r\nL 104.227428 143.376067 \r\nL 104.321563 142.835091 \r\nL 104.439233 142.726896 \r\nL 104.439233 142.6187 \r\nL 104.556902 142.6187 \r\nL 104.651038 142.077724 \r\nL 104.956978 141.969529 \r\nL 104.956978 141.753138 \r\nL 105.309986 141.644943 \r\nL 105.357054 141.212162 \r\nL 105.521791 141.103967 \r\nL 105.545325 140.887576 \r\nL 105.733596 140.779381 \r\nL 105.733596 140.671186 \r\nL 106.157206 140.562991 \r\nL 106.251341 140.3466 \r\nL 106.580815 140.238405 \r\nL 106.651417 139.913819 \r\nL 106.722019 139.805624 \r\nL 106.722019 139.697429 \r\nL 107.027959 139.589233 \r\nL 107.098561 139.264648 \r\nL 107.239764 139.156452 \r\nL 107.263298 138.831867 \r\nL 107.686908 138.723671 \r\nL 107.781043 138.29089 \r\nL 107.875179 138.29089 \r\nL 107.875179 137.966305 \r\nL 108.228187 137.858109 \r\nL 108.228187 137.749914 \r\nL 108.439992 137.641719 \r\nL 108.439992 137.533524 \r\nL 109.146008 137.425328 \r\nL 109.193076 137.100743 \r\nL 109.546084 136.992547 \r\nL 109.593152 136.776157 \r\nL 109.969694 136.667962 \r\nL 109.969694 136.559766 \r\nL 110.558041 136.451571 \r\nL 110.628642 136.126985 \r\nL 110.699244 136.01879 \r\nL 110.699244 135.910595 \r\nL 111.052252 135.8024 \r\nL 111.09932 135.477814 \r\nL 111.334659 135.477814 \r\nL 111.428794 135.045033 \r\nL 111.664133 134.936837 \r\nL 111.758268 134.720447 \r\nL 111.875938 134.612252 \r\nL 111.970073 134.287666 \r\nL 112.440751 134.179471 \r\nL 112.487819 133.96308 \r\nL 112.629022 133.854885 \r\nL 112.629022 133.530299 \r\nL 113.052632 133.422104 \r\nL 113.052632 133.313909 \r\nL 113.382106 133.205713 \r\nL 113.382106 133.097518 \r\nL 113.593911 132.989323 \r\nL 113.640979 132.664737 \r\nL 114.441131 132.556542 \r\nL 114.488198 132.231956 \r\nL 114.723537 132.123761 \r\nL 114.794139 131.90737 \r\nL 115.311884 131.799175 \r\nL 115.382486 131.582785 \r\nL 115.806095 131.474589 \r\nL 115.853163 131.258199 \r\nL 116.370908 131.150004 \r\nL 116.370908 131.041808 \r\nL 116.818052 131.041808 \r\nL 116.818052 130.825418 \r\nL 117.100459 130.717223 \r\nL 117.194594 130.392637 \r\nL 117.477001 130.284442 \r\nL 117.571136 129.851661 \r\nL 117.806475 129.743465 \r\nL 117.830009 129.527075 \r\nL 118.677228 129.41888 \r\nL 118.74783 129.094294 \r\nL 118.865499 128.986099 \r\nL 118.912567 128.661513 \r\nL 119.17144 128.553318 \r\nL 119.17144 128.445122 \r\nL 119.500914 128.336927 \r\nL 119.500914 128.228732 \r\nL 119.924524 128.120537 \r\nL 119.995126 127.795951 \r\nL 120.301066 127.687756 \r\nL 120.3246 127.36317 \r\nL 120.418735 127.36317 \r\nL 120.418735 127.146779 \r\nL 121.077684 127.038584 \r\nL 121.077684 126.930389 \r\nL 121.289489 126.822194 \r\nL 121.383624 126.497608 \r\nL 121.430692 126.497608 \r\nL 121.524828 125.956631 \r\nL 121.971971 125.848436 \r\nL 121.971971 125.740241 \r\nL 122.324979 125.632046 \r\nL 122.324979 125.52385 \r\nL 122.677988 125.415655 \r\nL 122.677988 125.199265 \r\nL 123.242801 125.091069 \r\nL 123.289868 124.874679 \r\nL 123.619343 124.766484 \r\nL 123.689944 124.225507 \r\nL 123.972351 124.117312 \r\nL 123.995885 123.900922 \r\nL 124.560698 123.792726 \r\nL 124.560698 123.684531 \r\nL 124.913706 123.576336 \r\nL 125.007841 123.25175 \r\nL 125.384384 123.143555 \r\nL 125.384384 122.927164 \r\nL 125.760926 122.818969 \r\nL 125.831527 122.602579 \r\nL 126.466942 122.494383 \r\nL 126.490476 122.277993 \r\nL 126.655213 122.169798 \r\nL 126.678747 121.953407 \r\nL 126.796416 121.845212 \r\nL 126.843484 121.628821 \r\nL 126.984687 121.628821 \r\nL 127.031755 121.304236 \r\nL 127.66717 121.19604 \r\nL 127.66717 121.087845 \r\nL 128.090779 120.97965 \r\nL 128.137847 120.655064 \r\nL 128.349652 120.546869 \r\nL 128.443788 119.897697 \r\nL 128.82033 119.789502 \r\nL 128.82033 119.681307 \r\nL 128.961533 119.681307 \r\nL 128.985067 119.248526 \r\nL 129.196872 119.140331 \r\nL 129.291007 118.815745 \r\nL 129.455744 118.70755 \r\nL 129.455744 118.599354 \r\nL 130.27943 118.491159 \r\nL 130.326498 118.274769 \r\nL 130.561837 118.274769 \r\nL 130.561837 118.058378 \r\nL 130.773641 117.950183 \r\nL 130.820709 117.733792 \r\nL 131.361988 117.625597 \r\nL 131.361988 117.517402 \r\nL 131.550259 117.409207 \r\nL 131.550259 117.301011 \r\nL 131.903268 117.192816 \r\nL 131.973869 116.86823 \r\nL 132.303343 116.760035 \r\nL 132.350411 116.543644 \r\nL 132.656352 116.435449 \r\nL 132.656352 116.219059 \r\nL 133.362368 116.110863 \r\nL 133.362368 115.786278 \r\nL 133.668308 115.678082 \r\nL 133.668308 115.353497 \r\nL 134.209588 115.245301 \r\nL 134.303723 114.920716 \r\nL 134.58613 114.81252 \r\nL 134.58613 114.704325 \r\nL 134.774401 114.59613 \r\nL 134.774401 114.487935 \r\nL 135.033273 114.379739 \r\nL 135.033273 114.271544 \r\nL 135.527485 114.163349 \r\nL 135.62162 113.838763 \r\nL 135.833425 113.838763 \r\nL 135.927561 113.514177 \r\nL 136.398238 113.405982 \r\nL 136.398238 113.297787 \r\nL 136.680645 113.189592 \r\nL 136.751246 112.865006 \r\nL 137.080721 112.756811 \r\nL 137.080721 112.648615 \r\nL 137.410195 112.54042 \r\nL 137.50433 112.215834 \r\nL 137.786737 112.107639 \r\nL 137.833805 111.891249 \r\nL 138.304482 111.783053 \r\nL 138.35155 111.458468 \r\nL 138.869295 111.350272 \r\nL 138.869295 111.242077 \r\nL 139.010499 111.133882 \r\nL 139.057566 110.701101 \r\nL 139.19877 110.701101 \r\nL 139.19877 110.48471 \r\nL 139.528244 110.376515 \r\nL 139.528244 110.26832 \r\nL 139.881252 110.160125 \r\nL 139.881252 110.051929 \r\nL 140.045989 110.051929 \r\nL 140.045989 109.835539 \r\nL 140.398997 109.727344 \r\nL 140.398997 109.619148 \r\nL 140.65787 109.510953 \r\nL 140.65787 109.402758 \r\nL 141.246217 109.294563 \r\nL 141.246217 109.186367 \r\nL 141.787496 109.078172 \r\nL 141.881632 108.861782 \r\nL 142.093436 108.753586 \r\nL 142.093436 108.645391 \r\nL 142.258174 108.537196 \r\nL 142.258174 108.429001 \r\nL 142.634716 108.320805 \r\nL 142.634716 108.21261 \r\nL 142.940656 108.104415 \r\nL 142.987724 107.888024 \r\nL 143.317198 107.779829 \r\nL 143.3878 107.455243 \r\nL 143.646672 107.347048 \r\nL 143.740808 106.914267 \r\nL 143.999681 106.806072 \r\nL 144.070282 106.589681 \r\nL 144.187952 106.589681 \r\nL 144.187952 106.373291 \r\nL 144.776298 106.265095 \r\nL 144.870434 105.94051 \r\nL 144.96457 105.94051 \r\nL 144.96457 105.724119 \r\nL 145.505849 105.615924 \r\nL 145.505849 105.399533 \r\nL 146.00006 105.291338 \r\nL 146.00006 105.183143 \r\nL 146.211865 105.074948 \r\nL 146.306001 104.750362 \r\nL 146.823746 104.642167 \r\nL 146.823746 104.533971 \r\nL 147.012017 104.425776 \r\nL 147.035551 104.209386 \r\nL 147.388559 104.10119 \r\nL 147.435627 103.776605 \r\nL 148.118109 103.668409 \r\nL 148.118109 103.560214 \r\nL 148.777058 103.452019 \r\nL 148.824125 103.235628 \r\nL 148.965329 103.127433 \r\nL 149.012396 102.802847 \r\nL 149.365405 102.694652 \r\nL 149.365405 102.478262 \r\nL 149.76548 102.370066 \r\nL 149.76548 102.261871 \r\nL 150.000819 102.153676 \r\nL 150.094955 101.937285 \r\nL 150.447963 101.82909 \r\nL 150.447963 101.720895 \r\nL 150.6127 101.6127 \r\nL 150.706836 101.288114 \r\nL 150.848039 101.179919 \r\nL 150.848039 101.071723 \r\nL 151.03631 100.963528 \r\nL 151.059844 100.747138 \r\nL 151.318716 100.638942 \r\nL 151.389318 100.422552 \r\nL 151.648191 100.314357 \r\nL 151.695258 100.097966 \r\nL 151.907063 99.989771 \r\nL 151.907063 99.881576 \r\nL 152.095334 99.881576 \r\nL 152.118868 99.55699 \r\nL 152.518944 99.448795 \r\nL 152.542478 99.232404 \r\nL 152.824885 99.124209 \r\nL 152.824885 99.016013 \r\nL 153.036689 98.907818 \r\nL 153.036689 98.799623 \r\nL 153.719172 98.691428 \r\nL 153.719172 98.475037 \r\nL 154.166316 98.366842 \r\nL 154.166316 98.258647 \r\nL 154.331053 98.150451 \r\nL 154.401654 97.825866 \r\nL 154.589925 97.71767 \r\nL 154.589925 97.609475 \r\nL 155.084137 97.50128 \r\nL 155.178272 97.176694 \r\nL 155.437145 97.176694 \r\nL 155.437145 96.960304 \r\nL 156.001958 96.852108 \r\nL 156.096094 96.635718 \r\nL 156.331432 96.527523 \r\nL 156.425568 96.311132 \r\nL 156.68444 96.202937 \r\nL 156.68444 96.094742 \r\nL 156.849178 95.986546 \r\nL 156.943313 95.770156 \r\nL 157.084516 95.661961 \r\nL 157.155118 95.44557 \r\nL 157.366923 95.337375 \r\nL 157.366923 95.22918 \r\nL 157.53166 95.120984 \r\nL 157.53166 95.012789 \r\nL 157.672863 95.012789 \r\nL 157.672863 94.796399 \r\nL 158.26121 94.688203 \r\nL 158.355346 94.471813 \r\nL 159.061362 94.363618 \r\nL 159.061362 94.255422 \r\nL 159.437904 94.147227 \r\nL 159.53204 93.930837 \r\nL 159.673243 93.822641 \r\nL 159.673243 93.714446 \r\nL 159.955649 93.606251 \r\nL 159.955649 93.498056 \r\nL 160.14392 93.38986 \r\nL 160.14392 93.281665 \r\nL 160.873471 93.17347 \r\nL 160.873471 93.065275 \r\nL 161.085276 92.957079 \r\nL 161.085276 92.848884 \r\nL 161.532419 92.740689 \r\nL 161.532419 92.632494 \r\nL 161.861893 92.524298 \r\nL 161.861893 92.416103 \r\nL 162.285503 92.307908 \r\nL 162.356105 92.091517 \r\nL 162.779715 91.983322 \r\nL 162.779715 91.875127 \r\nL 163.132723 91.766932 \r\nL 163.132723 91.658736 \r\nL 164.14468 91.550541 \r\nL 164.14468 91.442346 \r\nL 164.662425 91.334151 \r\nL 164.662425 91.225955 \r\nL 165.627314 91.11776 \r\nL 165.627314 91.009565 \r\nL 166.02739 90.90137 \r\nL 166.097991 90.468589 \r\nL 166.75694 90.360393 \r\nL 166.75694 90.252198 \r\nL 166.992279 90.144003 \r\nL 166.992279 90.035807 \r\nL 167.251151 89.927612 \r\nL 167.251151 89.819417 \r\nL 167.48649 89.711222 \r\nL 167.533558 89.494831 \r\nL 167.651227 89.494831 \r\nL 167.651227 89.278441 \r\nL 168.051303 89.170245 \r\nL 168.074837 88.953855 \r\nL 168.592582 88.84566 \r\nL 168.592582 88.737464 \r\nL 169.039726 88.737464 \r\nL 169.110328 88.304683 \r\nL 169.251531 88.196488 \r\nL 169.251531 88.088293 \r\nL 169.957547 87.980098 \r\nL 169.957547 87.871902 \r\nL 170.381157 87.763707 \r\nL 170.381157 87.655512 \r\nL 170.969504 87.547317 \r\nL 171.040106 87.114536 \r\nL 171.204843 87.00634 \r\nL 171.275444 86.78995 \r\nL 171.487249 86.681755 \r\nL 171.534317 86.465364 \r\nL 171.887325 86.357169 \r\nL 171.957927 86.140778 \r\nL 172.263867 86.032583 \r\nL 172.310935 85.816193 \r\nL 172.546274 85.707997 \r\nL 172.546274 85.599802 \r\nL 172.875748 85.491607 \r\nL 172.875748 85.383412 \r\nL 173.040485 85.383412 \r\nL 173.040485 84.950631 \r\nL 173.487629 84.842435 \r\nL 173.558231 84.626045 \r\nL 174.240713 84.51785 \r\nL 174.240713 84.409654 \r\nL 174.805526 84.409654 \r\nL 174.852594 84.085069 \r\nL 175.511542 83.976873 \r\nL 175.511542 83.868678 \r\nL 175.935152 83.760483 \r\nL 175.935152 83.652288 \r\nL 176.146957 83.544092 \r\nL 176.170491 83.219507 \r\nL 177.111846 83.111311 \r\nL 177.205982 82.786726 \r\nL 177.323651 82.67853 \r\nL 177.370719 82.46214 \r\nL 177.653125 82.353945 \r\nL 177.653125 82.245749 \r\nL 177.959066 82.137554 \r\nL 178.053201 81.812968 \r\nL 178.876887 81.704773 \r\nL 178.876887 81.596578 \r\nL 179.700573 81.488383 \r\nL 179.74764 81.163797 \r\nL 180.312453 81.055601 \r\nL 180.359521 80.731016 \r\nL 180.877266 80.62282 \r\nL 180.9008 80.298235 \r\nL 181.253808 80.190039 \r\nL 181.347944 79.973649 \r\nL 181.489147 79.973649 \r\nL 181.489147 79.757258 \r\nL 182.265765 79.649063 \r\nL 182.289299 79.432673 \r\nL 183.771933 79.324477 \r\nL 183.771933 79.216282 \r\nL 184.548551 79.108087 \r\nL 184.548551 78.999892 \r\nL 184.995695 78.891696 \r\nL 185.08983 78.675306 \r\nL 185.960584 78.567111 \r\nL 186.007652 78.35072 \r\nL 186.266524 78.242525 \r\nL 186.337126 77.809744 \r\nL 187.537354 77.701549 \r\nL 187.537354 77.593353 \r\nL 188.008031 77.485158 \r\nL 188.078633 77.268768 \r\nL 188.431641 77.160572 \r\nL 188.431641 77.052377 \r\nL 188.784649 76.944182 \r\nL 188.878785 76.727791 \r\nL 189.067056 76.727791 \r\nL 189.161191 76.29501 \r\nL 190.149614 76.186815 \r\nL 190.149614 76.07862 \r\nL 190.384953 75.970425 \r\nL 190.384953 75.862229 \r\nL 190.761495 75.754034 \r\nL 190.761495 75.645839 \r\nL 191.043901 75.537644 \r\nL 191.043901 75.429448 \r\nL 191.820519 75.321253 \r\nL 191.820519 75.213058 \r\nL 192.738341 75.104863 \r\nL 192.738341 74.996667 \r\nL 193.656162 74.888472 \r\nL 193.656162 74.780277 \r\nL 194.197441 74.780277 \r\nL 194.197441 74.563886 \r\nL 195.021127 74.455691 \r\nL 195.091728 74.239301 \r\nL 195.491804 74.131105 \r\nL 195.562406 73.80652 \r\nL 195.609474 73.80652 \r\nL 195.609474 73.590129 \r\nL 196.150753 73.481934 \r\nL 196.174287 73.157348 \r\nL 197.139176 73.049153 \r\nL 197.139176 72.832762 \r\nL 197.492184 72.724567 \r\nL 197.492184 72.616372 \r\nL 197.727523 72.508177 \r\nL 197.727523 72.399981 \r\nL 198.268802 72.291786 \r\nL 198.268802 72.183591 \r\nL 199.539631 72.075395 \r\nL 199.633767 71.75081 \r\nL 199.892639 71.642614 \r\nL 199.892639 71.534419 \r\nL 200.292715 71.426224 \r\nL 200.292715 71.318029 \r\nL 200.480986 71.209833 \r\nL 200.575122 70.885248 \r\nL 201.257604 70.777052 \r\nL 201.35174 70.560662 \r\nL 201.728282 70.452467 \r\nL 201.77535 70.127881 \r\nL 202.034222 70.019686 \r\nL 202.034222 69.91149 \r\nL 203.093247 69.803295 \r\nL 203.093247 69.6951 \r\nL 203.610992 69.586905 \r\nL 203.610992 69.478709 \r\nL 204.269941 69.370514 \r\nL 204.269941 69.262319 \r\nL 204.81122 69.154124 \r\nL 204.81122 69.045928 \r\nL 205.164228 68.937733 \r\nL 205.164228 68.829538 \r\nL 206.246786 68.721343 \r\nL 206.246786 68.613147 \r\nL 207.023404 68.504952 \r\nL 207.023404 68.288562 \r\nL 207.376412 68.180366 \r\nL 207.376412 68.072171 \r\nL 208.317767 67.963976 \r\nL 208.364835 67.63939 \r\nL 208.764911 67.531195 \r\nL 208.859047 67.314804 \r\nL 209.753334 67.206609 \r\nL 209.753334 67.098414 \r\nL 210.671155 66.990219 \r\nL 210.671155 66.882023 \r\nL 210.859426 66.882023 \r\nL 210.859426 66.665633 \r\nL 211.400705 66.557438 \r\nL 211.494841 66.341047 \r\nL 211.683112 66.232852 \r\nL 211.683112 66.124657 \r\nL 212.224391 66.016461 \r\nL 212.271459 65.800071 \r\nL 212.76567 65.691876 \r\nL 212.836272 65.475485 \r\nL 213.330483 65.36729 \r\nL 213.330483 65.042704 \r\nL 214.060034 64.934509 \r\nL 214.107101 64.718118 \r\nL 214.789584 64.609923 \r\nL 214.789584 64.501728 \r\nL 215.825074 64.393533 \r\nL 215.825074 64.285337 \r\nL 216.131015 64.177142 \r\nL 216.131015 64.068947 \r\nL 216.531091 63.960752 \r\nL 216.531091 63.852556 \r\nL 216.860565 63.744361 \r\nL 216.860565 63.636166 \r\nL 217.943123 63.52797 \r\nL 217.943123 63.419775 \r\nL 218.602072 63.31158 \r\nL 218.602072 63.095189 \r\nL 219.002148 63.095189 \r\nL 219.049216 62.770604 \r\nL 219.708164 62.662408 \r\nL 219.708164 62.554213 \r\nL 220.673053 62.446018 \r\nL 220.673053 62.337823 \r\nL 220.814256 62.337823 \r\nL 220.814256 62.121432 \r\nL 220.95546 62.121432 \r\nL 220.95546 61.905042 \r\nL 221.68501 61.796846 \r\nL 221.779145 61.580456 \r\nL 222.061552 61.472261 \r\nL 222.061552 61.25587 \r\nL 222.532229 61.147675 \r\nL 222.532229 61.03948 \r\nL 223.355915 60.931284 \r\nL 223.355915 60.823089 \r\nL 223.779525 60.714894 \r\nL 223.779525 60.606699 \r\nL 224.203135 60.498503 \r\nL 224.203135 60.390308 \r\nL 224.367872 60.390308 \r\nL 224.462007 60.065722 \r\nL 225.191558 59.957527 \r\nL 225.191558 59.849332 \r\nL 225.991709 59.741137 \r\nL 226.038777 59.308356 \r\nL 227.144869 59.20016 \r\nL 227.144869 59.091965 \r\nL 227.403742 58.98377 \r\nL 227.403742 58.875575 \r\nL 227.709682 58.767379 \r\nL 227.709682 58.659184 \r\nL 228.015623 58.550989 \r\nL 228.015623 58.442794 \r\nL 228.556902 58.334598 \r\nL 228.556902 58.226403 \r\nL 228.745173 58.226403 \r\nL 228.745173 58.010013 \r\nL 229.286452 57.901817 \r\nL 229.357054 57.577232 \r\nL 229.780664 57.469036 \r\nL 229.827731 57.252646 \r\nL 230.086604 57.144451 \r\nL 230.086604 57.036255 \r\nL 230.298409 56.92806 \r\nL 230.298409 56.819865 \r\nL 230.651417 56.71167 \r\nL 230.698485 56.495279 \r\nL 231.075027 56.495279 \r\nL 231.075027 56.278889 \r\nL 231.475103 56.170693 \r\nL 231.475103 56.062498 \r\nL 232.181119 55.954303 \r\nL 232.275255 55.737912 \r\nL 232.745932 55.629717 \r\nL 232.745932 55.521522 \r\nL 233.028339 55.521522 \r\nL 233.028339 55.305131 \r\nL 233.499016 55.196936 \r\nL 233.499016 54.980546 \r\nL 233.852024 54.87235 \r\nL 233.852024 54.764155 \r\nL 234.134431 54.65596 \r\nL 234.134431 54.547764 \r\nL 234.769846 54.439569 \r\nL 234.769846 54.331374 \r\nL 236.67609 54.223179 \r\nL 236.67609 54.114983 \r\nL 237.358572 54.006788 \r\nL 237.358572 53.898593 \r\nL 237.640979 53.790398 \r\nL 237.640979 53.682202 \r\nL 238.582334 53.574007 \r\nL 238.605868 53.357617 \r\nL 239.806095 53.249421 \r\nL 239.806095 53.141226 \r\nL 240.629781 53.033031 \r\nL 240.629781 52.924836 \r\nL 240.982789 52.81664 \r\nL 240.982789 52.708445 \r\nL 241.453467 52.60025 \r\nL 241.477001 52.383859 \r\nL 241.688806 52.275664 \r\nL 241.712339 52.059274 \r\nL 242.01828 52.059274 \r\nL 242.01828 51.842883 \r\nL 242.418356 51.734688 \r\nL 242.418356 51.626493 \r\nL 244.512871 51.518297 \r\nL 244.512871 51.410102 \r\nL 245.90137 51.301907 \r\nL 245.995505 50.869126 \r\nL 246.066107 50.869126 \r\nL 246.066107 50.652735 \r\nL 246.395581 50.54454 \r\nL 246.395581 50.436345 \r\nL 246.772123 50.32815 \r\nL 246.842725 50.111759 \r\nL 248.254757 50.003564 \r\nL 248.254757 49.895369 \r\nL 248.631299 49.895369 \r\nL 248.701901 49.570783 \r\nL 249.266714 49.462588 \r\nL 249.337316 49.138002 \r\nL 250.466942 49.029807 \r\nL 250.466942 48.921611 \r\nL 250.584611 48.921611 \r\nL 250.584611 48.705221 \r\nL 251.620102 48.597026 \r\nL 251.643636 48.380635 \r\nL 252.067246 48.27244 \r\nL 252.067246 48.056049 \r\nL 253.079202 47.947854 \r\nL 253.079202 47.839659 \r\nL 253.573414 47.839659 \r\nL 253.573414 47.623268 \r\nL 254.302964 47.515073 \r\nL 254.326498 47.190487 \r\nL 255.879734 47.082292 \r\nL 255.903268 46.865902 \r\nL 256.679886 46.757706 \r\nL 256.679886 46.649511 \r\nL 257.43297 46.541316 \r\nL 257.43297 46.433121 \r\nL 258.021317 46.324925 \r\nL 258.021317 46.21673 \r\nL 259.268612 46.108535 \r\nL 259.268612 46.00034 \r\nL 260.963051 45.892144 \r\nL 260.986585 45.675754 \r\nL 261.998542 45.567558 \r\nL 262.069143 45.351168 \r\nL 263.316439 45.242973 \r\nL 263.316439 45.134777 \r\nL 265.340352 45.026582 \r\nL 265.340352 44.918387 \r\nL 266.305241 44.810192 \r\nL 266.305241 44.701996 \r\nL 267.058325 44.593801 \r\nL 267.058325 44.485606 \r\nL 268.588027 44.377411 \r\nL 268.588027 44.269215 \r\nL 270.376602 44.16102 \r\nL 270.376602 44.052825 \r\nL 272.094575 43.94463 \r\nL 272.118109 43.728239 \r\nL 274.330294 43.620044 \r\nL 274.330294 43.511849 \r\nL 274.730369 43.403653 \r\nL 274.730369 43.295458 \r\nL 275.059844 43.187263 \r\nL 275.059844 43.079068 \r\nL 276.777817 42.970872 \r\nL 276.777817 42.862677 \r\nL 277.366164 42.754482 \r\nL 277.413231 42.538091 \r\nL 277.672104 42.429896 \r\nL 277.672104 42.321701 \r\nL 279.248874 42.213506 \r\nL 279.248874 42.10531 \r\nL 279.978424 41.997115 \r\nL 279.978424 41.88892 \r\nL 281.931736 41.780725 \r\nL 281.95527 41.564334 \r\nL 282.614218 41.456139 \r\nL 282.614218 41.347944 \r\nL 283.932116 41.239748 \r\nL 283.932116 41.131553 \r\nL 284.049785 41.131553 \r\nL 284.049785 40.915163 \r\nL 285.250013 40.806967 \r\nL 285.250013 40.698772 \r\nL 287.979942 40.590577 \r\nL 287.979942 40.482382 \r\nL 288.544755 40.374186 \r\nL 288.544755 40.265991 \r\nL 291.274685 40.157796 \r\nL 291.274685 40.049601 \r\nL 292.733786 39.941405 \r\nL 292.733786 39.83321 \r\nL 293.79281 39.725015 \r\nL 293.79281 39.61682 \r\nL 294.122284 39.508624 \r\nL 294.122284 39.400429 \r\nL 295.722588 39.292234 \r\nL 295.722588 39.184039 \r\nL 297.98184 39.075843 \r\nL 297.98184 38.967648 \r\nL 300.617635 38.859453 \r\nL 300.617635 38.751258 \r\nL 301.323651 38.643062 \r\nL 301.370719 38.426672 \r\nL 302.217938 38.318477 \r\nL 302.28854 38.102086 \r\nL 304.17125 37.993891 \r\nL 304.17125 37.885696 \r\nL 306.548172 37.7775 \r\nL 306.548172 37.669305 \r\nL 308.242611 37.56111 \r\nL 308.242611 37.452915 \r\nL 308.619153 37.344719 \r\nL 308.619153 37.236524 \r\nL 309.725245 37.128329 \r\nL 309.725245 37.020134 \r\nL 311.466752 36.911938 \r\nL 311.466752 36.803743 \r\nL 312.455175 36.695548 \r\nL 312.455175 36.587352 \r\nL 314.12608 36.479157 \r\nL 314.12608 36.370962 \r\nL 314.620292 36.370962 \r\nL 314.620292 36.154571 \r\nL 315.985257 36.154571 \r\nL 315.985257 35.938181 \r\nL 316.620671 35.829986 \r\nL 316.620671 35.72179 \r\nL 319.938948 35.613595 \r\nL 320.033083 35.397205 \r\nL 323.516097 35.289009 \r\nL 323.610233 35.072619 \r\nL 325.022265 34.964424 \r\nL 325.022265 34.856228 \r\nL 325.751816 34.748033 \r\nL 325.822417 34.531643 \r\nL 326.434298 34.531643 \r\nL 326.434298 34.315252 \r\nL 332.317767 34.207057 \r\nL 332.317767 34.098862 \r\nL 333.753334 33.990666 \r\nL 333.753334 33.882471 \r\nL 336.600933 33.774276 \r\nL 336.600933 33.666081 \r\nL 339.024923 33.557885 \r\nL 339.024923 33.44969 \r\nL 341.896056 33.341495 \r\nL 341.896056 33.2333 \r\nL 345.99095 33.125104 \r\nL 345.99095 33.016909 \r\nL 351.286073 32.908714 \r\nL 351.286073 32.800519 \r\nL 352.415699 32.692323 \r\nL 352.415699 32.584128 \r\nL 354.439612 32.475933 \r\nL 354.439612 32.367738 \r\nL 355.781043 32.259542 \r\nL 355.781043 32.151347 \r\nL 358.040295 32.043152 \r\nL 358.040295 31.934957 \r\nL 365.241662 31.826761 \r\nL 365.241662 31.826761 \r\n\" style=\"fill:none;stroke:#ff7f0e;stroke-linecap:round;stroke-width:1.75;\"/>\r\n   </g>\r\n   <g id=\"patch_3\">\r\n    <path d=\"M 45.659844 239.383125 \r\nL 45.659844 21.943125 \r\n\" style=\"fill:none;\"/>\r\n   </g>\r\n   <g id=\"patch_4\">\r\n    <path d=\"M 380.459844 239.383125 \r\nL 380.459844 21.943125 \r\n\" style=\"fill:none;\"/>\r\n   </g>\r\n   <g id=\"patch_5\">\r\n    <path d=\"M 45.659844 239.383125 \r\nL 380.459844 239.383125 \r\n\" style=\"fill:none;\"/>\r\n   </g>\r\n   <g id=\"patch_6\">\r\n    <path d=\"M 45.659844 21.943125 \r\nL 380.459844 21.943125 \r\n\" style=\"fill:none;\"/>\r\n   </g>\r\n   <g id=\"text_15\">\r\n    <!-- Logistic Regression ROC AUC = 0.74560 -->\r\n    <g style=\"fill:#262626;\" transform=\"translate(103.173594 15.943125)scale(0.12 -0.12)\">\r\n     <defs>\r\n      <path d=\"M 7.328125 0 \r\nL 7.328125 71.578125 \r\nL 16.796875 71.578125 \r\nL 16.796875 8.453125 \r\nL 52.046875 8.453125 \r\nL 52.046875 0 \r\nz\r\n\" id=\"ArialMT-76\"/>\r\n      <path d=\"M 4.984375 -4.296875 \r\nL 13.53125 -5.5625 \r\nQ 14.0625 -9.515625 16.5 -11.328125 \r\nQ 19.78125 -13.765625 25.4375 -13.765625 \r\nQ 31.546875 -13.765625 34.859375 -11.328125 \r\nQ 38.1875 -8.890625 39.359375 -4.5 \r\nQ 40.046875 -1.8125 39.984375 6.78125 \r\nQ 34.234375 0 25.640625 0 \r\nQ 14.9375 0 9.078125 7.71875 \r\nQ 3.21875 15.4375 3.21875 26.21875 \r\nQ 3.21875 33.640625 5.90625 39.90625 \r\nQ 8.59375 46.1875 13.6875 49.609375 \r\nQ 18.796875 53.03125 25.6875 53.03125 \r\nQ 34.859375 53.03125 40.828125 45.609375 \r\nL 40.828125 51.859375 \r\nL 48.921875 51.859375 \r\nL 48.921875 7.03125 \r\nQ 48.921875 -5.078125 46.453125 -10.125 \r\nQ 44 -15.1875 38.640625 -18.109375 \r\nQ 33.296875 -21.046875 25.484375 -21.046875 \r\nQ 16.21875 -21.046875 10.5 -16.875 \r\nQ 4.78125 -12.703125 4.984375 -4.296875 \r\nz\r\nM 12.25 26.859375 \r\nQ 12.25 16.65625 16.296875 11.96875 \r\nQ 20.359375 7.28125 26.46875 7.28125 \r\nQ 32.515625 7.28125 36.609375 11.9375 \r\nQ 40.71875 16.609375 40.71875 26.5625 \r\nQ 40.71875 36.078125 36.5 40.90625 \r\nQ 32.28125 45.75 26.3125 45.75 \r\nQ 20.453125 45.75 16.34375 40.984375 \r\nQ 12.25 36.234375 12.25 26.859375 \r\nz\r\n\" id=\"ArialMT-103\"/>\r\n      <path d=\"M 40.4375 19 \r\nL 49.078125 17.875 \r\nQ 47.65625 8.9375 41.8125 3.875 \r\nQ 35.984375 -1.171875 27.484375 -1.171875 \r\nQ 16.84375 -1.171875 10.375 5.78125 \r\nQ 3.90625 12.75 3.90625 25.734375 \r\nQ 3.90625 34.125 6.6875 40.421875 \r\nQ 9.46875 46.734375 15.15625 49.875 \r\nQ 20.84375 53.03125 27.546875 53.03125 \r\nQ 35.984375 53.03125 41.359375 48.75 \r\nQ 46.734375 44.484375 48.25 36.625 \r\nL 39.703125 35.296875 \r\nQ 38.484375 40.53125 35.375 43.15625 \r\nQ 32.28125 45.796875 27.875 45.796875 \r\nQ 21.234375 45.796875 17.078125 41.03125 \r\nQ 12.9375 36.28125 12.9375 25.984375 \r\nQ 12.9375 15.53125 16.9375 10.796875 \r\nQ 20.953125 6.0625 27.390625 6.0625 \r\nQ 32.5625 6.0625 36.03125 9.234375 \r\nQ 39.5 12.40625 40.4375 19 \r\nz\r\n\" id=\"ArialMT-99\"/>\r\n      <path d=\"M 6.59375 0 \r\nL 6.59375 51.859375 \r\nL 14.5 51.859375 \r\nL 14.5 44.484375 \r\nQ 20.21875 53.03125 31 53.03125 \r\nQ 35.6875 53.03125 39.625 51.34375 \r\nQ 43.5625 49.65625 45.515625 46.921875 \r\nQ 47.46875 44.1875 48.25 40.4375 \r\nQ 48.734375 37.984375 48.734375 31.890625 \r\nL 48.734375 0 \r\nL 39.9375 0 \r\nL 39.9375 31.546875 \r\nQ 39.9375 36.921875 38.90625 39.578125 \r\nQ 37.890625 42.234375 35.28125 43.8125 \r\nQ 32.671875 45.40625 29.15625 45.40625 \r\nQ 23.53125 45.40625 19.453125 41.84375 \r\nQ 15.375 38.28125 15.375 28.328125 \r\nL 15.375 0 \r\nz\r\n\" id=\"ArialMT-110\"/>\r\n      <path d=\"M 4.828125 34.859375 \r\nQ 4.828125 52.6875 14.390625 62.765625 \r\nQ 23.96875 72.859375 39.109375 72.859375 \r\nQ 49.03125 72.859375 56.984375 68.109375 \r\nQ 64.9375 63.375 69.109375 54.90625 \r\nQ 73.296875 46.4375 73.296875 35.6875 \r\nQ 73.296875 24.8125 68.890625 16.21875 \r\nQ 64.5 7.625 56.4375 3.203125 \r\nQ 48.390625 -1.21875 39.0625 -1.21875 \r\nQ 28.953125 -1.21875 20.984375 3.65625 \r\nQ 13.03125 8.546875 8.921875 16.984375 \r\nQ 4.828125 25.4375 4.828125 34.859375 \r\nz\r\nM 14.59375 34.71875 \r\nQ 14.59375 21.78125 21.546875 14.328125 \r\nQ 28.515625 6.890625 39.015625 6.890625 \r\nQ 49.703125 6.890625 56.609375 14.40625 \r\nQ 63.53125 21.921875 63.53125 35.75 \r\nQ 63.53125 44.484375 60.578125 51 \r\nQ 57.625 57.515625 51.921875 61.109375 \r\nQ 46.234375 64.703125 39.15625 64.703125 \r\nQ 29.109375 64.703125 21.84375 57.78125 \r\nQ 14.59375 50.875 14.59375 34.71875 \r\nz\r\n\" id=\"ArialMT-79\"/>\r\n      <path d=\"M 58.796875 25.09375 \r\nL 68.265625 22.703125 \r\nQ 65.28125 11.03125 57.546875 4.90625 \r\nQ 49.8125 -1.21875 38.625 -1.21875 \r\nQ 27.046875 -1.21875 19.796875 3.484375 \r\nQ 12.546875 8.203125 8.765625 17.140625 \r\nQ 4.984375 26.078125 4.984375 36.328125 \r\nQ 4.984375 47.515625 9.25 55.828125 \r\nQ 13.53125 64.15625 21.40625 68.46875 \r\nQ 29.296875 72.796875 38.765625 72.796875 \r\nQ 49.515625 72.796875 56.828125 67.328125 \r\nQ 64.15625 61.859375 67.046875 51.953125 \r\nL 57.71875 49.75 \r\nQ 55.21875 57.5625 50.484375 61.125 \r\nQ 45.75 64.703125 38.578125 64.703125 \r\nQ 30.328125 64.703125 24.78125 60.734375 \r\nQ 19.234375 56.78125 16.984375 50.109375 \r\nQ 14.75 43.453125 14.75 36.375 \r\nQ 14.75 27.25 17.40625 20.4375 \r\nQ 20.0625 13.625 25.671875 10.25 \r\nQ 31.296875 6.890625 37.84375 6.890625 \r\nQ 45.796875 6.890625 51.3125 11.46875 \r\nQ 56.84375 16.0625 58.796875 25.09375 \r\nz\r\n\" id=\"ArialMT-67\"/>\r\n      <path d=\"M -0.140625 0 \r\nL 27.34375 71.578125 \r\nL 37.546875 71.578125 \r\nL 66.84375 0 \r\nL 56.0625 0 \r\nL 47.703125 21.6875 \r\nL 17.78125 21.6875 \r\nL 9.90625 0 \r\nz\r\nM 20.515625 29.390625 \r\nL 44.78125 29.390625 \r\nL 37.3125 49.21875 \r\nQ 33.890625 58.25 32.234375 64.0625 \r\nQ 30.859375 57.171875 28.375 50.390625 \r\nz\r\n\" id=\"ArialMT-65\"/>\r\n      <path d=\"M 54.6875 71.578125 \r\nL 64.15625 71.578125 \r\nL 64.15625 30.21875 \r\nQ 64.15625 19.4375 61.71875 13.078125 \r\nQ 59.28125 6.734375 52.90625 2.75 \r\nQ 46.53125 -1.21875 36.1875 -1.21875 \r\nQ 26.125 -1.21875 19.71875 2.25 \r\nQ 13.328125 5.71875 10.59375 12.28125 \r\nQ 7.859375 18.84375 7.859375 30.21875 \r\nL 7.859375 71.578125 \r\nL 17.328125 71.578125 \r\nL 17.328125 30.28125 \r\nQ 17.328125 20.953125 19.0625 16.53125 \r\nQ 20.796875 12.109375 25.015625 9.71875 \r\nQ 29.25 7.328125 35.359375 7.328125 \r\nQ 45.796875 7.328125 50.234375 12.0625 \r\nQ 54.6875 16.796875 54.6875 30.28125 \r\nz\r\n\" id=\"ArialMT-85\"/>\r\n      <path d=\"M 52.828125 42.09375 \r\nL 5.5625 42.09375 \r\nL 5.5625 50.296875 \r\nL 52.828125 50.296875 \r\nz\r\nM 52.828125 20.359375 \r\nL 5.5625 20.359375 \r\nL 5.5625 28.5625 \r\nL 52.828125 28.5625 \r\nz\r\n\" id=\"ArialMT-61\"/>\r\n      <path d=\"M 4.734375 62.203125 \r\nL 4.734375 70.65625 \r\nL 51.078125 70.65625 \r\nL 51.078125 63.8125 \r\nQ 44.234375 56.546875 37.515625 44.484375 \r\nQ 30.8125 32.421875 27.15625 19.671875 \r\nQ 24.515625 10.6875 23.78125 0 \r\nL 14.75 0 \r\nQ 14.890625 8.453125 18.0625 20.40625 \r\nQ 21.234375 32.375 27.171875 43.484375 \r\nQ 33.109375 54.59375 39.796875 62.203125 \r\nz\r\n\" id=\"ArialMT-55\"/>\r\n      <path d=\"M 4.15625 18.75 \r\nL 13.375 19.53125 \r\nQ 14.40625 12.796875 18.140625 9.390625 \r\nQ 21.875 6 27.15625 6 \r\nQ 33.5 6 37.890625 10.78125 \r\nQ 42.28125 15.578125 42.28125 23.484375 \r\nQ 42.28125 31 38.0625 35.34375 \r\nQ 33.84375 39.703125 27 39.703125 \r\nQ 22.75 39.703125 19.328125 37.765625 \r\nQ 15.921875 35.84375 13.96875 32.765625 \r\nL 5.71875 33.84375 \r\nL 12.640625 70.609375 \r\nL 48.25 70.609375 \r\nL 48.25 62.203125 \r\nL 19.671875 62.203125 \r\nL 15.828125 42.96875 \r\nQ 22.265625 47.46875 29.34375 47.46875 \r\nQ 38.71875 47.46875 45.15625 40.96875 \r\nQ 51.609375 34.46875 51.609375 24.265625 \r\nQ 51.609375 14.546875 45.953125 7.46875 \r\nQ 39.0625 -1.21875 27.15625 -1.21875 \r\nQ 17.390625 -1.21875 11.203125 4.25 \r\nQ 5.03125 9.71875 4.15625 18.75 \r\nz\r\n\" id=\"ArialMT-53\"/>\r\n     </defs>\r\n     <use xlink:href=\"#ArialMT-76\"/>\r\n     <use x=\"55.615234\" xlink:href=\"#ArialMT-111\"/>\r\n     <use x=\"111.230469\" xlink:href=\"#ArialMT-103\"/>\r\n     <use x=\"166.845703\" xlink:href=\"#ArialMT-105\"/>\r\n     <use x=\"189.0625\" xlink:href=\"#ArialMT-115\"/>\r\n     <use x=\"239.0625\" xlink:href=\"#ArialMT-116\"/>\r\n     <use x=\"266.845703\" xlink:href=\"#ArialMT-105\"/>\r\n     <use x=\"289.0625\" xlink:href=\"#ArialMT-99\"/>\r\n     <use x=\"339.0625\" xlink:href=\"#ArialMT-32\"/>\r\n     <use x=\"366.845703\" xlink:href=\"#ArialMT-82\"/>\r\n     <use x=\"439.0625\" xlink:href=\"#ArialMT-101\"/>\r\n     <use x=\"494.677734\" xlink:href=\"#ArialMT-103\"/>\r\n     <use x=\"550.292969\" xlink:href=\"#ArialMT-114\"/>\r\n     <use x=\"583.59375\" xlink:href=\"#ArialMT-101\"/>\r\n     <use x=\"639.208984\" xlink:href=\"#ArialMT-115\"/>\r\n     <use x=\"689.208984\" xlink:href=\"#ArialMT-115\"/>\r\n     <use x=\"739.208984\" xlink:href=\"#ArialMT-105\"/>\r\n     <use x=\"761.425781\" xlink:href=\"#ArialMT-111\"/>\r\n     <use x=\"817.041016\" xlink:href=\"#ArialMT-110\"/>\r\n     <use x=\"872.65625\" xlink:href=\"#ArialMT-32\"/>\r\n     <use x=\"900.439453\" xlink:href=\"#ArialMT-82\"/>\r\n     <use x=\"972.65625\" xlink:href=\"#ArialMT-79\"/>\r\n     <use x=\"1050.439453\" xlink:href=\"#ArialMT-67\"/>\r\n     <use x=\"1122.65625\" xlink:href=\"#ArialMT-32\"/>\r\n     <use x=\"1144.939453\" xlink:href=\"#ArialMT-65\"/>\r\n     <use x=\"1211.638672\" xlink:href=\"#ArialMT-85\"/>\r\n     <use x=\"1283.855469\" xlink:href=\"#ArialMT-67\"/>\r\n     <use x=\"1356.072266\" xlink:href=\"#ArialMT-32\"/>\r\n     <use x=\"1383.855469\" xlink:href=\"#ArialMT-61\"/>\r\n     <use x=\"1442.253906\" xlink:href=\"#ArialMT-32\"/>\r\n     <use x=\"1470.037109\" xlink:href=\"#ArialMT-48\"/>\r\n     <use x=\"1525.652344\" xlink:href=\"#ArialMT-46\"/>\r\n     <use x=\"1553.435547\" xlink:href=\"#ArialMT-55\"/>\r\n     <use x=\"1609.050781\" xlink:href=\"#ArialMT-52\"/>\r\n     <use x=\"1664.666016\" xlink:href=\"#ArialMT-53\"/>\r\n     <use x=\"1720.28125\" xlink:href=\"#ArialMT-54\"/>\r\n     <use x=\"1775.896484\" xlink:href=\"#ArialMT-48\"/>\r\n    </g>\r\n   </g>\r\n   <g id=\"legend_1\">\r\n    <g id=\"line2d_27\">\r\n     <path d=\"M 292.881719 210.633125 \r\nL 312.881719 210.633125 \r\n\" style=\"fill:none;stroke:#1f77b4;stroke-dasharray:6.475,2.8;stroke-dashoffset:0;stroke-width:1.75;\"/>\r\n    </g>\r\n    <g id=\"line2d_28\"/>\r\n    <g id=\"text_16\">\r\n     <!-- Baseline -->\r\n     <g style=\"fill:#262626;\" transform=\"translate(320.881719 214.133125)scale(0.1 -0.1)\">\r\n      <defs>\r\n       <path d=\"M 7.328125 0 \r\nL 7.328125 71.578125 \r\nL 34.1875 71.578125 \r\nQ 42.390625 71.578125 47.34375 69.40625 \r\nQ 52.296875 67.234375 55.09375 62.71875 \r\nQ 57.90625 58.203125 57.90625 53.265625 \r\nQ 57.90625 48.6875 55.421875 44.625 \r\nQ 52.9375 40.578125 47.90625 38.09375 \r\nQ 54.390625 36.1875 57.875 31.59375 \r\nQ 61.375 27 61.375 20.75 \r\nQ 61.375 15.71875 59.25 11.390625 \r\nQ 57.125 7.078125 54 4.734375 \r\nQ 50.875 2.390625 46.15625 1.1875 \r\nQ 41.453125 0 34.625 0 \r\nz\r\nM 16.796875 41.5 \r\nL 32.28125 41.5 \r\nQ 38.578125 41.5 41.3125 42.328125 \r\nQ 44.921875 43.40625 46.75 45.890625 \r\nQ 48.578125 48.390625 48.578125 52.15625 \r\nQ 48.578125 55.71875 46.875 58.421875 \r\nQ 45.171875 61.140625 41.984375 62.140625 \r\nQ 38.8125 63.140625 31.109375 63.140625 \r\nL 16.796875 63.140625 \r\nz\r\nM 16.796875 8.453125 \r\nL 34.625 8.453125 \r\nQ 39.203125 8.453125 41.0625 8.796875 \r\nQ 44.34375 9.375 46.53125 10.734375 \r\nQ 48.734375 12.109375 50.140625 14.71875 \r\nQ 51.5625 17.328125 51.5625 20.75 \r\nQ 51.5625 24.75 49.515625 27.703125 \r\nQ 47.46875 30.671875 43.828125 31.859375 \r\nQ 40.1875 33.0625 33.34375 33.0625 \r\nL 16.796875 33.0625 \r\nz\r\n\" id=\"ArialMT-66\"/>\r\n      </defs>\r\n      <use xlink:href=\"#ArialMT-66\"/>\r\n      <use x=\"66.699219\" xlink:href=\"#ArialMT-97\"/>\r\n      <use x=\"122.314453\" xlink:href=\"#ArialMT-115\"/>\r\n      <use x=\"172.314453\" xlink:href=\"#ArialMT-101\"/>\r\n      <use x=\"227.929688\" xlink:href=\"#ArialMT-108\"/>\r\n      <use x=\"250.146484\" xlink:href=\"#ArialMT-105\"/>\r\n      <use x=\"272.363281\" xlink:href=\"#ArialMT-110\"/>\r\n      <use x=\"327.978516\" xlink:href=\"#ArialMT-101\"/>\r\n     </g>\r\n    </g>\r\n    <g id=\"line2d_29\">\r\n     <path d=\"M 292.881719 224.778437 \r\nL 312.881719 224.778437 \r\n\" style=\"fill:none;stroke:#ff7f0e;stroke-linecap:round;stroke-width:1.75;\"/>\r\n    </g>\r\n    <g id=\"line2d_30\"/>\r\n    <g id=\"text_17\">\r\n     <!-- Regression -->\r\n     <g style=\"fill:#262626;\" transform=\"translate(320.881719 228.278437)scale(0.1 -0.1)\">\r\n      <use xlink:href=\"#ArialMT-82\"/>\r\n      <use x=\"72.216797\" xlink:href=\"#ArialMT-101\"/>\r\n      <use x=\"127.832031\" xlink:href=\"#ArialMT-103\"/>\r\n      <use x=\"183.447266\" xlink:href=\"#ArialMT-114\"/>\r\n      <use x=\"216.748047\" xlink:href=\"#ArialMT-101\"/>\r\n      <use x=\"272.363281\" xlink:href=\"#ArialMT-115\"/>\r\n      <use x=\"322.363281\" xlink:href=\"#ArialMT-115\"/>\r\n      <use x=\"372.363281\" xlink:href=\"#ArialMT-105\"/>\r\n      <use x=\"394.580078\" xlink:href=\"#ArialMT-111\"/>\r\n      <use x=\"450.195312\" xlink:href=\"#ArialMT-110\"/>\r\n     </g>\r\n    </g>\r\n   </g>\r\n  </g>\r\n </g>\r\n <defs>\r\n  <clipPath id=\"p1cc85d755e\">\r\n   <rect height=\"217.44\" width=\"334.8\" x=\"45.659844\" y=\"21.943125\"/>\r\n  </clipPath>\r\n </defs>\r\n</svg>\r\n",
      "image/png": "[encoded data removed]"
     },
     "metadata": {
      "needs_background": "light"
     }
    },
    {
     "output_type": "stream",
     "name": "stdout",
     "text": "roc_auc=0.745602  C=1.9463099813601865   penalty=l2 solver=newton-cg\n[[12874    59]\n [ 1781    46]]\n"
    }
   ],
   "source": [
    "# C = 1\n",
    "# penalty = 'l2'\n",
    "# solver = 'newton-cg'\n",
    "\n",
    "# C = 1.4813022192790921\n",
    "# penalty = 'l1'\n",
    "# solver = 'liblinear'\n",
    "\n",
    "C = 1.9463099813601865\n",
    "penalty = 'l2'\n",
    "solver = 'newton-cg'\n",
    "\n",
    "model = LogisticRegression(C=C, penalty=penalty, solver=solver, random_state=RANDOM_SEED)\n",
    "model.fit(X_train, y_train)\n",
    "\n",
    "probs = model.predict_proba(X_test)\n",
    "y_pred = model.predict(X_test)\n",
    "probs = probs[:,1]\n",
    "\n",
    "fpr, tpr, threshold = roc_curve(y_test, probs)\n",
    "roc_auc = roc_auc_score(y_test, probs)\n",
    "\n",
    "plt.figure()\n",
    "plt.plot([0, 1], label='Baseline', linestyle='--')\n",
    "plt.plot(fpr, tpr, label = 'Regression')\n",
    "plt.title('Logistic Regression ROC AUC = %0.5f' % roc_auc)\n",
    "plt.ylabel('True Positive Rate')\n",
    "plt.xlabel('False Positive Rate')\n",
    "plt.legend(loc = 'lower right')\n",
    "plt.show()\n",
    "\n",
    "print(f'roc_auc={round(roc_auc, 6)}  C={C}   penalty={penalty} solver={solver}')\n",
    "print(confusion_matrix(y_test, y_pred))"
   ]
  },
  {
   "cell_type": "code",
   "execution_count": 340,
   "metadata": {},
   "outputs": [],
   "source": [
    "# X_test = data[data.train==0].drop('default', axis=1)\n",
    "# X_test = selector.transform(X_test)\n",
    "# y_pred_subm = model.predict_proba(X_test)[:,1]\n",
    "\n",
    "# submit = pd.DataFrame(subm_client_id)\n",
    "# submit['default'] = y_pred_subm\n",
    "# submit.to_csv('submission.csv', index=False)"
   ]
  },
  {
   "cell_type": "code",
   "execution_count": 341,
   "metadata": {},
   "outputs": [
    {
     "output_type": "execute_result",
     "data": {
      "text/plain": "(14760, 50)"
     },
     "metadata": {},
     "execution_count": 341
    }
   ],
   "source": [
    "X_test.shape"
   ]
  },
  {
   "source": [
    "roc_auc=0.745602  C=1.9463099813601865   penalty=l2 solver=newton-cg  \n",
    "roc_auc=0.745533 C=1 penalty=l1 solver=liblinear RFE=50    \n",
    "roc_auc=0.745533  C=1   penalty=l1 solver=liblinear RFE=52  \n",
    "roc_auc=0.745415  C=1   penalty=l1 solver=liblinear scorbki forpassp 1 1.2  \n",
    "roc_auc=0.74549  C=1   penalty=l1 solver=liblinear age / decl cnt  \n",
    "roc_auc=0.745474  C=1   penalty=l1 solver=liblinear age / region  \n",
    "roc_auc=0.745405  C=1   penalty=l1 solver=liblinear  first_time x bki cnt  \n",
    "roc_auc=0.745265  C=1   penalty=l1 solver=liblinear  scor bki - work addr    \n",
    "roc_auc=0.744641  C=1   penalty=l1 solver=liblinear  scor bki + work addr  \n",
    "roc_auc=0.745155  C=1   penalty=l1 solver=liblinear\n",
    "roc_auc=0.745079  C=1   penalty=l1 solver=liblinear  \n",
    "roc_auc=0.744978  C=1   penalty=l1 solver=liblinear  \n",
    "roc_auc=0.744955  C=1   penalty=l1 solver=liblinear  + age ~ foreign pass(1.1)  \n",
    "roc_auc=0.744949  C=1   penalty=l1 solver=liblinear  + age ~ foreign pass(1.2)  \n",
    "roc_auc=0.744922  C=1   penalty=l1 solver=liblinear  + age ~ foreign pass(1.4)  \n",
    "roc_auc=0.744845  C=1   penalty=l1 solver=liblinear  + age/ edu  nonlog  \n",
    "roc_auc=0.744803  C=1   penalty=l1 solver=liblinear  + age* edu  nonlog  \n",
    "roc_auc=0.744673  C=1   penalty=l1 solver=liblinear  + sna*age  nonlog  \n",
    "roc_auc=0.744571  C=1   penalty=l1 solver=liblinear  + sna/age  nonlog  \n",
    "roc_auc=0.744213  C=1   penalty=l1 solver=liblinear  \n",
    "roc_auc=0.744213  C=1   penalty=l1 solver=liblinear  \n",
    "roc_auc=0.744709  C=1   p enalty=l2 solver=newton-cg  \n",
    "roc_auc=0.744682  C=1   penalty=l2 solver=newton-cg  \n",
    "roc_auc=0.744641  C=1   penalty=l2 solver=newton-cg   \n",
    "roc_auc=0.744112 C=1 penalty=l2 solver=newton-cg  \n",
    "roc_auc=0.744088 C=1 penalty=l2 solver=newton-cg  \n",
    "roc_auc=0.743984 C=1 penalty=l2 solver=newton-cg  \n",
    "roc_auc=0.7439 C=1 penalty=l2 solver=newton-cg  \n",
    "roc_auc=0.743433 C=1 penalty=l2 solver=newton-cg  \n",
    "roc_auc=0.677348  \n",
    "roc_auc=0.677304  \n",
    "roc_auc=0.677311 C=1 penalty=l2 solver=newton-cg  \n",
    "roc_auc=0.677277 C=2.7825594022071245 penalty=l2 solver=  "
   ],
   "cell_type": "markdown",
   "metadata": {}
  },
  {
   "cell_type": "code",
   "execution_count": 355,
   "metadata": {},
   "outputs": [],
   "source": [
    "### HyperOpt Parameter Tuning\n",
    "from hyperopt import tpe\n",
    "from hyperopt import STATUS_OK\n",
    "from hyperopt import Trials\n",
    "from hyperopt import hp\n",
    "from hyperopt import fmin\n",
    "\n",
    "N_FOLDS = 5\n",
    "MAX_EVALS = 50\n",
    "\n",
    "def objective(params, n_folds = N_FOLDS):\n",
    "    \"\"\"Objective function for Logistic Regression Hyperparameter Tuning\"\"\"\n",
    "\n",
    "    # Perform n_fold cross validation with hyperparameters\n",
    "    # Use early stopping and evaluate based on ROC AUC\n",
    "\n",
    "    clf = LogisticRegression(random_state=RANDOM_SEED, verbose =0)\n",
    "    scores = cross_val_score(clf, X, Y, cv=5, scoring='roc_auc')\n",
    "\n",
    "    # Extract the best score\n",
    "    best_score = max(scores)\n",
    "\n",
    "    # Loss must be minimized\n",
    "    loss = 1 - best_score\n",
    "\n",
    "    # Dictionary with information for evaluation\n",
    "    return {'loss': loss, 'params': params, 'status': STATUS_OK}\n",
    "\n",
    "space = {\n",
    "    'class_weight': hp.choice('class_weight', [None, 'balanced']),\n",
    "    'warm_start' : hp.choice('warm_start', [True, False]),\n",
    "    'fit_intercept' : hp.choice('fit_intercept', [True, False]),\n",
    "    'tol' : hp.uniform('tol', 0.00001, 0.0001),\n",
    "    'C' : hp.uniform('C', 0.05, 3),\n",
    "    'solver' : hp.choice('solver', ['newton-cg', 'lbfgs', 'liblinear', 'sag', 'saga']),\n",
    "    'max_iter' : hp.choice('max_iter', range(5,1000)),\n",
    "    'penalty' : hp.choice('penalty', ['l1' , 'l2'])\n",
    "}"
   ]
  },
  {
   "cell_type": "code",
   "execution_count": 356,
   "metadata": {
    "tags": []
   },
   "outputs": [
    {
     "output_type": "stream",
     "name": "stdout",
     "text": "100%|██████████| 50/50 [01:52&lt;00:00,  2.26s/trial, best loss: 0.2918704229724486]\n"
    }
   ],
   "source": [
    "# Algorithm\n",
    "tpe_algorithm = tpe.suggest\n",
    "\n",
    "# Trials object to track progress\n",
    "bayes_trials = Trials()\n",
    "\n",
    "# Optimize\n",
    "rstate = np.random.RandomState(RANDOM_SEED)\n",
    "best = fmin(fn = objective, space = space, algo = tpe.suggest, max_evals = MAX_EVALS, trials = bayes_trials, \n",
    "rstate=rstate)"
   ]
  },
  {
   "cell_type": "code",
   "execution_count": 357,
   "metadata": {},
   "outputs": [
    {
     "output_type": "execute_result",
     "data": {
      "text/plain": "{&#39;C&#39;: 1.4813022192790921,\n &#39;class_weight&#39;: 1,\n &#39;fit_intercept&#39;: 1,\n &#39;max_iter&#39;: 642,\n &#39;penalty&#39;: 0,\n &#39;solver&#39;: 2,\n &#39;tol&#39;: 2.3352574146813767e-05,\n &#39;warm_start&#39;: 1}"
     },
     "metadata": {},
     "execution_count": 357
    }
   ],
   "source": [
    "best"
   ]
  },
  {
   "cell_type": "code",
   "execution_count": 358,
   "metadata": {
    "tags": []
   },
   "outputs": [],
   "source": [
    "# C = 1.9463099813601865\n",
    "# penalty = 'l2'\n",
    "# solver = 'newton-cg'\n",
    "\n",
    "# model = LogisticRegression(C=C, penalty=penalty, solver=solver, random_state=RANDOM_SEED)\n",
    "# model.fit(X_train, y_train)\n",
    "\n",
    "# probs = model.predict_proba(X_test)\n",
    "# y_pred = model.predict(X_test)\n",
    "# probs = probs[:,1]\n",
    "\n",
    "# fpr, tpr, threshold = roc_curve(y_test, probs)\n",
    "# roc_auc = roc_auc_score(y_test, probs)\n",
    "\n",
    "# plt.figure()\n",
    "# plt.plot([0, 1], label='Baseline', linestyle='--')\n",
    "# plt.plot(fpr, tpr, label = 'Regression')\n",
    "# plt.title('Logistic Regression ROC AUC = %0.5f' % roc_auc)\n",
    "# plt.ylabel('True Positive Rate')\n",
    "# plt.xlabel('False Positive Rate')\n",
    "# plt.legend(loc = 'lower right')\n",
    "# plt.show()\n",
    "\n",
    "# print(f'roc_auc={round(roc_auc, 6)}  C={C}   penalty={penalty} solver={solver}')\n",
    "# print(confusion_matrix(y_test, y_pred))"
   ]
  },
  {
   "source": [
    "roc_auc=0.745602  C=1.9463099813601865   penalty=l2 solver=newton-cg  \n",
    "roc_auc=0.745533 C=1 penalty=l1 solver=liblinear RFE=50  "
   ],
   "cell_type": "markdown",
   "metadata": {}
  },
  {
   "cell_type": "code",
   "execution_count": 359,
   "metadata": {
    "tags": []
   },
   "outputs": [],
   "source": [
    "# from sklearn.model_selection import GridSearchCV\n",
    "# # Добавим типы регуляризации\n",
    "# penalty = ['l1', 'l2']\n",
    "# # Зададим ограничения для параметра регуляризации\n",
    "# C = np.logspace(0, 4, 10)\n",
    "# # solver\n",
    "# solver = ['newton-cg', 'lbfgs', 'liblinear', 'sag', 'saga']\n",
    "# # Score\n",
    "# scoring = {'AUC': 'roc_auc'}\n",
    "\n",
    "# # Добавим типы регуляризации\n",
    "# iter_ = 50\n",
    "# epsilon_stop = 1e-3\n",
    "\n",
    "# # Создадим гиперпараметры\n",
    "# # hyperparameters = dict(C=C, penalty=penalty, solver=solver)\n",
    "\n",
    "# hyperparameters = [\n",
    "#     {'penalty': ['l1'], \n",
    "#      'solver': ['liblinear', 'lbfgs', 'newton-cg'], \n",
    "#      'class_weight':['none', 'balanced'], \n",
    "#      'multi_class': ['auto','ovr'], \n",
    "#      'max_iter':[iter_],\n",
    "#      'tol':[epsilon_stop]},\n",
    "#     {'penalty': ['l2'], \n",
    "#      'solver': ['newton-cg', 'lbfgs', 'liblinear', 'sag', 'saga'], \n",
    "#      'class_weight':['none', 'balanced'], \n",
    "#      'multi_class': ['auto','ovr'], \n",
    "#      'max_iter':[iter_],\n",
    "#      'tol':[epsilon_stop]},\n",
    "#     {'penalty': ['none'], \n",
    "#      'solver': ['newton-cg', 'lbfgs', 'sag', 'saga'], \n",
    "#      'class_weight':['none', 'balanced'], \n",
    "#      'multi_class': ['auto','ovr'], \n",
    "#      'max_iter':[iter_],\n",
    "#      'tol':[epsilon_stop]},\n",
    "# ]\n",
    "\n",
    "# model = LogisticRegression()\n",
    "# # model.fit(X_train, y_train)\n",
    "\n",
    "# # Создаем сетку поиска с использованием 5-кратной перекрестной проверки\n",
    "# clf = GridSearchCV(model, hyperparameters, cv=5, verbose=0,  scoring=scoring, refit='AUC')\n",
    "\n",
    "# best_model = clf.fit(X_train, y_train)\n",
    "\n",
    "# # View best hyperparameters\n",
    "# print('Лучшее Penalty:', best_model.best_estimator_.get_params()['penalty'])\n",
    "# print('Лучшее C:', best_model.best_estimator_.get_params()['C'])\n",
    "# print('Лучшее Solver:', best_model.best_estimator_.get_params()['solver'])"
   ]
  },
  {
   "cell_type": "code",
   "execution_count": 360,
   "metadata": {
    "tags": []
   },
   "outputs": [],
   "source": [
    "# y_best_prob = best_model.predict_proba(X_test)\n",
    "\n",
    "# probs = y_best_prob[:,1]\n",
    "\n",
    "# fpr, tpr, threshold = roc_curve(y_test, probs)\n",
    "# roc_auc = roc_auc_score(y_test, probs)\n",
    "\n",
    "# plt.figure()\n",
    "# plt.plot([0, 1], label='Baseline', linestyle='--')\n",
    "# plt.plot(fpr, tpr, label = 'Regression')\n",
    "# plt.title('Logistic Regression ROC AUC = %0.5f' % roc_auc)\n",
    "# plt.ylabel('True Positive Rate')\n",
    "# plt.xlabel('False Positive Rate')\n",
    "# plt.legend(loc = 'lower right')\n",
    "# plt.show()\n",
    "\n",
    "# print(f'roc_auc={round(roc_auc, 6)}  C={C}   penalty={penalty} solver={solver}')\n",
    "# print(confusion_matrix(y_test, y_pred))"
   ]
  },
  {
   "cell_type": "code",
   "execution_count": 361,
   "metadata": {},
   "outputs": [
    {
     "output_type": "execute_result",
     "data": {
      "text/plain": "(73799, 50)"
     },
     "metadata": {},
     "execution_count": 361
    }
   ],
   "source": [
    "X.shape"
   ]
  },
  {
   "source": [
    "roc_auc=0.745585  C=1   penalty=l1 solver=liblinear RFE = 52  \n",
    "roc_auc=0.74549  C=1   penalty=l1 solver=liblinear  RFE = 53  \n",
    "roc_auc=0.745548  C=1   penalty=l1 solver=liblinear RFE=50    \n",
    "roc_auc=0.744915  C=1   penalty=l1 solver=liblinear RFE=35  \n",
    "roc_auc=0.745453  C=1   penalty=l1 solver=liblinear RFE=40  \n",
    "roc_auc=0.745415 C=1 penalty=l1 solver=liblinear FULL X"
   ],
   "cell_type": "markdown",
   "metadata": {}
  },
  {
   "cell_type": "code",
   "execution_count": 362,
   "metadata": {
    "tags": []
   },
   "outputs": [],
   "source": [
    "# # Добавим \n",
    "# iter_ = 50\n",
    "# epsilon_stop = 1e-3\n",
    "\n",
    "# # Создадим гиперпараметры\n",
    "# hyperparameters = [\n",
    "#     {'penalty': ['l1'], \n",
    "#      'solver': ['liblinear', 'lbfgs'], \n",
    "#      'class_weight':['none', 'balanced'], \n",
    "#      'multi_class': ['auto','ovr'], \n",
    "#      'max_iter':[iter_],\n",
    "#      'tol':[epsilon_stop]},\n",
    "#     {'penalty': ['l2'], \n",
    "#      'solver': ['newton-cg', 'lbfgs', 'liblinear', 'sag', 'saga'], \n",
    "#      'class_weight':['none', 'balanced'], \n",
    "#      'multi_class': ['auto','ovr'], \n",
    "#      'max_iter':[iter_],\n",
    "#      'tol':[epsilon_stop]},\n",
    "#     {'penalty': ['none'], \n",
    "#      'solver': ['newton-cg', 'lbfgs', 'sag', 'saga'], \n",
    "#      'class_weight':['none', 'balanced'], \n",
    "#      'multi_class': ['auto','ovr'], \n",
    "#      'max_iter':[iter_],\n",
    "#      'tol':[epsilon_stop]},\n",
    "# ]\n",
    "\n",
    "# model = LogisticRegression()\n",
    "\n",
    "# # Создаем сетку поиска с использованием 5-кратной перекрестной проверки\n",
    "# clf = GridSearchCV(model, hyperparameters, scoring='f1', cv=5, verbose=0, refit='f1')\n",
    "\n",
    "# clf.fit(X_train, y_train)\n",
    "# model_2 = clf.best_estimator_\n",
    "\n",
    "# # View best hyperparameters\n",
    "# print('Лучшее Penalty:', model_2.get_params()['penalty'])\n",
    "# print('Лучшее C:', model_2.get_params()['C'])\n",
    "# print('Лучшее Solver:', model_2.get_params()['solver'])"
   ]
  },
  {
   "cell_type": "code",
   "execution_count": 363,
   "metadata": {
    "tags": []
   },
   "outputs": [],
   "source": [
    "# y_best_prob = model_2.predict_proba(X_test)\n",
    "\n",
    "# probs = y_best_prob[:,1]\n",
    "\n",
    "# fpr, tpr, threshold = roc_curve(y_test, probs)\n",
    "# roc_auc = roc_auc_score(y_test, probs)\n",
    "\n",
    "# plt.figure()\n",
    "# plt.plot([0, 1], label='Baseline', linestyle='--')\n",
    "# plt.plot(fpr, tpr, label = 'Regression')\n",
    "# plt.title('Logistic Regression ROC AUC = %0.5f' % roc_auc)\n",
    "# plt.ylabel('True Positive Rate')\n",
    "# plt.xlabel('False Positive Rate')\n",
    "# plt.legend(loc = 'lower right')\n",
    "# plt.show()\n",
    "\n",
    "# print(f'roc_auc={round(roc_auc, 6)}  C={C}   penalty={penalty} solver={solver}')\n",
    "# print(confusion_matrix(y_test, y_pred))"
   ]
  },
  {
   "source": [
    "Лучшее Penalty: l1\n",
    "Лучшее C: 1291.5496650148827\n",
    "Лучшее Solver: liblinear"
   ],
   "cell_type": "markdown",
   "metadata": {}
  },
  {
   "cell_type": "code",
   "execution_count": 364,
   "metadata": {},
   "outputs": [],
   "source": [
    "# # The scorers can be either be one of the predefined metric strings or a scorer\n",
    "# # callable, like the one returned by make_scorer  \n",
    "\n",
    "\n",
    "\n",
    "# from sklearn.metrics import make_scorer\n",
    "# from sklearn.metrics import accuracy_score, f1_score\n",
    "# scoring = {'AUC': 'roc_auc', 'Accuracy': make_scorer(f1_score)}\n",
    "# hyperparameters = [\n",
    "#     {'penalty': ['l1'], \n",
    "#      'solver': ['liblinear', 'lbfgs'], \n",
    "#      'class_weight':['none', 'balanced'], \n",
    "#      'multi_class': ['auto','ovr'], \n",
    "#      'max_iter':[iter_],\n",
    "#      'tol':[epsilon_stop]},\n",
    "#     {'penalty': ['l2'], \n",
    "#      'solver': ['newton-cg', 'lbfgs', 'liblinear', 'sag', 'saga'], \n",
    "#      'class_weight':['none', 'balanced'], \n",
    "#      'multi_class': ['auto','ovr'], \n",
    "#      'max_iter':[iter_],\n",
    "#      'tol':[epsilon_stop]},\n",
    "#     {'penalty': ['none'], \n",
    "#      'solver': ['newton-cg', 'lbfgs', 'sag', 'saga'], \n",
    "#      'class_weight':['none', 'balanced'], \n",
    "#      'multi_class': ['auto','ovr'], \n",
    "#      'max_iter':[iter_],\n",
    "#      'tol':[epsilon_stop]},\n",
    "# ]\n",
    "# # Setting refit='AUC', refits an estimator on the whole dataset with the\n",
    "# # parameter setting that has the best cross-validated AUC score.\n",
    "# # That estimator is made available at ``gs.best_estimator_`` along with\n",
    "# # parameters like ``gs.best_score_``, ``gs.best_params_`` and\n",
    "# # ``gs.best_index_``\n",
    "# model = LogisticRegression()\n",
    "\n",
    "# gs = GridSearchCV(model,\n",
    "#                   param_grid=hyperparameters,\n",
    "#                   scoring=scoring, refit='AUC', return_train_score=True)\n",
    "# gs.fit(X_train, y_train)\n",
    "\n",
    "# results = gs.cv_results_\n",
    "# model_3 = gs.best_estimator_"
   ]
  },
  {
   "cell_type": "code",
   "execution_count": 365,
   "metadata": {
    "tags": []
   },
   "outputs": [],
   "source": [
    "# print('Лучшее Penalty:', gs.best_estimator_.get_params()['penalty'])\n",
    "# print('Лучшее C:', gs.best_estimator_.get_params()['C'])\n",
    "# print('Лучшее Solver:', gs.best_estimator_.get_params()['solver'])"
   ]
  },
  {
   "cell_type": "code",
   "execution_count": 366,
   "metadata": {},
   "outputs": [],
   "source": [
    "# model_3 = gs.best_estimator_"
   ]
  },
  {
   "cell_type": "code",
   "execution_count": 367,
   "metadata": {
    "tags": []
   },
   "outputs": [],
   "source": [
    "# y_best_prob = model_3.predict_proba(X_test)\n",
    "\n",
    "# probs = y_best_prob[:,1]\n",
    "\n",
    "# fpr, tpr, threshold = roc_curve(y_test, probs)\n",
    "# roc_auc = roc_auc_score(y_test, probs)\n",
    "\n",
    "# plt.figure()\n",
    "# plt.plot([0, 1], label='Baseline', linestyle='--')\n",
    "# plt.plot(fpr, tpr, label = 'Regression')\n",
    "# plt.title('Logistic Regression ROC AUC = %0.5f' % roc_auc)\n",
    "# plt.ylabel('True Positive Rate')\n",
    "# plt.xlabel('False Positive Rate')\n",
    "# plt.legend(loc = 'lower right')\n",
    "# plt.show()\n",
    "\n",
    "# print(f'roc_auc={round(roc_auc, 6)}  C={C}   penalty={penalty} solver={solver}')\n",
    "# print(confusion_matrix(y_test, y_pred))"
   ]
  }
 ],
 "metadata": {
  "kernelspec": {
   "display_name": "Python 3",
   "language": "python",
   "name": "python3"
  },
  "language_info": {
   "codemirror_mode": {
    "name": "ipython",
    "version": 3
   },
   "file_extension": ".py",
   "mimetype": "text/x-python",
   "name": "python",
   "nbconvert_exporter": "python",
   "pygments_lexer": "ipython3",
   "version": "3.7.7-final"
  }
 },
 "nbformat": 4,
 "nbformat_minor": 2
}
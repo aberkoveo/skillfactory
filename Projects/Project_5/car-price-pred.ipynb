{
 "metadata": {
  "language_info": {
   "codemirror_mode": {
    "name": "ipython",
    "version": 3
   },
   "file_extension": ".py",
   "mimetype": "text/x-python",
   "name": "python",
   "nbconvert_exporter": "python",
   "pygments_lexer": "ipython3",
   "version": "3.7.7-final"
  },
  "orig_nbformat": 2,
  "kernelspec": {
   "name": "python3",
   "display_name": "Python 3"
  }
 },
 "nbformat": 4,
 "nbformat_minor": 2,
 "cells": [
  {
   "cell_type": "code",
   "execution_count": 13,
   "metadata": {},
   "outputs": [],
   "source": [
    "import numpy as np # linear algebra\n",
    "import pandas as pd # data processing, CSV file I/O (e.g. pd.read_csv)\n",
    "import sys\n",
    "from sklearn.model_selection import train_test_split\n",
    "from sklearn.model_selection import KFold\n",
    "from tqdm.notebook import tqdm\n",
    "from catboost import CatBoostRegressor\n",
    "from sklearn.preprocessing import LabelEncoder\n",
    "from nesteddictionary import NestedDict \n",
    "from tqdm import tqdm\n",
    "\n",
    "\n",
    "from bs4 import BeautifulSoup  as bs\n",
    "from pprint import pprint  \n",
    "import requests  \n",
    "import json\n",
    "\n",
    "from pandas_profiling import ProfileReport"
   ]
  },
  {
   "cell_type": "code",
   "execution_count": 14,
   "metadata": {},
   "outputs": [],
   "source": [
    "!pip freeze > requirements.txt\n",
    "RANDOM_SEED = 42"
   ]
  },
  {
   "cell_type": "code",
   "execution_count": 15,
   "metadata": {},
   "outputs": [],
   "source": [
    "def mape(y_true, y_pred):\n",
    "    return np.mean(np.abs((y_pred-y_true)/y_true))"
   ]
  },
  {
   "cell_type": "code",
   "execution_count": 16,
   "metadata": {},
   "outputs": [],
   "source": [
    "# CATBOOST\n",
    "ITERATIONS = 5000\n",
    "LR         = 0.1"
   ]
  },
  {
   "cell_type": "code",
   "execution_count": 17,
   "metadata": {},
   "outputs": [],
   "source": [
    "train = pd.read_csv('parsed_data.csv')\n",
    "test = pd.read_csv('kaggle/test.csv')\n",
    "sample_submission = pd.read_csv('kaggle/sample_submission.csv')"
   ]
  },
  {
   "cell_type": "code",
   "execution_count": 18,
   "metadata": {},
   "outputs": [
    {
     "output_type": "execute_result",
     "data": {
      "text/plain": [
       "brand                                                            RENAULT\n",
       "model_name                                                        MEGANE\n",
       "productionDate                                                      2008\n",
       "enginePower                                                          115\n",
       "image                  https://autoru.naydex.net/E25nt8n24/b55af27QY/...\n",
       "mileage                                                           160000\n",
       "equipment_dict         {'tinted-glass': True, 'start-stop-function': ...\n",
       "bodyType                                                           седан\n",
       "color                                                              синий\n",
       "engineDisplacement                                               1.6 LTR\n",
       "fuelType                                                          бензин\n",
       "modelDate                                                           2006\n",
       "numberOfDoors                                                          4\n",
       "priceCurrency                                                        RUB\n",
       "sell_id                                                       1100696430\n",
       "super_gen              {'id': '2415120', 'displacement': 1598, 'engin...\n",
       "vehicleTransmission                                       автоматическая\n",
       "Владельцы                                                    3 или более\n",
       "ПТС                                                             Дубликат\n",
       "Владение                                                             NaN\n",
       "Привод                                                          передний\n",
       "Руль                                                               Левый\n",
       "Состояние                                             Не требует ремонта\n",
       "Таможня                                                       Растаможен\n",
       "price                                                             250000\n",
       "Name: 1, dtype: object"
      ]
     },
     "metadata": {},
     "execution_count": 18
    }
   ],
   "source": [
    "train.loc[1]"
   ]
  },
  {
   "cell_type": "code",
   "execution_count": 32,
   "metadata": {},
   "outputs": [
    {
     "output_type": "execute_result",
     "data": {
      "text/plain": [
       "0        {\"id\":\"10373605\",\"displacement\":1197,\"engine_t...\n",
       "1        {\"id\":\"20913311\",\"displacement\":1598,\"engine_t...\n",
       "2        {\"id\":\"20026323\",\"nameplate\":\"DSG\",\"displaceme...\n",
       "3        {\"id\":\"20105521\",\"displacement\":1598,\"engine_t...\n",
       "4        {\"id\":\"4561004\",\"displacement\":1798,\"engine_ty...\n",
       "                               ...                        \n",
       "34681    {\"id\":\"8546464\",\"name\":\"316\",\"nameplate\":\"316i...\n",
       "34682    {\"id\":\"20856402\",\"name\":\"520\",\"nameplate\":\"520...\n",
       "34683    {\"id\":\"6329747\",\"name\":\"523\",\"nameplate\":\"523i...\n",
       "34684    {\"id\":\"8247004\",\"name\":\"20d\",\"nameplate\":\"20d\"...\n",
       "34685    {\"id\":\"20390090\",\"name\":\"30d\",\"nameplate\":\"30d...\n",
       "Name: super_gen, Length: 34686, dtype: object"
      ]
     },
     "metadata": {},
     "execution_count": 32
    }
   ],
   "source": [
    "test['super_gen']"
   ]
  }
 ]
}
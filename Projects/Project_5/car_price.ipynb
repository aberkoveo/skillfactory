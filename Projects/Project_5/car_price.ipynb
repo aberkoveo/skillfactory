{
 "metadata": {
  "language_info": {
   "codemirror_mode": {
    "name": "ipython",
    "version": 3
   },
   "file_extension": ".py",
   "mimetype": "text/x-python",
   "name": "python",
   "nbconvert_exporter": "python",
   "pygments_lexer": "ipython3",
   "version": "3.7.7-final"
  },
  "orig_nbformat": 2,
  "kernelspec": {
   "name": "python3",
   "display_name": "Python 3"
  }
 },
 "nbformat": 4,
 "nbformat_minor": 2,
 "cells": [
  {
   "cell_type": "code",
   "execution_count": 201,
   "metadata": {},
   "outputs": [],
   "source": [
    "import numpy as np # linear algebra\n",
    "import pandas as pd # data processing, CSV file I/O (e.g. pd.read_csv)\n",
    "import sys\n",
    "from sklearn.model_selection import train_test_split\n",
    "from sklearn.model_selection import KFold\n",
    "from tqdm.notebook import tqdm\n",
    "from catboost import CatBoostRegressor\n",
    "from sklearn.preprocessing import LabelEncoder\n",
    "from nesteddictionary import NestedDict \n",
    "\n",
    "\n",
    "from bs4 import BeautifulSoup  as bs\n",
    "from pprint import pprint  \n",
    "import requests  \n",
    "import json"
   ]
  },
  {
   "cell_type": "code",
   "execution_count": 202,
   "metadata": {},
   "outputs": [],
   "source": [
    "max_colwidth = 1000\n",
    "pd.set_option(\"display.max_colwidth\", max_colwidth)"
   ]
  },
  {
   "cell_type": "code",
   "execution_count": 203,
   "metadata": {},
   "outputs": [],
   "source": [
    "!pip freeze > requirements.txt\n",
    "RANDOM_SEED = 42"
   ]
  },
  {
   "cell_type": "code",
   "execution_count": 204,
   "metadata": {},
   "outputs": [],
   "source": [
    "def mape(y_true, y_pred):\n",
    "    return np.mean(np.abs((y_pred-y_true)/y_true))"
   ]
  },
  {
   "source": [
    "# Собираем датасет - парсим AUTO.RU"
   ],
   "cell_type": "markdown",
   "metadata": {}
  },
  {
   "cell_type": "code",
   "execution_count": 273,
   "metadata": {
    "tags": []
   },
   "outputs": [
    {
     "output_type": "execute_result",
     "data": {
      "text/plain": [
       "{'brand': 'SKODA',\n",
       " 'model_name': 'OCTAVIA',\n",
       " 'productionDate': 2014,\n",
       " 'enginePower': 105,\n",
       " 'image': 'https://avatars.mds.yandex.net/get-autoru-vos/1590523/8e9df38833e18d0b30b5540ae371860f/1200x900',\n",
       " 'mileage': 74000,\n",
       " 'equipment_dict': {'audiosystem-cd': True,\n",
       "  'aux': True,\n",
       "  '12v-socket': True,\n",
       "  'condition': True,\n",
       "  'computer': True,\n",
       "  'cooling-box': True,\n",
       "  'park-assist-r': True,\n",
       "  'ashtray-and-cigarette-lighter': True,\n",
       "  'tinted-glass': True,\n",
       "  'abs': True,\n",
       "  'isofix': True,\n",
       "  'power-child-locks-rear-doors': True,\n",
       "  'airbag-driver': True,\n",
       "  'airbag-passenger': True,\n",
       "  'airbag-side': True,\n",
       "  'airbag-rear-side': True,\n",
       "  'rain-sensor': True,\n",
       "  'ptf': True,\n",
       "  'high-beam-assist': True,\n",
       "  'electro-mirrors': True,\n",
       "  '16-inch-wheels': True,\n",
       "  'engine-proof': True,\n",
       "  'lock': True,\n",
       "  'fabric-seats': True,\n",
       "  'door-sill-panel': True,\n",
       "  'front-seats-heat': True,\n",
       "  'seat-transformation': True,\n",
       "  'electro-window-back': True,\n",
       "  'electro-window-front': True,\n",
       "  'steel-wheels': True,\n",
       "  'alarm': True,\n",
       "  'dark-interior': True,\n",
       "  'wheel-power': True,\n",
       "  'wheel-configuration1': True,\n",
       "  'wheel-configuration2': True,\n",
       "  'isofix-front': True},\n",
       " 'bodyType': 'лифтбек',\n",
       " 'color': 'синий',\n",
       " 'engineDisplacement': '1.2 LTR',\n",
       " 'fuelType': 'бензин'}"
      ]
     },
     "metadata": {},
     "execution_count": 273
    }
   ],
   "source": [
    "url = 'https://auto.ru/cars/used/sale/honda/civic/1101565623-563bf58d/'\n",
    "url = 'https://auto.ru/cars/used/sale/skoda/octavia/1100575026-c780dc09/'\n",
    "\n",
    "def parse_car_page(url):\n",
    "    response = requests.get(url)\n",
    "    response.encoding = 'utf-8'\n",
    "    soup = bs(response.text, 'html.parser')\n",
    "    color = soup.find('li', class_='CardInfoRow CardInfoRow_color').a.text\n",
    "    engineDisplacement = soup.find('meta', itemprop=\"engineDisplacement\")['content']\n",
    "    fuelType = soup.find('meta', itemprop=\"fuelType\")['content']\n",
    "\n",
    "\n",
    "\n",
    "    s1 = soup.find('div', id='app').find('div', id=\"sale-data-attributes\")['data-bem']\n",
    "    d1 = json.loads(s1)['sale-data-attributes']\n",
    "\n",
    "    s2 = soup.find('script', id=\"initial-state\").string\n",
    "    d2 = json.loads(s2)\n",
    "\n",
    "    nested_dict = NestedDict( d2 )\n",
    "    way_to_equip = nested_dict.findall('equipment')\n",
    "    equipment_dict = dict(nested_dict[way_to_equip[0]])\n",
    "\n",
    "    way_to_bodytype = nested_dict.findall('human_name')\n",
    "    bodytype = nested_dict[way_to_bodytype[0]].lower()\n",
    "\n",
    "\n",
    "\n",
    "    return dict({'brand':d1['mark'], \n",
    "                 'model_name':d1['model'], \n",
    "                 'productionDate':d1['year'],\n",
    "                 'enginePower':d1['power'],\n",
    "                 'image':d1['image'],\n",
    "                 'mileage':d1['km-age'],\n",
    "                 'equipment_dict': equipment_dict,\n",
    "                 'bodyType': bodytype,\n",
    "                 'color': color,\n",
    "                 'engineDisplacement': engineDisplacement,\n",
    "                 'fuelType': fuelType\n",
    "                 })\n",
    "    # return d\n",
    "parse_car_page(url)"
   ]
  },
  {
   "cell_type": "code",
   "execution_count": null,
   "metadata": {
    "tags": []
   },
   "outputs": [],
   "source": [
    "response = requests.get(url)\n",
    "response.encoding = 'utf-8'\n",
    "soup = bs(response.text, 'html.parser')\n",
    "s = soup.find('div', id='app').find('div', id=\"sale-data-attributes\")['data-bem']\n",
    "d = json.loads(s)['sale-data-attributes']\n",
    "d"
   ]
  },
  {
   "cell_type": "code",
   "execution_count": 190,
   "metadata": {},
   "outputs": [
    {
     "output_type": "execute_result",
     "data": {
      "text/plain": [
       "'лифтбек'"
      ]
     },
     "metadata": {},
     "execution_count": 190
    }
   ],
   "source": [
    "s = soup.find('script', id=\"initial-state\").string\n",
    "d = json.loads(s)\n",
    "nested_dict = NestedDict( d )\n",
    "way_to_bodytype = nested_dict.findall('human_name')\n",
    "way_to_equip[0]\n",
    "nested_dict[way_to_bodytype[0]].lower()\n",
    "# d['card']['vehicle_info']['configuration']['human_name']\n",
    "# ['card', 'vehicle_info', 'configuration', 'human_name']"
   ]
  },
  {
   "cell_type": "code",
   "execution_count": 265,
   "metadata": {},
   "outputs": [
    {
     "output_type": "execute_result",
     "data": {
      "text/plain": [
       "'1.2 LTR'"
      ]
     },
     "metadata": {},
     "execution_count": 265
    }
   ],
   "source": [
    "soup.find('meta', itemprop=\"engineDisplacement\")['content']"
   ]
  },
  {
   "cell_type": "code",
   "execution_count": 212,
   "metadata": {
    "tags": []
   },
   "outputs": [],
   "source": [
    "# print(soup.prettify())"
   ]
  },
  {
   "cell_type": "code",
   "execution_count": null,
   "metadata": {},
   "outputs": [],
   "source": [
    "test = pd.read_csv('kaggle/test.csv')"
   ]
  },
  {
   "cell_type": "code",
   "execution_count": 271,
   "metadata": {},
   "outputs": [
    {
     "output_type": "execute_result",
     "data": {
      "text/plain": [
       "['car_url',\n",
       " 'complectation_dict',\n",
       " 'description',\n",
       " 'fuelType',\n",
       " 'modelDate',\n",
       " 'model_info',\n",
       " 'name',\n",
       " 'numberOfDoors',\n",
       " 'parsing_unixtime',\n",
       " 'priceCurrency',\n",
       " 'sell_id',\n",
       " 'super_gen',\n",
       " 'vehicleConfiguration',\n",
       " 'vehicleTransmission',\n",
       " 'vendor',\n",
       " 'Владельцы',\n",
       " 'Владение',\n",
       " 'ПТС',\n",
       " 'Привод',\n",
       " 'Руль',\n",
       " 'Состояние',\n",
       " 'Таможня']"
      ]
     },
     "metadata": {},
     "execution_count": 271
    }
   ],
   "source": [
    "l = list(test.columns)\n",
    "l.remove('model_name')\n",
    "l.remove('brand')\n",
    "l.remove('productionDate')\n",
    "l.remove('enginePower')\n",
    "l.remove('image')\n",
    "l.remove('mileage')\n",
    "l.remove('equipment_dict')\n",
    "l.remove('bodyType')\n",
    "l.remove('color')\n",
    "l.remove('engineDisplacement')\n",
    "# l.remove('engineDisplacement')\n",
    "# l.remove('engineDisplacement')\n",
    "# l.remove('engineDisplacement')\n",
    "# l.remove('engineDisplacement')\n",
    "# l.remove('engineDisplacement')\n",
    "# l.remove('engineDisplacement')\n",
    "# l.remove('engineDisplacement')\n",
    "l"
   ]
  },
  {
   "cell_type": "code",
   "execution_count": 272,
   "metadata": {},
   "outputs": [
    {
     "output_type": "execute_result",
     "data": {
      "text/plain": [
       "array(['бензин', 'дизель', 'гибрид', 'электро', 'газ'], dtype=object)"
      ]
     },
     "metadata": {},
     "execution_count": 272
    }
   ],
   "source": [
    "s = test.loc[0]\n",
    "s['engineDisplacement']\n",
    "# json.loads(s)\n",
    "# vehicleEngine\n",
    "test['fuelType'].unique()"
   ]
  }
 ]
}
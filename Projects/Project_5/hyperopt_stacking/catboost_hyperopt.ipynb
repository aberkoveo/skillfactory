{
 "cells": [
  {
   "cell_type": "code",
   "execution_count": 1,
   "metadata": {
    "ExecuteTime": {
     "end_time": "2020-12-14T15:04:11.045434Z",
     "start_time": "2020-12-14T15:04:11.041441Z"
    },
    "code_folding": []
   },
   "outputs": [],
   "source": [
    "# !jt -t chesterish -T -N -kl"
   ]
  },
  {
   "cell_type": "code",
   "execution_count": 2,
   "metadata": {
    "ExecuteTime": {
     "end_time": "2020-12-14T15:14:53.453703Z",
     "start_time": "2020-12-14T15:14:53.448717Z"
    }
   },
   "outputs": [],
   "source": [
    "import numpy as np # linear algebra\n",
    "import pandas as pd # data processing, CSV file I/O (e.g. pd.read_csv)\n",
    "\n",
    "import sys\n",
    "from sklearn.model_selection import train_test_split\n",
    "from sklearn.model_selection import KFold\n",
    "from sklearn.preprocessing import LabelEncoder\n",
    "\n",
    "from catboost import CatBoostRegressor, Pool, cv\n",
    "\n",
    "from tqdm.notebook import tqdm\n",
    "\n",
    "from joblib import Parallel, delayed\n",
    "from bs4 import BeautifulSoup  as bs\n",
    "from pprint import pprint   \n",
    "import requests  \n",
    "import json\n",
    "from ast import literal_eval\n",
    "import json\n",
    "\n",
    "import matplotlib.pyplot as plt\n",
    "import seaborn as sns\n",
    "from pandas_profiling import ProfileReport\n",
    "from sklearn.preprocessing import StandardScaler\n",
    "\n",
    "# import my_func\n",
    "# import importlib\n",
    "# importlib.reload(my_func)\n",
    "\n",
    "# import huperopt_class\n",
    "# importlib.reload(huperopt_class)\n",
    "\n",
    "# from huperopt_class import HyperOpt\n",
    "\n",
    "from IPython.display import Audio\n",
    "from russian_names import RussianNames\n",
    "\n",
    "from huperopt_class import HyperOpt"
   ]
  },
  {
   "cell_type": "code",
   "execution_count": 3,
   "metadata": {
    "ExecuteTime": {
     "end_time": "2020-12-14T15:04:11.077346Z",
     "start_time": "2020-12-14T15:04:11.069366Z"
    }
   },
   "outputs": [],
   "source": [
    "RANDOM_SEED = 42"
   ]
  },
  {
   "cell_type": "code",
   "execution_count": 4,
   "metadata": {
    "ExecuteTime": {
     "end_time": "2020-12-14T15:04:11.084327Z",
     "start_time": "2020-12-14T15:04:11.078343Z"
    },
    "code_folding": [
     0
    ]
   },
   "outputs": [],
   "source": [
    "def mape(y_true, y_pred):\n",
    "    return np.mean(np.abs((y_pred-y_true)/y_true))"
   ]
  },
  {
   "cell_type": "code",
   "execution_count": 5,
   "metadata": {
    "ExecuteTime": {
     "end_time": "2020-12-14T15:04:14.112998Z",
     "start_time": "2020-12-14T15:04:11.085324Z"
    }
   },
   "outputs": [],
   "source": [
    "data = pd.read_csv('data_for_stacking.csv')\n",
    "cat_features_ids = ['bodyType', 'brand', 'color','descr_labels', 'fuelType', \n",
    "                    'model_name', 'vehicleTransmission',\n",
    "                    'pts', 'privod', 'wheel', 'state', 'descr_labels']"
   ]
  },
  {
   "cell_type": "code",
   "execution_count": 6,
   "metadata": {
    "ExecuteTime": {
     "end_time": "2020-12-14T15:04:14.239739Z",
     "start_time": "2020-12-14T15:04:14.114954Z"
    }
   },
   "outputs": [],
   "source": [
    "X = data.query('sample == 1').drop(['sample'], axis=1)\n",
    "y = X['price']\n",
    "\n",
    "X.drop('price', axis=1, inplace=True, errors='ignore')\n",
    "X_sub = data.query('sample == 0').drop(['sample'], axis=1)"
   ]
  },
  {
   "cell_type": "code",
   "execution_count": 7,
   "metadata": {
    "ExecuteTime": {
     "end_time": "2020-12-14T15:04:14.309434Z",
     "start_time": "2020-12-14T15:04:14.240617Z"
    }
   },
   "outputs": [],
   "source": [
    "VAL_SIZE=0.20\n",
    "X_train, X_test, y_train, y_test = train_test_split(X, y, test_size=VAL_SIZE, shuffle=True, random_state=RANDOM_SEED)"
   ]
  },
  {
   "cell_type": "code",
   "execution_count": 8,
   "metadata": {
    "ExecuteTime": {
     "end_time": "2020-12-14T15:04:14.315418Z",
     "start_time": "2020-12-14T15:04:14.310441Z"
    }
   },
   "outputs": [],
   "source": [
    "y_train = np.log(y_train)\n",
    "y_test = np.log(y_test)"
   ]
  },
  {
   "cell_type": "code",
   "execution_count": 9,
   "metadata": {
    "ExecuteTime": {
     "end_time": "2020-12-13T20:49:40.010150Z",
     "start_time": "2020-12-13T20:49:40.003141Z"
    }
   },
   "outputs": [],
   "source": [
    "# CATBOOST\n",
    "\n",
    "catboost_params = {\n",
    "    'iterations': 5000,\n",
    "    'learning_rate': 0.05775539388456,\n",
    "    'depth': 12,\n",
    "    'random_seed': RANDOM_SEED,\n",
    "    'eval_metric': 'MAPE',\n",
    "    'custom_metric': ['R2', 'MAE'],\n",
    "    'l2_leaf_reg': 1,\n",
    "    \"loss_function\": \"MAPE\"\n",
    "}\n",
    "\n",
    "ITERATIONS = 5000\n",
    "LR         =  0.05775539388456 # 0.08343057119918101 #0.09399760402267439 #0.1\n",
    "depth = 12 # 4 # 8 #12"
   ]
  },
  {
   "cell_type": "code",
   "execution_count": null,
   "metadata": {},
   "outputs": [],
   "source": [
    "X_train.dublicates()"
   ]
  },
  {
   "cell_type": "code",
   "execution_count": 10,
   "metadata": {
    "ExecuteTime": {
     "end_time": "2020-12-13T20:07:48.422087Z",
     "start_time": "2020-12-13T19:35:18.576632Z"
    },
    "scrolled": true
   },
   "outputs": [
    {
     "output_type": "stream",
     "name": "stderr",
     "text": [
      "Warning: Overfitting detector is active, thus evaluation metric is calculated on every iteration. 'metric_period' is ignored for evaluation metric.\n",
      "0:\tlearn: 0.0703260\ttest: 0.0704674\tbest: 0.0704674 (0)\ttotal: 386ms\tremaining: 32m 8s\n",
      "48:\tlearn: 0.0132364\ttest: 0.0134939\tbest: 0.0134939 (48)\ttotal: 14.5s\tremaining: 24m 24s\n",
      "96:\tlearn: 0.0107103\ttest: 0.0111258\tbest: 0.0111258 (96)\ttotal: 28.2s\tremaining: 23m 45s\n"
     ]
    },
    {
     "output_type": "error",
     "ename": "KeyboardInterrupt",
     "evalue": "",
     "traceback": [
      "\u001b[1;31m---------------------------------------------------------------------------\u001b[0m",
      "\u001b[1;31mKeyboardInterrupt\u001b[0m                         Traceback (most recent call last)",
      "\u001b[1;32m<ipython-input-10-a4f336a6f434>\u001b[0m in \u001b[0;36m<module>\u001b[1;34m\u001b[0m\n\u001b[0;32m     27\u001b[0m          \u001b[0mverbose_eval\u001b[0m\u001b[1;33m=\u001b[0m\u001b[0mcatboost_params\u001b[0m\u001b[1;33m[\u001b[0m\u001b[1;34m'depth'\u001b[0m\u001b[1;33m]\u001b[0m\u001b[1;33m*\u001b[0m\u001b[1;36m4\u001b[0m\u001b[1;33m,\u001b[0m\u001b[1;33m\u001b[0m\u001b[1;33m\u001b[0m\u001b[0m\n\u001b[0;32m     28\u001b[0m          \u001b[0muse_best_model\u001b[0m\u001b[1;33m=\u001b[0m\u001b[1;32mTrue\u001b[0m\u001b[1;33m,\u001b[0m\u001b[1;33m\u001b[0m\u001b[1;33m\u001b[0m\u001b[0m\n\u001b[1;32m---> 29\u001b[1;33m          \u001b[0mplot\u001b[0m\u001b[1;33m=\u001b[0m\u001b[1;32mFalse\u001b[0m\u001b[1;33m\u001b[0m\u001b[1;33m\u001b[0m\u001b[0m\n\u001b[0m\u001b[0;32m     30\u001b[0m          )\n",
      "\u001b[1;32m~\\anaconda3\\lib\\site-packages\\catboost\\core.py\u001b[0m in \u001b[0;36mfit\u001b[1;34m(self, X, y, cat_features, sample_weight, baseline, use_best_model, eval_set, verbose, logging_level, plot, column_description, verbose_eval, metric_period, silent, early_stopping_rounds, save_snapshot, snapshot_file, snapshot_interval, init_model)\u001b[0m\n\u001b[0;32m   4844\u001b[0m                          \u001b[0muse_best_model\u001b[0m\u001b[1;33m,\u001b[0m \u001b[0meval_set\u001b[0m\u001b[1;33m,\u001b[0m \u001b[0mverbose\u001b[0m\u001b[1;33m,\u001b[0m \u001b[0mlogging_level\u001b[0m\u001b[1;33m,\u001b[0m \u001b[0mplot\u001b[0m\u001b[1;33m,\u001b[0m \u001b[0mcolumn_description\u001b[0m\u001b[1;33m,\u001b[0m\u001b[1;33m\u001b[0m\u001b[1;33m\u001b[0m\u001b[0m\n\u001b[0;32m   4845\u001b[0m                          \u001b[0mverbose_eval\u001b[0m\u001b[1;33m,\u001b[0m \u001b[0mmetric_period\u001b[0m\u001b[1;33m,\u001b[0m \u001b[0msilent\u001b[0m\u001b[1;33m,\u001b[0m \u001b[0mearly_stopping_rounds\u001b[0m\u001b[1;33m,\u001b[0m\u001b[1;33m\u001b[0m\u001b[1;33m\u001b[0m\u001b[0m\n\u001b[1;32m-> 4846\u001b[1;33m                          save_snapshot, snapshot_file, snapshot_interval, init_model)\n\u001b[0m\u001b[0;32m   4847\u001b[0m \u001b[1;33m\u001b[0m\u001b[0m\n\u001b[0;32m   4848\u001b[0m     \u001b[1;32mdef\u001b[0m \u001b[0mpredict\u001b[0m\u001b[1;33m(\u001b[0m\u001b[0mself\u001b[0m\u001b[1;33m,\u001b[0m \u001b[0mdata\u001b[0m\u001b[1;33m,\u001b[0m \u001b[0mprediction_type\u001b[0m\u001b[1;33m=\u001b[0m\u001b[1;32mNone\u001b[0m\u001b[1;33m,\u001b[0m \u001b[0mntree_start\u001b[0m\u001b[1;33m=\u001b[0m\u001b[1;36m0\u001b[0m\u001b[1;33m,\u001b[0m \u001b[0mntree_end\u001b[0m\u001b[1;33m=\u001b[0m\u001b[1;36m0\u001b[0m\u001b[1;33m,\u001b[0m \u001b[0mthread_count\u001b[0m\u001b[1;33m=\u001b[0m\u001b[1;33m-\u001b[0m\u001b[1;36m1\u001b[0m\u001b[1;33m,\u001b[0m \u001b[0mverbose\u001b[0m\u001b[1;33m=\u001b[0m\u001b[1;32mNone\u001b[0m\u001b[1;33m)\u001b[0m\u001b[1;33m:\u001b[0m\u001b[1;33m\u001b[0m\u001b[1;33m\u001b[0m\u001b[0m\n",
      "\u001b[1;32m~\\anaconda3\\lib\\site-packages\\catboost\\core.py\u001b[0m in \u001b[0;36m_fit\u001b[1;34m(self, X, y, cat_features, text_features, embedding_features, pairs, sample_weight, group_id, group_weight, subgroup_id, pairs_weight, baseline, use_best_model, eval_set, verbose, logging_level, plot, column_description, verbose_eval, metric_period, silent, early_stopping_rounds, save_snapshot, snapshot_file, snapshot_interval, init_model)\u001b[0m\n\u001b[0;32m   1807\u001b[0m                 \u001b[0mparams\u001b[0m\u001b[1;33m,\u001b[0m\u001b[1;33m\u001b[0m\u001b[1;33m\u001b[0m\u001b[0m\n\u001b[0;32m   1808\u001b[0m                 \u001b[0mallow_clear_pool\u001b[0m\u001b[1;33m,\u001b[0m\u001b[1;33m\u001b[0m\u001b[1;33m\u001b[0m\u001b[0m\n\u001b[1;32m-> 1809\u001b[1;33m                 \u001b[0mtrain_params\u001b[0m\u001b[1;33m[\u001b[0m\u001b[1;34m\"init_model\"\u001b[0m\u001b[1;33m]\u001b[0m\u001b[1;33m\u001b[0m\u001b[1;33m\u001b[0m\u001b[0m\n\u001b[0m\u001b[0;32m   1810\u001b[0m             )\n\u001b[0;32m   1811\u001b[0m \u001b[1;33m\u001b[0m\u001b[0m\n",
      "\u001b[1;32m~\\anaconda3\\lib\\site-packages\\catboost\\core.py\u001b[0m in \u001b[0;36m_train\u001b[1;34m(self, train_pool, test_pool, params, allow_clear_pool, init_model)\u001b[0m\n\u001b[0;32m   1256\u001b[0m \u001b[1;33m\u001b[0m\u001b[0m\n\u001b[0;32m   1257\u001b[0m     \u001b[1;32mdef\u001b[0m \u001b[0m_train\u001b[0m\u001b[1;33m(\u001b[0m\u001b[0mself\u001b[0m\u001b[1;33m,\u001b[0m \u001b[0mtrain_pool\u001b[0m\u001b[1;33m,\u001b[0m \u001b[0mtest_pool\u001b[0m\u001b[1;33m,\u001b[0m \u001b[0mparams\u001b[0m\u001b[1;33m,\u001b[0m \u001b[0mallow_clear_pool\u001b[0m\u001b[1;33m,\u001b[0m \u001b[0minit_model\u001b[0m\u001b[1;33m)\u001b[0m\u001b[1;33m:\u001b[0m\u001b[1;33m\u001b[0m\u001b[1;33m\u001b[0m\u001b[0m\n\u001b[1;32m-> 1258\u001b[1;33m         \u001b[0mself\u001b[0m\u001b[1;33m.\u001b[0m\u001b[0m_object\u001b[0m\u001b[1;33m.\u001b[0m\u001b[0m_train\u001b[0m\u001b[1;33m(\u001b[0m\u001b[0mtrain_pool\u001b[0m\u001b[1;33m,\u001b[0m \u001b[0mtest_pool\u001b[0m\u001b[1;33m,\u001b[0m \u001b[0mparams\u001b[0m\u001b[1;33m,\u001b[0m \u001b[0mallow_clear_pool\u001b[0m\u001b[1;33m,\u001b[0m \u001b[0minit_model\u001b[0m\u001b[1;33m.\u001b[0m\u001b[0m_object\u001b[0m \u001b[1;32mif\u001b[0m \u001b[0minit_model\u001b[0m \u001b[1;32melse\u001b[0m \u001b[1;32mNone\u001b[0m\u001b[1;33m)\u001b[0m\u001b[1;33m\u001b[0m\u001b[1;33m\u001b[0m\u001b[0m\n\u001b[0m\u001b[0;32m   1259\u001b[0m         \u001b[0mself\u001b[0m\u001b[1;33m.\u001b[0m\u001b[0m_set_trained_model_attributes\u001b[0m\u001b[1;33m(\u001b[0m\u001b[1;33m)\u001b[0m\u001b[1;33m\u001b[0m\u001b[1;33m\u001b[0m\u001b[0m\n\u001b[0;32m   1260\u001b[0m \u001b[1;33m\u001b[0m\u001b[0m\n",
      "\u001b[1;32m_catboost.pyx\u001b[0m in \u001b[0;36m_catboost._CatBoost._train\u001b[1;34m()\u001b[0m\n",
      "\u001b[1;32m_catboost.pyx\u001b[0m in \u001b[0;36m_catboost._CatBoost._train\u001b[1;34m()\u001b[0m\n",
      "\u001b[1;31mKeyboardInterrupt\u001b[0m: "
     ]
    }
   ],
   "source": [
    "train_pool = Pool(\n",
    "    X_train,\n",
    "    y_train,\n",
    "    cat_features=cat_features_ids,\n",
    ")\n",
    "test_pool = Pool(\n",
    "    X_test,\n",
    "    y_test,\n",
    "    cat_features=cat_features_ids,\n",
    ")\n",
    "\n",
    "model = CatBoostRegressor(iterations = catboost_params['iterations'],\n",
    "                          learning_rate = catboost_params['learning_rate'],\n",
    "                          random_seed = RANDOM_SEED,\n",
    "                          eval_metric=catboost_params['eval_metric'],\n",
    "                          custom_metric=catboost_params['custom_metric'],\n",
    "                          l2_leaf_reg=catboost_params['l2_leaf_reg'],\n",
    "                          depth=catboost_params['depth'],\n",
    "                          metric_period=catboost_params['depth'],\n",
    "                          od_type='Iter',\n",
    "                          od_wait=20,\n",
    "                          rsm=0.2,\n",
    "                          devices='GPU'\n",
    "                         )\n",
    "model.fit(train_pool,\n",
    "         eval_set=test_pool,\n",
    "         verbose_eval=catboost_params['depth']*4,\n",
    "         use_best_model=True,\n",
    "         plot=False\n",
    "         )"
   ]
  },
  {
   "cell_type": "code",
   "execution_count": null,
   "metadata": {
    "ExecuteTime": {
     "end_time": "2020-12-13T20:07:49.236450Z",
     "start_time": "2020-12-13T20:07:48.425602Z"
    }
   },
   "outputs": [],
   "source": [
    "predict = model.predict(X_test)\n",
    "\n",
    "predict = np.e ** predict\n",
    "y_test = np.e ** y_test\n",
    "\n",
    "# оцениваем точность\n",
    "MAPE = f'{(mape(y_test, predict))*100:0.4f}'\n",
    "print(f\"Точность модели по метрике MAPE: {MAPE}%\")"
   ]
  },
  {
   "cell_type": "code",
   "execution_count": null,
   "metadata": {
    "ExecuteTime": {
     "end_time": "2020-12-13T20:17:22.776513Z",
     "start_time": "2020-12-13T20:17:22.749466Z"
    }
   },
   "outputs": [],
   "source": [
    "data.duplicated(subset='sell_id', keep='first').value_counts()"
   ]
  },
  {
   "cell_type": "code",
   "execution_count": null,
   "metadata": {
    "ExecuteTime": {
     "end_time": "2020-12-14T15:22:09.145364Z",
     "start_time": "2020-12-14T15:22:09.121428Z"
    }
   },
   "outputs": [],
   "source": [
    "import hyperopt \n",
    "DEVICE='GPU'\n",
    "catb_kwargs = {'iterations': 5000, 'X_train': X,'y_train': y,\n",
    "               'categorical_features_indices': cat_features_ids,\n",
    "               'ignored_features': 'price',\n",
    "               'random_seed':RANDOM_SEED, \n",
    "               'eval_metric': 'MAPE',\n",
    "               'od_type':'Iter', \n",
    "               'od_wait':20\n",
    "               }\n",
    "\n",
    "params_space = {\n",
    "    'l2_leaf_reg': hyperopt.hp.qloguniform('l2_leaf_reg', 0, 2, 1),\n",
    "    'learning_rate': hyperopt.hp.uniform('learning_rate', 1e-3, 1e-1),\n",
    "    'max_depth': hyperopt.hp.uniform('max_depth', 2, 16)}\n",
    "\n",
    "rstate = np.random.RandomState(RANDOM_SEED)\n",
    "trials = hyperopt.Trials()\n",
    "\n",
    "catb_hyperopt_inst = HyperOpt(**catb_kwargs)\n",
    "\n",
    "\n",
    "trials = hyperopt.Trials()\n",
    "best = hyperopt.fmin(\n",
    "    catb_hyperopt_inst.hyperopt_catb_score,\n",
    "    space=params_space,\n",
    "    algo=hyperopt.tpe.suggest,\n",
    "    max_evals=2,\n",
    "    trials=trials,\n",
    "    rstate=rstate\n",
    ")\n",
    "print(best)"
   ]
  },
  {
   "cell_type": "code",
   "execution_count": null,
   "metadata": {
    "run_control": {
     "marked": true
    }
   },
   "outputs": [],
   "source": [
    "import winsound\n",
    "freq = 2000 # Set frequency To 2500 Hertz\n",
    "dur = 700 # Set duration To 1000 ms == 1 second\n",
    "winsound.Beep(freq, dur)"
   ]
  }
 ],
 "metadata": {
  "kernelspec": {
   "display_name": "Python 3",
   "language": "python",
   "name": "python3"
  },
  "language_info": {
   "codemirror_mode": {
    "name": "ipython",
    "version": 3
   },
   "file_extension": ".py",
   "mimetype": "text/x-python",
   "name": "python",
   "nbconvert_exporter": "python",
   "pygments_lexer": "ipython3",
   "version": "3.7.7-final"
  }
 },
 "nbformat": 4,
 "nbformat_minor": 2
}
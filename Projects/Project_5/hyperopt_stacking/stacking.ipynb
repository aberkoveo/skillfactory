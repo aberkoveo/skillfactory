{
 "metadata": {
  "language_info": {
   "codemirror_mode": {
    "name": "ipython",
    "version": 3
   },
   "file_extension": ".py",
   "mimetype": "text/x-python",
   "name": "python",
   "nbconvert_exporter": "python",
   "pygments_lexer": "ipython3",
   "version": "3.7.7-final"
  },
  "orig_nbformat": 2,
  "kernelspec": {
   "name": "python3",
   "display_name": "Python 3",
   "language": "python"
  }
 },
 "nbformat": 4,
 "nbformat_minor": 2,
 "cells": [
  {
   "cell_type": "code",
   "execution_count": 147,
   "metadata": {},
   "outputs": [],
   "source": [
    "from sklearn.ensemble import RandomForestRegressor\n",
    "from sklearn.ensemble import StackingRegressor\n",
    "import pandas as pd\n",
    "import numpy as np\n",
    "\n",
    "from catboost import CatBoostRegressor, Pool, cv\n",
    "import xgboost as xgb\n",
    "\n",
    "from sklearn.model_selection import train_test_split"
   ]
  },
  {
   "cell_type": "code",
   "execution_count": 148,
   "metadata": {},
   "outputs": [],
   "source": [
    "def mape(y_true, y_pred):\n",
    "    return np.mean(np.abs((y_pred-y_true)/y_true))\n",
    "\n",
    "RANDOM_SEED=42"
   ]
  },
  {
   "cell_type": "code",
   "execution_count": 149,
   "metadata": {},
   "outputs": [
    {
     "output_type": "error",
     "ename": "MemoryError",
     "evalue": "Unable to allocate 16.0 KiB for an array with shape (2048,) and data type int64",
     "traceback": [
      "\u001b[1;31m---------------------------------------------------------------------------\u001b[0m",
      "\u001b[1;31mMemoryError\u001b[0m                               Traceback (most recent call last)",
      "\u001b[1;32m<ipython-input-149-6683dc23bb93>\u001b[0m in \u001b[0;36m<module>\u001b[1;34m\u001b[0m\n\u001b[1;32m----> 1\u001b[1;33m \u001b[0mdata\u001b[0m \u001b[1;33m=\u001b[0m \u001b[0mpd\u001b[0m\u001b[1;33m.\u001b[0m\u001b[0mread_csv\u001b[0m\u001b[1;33m(\u001b[0m\u001b[1;34m'data_for_stacking.csv'\u001b[0m\u001b[1;33m)\u001b[0m\u001b[1;33m\u001b[0m\u001b[1;33m\u001b[0m\u001b[0m\n\u001b[0m\u001b[0;32m      2\u001b[0m cat_features_ids = ['bodyType', 'brand', 'color','descr_labels', 'fuelType', \n\u001b[0;32m      3\u001b[0m                     \u001b[1;34m'model_name'\u001b[0m\u001b[1;33m,\u001b[0m \u001b[1;34m'vehicleTransmission'\u001b[0m\u001b[1;33m,\u001b[0m\u001b[1;33m\u001b[0m\u001b[1;33m\u001b[0m\u001b[0m\n\u001b[0;32m      4\u001b[0m                     'pts', 'privod', 'wheel', 'state', 'descr_labels']\n\u001b[0;32m      5\u001b[0m \u001b[1;33m\u001b[0m\u001b[0m\n",
      "\u001b[1;32m~\\anaconda3\\lib\\site-packages\\pandas\\io\\parsers.py\u001b[0m in \u001b[0;36mread_csv\u001b[1;34m(filepath_or_buffer, sep, delimiter, header, names, index_col, usecols, squeeze, prefix, mangle_dupe_cols, dtype, engine, converters, true_values, false_values, skipinitialspace, skiprows, skipfooter, nrows, na_values, keep_default_na, na_filter, verbose, skip_blank_lines, parse_dates, infer_datetime_format, keep_date_col, date_parser, dayfirst, cache_dates, iterator, chunksize, compression, thousands, decimal, lineterminator, quotechar, quoting, doublequote, escapechar, comment, encoding, dialect, error_bad_lines, warn_bad_lines, delim_whitespace, low_memory, memory_map, float_precision)\u001b[0m\n\u001b[0;32m    684\u001b[0m     )\n\u001b[0;32m    685\u001b[0m \u001b[1;33m\u001b[0m\u001b[0m\n\u001b[1;32m--> 686\u001b[1;33m     \u001b[1;32mreturn\u001b[0m \u001b[0m_read\u001b[0m\u001b[1;33m(\u001b[0m\u001b[0mfilepath_or_buffer\u001b[0m\u001b[1;33m,\u001b[0m \u001b[0mkwds\u001b[0m\u001b[1;33m)\u001b[0m\u001b[1;33m\u001b[0m\u001b[1;33m\u001b[0m\u001b[0m\n\u001b[0m\u001b[0;32m    687\u001b[0m \u001b[1;33m\u001b[0m\u001b[0m\n\u001b[0;32m    688\u001b[0m \u001b[1;33m\u001b[0m\u001b[0m\n",
      "\u001b[1;32m~\\anaconda3\\lib\\site-packages\\pandas\\io\\parsers.py\u001b[0m in \u001b[0;36m_read\u001b[1;34m(filepath_or_buffer, kwds)\u001b[0m\n\u001b[0;32m    456\u001b[0m \u001b[1;33m\u001b[0m\u001b[0m\n\u001b[0;32m    457\u001b[0m     \u001b[1;32mtry\u001b[0m\u001b[1;33m:\u001b[0m\u001b[1;33m\u001b[0m\u001b[1;33m\u001b[0m\u001b[0m\n\u001b[1;32m--> 458\u001b[1;33m         \u001b[0mdata\u001b[0m \u001b[1;33m=\u001b[0m \u001b[0mparser\u001b[0m\u001b[1;33m.\u001b[0m\u001b[0mread\u001b[0m\u001b[1;33m(\u001b[0m\u001b[0mnrows\u001b[0m\u001b[1;33m)\u001b[0m\u001b[1;33m\u001b[0m\u001b[1;33m\u001b[0m\u001b[0m\n\u001b[0m\u001b[0;32m    459\u001b[0m     \u001b[1;32mfinally\u001b[0m\u001b[1;33m:\u001b[0m\u001b[1;33m\u001b[0m\u001b[1;33m\u001b[0m\u001b[0m\n\u001b[0;32m    460\u001b[0m         \u001b[0mparser\u001b[0m\u001b[1;33m.\u001b[0m\u001b[0mclose\u001b[0m\u001b[1;33m(\u001b[0m\u001b[1;33m)\u001b[0m\u001b[1;33m\u001b[0m\u001b[1;33m\u001b[0m\u001b[0m\n",
      "\u001b[1;32m~\\anaconda3\\lib\\site-packages\\pandas\\io\\parsers.py\u001b[0m in \u001b[0;36mread\u001b[1;34m(self, nrows)\u001b[0m\n\u001b[0;32m   1184\u001b[0m     \u001b[1;32mdef\u001b[0m \u001b[0mread\u001b[0m\u001b[1;33m(\u001b[0m\u001b[0mself\u001b[0m\u001b[1;33m,\u001b[0m \u001b[0mnrows\u001b[0m\u001b[1;33m=\u001b[0m\u001b[1;32mNone\u001b[0m\u001b[1;33m)\u001b[0m\u001b[1;33m:\u001b[0m\u001b[1;33m\u001b[0m\u001b[1;33m\u001b[0m\u001b[0m\n\u001b[0;32m   1185\u001b[0m         \u001b[0mnrows\u001b[0m \u001b[1;33m=\u001b[0m \u001b[0m_validate_integer\u001b[0m\u001b[1;33m(\u001b[0m\u001b[1;34m\"nrows\"\u001b[0m\u001b[1;33m,\u001b[0m \u001b[0mnrows\u001b[0m\u001b[1;33m)\u001b[0m\u001b[1;33m\u001b[0m\u001b[1;33m\u001b[0m\u001b[0m\n\u001b[1;32m-> 1186\u001b[1;33m         \u001b[0mret\u001b[0m \u001b[1;33m=\u001b[0m \u001b[0mself\u001b[0m\u001b[1;33m.\u001b[0m\u001b[0m_engine\u001b[0m\u001b[1;33m.\u001b[0m\u001b[0mread\u001b[0m\u001b[1;33m(\u001b[0m\u001b[0mnrows\u001b[0m\u001b[1;33m)\u001b[0m\u001b[1;33m\u001b[0m\u001b[1;33m\u001b[0m\u001b[0m\n\u001b[0m\u001b[0;32m   1187\u001b[0m \u001b[1;33m\u001b[0m\u001b[0m\n\u001b[0;32m   1188\u001b[0m         \u001b[1;31m# May alter columns / col_dict\u001b[0m\u001b[1;33m\u001b[0m\u001b[1;33m\u001b[0m\u001b[1;33m\u001b[0m\u001b[0m\n",
      "\u001b[1;32m~\\anaconda3\\lib\\site-packages\\pandas\\io\\parsers.py\u001b[0m in \u001b[0;36mread\u001b[1;34m(self, nrows)\u001b[0m\n\u001b[0;32m   2143\u001b[0m     \u001b[1;32mdef\u001b[0m \u001b[0mread\u001b[0m\u001b[1;33m(\u001b[0m\u001b[0mself\u001b[0m\u001b[1;33m,\u001b[0m \u001b[0mnrows\u001b[0m\u001b[1;33m=\u001b[0m\u001b[1;32mNone\u001b[0m\u001b[1;33m)\u001b[0m\u001b[1;33m:\u001b[0m\u001b[1;33m\u001b[0m\u001b[1;33m\u001b[0m\u001b[0m\n\u001b[0;32m   2144\u001b[0m         \u001b[1;32mtry\u001b[0m\u001b[1;33m:\u001b[0m\u001b[1;33m\u001b[0m\u001b[1;33m\u001b[0m\u001b[0m\n\u001b[1;32m-> 2145\u001b[1;33m             \u001b[0mdata\u001b[0m \u001b[1;33m=\u001b[0m \u001b[0mself\u001b[0m\u001b[1;33m.\u001b[0m\u001b[0m_reader\u001b[0m\u001b[1;33m.\u001b[0m\u001b[0mread\u001b[0m\u001b[1;33m(\u001b[0m\u001b[0mnrows\u001b[0m\u001b[1;33m)\u001b[0m\u001b[1;33m\u001b[0m\u001b[1;33m\u001b[0m\u001b[0m\n\u001b[0m\u001b[0;32m   2146\u001b[0m         \u001b[1;32mexcept\u001b[0m \u001b[0mStopIteration\u001b[0m\u001b[1;33m:\u001b[0m\u001b[1;33m\u001b[0m\u001b[1;33m\u001b[0m\u001b[0m\n\u001b[0;32m   2147\u001b[0m             \u001b[1;32mif\u001b[0m \u001b[0mself\u001b[0m\u001b[1;33m.\u001b[0m\u001b[0m_first_chunk\u001b[0m\u001b[1;33m:\u001b[0m\u001b[1;33m\u001b[0m\u001b[1;33m\u001b[0m\u001b[0m\n",
      "\u001b[1;32mpandas\\_libs\\parsers.pyx\u001b[0m in \u001b[0;36mpandas._libs.parsers.TextReader.read\u001b[1;34m()\u001b[0m\n",
      "\u001b[1;32mpandas\\_libs\\parsers.pyx\u001b[0m in \u001b[0;36mpandas._libs.parsers.TextReader._read_low_memory\u001b[1;34m()\u001b[0m\n",
      "\u001b[1;32mpandas\\_libs\\parsers.pyx\u001b[0m in \u001b[0;36mpandas._libs.parsers.TextReader._read_rows\u001b[1;34m()\u001b[0m\n",
      "\u001b[1;32mpandas\\_libs\\parsers.pyx\u001b[0m in \u001b[0;36mpandas._libs.parsers.TextReader._convert_column_data\u001b[1;34m()\u001b[0m\n",
      "\u001b[1;32mpandas\\_libs\\parsers.pyx\u001b[0m in \u001b[0;36mpandas._libs.parsers.TextReader._convert_tokens\u001b[1;34m()\u001b[0m\n",
      "\u001b[1;32mpandas\\_libs\\parsers.pyx\u001b[0m in \u001b[0;36mpandas._libs.parsers.TextReader._convert_with_dtype\u001b[1;34m()\u001b[0m\n",
      "\u001b[1;32mpandas\\_libs\\parsers.pyx\u001b[0m in \u001b[0;36mpandas._libs.parsers._try_int64\u001b[1;34m()\u001b[0m\n",
      "\u001b[1;31mMemoryError\u001b[0m: Unable to allocate 16.0 KiB for an array with shape (2048,) and data type int64"
     ]
    }
   ],
   "source": [
    "data = pd.read_csv('data_for_stacking.csv')\n",
    "cat_features_ids = ['bodyType', 'brand', 'color','descr_labels', 'fuelType', \n",
    "                    'model_name', 'vehicleTransmission',\n",
    "                    'pts', 'privod', 'wheel', 'state', 'descr_labels']\n",
    "\n",
    "for colum in cat_features_ids:\n",
    "    data[colum] = data[colum].astype('category').cat.codes\n",
    "\n",
    "data.drop('Unnamed: 0', axis=1, inplace=True, errors='ignore')"
   ]
  },
  {
   "cell_type": "code",
   "execution_count": 140,
   "metadata": {},
   "outputs": [
    {
     "output_type": "execute_result",
     "data": {
      "text/plain": [
       "array([  0,   3,  37,  49,  40,  11,   9,   1,  43,  44,  35,  72,  20,\n",
       "        16,  29,  32,  51,  25,  19,  39,  28,  36,  13,  12,  56,  54,\n",
       "        18,  61,  65,  41,  57,  53,   7,  63,  38,  58,  75,  67,  83,\n",
       "        34,  59,  68,  42,   2,  21,   5,  50,  17,  30,  27,  24,  23,\n",
       "        55,  31,  26,   6,  14,  48,   8,   4,  22,  10,  33,  15,  64,\n",
       "        45,  47,  71,  46,  60,  76,  52,  74,  62,  84,  69,  70,  89,\n",
       "        80,  66,  81,  85,  82,  73,  92,  94,  77,  79,  98,  99,  93,\n",
       "        88,  96,  78,  86,  87,  90,  95, 104,  97, 106,  91, 100, 105,\n",
       "       103, 102, 115, 107, 110, 101, 111, 109, 108, 120, 113], dtype=int64)"
      ]
     },
     "metadata": {},
     "execution_count": 140
    }
   ],
   "source": [
    "data[data['sample']==1].equip_len.unique()"
   ]
  },
  {
   "cell_type": "code",
   "execution_count": 141,
   "metadata": {},
   "outputs": [],
   "source": [
    "X = data.query('sample == 1').drop(['sample'], axis=1)\n",
    "y = X['price']\n",
    "\n",
    "X.drop('price', axis=1, inplace=True, errors='ignore')\n",
    "X_sub = data.query('sample == 0').drop(['sample'], axis=1)\n",
    "\n",
    "VAL_SIZE=0.20\n",
    "X_train, X_test, y_train, y_test = train_test_split(X, y, test_size=VAL_SIZE, shuffle=True, random_state=RANDOM_SEED)"
   ]
  },
  {
   "cell_type": "code",
   "execution_count": 142,
   "metadata": {},
   "outputs": [],
   "source": [
    "y_train = np.log(y_train)\n",
    "y_test = np.log(y_test)"
   ]
  },
  {
   "cell_type": "code",
   "execution_count": 143,
   "metadata": {},
   "outputs": [
    {
     "output_type": "stream",
     "name": "stderr",
     "text": [
      "Warning: Overfitting detector is active, thus evaluation metric is calculated on every iteration. 'metric_period' is ignored for evaluation metric.\n",
      "0:\tlearn: 0.0704868\ttest: 0.0706362\tbest: 0.0706362 (0)\ttotal: 528ms\tremaining: 44m 1s\n",
      "48:\tlearn: 0.0130970\ttest: 0.0133373\tbest: 0.0133373 (48)\ttotal: 24.2s\tremaining: 40m 46s\n",
      "96:\tlearn: 0.0106379\ttest: 0.0110393\tbest: 0.0110393 (96)\ttotal: 47.9s\tremaining: 40m 23s\n",
      "144:\tlearn: 0.0099386\ttest: 0.0105261\tbest: 0.0105261 (144)\ttotal: 1m 11s\tremaining: 40m 2s\n",
      "192:\tlearn: 0.0094102\ttest: 0.0101787\tbest: 0.0101787 (192)\ttotal: 1m 35s\tremaining: 39m 30s\n",
      "240:\tlearn: 0.0089125\ttest: 0.0098906\tbest: 0.0098906 (240)\ttotal: 1m 59s\tremaining: 39m 14s\n",
      "288:\tlearn: 0.0085308\ttest: 0.0096830\tbest: 0.0096830 (288)\ttotal: 2m 22s\tremaining: 38m 47s\n",
      "336:\tlearn: 0.0082050\ttest: 0.0095304\tbest: 0.0095304 (336)\ttotal: 2m 46s\tremaining: 38m 24s\n",
      "384:\tlearn: 0.0079127\ttest: 0.0093996\tbest: 0.0093996 (384)\ttotal: 3m 10s\tremaining: 37m 58s\n",
      "432:\tlearn: 0.0076489\ttest: 0.0092833\tbest: 0.0092833 (432)\ttotal: 3m 34s\tremaining: 37m 40s\n",
      "480:\tlearn: 0.0074255\ttest: 0.0091792\tbest: 0.0091792 (480)\ttotal: 3m 58s\tremaining: 37m 20s\n",
      "528:\tlearn: 0.0072050\ttest: 0.0090856\tbest: 0.0090856 (528)\ttotal: 4m 23s\tremaining: 37m 3s\n",
      "576:\tlearn: 0.0070005\ttest: 0.0090137\tbest: 0.0090136 (575)\ttotal: 4m 48s\tremaining: 36m 48s\n",
      "624:\tlearn: 0.0068028\ttest: 0.0089494\tbest: 0.0089494 (624)\ttotal: 5m 13s\tremaining: 36m 32s\n",
      "672:\tlearn: 0.0066141\ttest: 0.0088830\tbest: 0.0088830 (672)\ttotal: 5m 38s\tremaining: 36m 19s\n",
      "720:\tlearn: 0.0064402\ttest: 0.0088191\tbest: 0.0088191 (720)\ttotal: 6m 3s\tremaining: 35m 58s\n",
      "768:\tlearn: 0.0062887\ttest: 0.0087663\tbest: 0.0087663 (768)\ttotal: 6m 29s\tremaining: 35m 40s\n",
      "816:\tlearn: 0.0061209\ttest: 0.0087114\tbest: 0.0087114 (816)\ttotal: 6m 54s\tremaining: 35m 24s\n",
      "864:\tlearn: 0.0059658\ttest: 0.0086622\tbest: 0.0086622 (864)\ttotal: 7m 21s\tremaining: 35m 8s\n",
      "912:\tlearn: 0.0058070\ttest: 0.0086113\tbest: 0.0086113 (912)\ttotal: 7m 47s\tremaining: 34m 50s\n",
      "960:\tlearn: 0.0056890\ttest: 0.0085765\tbest: 0.0085765 (960)\ttotal: 8m 12s\tremaining: 34m 31s\n",
      "1008:\tlearn: 0.0055465\ttest: 0.0085308\tbest: 0.0085308 (1008)\ttotal: 8m 39s\tremaining: 34m 15s\n",
      "1056:\tlearn: 0.0054232\ttest: 0.0084934\tbest: 0.0084934 (1056)\ttotal: 9m 5s\tremaining: 33m 56s\n",
      "1104:\tlearn: 0.0053075\ttest: 0.0084582\tbest: 0.0084582 (1104)\ttotal: 9m 32s\tremaining: 33m 38s\n",
      "1152:\tlearn: 0.0051860\ttest: 0.0084239\tbest: 0.0084239 (1152)\ttotal: 9m 58s\tremaining: 33m 18s\n",
      "1200:\tlearn: 0.0050633\ttest: 0.0083805\tbest: 0.0083805 (1200)\ttotal: 10m 26s\tremaining: 33m 2s\n",
      "1248:\tlearn: 0.0049450\ttest: 0.0083485\tbest: 0.0083485 (1248)\ttotal: 10m 53s\tremaining: 32m 41s\n",
      "1296:\tlearn: 0.0048423\ttest: 0.0083153\tbest: 0.0083153 (1296)\ttotal: 11m 18s\tremaining: 32m 18s\n",
      "1344:\tlearn: 0.0047330\ttest: 0.0082781\tbest: 0.0082781 (1344)\ttotal: 11m 45s\tremaining: 31m 56s\n",
      "1392:\tlearn: 0.0046286\ttest: 0.0082443\tbest: 0.0082443 (1392)\ttotal: 12m 10s\tremaining: 31m 32s\n",
      "1440:\tlearn: 0.0045293\ttest: 0.0082179\tbest: 0.0082179 (1440)\ttotal: 12m 37s\tremaining: 31m 10s\n",
      "1488:\tlearn: 0.0044362\ttest: 0.0081910\tbest: 0.0081910 (1488)\ttotal: 13m 4s\tremaining: 30m 49s\n",
      "1536:\tlearn: 0.0043431\ttest: 0.0081637\tbest: 0.0081637 (1536)\ttotal: 13m 30s\tremaining: 30m 26s\n",
      "1584:\tlearn: 0.0042516\ttest: 0.0081355\tbest: 0.0081355 (1584)\ttotal: 13m 56s\tremaining: 30m 2s\n",
      "1632:\tlearn: 0.0041472\ttest: 0.0081037\tbest: 0.0081037 (1632)\ttotal: 14m 23s\tremaining: 29m 39s\n",
      "1680:\tlearn: 0.0040600\ttest: 0.0080827\tbest: 0.0080827 (1680)\ttotal: 14m 50s\tremaining: 29m 17s\n",
      "1728:\tlearn: 0.0039723\ttest: 0.0080554\tbest: 0.0080554 (1728)\ttotal: 15m 17s\tremaining: 28m 56s\n",
      "1776:\tlearn: 0.0038854\ttest: 0.0080324\tbest: 0.0080324 (1776)\ttotal: 15m 45s\tremaining: 28m 34s\n",
      "1824:\tlearn: 0.0038118\ttest: 0.0080132\tbest: 0.0080132 (1824)\ttotal: 16m 13s\tremaining: 28m 13s\n",
      "1872:\tlearn: 0.0037419\ttest: 0.0079912\tbest: 0.0079912 (1872)\ttotal: 16m 40s\tremaining: 27m 50s\n",
      "1920:\tlearn: 0.0036695\ttest: 0.0079711\tbest: 0.0079711 (1920)\ttotal: 17m 7s\tremaining: 27m 27s\n",
      "1968:\tlearn: 0.0036062\ttest: 0.0079519\tbest: 0.0079518 (1967)\ttotal: 17m 35s\tremaining: 27m 4s\n",
      "2016:\tlearn: 0.0035388\ttest: 0.0079348\tbest: 0.0079348 (2016)\ttotal: 18m 3s\tremaining: 26m 41s\n",
      "2064:\tlearn: 0.0034695\ttest: 0.0079169\tbest: 0.0079169 (2064)\ttotal: 18m 31s\tremaining: 26m 19s\n",
      "2112:\tlearn: 0.0034087\ttest: 0.0079019\tbest: 0.0079019 (2112)\ttotal: 18m 58s\tremaining: 25m 56s\n",
      "2160:\tlearn: 0.0033483\ttest: 0.0078869\tbest: 0.0078869 (2160)\ttotal: 19m 25s\tremaining: 25m 31s\n",
      "2208:\tlearn: 0.0032906\ttest: 0.0078755\tbest: 0.0078755 (2208)\ttotal: 19m 54s\tremaining: 25m 8s\n",
      "2256:\tlearn: 0.0032369\ttest: 0.0078577\tbest: 0.0078577 (2256)\ttotal: 20m 21s\tremaining: 24m 44s\n",
      "2304:\tlearn: 0.0031821\ttest: 0.0078442\tbest: 0.0078442 (2304)\ttotal: 20m 48s\tremaining: 24m 20s\n",
      "2352:\tlearn: 0.0031281\ttest: 0.0078284\tbest: 0.0078284 (2352)\ttotal: 21m 16s\tremaining: 23m 55s\n",
      "2400:\tlearn: 0.0030776\ttest: 0.0078134\tbest: 0.0078134 (2400)\ttotal: 21m 43s\tremaining: 23m 31s\n",
      "2448:\tlearn: 0.0030290\ttest: 0.0078006\tbest: 0.0078006 (2448)\ttotal: 22m 11s\tremaining: 23m 6s\n",
      "2496:\tlearn: 0.0029818\ttest: 0.0077884\tbest: 0.0077884 (2496)\ttotal: 22m 39s\tremaining: 22m 42s\n",
      "2544:\tlearn: 0.0029235\ttest: 0.0077712\tbest: 0.0077712 (2544)\ttotal: 23m 7s\tremaining: 22m 18s\n",
      "2592:\tlearn: 0.0028738\ttest: 0.0077585\tbest: 0.0077585 (2592)\ttotal: 23m 37s\tremaining: 21m 55s\n",
      "2640:\tlearn: 0.0028292\ttest: 0.0077466\tbest: 0.0077466 (2640)\ttotal: 24m 6s\tremaining: 21m 31s\n",
      "2688:\tlearn: 0.0027807\ttest: 0.0077358\tbest: 0.0077358 (2688)\ttotal: 24m 34s\tremaining: 21m 7s\n",
      "2736:\tlearn: 0.0027328\ttest: 0.0077218\tbest: 0.0077218 (2736)\ttotal: 25m 3s\tremaining: 20m 42s\n",
      "2784:\tlearn: 0.0026855\ttest: 0.0077085\tbest: 0.0077084 (2783)\ttotal: 25m 31s\tremaining: 20m 18s\n",
      "2832:\tlearn: 0.0026390\ttest: 0.0076967\tbest: 0.0076967 (2832)\ttotal: 26m 2s\tremaining: 19m 55s\n",
      "2880:\tlearn: 0.0025966\ttest: 0.0076882\tbest: 0.0076882 (2880)\ttotal: 26m 33s\tremaining: 19m 32s\n",
      "2928:\tlearn: 0.0025548\ttest: 0.0076764\tbest: 0.0076764 (2928)\ttotal: 27m 3s\tremaining: 19m 7s\n",
      "2976:\tlearn: 0.0025122\ttest: 0.0076625\tbest: 0.0076625 (2976)\ttotal: 27m 34s\tremaining: 18m 44s\n",
      "3024:\tlearn: 0.0024732\ttest: 0.0076526\tbest: 0.0076526 (3024)\ttotal: 28m 3s\tremaining: 18m 19s\n",
      "3072:\tlearn: 0.0024349\ttest: 0.0076423\tbest: 0.0076423 (3072)\ttotal: 28m 35s\tremaining: 17m 55s\n",
      "3120:\tlearn: 0.0023937\ttest: 0.0076320\tbest: 0.0076320 (3120)\ttotal: 29m 5s\tremaining: 17m 31s\n",
      "3168:\tlearn: 0.0023476\ttest: 0.0076198\tbest: 0.0076198 (3168)\ttotal: 29m 37s\tremaining: 17m 7s\n",
      "3216:\tlearn: 0.0023096\ttest: 0.0076089\tbest: 0.0076089 (3216)\ttotal: 30m 7s\tremaining: 16m 42s\n",
      "3264:\tlearn: 0.0022765\ttest: 0.0076024\tbest: 0.0076023 (3262)\ttotal: 30m 39s\tremaining: 16m 17s\n",
      "3312:\tlearn: 0.0022378\ttest: 0.0075932\tbest: 0.0075931 (3310)\ttotal: 31m 10s\tremaining: 15m 52s\n",
      "3360:\tlearn: 0.0022028\ttest: 0.0075833\tbest: 0.0075830 (3359)\ttotal: 31m 41s\tremaining: 15m 27s\n",
      "3408:\tlearn: 0.0021684\ttest: 0.0075756\tbest: 0.0075756 (3408)\ttotal: 32m 13s\tremaining: 15m 2s\n",
      "3456:\tlearn: 0.0021351\ttest: 0.0075672\tbest: 0.0075672 (3456)\ttotal: 32m 45s\tremaining: 14m 37s\n",
      "3504:\tlearn: 0.0021011\ttest: 0.0075578\tbest: 0.0075578 (3504)\ttotal: 33m 16s\tremaining: 14m 11s\n",
      "3552:\tlearn: 0.0020697\ttest: 0.0075487\tbest: 0.0075487 (3552)\ttotal: 33m 48s\tremaining: 13m 45s\n",
      "3600:\tlearn: 0.0020375\ttest: 0.0075411\tbest: 0.0075411 (3597)\ttotal: 34m 20s\tremaining: 13m 20s\n",
      "3648:\tlearn: 0.0020042\ttest: 0.0075347\tbest: 0.0075347 (3648)\ttotal: 34m 52s\tremaining: 12m 54s\n",
      "3696:\tlearn: 0.0019769\ttest: 0.0075301\tbest: 0.0075301 (3696)\ttotal: 35m 24s\tremaining: 12m 28s\n",
      "3744:\tlearn: 0.0019483\ttest: 0.0075236\tbest: 0.0075236 (3744)\ttotal: 35m 55s\tremaining: 12m 2s\n",
      "3792:\tlearn: 0.0019202\ttest: 0.0075176\tbest: 0.0075176 (3792)\ttotal: 36m 27s\tremaining: 11m 35s\n",
      "3840:\tlearn: 0.0018918\ttest: 0.0075112\tbest: 0.0075112 (3840)\ttotal: 36m 53s\tremaining: 11m 7s\n",
      "3888:\tlearn: 0.0018648\ttest: 0.0075049\tbest: 0.0075049 (3887)\ttotal: 37m 19s\tremaining: 10m 39s\n",
      "3936:\tlearn: 0.0018354\ttest: 0.0074965\tbest: 0.0074965 (3936)\ttotal: 37m 44s\tremaining: 10m 11s\n",
      "3984:\tlearn: 0.0018107\ttest: 0.0074913\tbest: 0.0074913 (3984)\ttotal: 38m 11s\tremaining: 9m 43s\n",
      "4032:\tlearn: 0.0017846\ttest: 0.0074855\tbest: 0.0074854 (4031)\ttotal: 38m 37s\tremaining: 9m 15s\n",
      "4080:\tlearn: 0.0017585\ttest: 0.0074797\tbest: 0.0074797 (4078)\ttotal: 39m 4s\tremaining: 8m 47s\n",
      "4128:\tlearn: 0.0017372\ttest: 0.0074751\tbest: 0.0074751 (4128)\ttotal: 39m 30s\tremaining: 8m 20s\n",
      "4176:\tlearn: 0.0017156\ttest: 0.0074691\tbest: 0.0074691 (4176)\ttotal: 39m 56s\tremaining: 7m 52s\n",
      "4224:\tlearn: 0.0016931\ttest: 0.0074624\tbest: 0.0074624 (4224)\ttotal: 40m 23s\tremaining: 7m 24s\n",
      "4272:\tlearn: 0.0016720\ttest: 0.0074579\tbest: 0.0074579 (4272)\ttotal: 40m 49s\tremaining: 6m 56s\n",
      "4320:\tlearn: 0.0016486\ttest: 0.0074525\tbest: 0.0074525 (4319)\ttotal: 41m 17s\tremaining: 6m 29s\n",
      "4368:\tlearn: 0.0016233\ttest: 0.0074464\tbest: 0.0074464 (4366)\ttotal: 41m 43s\tremaining: 6m 1s\n",
      "4416:\tlearn: 0.0015993\ttest: 0.0074422\tbest: 0.0074421 (4415)\ttotal: 42m 11s\tremaining: 5m 34s\n",
      "4464:\tlearn: 0.0015787\ttest: 0.0074381\tbest: 0.0074381 (4464)\ttotal: 42m 37s\tremaining: 5m 6s\n",
      "4512:\tlearn: 0.0015578\ttest: 0.0074331\tbest: 0.0074331 (4512)\ttotal: 43m 4s\tremaining: 4m 38s\n",
      "4560:\tlearn: 0.0015349\ttest: 0.0074276\tbest: 0.0074276 (4560)\ttotal: 43m 31s\tremaining: 4m 11s\n",
      "4608:\tlearn: 0.0015156\ttest: 0.0074249\tbest: 0.0074249 (4608)\ttotal: 43m 58s\tremaining: 3m 43s\n",
      "4656:\tlearn: 0.0014960\ttest: 0.0074205\tbest: 0.0074205 (4656)\ttotal: 44m 26s\tremaining: 3m 16s\n",
      "4704:\tlearn: 0.0014759\ttest: 0.0074159\tbest: 0.0074159 (4704)\ttotal: 44m 53s\tremaining: 2m 48s\n",
      "4752:\tlearn: 0.0014572\ttest: 0.0074122\tbest: 0.0074121 (4750)\ttotal: 45m 21s\tremaining: 2m 21s\n",
      "4800:\tlearn: 0.0014360\ttest: 0.0074085\tbest: 0.0074085 (4800)\ttotal: 45m 49s\tremaining: 1m 53s\n",
      "4848:\tlearn: 0.0014192\ttest: 0.0074050\tbest: 0.0074050 (4848)\ttotal: 46m 18s\tremaining: 1m 26s\n",
      "4896:\tlearn: 0.0014015\ttest: 0.0074023\tbest: 0.0074023 (4896)\ttotal: 46m 45s\tremaining: 59s\n",
      "4944:\tlearn: 0.0013823\ttest: 0.0073983\tbest: 0.0073983 (4944)\ttotal: 47m 14s\tremaining: 31.5s\n",
      "4992:\tlearn: 0.0013647\ttest: 0.0073959\tbest: 0.0073959 (4992)\ttotal: 47m 44s\tremaining: 4.01s\n",
      "4999:\tlearn: 0.0013614\ttest: 0.0073951\tbest: 0.0073951 (4999)\ttotal: 47m 48s\tremaining: 0us\n",
      "\n",
      "bestTest = 0.007395129134\n",
      "bestIteration = 4999\n",
      "\n"
     ]
    },
    {
     "output_type": "execute_result",
     "data": {
      "text/plain": [
       "<catboost.core.CatBoostRegressor at 0x23c144912c8>"
      ]
     },
     "metadata": {},
     "execution_count": 143
    }
   ],
   "source": [
    "catboost_params = {\n",
    "    'iterations': 5000,\n",
    "    'learning_rate': 0.05775539388456,\n",
    "    'depth': 12,\n",
    "    'random_seed': RANDOM_SEED,\n",
    "    'eval_metric': 'MAPE',\n",
    "    'custom_metric': ['R2', 'MAE'],\n",
    "    'l2_leaf_reg': 1,\n",
    "    \"loss_function\": \"MAPE\"\n",
    "}\n",
    "\n",
    "train_pool = Pool(\n",
    "    X_train,\n",
    "    y_train,\n",
    "    cat_features=cat_features_ids,\n",
    ") \n",
    "test_pool = Pool(\n",
    "    X_test,\n",
    "    y_test,\n",
    "    cat_features=cat_features_ids,\n",
    ")\n",
    "\n",
    "model_catb = CatBoostRegressor(iterations = catboost_params['iterations'],\n",
    "                          learning_rate = catboost_params['learning_rate'],\n",
    "                          random_seed = RANDOM_SEED,\n",
    "                          eval_metric=catboost_params['eval_metric'],\n",
    "                          custom_metric=catboost_params['custom_metric'],\n",
    "                          l2_leaf_reg=catboost_params['l2_leaf_reg'],\n",
    "                          depth=catboost_params['depth'],\n",
    "                          metric_period=catboost_params['depth'],\n",
    "                          od_type='Iter',\n",
    "                          od_wait=20,\n",
    "                          rsm=0.2,\n",
    "                          devices='GPU'\n",
    "                         )\n",
    "model_catb.fit(train_pool,\n",
    "         eval_set=test_pool,\n",
    "         verbose_eval=catboost_params['depth']*4,\n",
    "         use_best_model=True,\n",
    "         plot=False\n",
    "         )"
   ]
  },
  {
   "cell_type": "code",
   "execution_count": null,
   "metadata": {},
   "outputs": [],
   "source": [
    "predict_catb = model_catb.predict(X_test)\n",
    "\n",
    "predict_catb = np.e ** predict_catb\n",
    "y_test = np.e ** y_test\n",
    "\n",
    "# оцениваем точность\n",
    "MAPE = f'{(mape(y_test, predict_catb))*100:0.4f}'\n",
    "print(f\"Точность модели по метрике MAPE: {MAPE}%\")"
   ]
  },
  {
   "cell_type": "code",
   "execution_count": 145,
   "metadata": {},
   "outputs": [
    {
     "output_type": "error",
     "ename": "OSError",
     "evalue": "[WinError -529697949] Windows Error 0xe06d7363",
     "traceback": [
      "\u001b[1;31m---------------------------------------------------------------------------\u001b[0m",
      "\u001b[1;31mOSError\u001b[0m                                   Traceback (most recent call last)",
      "\u001b[1;32m<ipython-input-145-47d27f1cfb9c>\u001b[0m in \u001b[0;36m<module>\u001b[1;34m\u001b[0m\n\u001b[0;32m     26\u001b[0m                             )\n\u001b[0;32m     27\u001b[0m \u001b[1;33m\u001b[0m\u001b[0m\n\u001b[1;32m---> 28\u001b[1;33m \u001b[0mmodel_xgb\u001b[0m\u001b[1;33m.\u001b[0m\u001b[0mfit\u001b[0m\u001b[1;33m(\u001b[0m\u001b[0mX_train\u001b[0m\u001b[1;33m,\u001b[0m \u001b[0my_train\u001b[0m\u001b[1;33m,\u001b[0m \u001b[0meval_metric\u001b[0m\u001b[1;33m=\u001b[0m\u001b[0mmape\u001b[0m\u001b[1;33m)\u001b[0m\u001b[1;33m\u001b[0m\u001b[1;33m\u001b[0m\u001b[0m\n\u001b[0m",
      "\u001b[1;32m~\\anaconda3\\lib\\site-packages\\xgboost\\sklearn.py\u001b[0m in \u001b[0;36mfit\u001b[1;34m(self, X, y, sample_weight, base_margin, eval_set, eval_metric, early_stopping_rounds, verbose, xgb_model, sample_weight_eval_set, callbacks)\u001b[0m\n\u001b[0;32m    546\u001b[0m                               \u001b[0mobj\u001b[0m\u001b[1;33m=\u001b[0m\u001b[0mobj\u001b[0m\u001b[1;33m,\u001b[0m \u001b[0mfeval\u001b[0m\u001b[1;33m=\u001b[0m\u001b[0mfeval\u001b[0m\u001b[1;33m,\u001b[0m\u001b[1;33m\u001b[0m\u001b[1;33m\u001b[0m\u001b[0m\n\u001b[0;32m    547\u001b[0m                               \u001b[0mverbose_eval\u001b[0m\u001b[1;33m=\u001b[0m\u001b[0mverbose\u001b[0m\u001b[1;33m,\u001b[0m \u001b[0mxgb_model\u001b[0m\u001b[1;33m=\u001b[0m\u001b[0mxgb_model\u001b[0m\u001b[1;33m,\u001b[0m\u001b[1;33m\u001b[0m\u001b[1;33m\u001b[0m\u001b[0m\n\u001b[1;32m--> 548\u001b[1;33m                               callbacks=callbacks)\n\u001b[0m\u001b[0;32m    549\u001b[0m \u001b[1;33m\u001b[0m\u001b[0m\n\u001b[0;32m    550\u001b[0m         \u001b[1;32mif\u001b[0m \u001b[0mevals_result\u001b[0m\u001b[1;33m:\u001b[0m\u001b[1;33m\u001b[0m\u001b[1;33m\u001b[0m\u001b[0m\n",
      "\u001b[1;32m~\\anaconda3\\lib\\site-packages\\xgboost\\training.py\u001b[0m in \u001b[0;36mtrain\u001b[1;34m(params, dtrain, num_boost_round, evals, obj, feval, maximize, early_stopping_rounds, evals_result, verbose_eval, xgb_model, callbacks)\u001b[0m\n\u001b[0;32m    210\u001b[0m                            \u001b[0mevals\u001b[0m\u001b[1;33m=\u001b[0m\u001b[0mevals\u001b[0m\u001b[1;33m,\u001b[0m\u001b[1;33m\u001b[0m\u001b[1;33m\u001b[0m\u001b[0m\n\u001b[0;32m    211\u001b[0m                            \u001b[0mobj\u001b[0m\u001b[1;33m=\u001b[0m\u001b[0mobj\u001b[0m\u001b[1;33m,\u001b[0m \u001b[0mfeval\u001b[0m\u001b[1;33m=\u001b[0m\u001b[0mfeval\u001b[0m\u001b[1;33m,\u001b[0m\u001b[1;33m\u001b[0m\u001b[1;33m\u001b[0m\u001b[0m\n\u001b[1;32m--> 212\u001b[1;33m                            xgb_model=xgb_model, callbacks=callbacks)\n\u001b[0m\u001b[0;32m    213\u001b[0m \u001b[1;33m\u001b[0m\u001b[0m\n\u001b[0;32m    214\u001b[0m \u001b[1;33m\u001b[0m\u001b[0m\n",
      "\u001b[1;32m~\\anaconda3\\lib\\site-packages\\xgboost\\training.py\u001b[0m in \u001b[0;36m_train_internal\u001b[1;34m(params, dtrain, num_boost_round, evals, obj, feval, xgb_model, callbacks)\u001b[0m\n\u001b[0;32m    113\u001b[0m \u001b[1;33m\u001b[0m\u001b[0m\n\u001b[0;32m    114\u001b[0m     \u001b[1;31m# Copy to serialise and unserialise booster to reset state and free training memory\u001b[0m\u001b[1;33m\u001b[0m\u001b[1;33m\u001b[0m\u001b[1;33m\u001b[0m\u001b[0m\n\u001b[1;32m--> 115\u001b[1;33m     \u001b[1;32mreturn\u001b[0m \u001b[0mbst\u001b[0m\u001b[1;33m.\u001b[0m\u001b[0mcopy\u001b[0m\u001b[1;33m(\u001b[0m\u001b[1;33m)\u001b[0m\u001b[1;33m\u001b[0m\u001b[1;33m\u001b[0m\u001b[0m\n\u001b[0m\u001b[0;32m    116\u001b[0m \u001b[1;33m\u001b[0m\u001b[0m\n\u001b[0;32m    117\u001b[0m \u001b[1;33m\u001b[0m\u001b[0m\n",
      "\u001b[1;32m~\\anaconda3\\lib\\site-packages\\xgboost\\core.py\u001b[0m in \u001b[0;36mcopy\u001b[1;34m(self)\u001b[0m\n\u001b[0;32m   1046\u001b[0m             \u001b[0ma\u001b[0m \u001b[0mcopied\u001b[0m \u001b[0mbooster\u001b[0m \u001b[0mmodel\u001b[0m\u001b[1;33m\u001b[0m\u001b[1;33m\u001b[0m\u001b[0m\n\u001b[0;32m   1047\u001b[0m         \"\"\"\n\u001b[1;32m-> 1048\u001b[1;33m         \u001b[1;32mreturn\u001b[0m \u001b[0mself\u001b[0m\u001b[1;33m.\u001b[0m\u001b[0m__copy__\u001b[0m\u001b[1;33m(\u001b[0m\u001b[1;33m)\u001b[0m\u001b[1;33m\u001b[0m\u001b[1;33m\u001b[0m\u001b[0m\n\u001b[0m\u001b[0;32m   1049\u001b[0m \u001b[1;33m\u001b[0m\u001b[0m\n\u001b[0;32m   1050\u001b[0m     \u001b[1;32mdef\u001b[0m \u001b[0mload_rabit_checkpoint\u001b[0m\u001b[1;33m(\u001b[0m\u001b[0mself\u001b[0m\u001b[1;33m)\u001b[0m\u001b[1;33m:\u001b[0m\u001b[1;33m\u001b[0m\u001b[1;33m\u001b[0m\u001b[0m\n",
      "\u001b[1;32m~\\anaconda3\\lib\\site-packages\\xgboost\\core.py\u001b[0m in \u001b[0;36m__copy__\u001b[1;34m(self)\u001b[0m\n\u001b[0;32m   1032\u001b[0m \u001b[1;33m\u001b[0m\u001b[0m\n\u001b[0;32m   1033\u001b[0m     \u001b[1;32mdef\u001b[0m \u001b[0m__copy__\u001b[0m\u001b[1;33m(\u001b[0m\u001b[0mself\u001b[0m\u001b[1;33m)\u001b[0m\u001b[1;33m:\u001b[0m\u001b[1;33m\u001b[0m\u001b[1;33m\u001b[0m\u001b[0m\n\u001b[1;32m-> 1034\u001b[1;33m         \u001b[1;32mreturn\u001b[0m \u001b[0mself\u001b[0m\u001b[1;33m.\u001b[0m\u001b[0m__deepcopy__\u001b[0m\u001b[1;33m(\u001b[0m\u001b[1;32mNone\u001b[0m\u001b[1;33m)\u001b[0m\u001b[1;33m\u001b[0m\u001b[1;33m\u001b[0m\u001b[0m\n\u001b[0m\u001b[0;32m   1035\u001b[0m \u001b[1;33m\u001b[0m\u001b[0m\n\u001b[0;32m   1036\u001b[0m     \u001b[1;32mdef\u001b[0m \u001b[0m__deepcopy__\u001b[0m\u001b[1;33m(\u001b[0m\u001b[0mself\u001b[0m\u001b[1;33m,\u001b[0m \u001b[0m_\u001b[0m\u001b[1;33m)\u001b[0m\u001b[1;33m:\u001b[0m\u001b[1;33m\u001b[0m\u001b[1;33m\u001b[0m\u001b[0m\n",
      "\u001b[1;32m~\\anaconda3\\lib\\site-packages\\xgboost\\core.py\u001b[0m in \u001b[0;36m__deepcopy__\u001b[1;34m(self, _)\u001b[0m\n\u001b[0;32m   1036\u001b[0m     \u001b[1;32mdef\u001b[0m \u001b[0m__deepcopy__\u001b[0m\u001b[1;33m(\u001b[0m\u001b[0mself\u001b[0m\u001b[1;33m,\u001b[0m \u001b[0m_\u001b[0m\u001b[1;33m)\u001b[0m\u001b[1;33m:\u001b[0m\u001b[1;33m\u001b[0m\u001b[1;33m\u001b[0m\u001b[0m\n\u001b[0;32m   1037\u001b[0m         \u001b[1;34m'''Return a copy of booster.'''\u001b[0m\u001b[1;33m\u001b[0m\u001b[1;33m\u001b[0m\u001b[0m\n\u001b[1;32m-> 1038\u001b[1;33m         \u001b[1;32mreturn\u001b[0m \u001b[0mBooster\u001b[0m\u001b[1;33m(\u001b[0m\u001b[0mmodel_file\u001b[0m\u001b[1;33m=\u001b[0m\u001b[0mself\u001b[0m\u001b[1;33m)\u001b[0m\u001b[1;33m\u001b[0m\u001b[1;33m\u001b[0m\u001b[0m\n\u001b[0m\u001b[0;32m   1039\u001b[0m \u001b[1;33m\u001b[0m\u001b[0m\n\u001b[0;32m   1040\u001b[0m     \u001b[1;32mdef\u001b[0m \u001b[0mcopy\u001b[0m\u001b[1;33m(\u001b[0m\u001b[0mself\u001b[0m\u001b[1;33m)\u001b[0m\u001b[1;33m:\u001b[0m\u001b[1;33m\u001b[0m\u001b[1;33m\u001b[0m\u001b[0m\n",
      "\u001b[1;32m~\\anaconda3\\lib\\site-packages\\xgboost\\core.py\u001b[0m in \u001b[0;36m__init__\u001b[1;34m(self, params, cache, model_file)\u001b[0m\n\u001b[0;32m    962\u001b[0m             \u001b[0mlength\u001b[0m \u001b[1;33m=\u001b[0m \u001b[0mc_bst_ulong\u001b[0m\u001b[1;33m(\u001b[0m\u001b[0mlen\u001b[0m\u001b[1;33m(\u001b[0m\u001b[0mhandle\u001b[0m\u001b[1;33m)\u001b[0m\u001b[1;33m)\u001b[0m\u001b[1;33m\u001b[0m\u001b[1;33m\u001b[0m\u001b[0m\n\u001b[0;32m    963\u001b[0m             _check_call(\n\u001b[1;32m--> 964\u001b[1;33m                 _LIB.XGBoosterUnserializeFromBuffer(self.handle, ptr, length))\n\u001b[0m\u001b[0;32m    965\u001b[0m             \u001b[0mself\u001b[0m\u001b[1;33m.\u001b[0m\u001b[0m__dict__\u001b[0m\u001b[1;33m.\u001b[0m\u001b[0mupdate\u001b[0m\u001b[1;33m(\u001b[0m\u001b[0mstate\u001b[0m\u001b[1;33m)\u001b[0m\u001b[1;33m\u001b[0m\u001b[1;33m\u001b[0m\u001b[0m\n\u001b[0;32m    966\u001b[0m         \u001b[1;32melif\u001b[0m \u001b[0misinstance\u001b[0m\u001b[1;33m(\u001b[0m\u001b[0mmodel_file\u001b[0m\u001b[1;33m,\u001b[0m \u001b[1;33m(\u001b[0m\u001b[0mSTRING_TYPES\u001b[0m\u001b[1;33m,\u001b[0m \u001b[0mos_PathLike\u001b[0m\u001b[1;33m,\u001b[0m \u001b[0mbytearray\u001b[0m\u001b[1;33m)\u001b[0m\u001b[1;33m)\u001b[0m\u001b[1;33m:\u001b[0m\u001b[1;33m\u001b[0m\u001b[1;33m\u001b[0m\u001b[0m\n",
      "\u001b[1;31mOSError\u001b[0m: [WinError -529697949] Windows Error 0xe06d7363"
     ]
    }
   ],
   "source": [
    "model_xgb = xgb.XGBRegressor(base_score=0.5, \n",
    "                             booster='gbtree',\n",
    "                             colsample_bylevel=1,\n",
    "                             colsample_bynode=1, \n",
    "                             colsample_bytree=1, \n",
    "                             gamma=0, #0.15340366103115533, #0,\n",
    "                             importance_type='gain', \n",
    "                             learning_rate=0.08,\n",
    "                             max_delta_step=0,\n",
    "                             max_depth=12, #6, #7, \n",
    "                             min_child_weight=1, \n",
    "                             missing=None, \n",
    "                             n_estimators=5000,\n",
    "                             n_jobs=20, \n",
    "                             nthread=None, \n",
    "                             random_state=0,\n",
    "                             reg_alpha=0, #1.8400184528746324, #0, \n",
    "                             reg_lambda=1, #1.0868061353806249,#1, \n",
    "                             scale_pos_weight=1, \n",
    "                             seed=RANDOM_SEED,\n",
    "                             silent=None, \n",
    "                             subsample=0.75, \n",
    "                             verbosity=0, \n",
    "                             objective='reg:squarederror',\n",
    "                             verbose=True#, eval_metric=mape\n",
    "                            )\n",
    "                            \n",
    "model_xgb.fit(X_train, y_train, eval_metric=mape)"
   ]
  },
  {
   "cell_type": "code",
   "execution_count": 126,
   "metadata": {},
   "outputs": [
    {
     "output_type": "stream",
     "name": "stdout",
     "text": [
      "Точность модели по метрике MAPE: 9.7719%\n"
     ]
    }
   ],
   "source": [
    "predict_xgb = model_xgb.predict(X_test)\n",
    "\n",
    "predict_xgb = np.e ** predict_xgb\n",
    "# y_test = np.e ** y_test\n",
    "\n",
    "# оцениваем точность\n",
    "MAPE = f'{(mape(y_test, predict_xgb))*100:0.4f}'\n",
    "print(f\"Точность модели по метрике MAPE: {MAPE}%\")"
   ]
  },
  {
   "source": [
    "# FINAL PREDICT"
   ],
   "cell_type": "markdown",
   "metadata": {}
  },
  {
   "cell_type": "code",
   "execution_count": null,
   "metadata": {},
   "outputs": [],
   "source": [
    "predict_fin = np.mean(np.array([predict_catb, predict_xgb]), axis=0)\n",
    "\n",
    "# оцениваем точность\n",
    "MAPE = f'{(mape(y_test, predict_fin))*100:0.4f}'\n",
    "print(f\"Точность модели по метрике MAPE: {MAPE}%\")"
   ]
  },
  {
   "cell_type": "code",
   "execution_count": null,
   "metadata": {},
   "outputs": [],
   "source": [
    "predict_fin_1k = np.round(predict_fin // 1000) * 1000\n",
    "MAPE = f'{(mape(y_test, predict_fin_1k))*100:0.4f}'\n",
    "print(f\"Точность модели по метрике MAPE: {MAPE}%\")"
   ]
  },
  {
   "cell_type": "code",
   "execution_count": null,
   "metadata": {},
   "outputs": [],
   "source": [
    "predict_fin_10k = np.round(predict_fin // 10000) * 10000\n",
    "MAPE = f'{(mape(y_test, predict_fin_10k))*100:0.4f}'\n",
    "print(f\"Точность модели по метрике MAPE: {MAPE}%\")"
   ]
  },
  {
   "cell_type": "code",
   "execution_count": 125,
   "metadata": {},
   "outputs": [
    {
     "output_type": "execute_result",
     "data": {
      "text/plain": [
       "array([ 11,  29,  50,   0,  90,  40,  51,   1,  61,  35,  26,  16,  48,\n",
       "        56,  58,  22,  42,  73,  47,  20,  44,   4,  19,  54,  32,   5,\n",
       "        23,  57,  46,  12,  14,  33,  43,  66,  79,  76,  59,  53,  78,\n",
       "        69,  27,  30,   3,  49,  34,   6,  24,  96,  41,  91,  21,  70,\n",
       "        52,  37,  72,  77,  60,  10,   8,  25,  38,  31,  36,  81,  65,\n",
       "        74,  63,  13,  55,  17,  67,  62,  45,  88,   2,  39,  64,   9,\n",
       "        15,  80,  71,  18,  28,  99,  83,  92, 111,   7,  85,  84,  75,\n",
       "        68,  82,  89,  87,  86,  98,  97, 103, 105,  95,  94,  93, 104,\n",
       "       100, 102, 101, 106, 109], dtype=int64)"
      ]
     },
     "metadata": {},
     "execution_count": 125
    }
   ],
   "source": []
  },
  {
   "cell_type": "code",
   "execution_count": 136,
   "metadata": {},
   "outputs": [
    {
     "output_type": "error",
     "ename": "ValueError",
     "evalue": "feature_names mismatch: ['Unnamed: 0', 'hcc', 'power-child-locks-rear-doors', 'folding-front-passenger-seat', 'steering-wheel-gear-shift-paddles', 'drowsy-driver-alert-system', 'airbag-side', 'third-rear-headrest', 'multi-wheel', 'entertainment-system-for-rear-seat-passengers', 'panorama-roof', 'seats-9', 'rear-seats-heat', 'front-seat-support', '19-inch-wheels', 'black-roof', '345', 'armored', '3FB', 'reduce-spare-wheel', '881', 'light-cleaner', 'airbag-6', 'vsm', 'fabric-seats', 'airbrush', 'PW1', 'airbag-rear-side', 'air-suspension', 'audiosystem-tv', '16-inch-wheels', 'airbag-passenger', 'light-interior', 'seat-transformation', '239', 'traffic-sign-recognition', 'wheel-configuration3', 'gbo', 'massage-seats', 'seats-2', 'feedback-alarm', 'PRD', '6R1', '401', '1N1', 'audiopreparation', 'turnbuckle', 'PCG', 'electro-trunk', '246', 'PL2', 'knee-airbag', '51U', 'voice-recognition', 'leather-gear-stick', '448', 'aux', 'lock', '242', '872', 'wheel-configuration2', 'driver-seat-support', 'B63', '23-inch-wheels', '27-inch-wheels', 'U22', '18-inch-wheels', 'adaptive-light', '12v-socket', 'P17', 'rear-camera', 'driver-seat-memory', 'electro-window-front', 'park-assist-f', 'heated-wash-system', '443', 'U25', 'seat-memory', '4A3', '17-inch-wheels', 'servo', 'climate-control-1', 'auto-mirrors', '3L5', 'PCH', 'spare-wheel', 'velvet-seats', '632', 'engine-proof', '68BF', 'laser-lights', 'RAB', 'volume-sensor', 'parktronik', 'ashtray-and-cigarette-lighter', 'night-vision', 'E0P', 'collision-prevention-assist', '086GC', '776', 'S7N', '414', '3S1', 'electro-window-all', '03B', 'bas', 'front-seats-heat', 'front-seats-heat-vent', 'wireless-charger', 'body-kit', 'e-adjustment-wheel', 'H06', 'R66', 'duo-body-color', '4R3', 'auto-cruise', '3Q6', 'electro-mirrors', 'electro-seat', 'led-lights', 'windcleaner-heat', '540', 'folding-tables-rear', '9P5', 'music-super', 'passenger-seat-manual', '9T1', '475', 'sport-suspension', 'isofix', 'roof-rails', 'blind-spot', '431', 'UI4', 'automatic-lighting-control', '6XD', '4UE', '4R2', '871', '927', 'immobiliser-not-standard', 'airbag-2', 'PB0', 'multizone-climate-control', 'wheel-configuration1', '9S6', 'wheel-power', 'door-sill-panel', 'android-auto', 'tyre-pressure', 'electronic-gage-panel', '840', 'climate-control-3', '270', 'decorative-interior-lighting', 'esp', 'adj-pedals', 'airbag-curtain', '7X5', 'apple-carplay', 'alcantara', '989', '086EG', '14U', 'lane-keeping-assist', '551', 'asr', '6XE', '4I2', '772', '351', 'start-stop-function', 'start-button', 'B16', '6E3', '313', 'activ-suspension', '364', 'passenger-seat-electric', 'DZ9', '3NZ', 'dark-interior', 'PA1', 'rain-sensor', '873', 'leather', 'wheel-memory', 'N4M', 'PQ9', '033IN', 'not_specified', 'tinted-glass', '15-inch-wheels', '9VS', '086FA', 'driver-seat-manual', '824', '728', '889', 'PN0', 'sport-pedals', 'P31', '234', 'sport-seats', '274', 'seats-4', 'airbag-driver', 'paint-metallic', '9S3', '3B3', '8T6', 'electro-rear-seat', 'drl', '7Y4', 'hatch', '3PB', 'power-latching-doors', 'navigation', 'driver-seat-updown', 'computer', 'xenon', '883', 'body-mouldings', 'L5C', 'passenger-seat-memory', 'seats-7', 'seats-heat', 'WVA', 'drive-mode-sys', 'U09', '670', '4X4', '513', '500', '810', 'ya-auto', 'wheel-leather', 'PRG', '440', 'programmed-block-heater', '14-inch-wheels', 'audiosystem', 'keyless-entry', 'audiosystem-cd', 'P29', 'seats-8', '220v-socket', '249', '25-inch-wheels', '608', 'roller-blinds-for-rear-side-windows', '531', 'easy-trunk-opening', 'laminated-safety-glass', 'cooling-box', '61U', 'immo', 'R01', '501', '597', 'usb', '360-camera', '20-inch-wheels', 'glonass', 'rear-seat-heat-vent', 'airbag-4', '6XF', 'PRA', '21-inch-wheels', 'advanced-frontlighting-system', '301', '6NQ', 'climate-control', 'windscreen-heat', '066AC', 'bluetooth', '9AB', 'alloy-wheel-disks', '8T2', 'halogen', 'seats-6', '7B2', 'steel-wheels', '7AA', 'passenger-seat-updown', 'KA2', 'eco-leather', '24-inch-wheels', '235', 'mirrors-heat', 'RDIF09', 'light-sensor', '8RM', 'wheel-heat', '17U', 'seats-5', '218', '42D', '033GQ', 'auto-park', 'front-centre-armrest', 'isofix-front', 'remote-engine-start', '882', 'PX2', '4D3', 'condition', 'driver-seat-electric', '367', '807', '041CZ', 'front-camera', 'abs', 'projection-display', '228', 'third-row-seats', 'P44', '12-inch-wheels', 'ptf', '68BD', '22-inch-wheels', 'CJ4', 'electro-window-back', 'climate-control-2', '2C5', 'cruise-control', 'alarm', '16U', '13-inch-wheels', 'combo-interior', 'dha', '9R1', '357', 'park-assist-r', '4UC', 'PNQ', 'RVR', 'high-beam-assist', 'roller-blind-for-rear-window', 'bodyType', 'brand', 'color', 'engineDisplacement', 'enginePower', 'fuelType', 'mileage', 'modelDate', 'model_name', 'numberOfDoors', 'parsing_unixtime', 'productionDate', 'sell_id', 'vehicleTransmission', 'owners', 'owning', 'pts', 'privod', 'wheel', 'state', 'mileage600', 'engpower_doors', 'engpower_endisp', 'engpower_owners', 'prod-model-date', 'car_used', 'brand_price', 'body_price', 'model_name_price', 'brand_mileage', 'model_name_mileage', 'equip_len', 'descr_labels'] ['Unnamed: 0', 'hcc', 'power-child-locks-rear-doors', 'folding-front-passenger-seat', 'steering-wheel-gear-shift-paddles', 'drowsy-driver-alert-system', 'airbag-side', 'third-rear-headrest', 'multi-wheel', 'entertainment-system-for-rear-seat-passengers', 'panorama-roof', 'seats-9', 'rear-seats-heat', 'front-seat-support', '19-inch-wheels', 'black-roof', '345', 'armored', '3FB', 'reduce-spare-wheel', '881', 'light-cleaner', 'airbag-6', 'vsm', 'fabric-seats', 'airbrush', 'PW1', 'airbag-rear-side', 'air-suspension', 'audiosystem-tv', '16-inch-wheels', 'airbag-passenger', 'light-interior', 'seat-transformation', '239', 'traffic-sign-recognition', 'wheel-configuration3', 'gbo', 'massage-seats', 'seats-2', 'feedback-alarm', 'PRD', '6R1', '401', '1N1', 'audiopreparation', 'turnbuckle', 'PCG', 'electro-trunk', '246', 'PL2', 'knee-airbag', '51U', 'voice-recognition', 'leather-gear-stick', '448', 'aux', 'lock', '242', '872', 'wheel-configuration2', 'driver-seat-support', 'B63', '23-inch-wheels', '27-inch-wheels', 'U22', '18-inch-wheels', 'adaptive-light', '12v-socket', 'P17', 'rear-camera', 'driver-seat-memory', 'electro-window-front', 'park-assist-f', 'heated-wash-system', '443', 'U25', 'seat-memory', '4A3', '17-inch-wheels', 'servo', 'climate-control-1', 'auto-mirrors', '3L5', 'PCH', 'spare-wheel', 'velvet-seats', '632', 'engine-proof', '68BF', 'laser-lights', 'RAB', 'volume-sensor', 'parktronik', 'ashtray-and-cigarette-lighter', 'night-vision', 'E0P', 'collision-prevention-assist', '086GC', '776', 'S7N', '414', '3S1', 'electro-window-all', '03B', 'bas', 'front-seats-heat', 'front-seats-heat-vent', 'wireless-charger', 'body-kit', 'e-adjustment-wheel', 'H06', 'R66', 'duo-body-color', '4R3', 'auto-cruise', '3Q6', 'electro-mirrors', 'electro-seat', 'led-lights', 'windcleaner-heat', '540', 'folding-tables-rear', '9P5', 'music-super', 'passenger-seat-manual', '9T1', '475', 'sport-suspension', 'isofix', 'roof-rails', 'blind-spot', '431', 'UI4', 'automatic-lighting-control', '6XD', '4UE', '4R2', '871', '927', 'immobiliser-not-standard', 'airbag-2', 'PB0', 'multizone-climate-control', 'wheel-configuration1', '9S6', 'wheel-power', 'door-sill-panel', 'android-auto', 'tyre-pressure', 'electronic-gage-panel', '840', 'climate-control-3', '270', 'decorative-interior-lighting', 'esp', 'adj-pedals', 'airbag-curtain', '7X5', 'apple-carplay', 'alcantara', '989', '086EG', '14U', 'lane-keeping-assist', '551', 'asr', '6XE', '4I2', '772', '351', 'start-stop-function', 'start-button', 'B16', '6E3', '313', 'activ-suspension', '364', 'passenger-seat-electric', 'DZ9', '3NZ', 'dark-interior', 'PA1', 'rain-sensor', '873', 'leather', 'wheel-memory', 'N4M', 'PQ9', '033IN', 'not_specified', 'tinted-glass', '15-inch-wheels', '9VS', '086FA', 'driver-seat-manual', '824', '728', '889', 'PN0', 'sport-pedals', 'P31', '234', 'sport-seats', '274', 'seats-4', 'airbag-driver', 'paint-metallic', '9S3', '3B3', '8T6', 'electro-rear-seat', 'drl', '7Y4', 'hatch', '3PB', 'power-latching-doors', 'navigation', 'driver-seat-updown', 'computer', 'xenon', '883', 'body-mouldings', 'L5C', 'passenger-seat-memory', 'seats-7', 'seats-heat', 'WVA', 'drive-mode-sys', 'U09', '670', '4X4', '513', '500', '810', 'ya-auto', 'wheel-leather', 'PRG', '440', 'programmed-block-heater', '14-inch-wheels', 'audiosystem', 'keyless-entry', 'audiosystem-cd', 'P29', 'seats-8', '220v-socket', '249', '25-inch-wheels', '608', 'roller-blinds-for-rear-side-windows', '531', 'easy-trunk-opening', 'laminated-safety-glass', 'cooling-box', '61U', 'immo', 'R01', '501', '597', 'usb', '360-camera', '20-inch-wheels', 'glonass', 'rear-seat-heat-vent', 'airbag-4', '6XF', 'PRA', '21-inch-wheels', 'advanced-frontlighting-system', '301', '6NQ', 'climate-control', 'windscreen-heat', '066AC', 'bluetooth', '9AB', 'alloy-wheel-disks', '8T2', 'halogen', 'seats-6', '7B2', 'steel-wheels', '7AA', 'passenger-seat-updown', 'KA2', 'eco-leather', '24-inch-wheels', '235', 'mirrors-heat', 'RDIF09', 'light-sensor', '8RM', 'wheel-heat', '17U', 'seats-5', '218', '42D', '033GQ', 'auto-park', 'front-centre-armrest', 'isofix-front', 'remote-engine-start', '882', 'PX2', '4D3', 'condition', 'driver-seat-electric', '367', '807', '041CZ', 'front-camera', 'abs', 'projection-display', '228', 'third-row-seats', 'P44', '12-inch-wheels', 'ptf', '68BD', '22-inch-wheels', 'CJ4', 'electro-window-back', 'climate-control-2', '2C5', 'cruise-control', 'alarm', '16U', '13-inch-wheels', 'combo-interior', 'dha', '9R1', '357', 'park-assist-r', '4UC', 'PNQ', 'RVR', 'high-beam-assist', 'roller-blind-for-rear-window', 'bodyType', 'brand', 'color', 'engineDisplacement', 'enginePower', 'fuelType', 'mileage', 'modelDate', 'model_name', 'numberOfDoors', 'parsing_unixtime', 'productionDate', 'sell_id', 'vehicleTransmission', 'owners', 'owning', 'pts', 'privod', 'wheel', 'state', 'price', 'mileage600', 'engpower_doors', 'engpower_endisp', 'engpower_owners', 'prod-model-date', 'car_used', 'brand_price', 'body_price', 'model_name_price', 'brand_mileage', 'model_name_mileage', 'equip_len', 'descr_labels']\ntraining data did not have the following fields: price",
     "traceback": [
      "\u001b[1;31m---------------------------------------------------------------------------\u001b[0m",
      "\u001b[1;31mValueError\u001b[0m                                Traceback (most recent call last)",
      "\u001b[1;32m<ipython-input-136-d3f92a355c3b>\u001b[0m in \u001b[0;36m<module>\u001b[1;34m\u001b[0m\n\u001b[1;32m----> 1\u001b[1;33m \u001b[0mpredict_xgb_sub\u001b[0m \u001b[1;33m=\u001b[0m \u001b[0mmodel_xgb\u001b[0m\u001b[1;33m.\u001b[0m\u001b[0mpredict\u001b[0m\u001b[1;33m(\u001b[0m\u001b[0mX_sub\u001b[0m\u001b[1;33m)\u001b[0m\u001b[1;33m\u001b[0m\u001b[1;33m\u001b[0m\u001b[0m\n\u001b[0m\u001b[0;32m      2\u001b[0m \u001b[0mpredict_xgb_sub\u001b[0m \u001b[1;33m=\u001b[0m \u001b[0mnp\u001b[0m\u001b[1;33m.\u001b[0m\u001b[0me\u001b[0m \u001b[1;33m**\u001b[0m \u001b[0mpredict_xgb_sub\u001b[0m\u001b[1;33m\u001b[0m\u001b[1;33m\u001b[0m\u001b[0m\n\u001b[0;32m      3\u001b[0m \u001b[1;33m\u001b[0m\u001b[0m\n\u001b[0;32m      4\u001b[0m \u001b[0mpredict_catb_sub\u001b[0m \u001b[1;33m=\u001b[0m \u001b[0mmodel_catb\u001b[0m\u001b[1;33m.\u001b[0m\u001b[0mpredict\u001b[0m\u001b[1;33m(\u001b[0m\u001b[0mX_sub\u001b[0m\u001b[1;33m)\u001b[0m\u001b[1;33m\u001b[0m\u001b[1;33m\u001b[0m\u001b[0m\n\u001b[0;32m      5\u001b[0m \u001b[0mpredict_catb_sub\u001b[0m \u001b[1;33m=\u001b[0m \u001b[0mnp\u001b[0m\u001b[1;33m.\u001b[0m\u001b[0me\u001b[0m \u001b[1;33m**\u001b[0m \u001b[0mpredict_catb_sub\u001b[0m\u001b[1;33m\u001b[0m\u001b[1;33m\u001b[0m\u001b[0m\n",
      "\u001b[1;32m~\\anaconda3\\lib\\site-packages\\xgboost\\sklearn.py\u001b[0m in \u001b[0;36mpredict\u001b[1;34m(self, data, output_margin, ntree_limit, validate_features, base_margin)\u001b[0m\n\u001b[0;32m    602\u001b[0m                                           \u001b[0moutput_margin\u001b[0m\u001b[1;33m=\u001b[0m\u001b[0moutput_margin\u001b[0m\u001b[1;33m,\u001b[0m\u001b[1;33m\u001b[0m\u001b[1;33m\u001b[0m\u001b[0m\n\u001b[0;32m    603\u001b[0m                                           \u001b[0mntree_limit\u001b[0m\u001b[1;33m=\u001b[0m\u001b[0mntree_limit\u001b[0m\u001b[1;33m,\u001b[0m\u001b[1;33m\u001b[0m\u001b[1;33m\u001b[0m\u001b[0m\n\u001b[1;32m--> 604\u001b[1;33m                                           validate_features=validate_features)\n\u001b[0m\u001b[0;32m    605\u001b[0m \u001b[1;33m\u001b[0m\u001b[0m\n\u001b[0;32m    606\u001b[0m     \u001b[1;32mdef\u001b[0m \u001b[0mapply\u001b[0m\u001b[1;33m(\u001b[0m\u001b[0mself\u001b[0m\u001b[1;33m,\u001b[0m \u001b[0mX\u001b[0m\u001b[1;33m,\u001b[0m \u001b[0mntree_limit\u001b[0m\u001b[1;33m=\u001b[0m\u001b[1;36m0\u001b[0m\u001b[1;33m)\u001b[0m\u001b[1;33m:\u001b[0m\u001b[1;33m\u001b[0m\u001b[1;33m\u001b[0m\u001b[0m\n",
      "\u001b[1;32m~\\anaconda3\\lib\\site-packages\\xgboost\\core.py\u001b[0m in \u001b[0;36mpredict\u001b[1;34m(self, data, output_margin, ntree_limit, pred_leaf, pred_contribs, approx_contribs, pred_interactions, validate_features, training)\u001b[0m\n\u001b[0;32m   1362\u001b[0m \u001b[1;33m\u001b[0m\u001b[0m\n\u001b[0;32m   1363\u001b[0m         \u001b[1;32mif\u001b[0m \u001b[0mvalidate_features\u001b[0m\u001b[1;33m:\u001b[0m\u001b[1;33m\u001b[0m\u001b[1;33m\u001b[0m\u001b[0m\n\u001b[1;32m-> 1364\u001b[1;33m             \u001b[0mself\u001b[0m\u001b[1;33m.\u001b[0m\u001b[0m_validate_features\u001b[0m\u001b[1;33m(\u001b[0m\u001b[0mdata\u001b[0m\u001b[1;33m)\u001b[0m\u001b[1;33m\u001b[0m\u001b[1;33m\u001b[0m\u001b[0m\n\u001b[0m\u001b[0;32m   1365\u001b[0m \u001b[1;33m\u001b[0m\u001b[0m\n\u001b[0;32m   1366\u001b[0m         \u001b[0mlength\u001b[0m \u001b[1;33m=\u001b[0m \u001b[0mc_bst_ulong\u001b[0m\u001b[1;33m(\u001b[0m\u001b[1;33m)\u001b[0m\u001b[1;33m\u001b[0m\u001b[1;33m\u001b[0m\u001b[0m\n",
      "\u001b[1;32m~\\anaconda3\\lib\\site-packages\\xgboost\\core.py\u001b[0m in \u001b[0;36m_validate_features\u001b[1;34m(self, data)\u001b[0m\n\u001b[0;32m   1934\u001b[0m \u001b[1;33m\u001b[0m\u001b[0m\n\u001b[0;32m   1935\u001b[0m                 raise ValueError(msg.format(self.feature_names,\n\u001b[1;32m-> 1936\u001b[1;33m                                             data.feature_names))\n\u001b[0m\u001b[0;32m   1937\u001b[0m \u001b[1;33m\u001b[0m\u001b[0m\n\u001b[0;32m   1938\u001b[0m     def get_split_value_histogram(self, feature, fmap='', bins=None,\n",
      "\u001b[1;31mValueError\u001b[0m: feature_names mismatch: ['Unnamed: 0', 'hcc', 'power-child-locks-rear-doors', 'folding-front-passenger-seat', 'steering-wheel-gear-shift-paddles', 'drowsy-driver-alert-system', 'airbag-side', 'third-rear-headrest', 'multi-wheel', 'entertainment-system-for-rear-seat-passengers', 'panorama-roof', 'seats-9', 'rear-seats-heat', 'front-seat-support', '19-inch-wheels', 'black-roof', '345', 'armored', '3FB', 'reduce-spare-wheel', '881', 'light-cleaner', 'airbag-6', 'vsm', 'fabric-seats', 'airbrush', 'PW1', 'airbag-rear-side', 'air-suspension', 'audiosystem-tv', '16-inch-wheels', 'airbag-passenger', 'light-interior', 'seat-transformation', '239', 'traffic-sign-recognition', 'wheel-configuration3', 'gbo', 'massage-seats', 'seats-2', 'feedback-alarm', 'PRD', '6R1', '401', '1N1', 'audiopreparation', 'turnbuckle', 'PCG', 'electro-trunk', '246', 'PL2', 'knee-airbag', '51U', 'voice-recognition', 'leather-gear-stick', '448', 'aux', 'lock', '242', '872', 'wheel-configuration2', 'driver-seat-support', 'B63', '23-inch-wheels', '27-inch-wheels', 'U22', '18-inch-wheels', 'adaptive-light', '12v-socket', 'P17', 'rear-camera', 'driver-seat-memory', 'electro-window-front', 'park-assist-f', 'heated-wash-system', '443', 'U25', 'seat-memory', '4A3', '17-inch-wheels', 'servo', 'climate-control-1', 'auto-mirrors', '3L5', 'PCH', 'spare-wheel', 'velvet-seats', '632', 'engine-proof', '68BF', 'laser-lights', 'RAB', 'volume-sensor', 'parktronik', 'ashtray-and-cigarette-lighter', 'night-vision', 'E0P', 'collision-prevention-assist', '086GC', '776', 'S7N', '414', '3S1', 'electro-window-all', '03B', 'bas', 'front-seats-heat', 'front-seats-heat-vent', 'wireless-charger', 'body-kit', 'e-adjustment-wheel', 'H06', 'R66', 'duo-body-color', '4R3', 'auto-cruise', '3Q6', 'electro-mirrors', 'electro-seat', 'led-lights', 'windcleaner-heat', '540', 'folding-tables-rear', '9P5', 'music-super', 'passenger-seat-manual', '9T1', '475', 'sport-suspension', 'isofix', 'roof-rails', 'blind-spot', '431', 'UI4', 'automatic-lighting-control', '6XD', '4UE', '4R2', '871', '927', 'immobiliser-not-standard', 'airbag-2', 'PB0', 'multizone-climate-control', 'wheel-configuration1', '9S6', 'wheel-power', 'door-sill-panel', 'android-auto', 'tyre-pressure', 'electronic-gage-panel', '840', 'climate-control-3', '270', 'decorative-interior-lighting', 'esp', 'adj-pedals', 'airbag-curtain', '7X5', 'apple-carplay', 'alcantara', '989', '086EG', '14U', 'lane-keeping-assist', '551', 'asr', '6XE', '4I2', '772', '351', 'start-stop-function', 'start-button', 'B16', '6E3', '313', 'activ-suspension', '364', 'passenger-seat-electric', 'DZ9', '3NZ', 'dark-interior', 'PA1', 'rain-sensor', '873', 'leather', 'wheel-memory', 'N4M', 'PQ9', '033IN', 'not_specified', 'tinted-glass', '15-inch-wheels', '9VS', '086FA', 'driver-seat-manual', '824', '728', '889', 'PN0', 'sport-pedals', 'P31', '234', 'sport-seats', '274', 'seats-4', 'airbag-driver', 'paint-metallic', '9S3', '3B3', '8T6', 'electro-rear-seat', 'drl', '7Y4', 'hatch', '3PB', 'power-latching-doors', 'navigation', 'driver-seat-updown', 'computer', 'xenon', '883', 'body-mouldings', 'L5C', 'passenger-seat-memory', 'seats-7', 'seats-heat', 'WVA', 'drive-mode-sys', 'U09', '670', '4X4', '513', '500', '810', 'ya-auto', 'wheel-leather', 'PRG', '440', 'programmed-block-heater', '14-inch-wheels', 'audiosystem', 'keyless-entry', 'audiosystem-cd', 'P29', 'seats-8', '220v-socket', '249', '25-inch-wheels', '608', 'roller-blinds-for-rear-side-windows', '531', 'easy-trunk-opening', 'laminated-safety-glass', 'cooling-box', '61U', 'immo', 'R01', '501', '597', 'usb', '360-camera', '20-inch-wheels', 'glonass', 'rear-seat-heat-vent', 'airbag-4', '6XF', 'PRA', '21-inch-wheels', 'advanced-frontlighting-system', '301', '6NQ', 'climate-control', 'windscreen-heat', '066AC', 'bluetooth', '9AB', 'alloy-wheel-disks', '8T2', 'halogen', 'seats-6', '7B2', 'steel-wheels', '7AA', 'passenger-seat-updown', 'KA2', 'eco-leather', '24-inch-wheels', '235', 'mirrors-heat', 'RDIF09', 'light-sensor', '8RM', 'wheel-heat', '17U', 'seats-5', '218', '42D', '033GQ', 'auto-park', 'front-centre-armrest', 'isofix-front', 'remote-engine-start', '882', 'PX2', '4D3', 'condition', 'driver-seat-electric', '367', '807', '041CZ', 'front-camera', 'abs', 'projection-display', '228', 'third-row-seats', 'P44', '12-inch-wheels', 'ptf', '68BD', '22-inch-wheels', 'CJ4', 'electro-window-back', 'climate-control-2', '2C5', 'cruise-control', 'alarm', '16U', '13-inch-wheels', 'combo-interior', 'dha', '9R1', '357', 'park-assist-r', '4UC', 'PNQ', 'RVR', 'high-beam-assist', 'roller-blind-for-rear-window', 'bodyType', 'brand', 'color', 'engineDisplacement', 'enginePower', 'fuelType', 'mileage', 'modelDate', 'model_name', 'numberOfDoors', 'parsing_unixtime', 'productionDate', 'sell_id', 'vehicleTransmission', 'owners', 'owning', 'pts', 'privod', 'wheel', 'state', 'mileage600', 'engpower_doors', 'engpower_endisp', 'engpower_owners', 'prod-model-date', 'car_used', 'brand_price', 'body_price', 'model_name_price', 'brand_mileage', 'model_name_mileage', 'equip_len', 'descr_labels'] ['Unnamed: 0', 'hcc', 'power-child-locks-rear-doors', 'folding-front-passenger-seat', 'steering-wheel-gear-shift-paddles', 'drowsy-driver-alert-system', 'airbag-side', 'third-rear-headrest', 'multi-wheel', 'entertainment-system-for-rear-seat-passengers', 'panorama-roof', 'seats-9', 'rear-seats-heat', 'front-seat-support', '19-inch-wheels', 'black-roof', '345', 'armored', '3FB', 'reduce-spare-wheel', '881', 'light-cleaner', 'airbag-6', 'vsm', 'fabric-seats', 'airbrush', 'PW1', 'airbag-rear-side', 'air-suspension', 'audiosystem-tv', '16-inch-wheels', 'airbag-passenger', 'light-interior', 'seat-transformation', '239', 'traffic-sign-recognition', 'wheel-configuration3', 'gbo', 'massage-seats', 'seats-2', 'feedback-alarm', 'PRD', '6R1', '401', '1N1', 'audiopreparation', 'turnbuckle', 'PCG', 'electro-trunk', '246', 'PL2', 'knee-airbag', '51U', 'voice-recognition', 'leather-gear-stick', '448', 'aux', 'lock', '242', '872', 'wheel-configuration2', 'driver-seat-support', 'B63', '23-inch-wheels', '27-inch-wheels', 'U22', '18-inch-wheels', 'adaptive-light', '12v-socket', 'P17', 'rear-camera', 'driver-seat-memory', 'electro-window-front', 'park-assist-f', 'heated-wash-system', '443', 'U25', 'seat-memory', '4A3', '17-inch-wheels', 'servo', 'climate-control-1', 'auto-mirrors', '3L5', 'PCH', 'spare-wheel', 'velvet-seats', '632', 'engine-proof', '68BF', 'laser-lights', 'RAB', 'volume-sensor', 'parktronik', 'ashtray-and-cigarette-lighter', 'night-vision', 'E0P', 'collision-prevention-assist', '086GC', '776', 'S7N', '414', '3S1', 'electro-window-all', '03B', 'bas', 'front-seats-heat', 'front-seats-heat-vent', 'wireless-charger', 'body-kit', 'e-adjustment-wheel', 'H06', 'R66', 'duo-body-color', '4R3', 'auto-cruise', '3Q6', 'electro-mirrors', 'electro-seat', 'led-lights', 'windcleaner-heat', '540', 'folding-tables-rear', '9P5', 'music-super', 'passenger-seat-manual', '9T1', '475', 'sport-suspension', 'isofix', 'roof-rails', 'blind-spot', '431', 'UI4', 'automatic-lighting-control', '6XD', '4UE', '4R2', '871', '927', 'immobiliser-not-standard', 'airbag-2', 'PB0', 'multizone-climate-control', 'wheel-configuration1', '9S6', 'wheel-power', 'door-sill-panel', 'android-auto', 'tyre-pressure', 'electronic-gage-panel', '840', 'climate-control-3', '270', 'decorative-interior-lighting', 'esp', 'adj-pedals', 'airbag-curtain', '7X5', 'apple-carplay', 'alcantara', '989', '086EG', '14U', 'lane-keeping-assist', '551', 'asr', '6XE', '4I2', '772', '351', 'start-stop-function', 'start-button', 'B16', '6E3', '313', 'activ-suspension', '364', 'passenger-seat-electric', 'DZ9', '3NZ', 'dark-interior', 'PA1', 'rain-sensor', '873', 'leather', 'wheel-memory', 'N4M', 'PQ9', '033IN', 'not_specified', 'tinted-glass', '15-inch-wheels', '9VS', '086FA', 'driver-seat-manual', '824', '728', '889', 'PN0', 'sport-pedals', 'P31', '234', 'sport-seats', '274', 'seats-4', 'airbag-driver', 'paint-metallic', '9S3', '3B3', '8T6', 'electro-rear-seat', 'drl', '7Y4', 'hatch', '3PB', 'power-latching-doors', 'navigation', 'driver-seat-updown', 'computer', 'xenon', '883', 'body-mouldings', 'L5C', 'passenger-seat-memory', 'seats-7', 'seats-heat', 'WVA', 'drive-mode-sys', 'U09', '670', '4X4', '513', '500', '810', 'ya-auto', 'wheel-leather', 'PRG', '440', 'programmed-block-heater', '14-inch-wheels', 'audiosystem', 'keyless-entry', 'audiosystem-cd', 'P29', 'seats-8', '220v-socket', '249', '25-inch-wheels', '608', 'roller-blinds-for-rear-side-windows', '531', 'easy-trunk-opening', 'laminated-safety-glass', 'cooling-box', '61U', 'immo', 'R01', '501', '597', 'usb', '360-camera', '20-inch-wheels', 'glonass', 'rear-seat-heat-vent', 'airbag-4', '6XF', 'PRA', '21-inch-wheels', 'advanced-frontlighting-system', '301', '6NQ', 'climate-control', 'windscreen-heat', '066AC', 'bluetooth', '9AB', 'alloy-wheel-disks', '8T2', 'halogen', 'seats-6', '7B2', 'steel-wheels', '7AA', 'passenger-seat-updown', 'KA2', 'eco-leather', '24-inch-wheels', '235', 'mirrors-heat', 'RDIF09', 'light-sensor', '8RM', 'wheel-heat', '17U', 'seats-5', '218', '42D', '033GQ', 'auto-park', 'front-centre-armrest', 'isofix-front', 'remote-engine-start', '882', 'PX2', '4D3', 'condition', 'driver-seat-electric', '367', '807', '041CZ', 'front-camera', 'abs', 'projection-display', '228', 'third-row-seats', 'P44', '12-inch-wheels', 'ptf', '68BD', '22-inch-wheels', 'CJ4', 'electro-window-back', 'climate-control-2', '2C5', 'cruise-control', 'alarm', '16U', '13-inch-wheels', 'combo-interior', 'dha', '9R1', '357', 'park-assist-r', '4UC', 'PNQ', 'RVR', 'high-beam-assist', 'roller-blind-for-rear-window', 'bodyType', 'brand', 'color', 'engineDisplacement', 'enginePower', 'fuelType', 'mileage', 'modelDate', 'model_name', 'numberOfDoors', 'parsing_unixtime', 'productionDate', 'sell_id', 'vehicleTransmission', 'owners', 'owning', 'pts', 'privod', 'wheel', 'state', 'price', 'mileage600', 'engpower_doors', 'engpower_endisp', 'engpower_owners', 'prod-model-date', 'car_used', 'brand_price', 'body_price', 'model_name_price', 'brand_mileage', 'model_name_mileage', 'equip_len', 'descr_labels']\ntraining data did not have the following fields: price"
     ]
    }
   ],
   "source": [
    "predict_xgb_sub = model_xgb.predict(X_sub)\n",
    "predict_xgb_sub = np.e ** predict_xgb_sub\n",
    "\n",
    "predict_catb_sub = model_catb.predict(X_sub)\n",
    "predict_catb_sub = np.e ** predict_catb_sub\n",
    "\n",
    "predict_submission = np.mean(np.array([predict_xgb_sub, predict_catb_sub]), axis=0)\n",
    "\n",
    "predict_submission = np.e ** predict_submission\n",
    "predict_submission = predict_submission // 10000 * 10000\n",
    "sample_submission['price'] = predict_submission\n",
    "sample_submission.to_csv(f'..\\kaggle\\submissions_kaggle\\submission_{new_version}.csv', index=False)\n",
    "sample_submission.head(5)"
   ]
  },
  {
   "cell_type": "code",
   "execution_count": null,
   "metadata": {},
   "outputs": [],
   "source": [
    "# estimators = [\n",
    "#     ('catboost', model_catb),\n",
    "#     ('xgboost', model_xgb)\n",
    "# ]\n",
    "\n",
    "# stacker = StackingRegressor(\n",
    "#     estimators=estimators,\n",
    "#     final_estimator=RandomForestRegressor(n_estimators=10,\n",
    "#                                           random_state=RANDOM_SEED),\n",
    "#     n_jobs=-1,\n",
    "#     cv=4\n",
    "# )\n",
    "\n",
    "# stacker.fit(X_train, y_train).score(X_test, y_test)"
   ]
  },
  {
   "cell_type": "code",
   "execution_count": null,
   "metadata": {},
   "outputs": [],
   "source": [
    "# predict = stacker.predict(X_test)\n",
    "\n",
    "# predict = np.e ** predict\n",
    "# y_test = np.e ** y_test\n",
    "\n",
    "# # оцениваем точность\n",
    "# MAPE = f'{(mape(y_test, predict))*100:0.4f}'\n",
    "# print(f\"Точность модели по метрике MAPE: {MAPE}%\")"
   ]
  }
 ]
}
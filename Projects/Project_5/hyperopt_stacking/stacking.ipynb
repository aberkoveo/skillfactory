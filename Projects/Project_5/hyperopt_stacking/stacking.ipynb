{
 "metadata": {
  "language_info": {
   "codemirror_mode": {
    "name": "ipython",
    "version": 3
   },
   "file_extension": ".py",
   "mimetype": "text/x-python",
   "name": "python",
   "nbconvert_exporter": "python",
   "pygments_lexer": "ipython3",
   "version": "3.7.7-final"
  },
  "orig_nbformat": 2,
  "kernelspec": {
   "name": "python3",
   "display_name": "Python 3",
   "language": "python"
  }
 },
 "nbformat": 4,
 "nbformat_minor": 2,
 "cells": [
  {
   "cell_type": "code",
   "execution_count": 1,
   "metadata": {},
   "outputs": [],
   "source": [
    "from sklearn.ensemble import RandomForestRegressor\n",
    "from sklearn.ensemble import StackingRegressor\n",
    "import pandas as pd\n",
    "import numpy as np\n",
    "\n",
    "from catboost import CatBoostRegressor, Pool, cv\n",
    "import xgboost as xgb\n",
    "\n",
    "from sklearn.model_selection import train_test_split"
   ]
  },
  {
   "cell_type": "code",
   "execution_count": 2,
   "metadata": {},
   "outputs": [],
   "source": [
    "def mape(y_true, y_pred):\n",
    "    return np.mean(np.abs((y_pred-y_true)/y_true))\n",
    "\n",
    "RANDOM_SEED=42"
   ]
  },
  {
   "cell_type": "code",
   "execution_count": 3,
   "metadata": {},
   "outputs": [],
   "source": [
    "data = pd.read_csv('data_for_stacking.csv')\n",
    "\n",
    "\n",
    "cat_features_ids = ['bodyType', 'brand', 'color','descr_labels', 'fuelType', \n",
    "                    'model_name', 'vehicleTransmission',\n",
    "                    'pts', 'privod', 'wheel', 'state', 'descr_labels']\n",
    "\n",
    "for colum in cat_features_ids:\n",
    "    data[colum] = data[colum].astype('category').cat.codes\n",
    "\n",
    "data.drop('Unnamed: 0', axis=1, inplace=True, errors='ignore')"
   ]
  },
  {
   "cell_type": "code",
   "execution_count": 4,
   "metadata": {},
   "outputs": [],
   "source": [
    "sample_submission = pd.read_csv('../kaggle/sample_submission.csv')"
   ]
  },
  {
   "cell_type": "code",
   "execution_count": 5,
   "metadata": {},
   "outputs": [
    {
     "output_type": "execute_result",
     "data": {
      "text/plain": [
       "array([  0,   3,  37,  49,  40,  11,   9,   1,  43,  44,  35,  72,  20,\n",
       "        16,  29,  32,  51,  25,  19,  39,  28,  36,  13,  12,  56,  54,\n",
       "        18,  61,  65,  41,  57,  53,   7,  63,  38,  58,  75,  67,  83,\n",
       "        34,  59,  68,  42,   2,  21,   5,  50,  17,  30,  27,  24,  23,\n",
       "        55,  31,  26,   6,  14,  48,   8,   4,  15,  10,  22,  33,  66,\n",
       "        64,  47,  45,  71,  52,  46,  78,  60,  89,  76,  62,  74,  77,\n",
       "        70,  69,  84,  73,  80,  88,  81,  95,  85,  82,  90, 120,  92,\n",
       "        97,  79,  94,  98,  99,  86,  93, 101, 100,  96,  87, 107,  91,\n",
       "       104, 102, 106, 105, 103, 115, 110, 111, 118, 108, 113, 109],\n",
       "      dtype=int64)"
      ]
     },
     "metadata": {},
     "execution_count": 5
    }
   ],
   "source": [
    "data[data['sample']==1].equip_len.unique()"
   ]
  },
  {
   "cell_type": "code",
   "execution_count": 24,
   "metadata": {},
   "outputs": [],
   "source": [
    "X = data.query('sample == 1').drop(['sample'], axis=1)\n",
    "y = X['price']\n",
    "\n",
    "X.drop('price', axis=1, inplace=True, errors='ignore')\n",
    "X_sub = data.query('sample == 0').drop(['sample', 'price'], axis=1)\n",
    "\n",
    "VAL_SIZE=0.20\n",
    "X_train, X_test, y_train, y_test = train_test_split(X, y, test_size=VAL_SIZE, shuffle=True, random_state=RANDOM_SEED)"
   ]
  },
  {
   "cell_type": "code",
   "execution_count": 7,
   "metadata": {},
   "outputs": [],
   "source": [
    "y_train = np.log(y_train)\n",
    "y_test = np.log(y_test)"
   ]
  },
  {
   "cell_type": "code",
   "execution_count": 10,
   "metadata": {},
   "outputs": [
    {
     "output_type": "stream",
     "name": "stderr",
     "text": [
      "Warning: Overfitting detector is active, thus evaluation metric is calculated on every iteration. 'metric_period' is ignored for evaluation metric.\n",
      "0:\tlearn: 0.0691856\ttest: 0.0691192\tbest: 0.0691192 (0)\ttotal: 355ms\tremaining: 29m 34s\n",
      "48:\tlearn: 0.0134941\ttest: 0.0137295\tbest: 0.0137295 (48)\ttotal: 12.6s\tremaining: 21m 9s\n",
      "96:\tlearn: 0.0110109\ttest: 0.0115041\tbest: 0.0115041 (96)\ttotal: 25.3s\tremaining: 21m 16s\n",
      "144:\tlearn: 0.0102494\ttest: 0.0109264\tbest: 0.0109264 (144)\ttotal: 39s\tremaining: 21m 45s\n",
      "192:\tlearn: 0.0097042\ttest: 0.0105611\tbest: 0.0105611 (192)\ttotal: 52.1s\tremaining: 21m 37s\n",
      "240:\tlearn: 0.0092372\ttest: 0.0102608\tbest: 0.0102608 (240)\ttotal: 1m 4s\tremaining: 21m 19s\n",
      "288:\tlearn: 0.0088500\ttest: 0.0100297\tbest: 0.0100297 (288)\ttotal: 1m 17s\tremaining: 21m 9s\n",
      "336:\tlearn: 0.0084923\ttest: 0.0098129\tbest: 0.0098129 (336)\ttotal: 1m 31s\tremaining: 21m\n",
      "384:\tlearn: 0.0081832\ttest: 0.0096502\tbest: 0.0096502 (384)\ttotal: 1m 44s\tremaining: 20m 51s\n",
      "432:\tlearn: 0.0079372\ttest: 0.0095245\tbest: 0.0095245 (432)\ttotal: 1m 57s\tremaining: 20m 38s\n",
      "480:\tlearn: 0.0076905\ttest: 0.0093986\tbest: 0.0093986 (480)\ttotal: 2m 10s\tremaining: 20m 26s\n",
      "528:\tlearn: 0.0074689\ttest: 0.0092898\tbest: 0.0092898 (528)\ttotal: 2m 23s\tremaining: 20m 16s\n",
      "576:\tlearn: 0.0072849\ttest: 0.0092052\tbest: 0.0092052 (576)\ttotal: 2m 37s\tremaining: 20m 4s\n",
      "624:\tlearn: 0.0070865\ttest: 0.0091149\tbest: 0.0091149 (624)\ttotal: 2m 50s\tremaining: 19m 54s\n",
      "672:\tlearn: 0.0069119\ttest: 0.0090418\tbest: 0.0090418 (672)\ttotal: 3m 4s\tremaining: 19m 45s\n",
      "720:\tlearn: 0.0067409\ttest: 0.0089646\tbest: 0.0089646 (720)\ttotal: 3m 18s\tremaining: 19m 35s\n",
      "768:\tlearn: 0.0065821\ttest: 0.0089000\tbest: 0.0089000 (768)\ttotal: 3m 31s\tremaining: 19m 25s\n",
      "816:\tlearn: 0.0064330\ttest: 0.0088334\tbest: 0.0088334 (816)\ttotal: 3m 45s\tremaining: 19m 15s\n",
      "864:\tlearn: 0.0062796\ttest: 0.0087700\tbest: 0.0087700 (864)\ttotal: 3m 59s\tremaining: 19m 4s\n",
      "912:\tlearn: 0.0061563\ttest: 0.0087207\tbest: 0.0087207 (911)\ttotal: 4m 13s\tremaining: 18m 55s\n",
      "960:\tlearn: 0.0060130\ttest: 0.0086668\tbest: 0.0086668 (960)\ttotal: 4m 27s\tremaining: 18m 45s\n",
      "1008:\tlearn: 0.0058824\ttest: 0.0086171\tbest: 0.0086171 (1008)\ttotal: 4m 42s\tremaining: 18m 36s\n",
      "1056:\tlearn: 0.0057571\ttest: 0.0085692\tbest: 0.0085692 (1056)\ttotal: 4m 56s\tremaining: 18m 26s\n",
      "1104:\tlearn: 0.0056250\ttest: 0.0085144\tbest: 0.0085144 (1104)\ttotal: 5m 10s\tremaining: 18m 16s\n",
      "1152:\tlearn: 0.0055085\ttest: 0.0084754\tbest: 0.0084754 (1152)\ttotal: 5m 25s\tremaining: 18m 6s\n",
      "1200:\tlearn: 0.0054090\ttest: 0.0084336\tbest: 0.0084336 (1200)\ttotal: 5m 40s\tremaining: 17m 56s\n",
      "1248:\tlearn: 0.0052824\ttest: 0.0083866\tbest: 0.0083866 (1248)\ttotal: 5m 54s\tremaining: 17m 46s\n",
      "1296:\tlearn: 0.0051737\ttest: 0.0083427\tbest: 0.0083427 (1296)\ttotal: 6m 9s\tremaining: 17m 36s\n",
      "1344:\tlearn: 0.0050702\ttest: 0.0083047\tbest: 0.0083047 (1344)\ttotal: 6m 25s\tremaining: 17m 26s\n",
      "1392:\tlearn: 0.0049763\ttest: 0.0082707\tbest: 0.0082707 (1392)\ttotal: 6m 40s\tremaining: 17m 16s\n",
      "1440:\tlearn: 0.0048807\ttest: 0.0082354\tbest: 0.0082354 (1440)\ttotal: 6m 55s\tremaining: 17m 6s\n",
      "1488:\tlearn: 0.0047830\ttest: 0.0082013\tbest: 0.0082013 (1488)\ttotal: 7m 11s\tremaining: 16m 57s\n",
      "1536:\tlearn: 0.0046935\ttest: 0.0081692\tbest: 0.0081692 (1536)\ttotal: 7m 26s\tremaining: 16m 47s\n",
      "1584:\tlearn: 0.0045903\ttest: 0.0081326\tbest: 0.0081326 (1584)\ttotal: 7m 42s\tremaining: 16m 37s\n",
      "1632:\tlearn: 0.0045002\ttest: 0.0080972\tbest: 0.0080972 (1632)\ttotal: 7m 58s\tremaining: 16m 26s\n",
      "1680:\tlearn: 0.0044160\ttest: 0.0080669\tbest: 0.0080669 (1680)\ttotal: 8m 14s\tremaining: 16m 16s\n",
      "1728:\tlearn: 0.0043361\ttest: 0.0080372\tbest: 0.0080372 (1728)\ttotal: 8m 30s\tremaining: 16m 5s\n",
      "1776:\tlearn: 0.0042601\ttest: 0.0080092\tbest: 0.0080092 (1776)\ttotal: 8m 46s\tremaining: 15m 55s\n",
      "1824:\tlearn: 0.0041817\ttest: 0.0079803\tbest: 0.0079803 (1824)\ttotal: 9m 3s\tremaining: 15m 45s\n",
      "1872:\tlearn: 0.0041141\ttest: 0.0079558\tbest: 0.0079558 (1872)\ttotal: 9m 20s\tremaining: 15m 34s\n",
      "1920:\tlearn: 0.0040472\ttest: 0.0079323\tbest: 0.0079323 (1920)\ttotal: 9m 36s\tremaining: 15m 24s\n",
      "1968:\tlearn: 0.0039813\ttest: 0.0079086\tbest: 0.0079086 (1968)\ttotal: 9m 53s\tremaining: 15m 13s\n",
      "2016:\tlearn: 0.0039113\ttest: 0.0078827\tbest: 0.0078827 (2016)\ttotal: 10m 10s\tremaining: 15m 3s\n",
      "2064:\tlearn: 0.0038475\ttest: 0.0078615\tbest: 0.0078615 (2064)\ttotal: 10m 28s\tremaining: 14m 52s\n",
      "2112:\tlearn: 0.0037756\ttest: 0.0078324\tbest: 0.0078324 (2112)\ttotal: 10m 45s\tremaining: 14m 41s\n",
      "2160:\tlearn: 0.0037157\ttest: 0.0078116\tbest: 0.0078116 (2160)\ttotal: 11m 2s\tremaining: 14m 30s\n",
      "2208:\tlearn: 0.0036526\ttest: 0.0077930\tbest: 0.0077930 (2208)\ttotal: 11m 20s\tremaining: 14m 19s\n",
      "2256:\tlearn: 0.0035918\ttest: 0.0077691\tbest: 0.0077691 (2256)\ttotal: 11m 38s\tremaining: 14m 9s\n",
      "2304:\tlearn: 0.0035331\ttest: 0.0077468\tbest: 0.0077468 (2304)\ttotal: 11m 56s\tremaining: 13m 58s\n",
      "2352:\tlearn: 0.0034766\ttest: 0.0077253\tbest: 0.0077253 (2352)\ttotal: 12m 15s\tremaining: 13m 47s\n",
      "2400:\tlearn: 0.0034207\ttest: 0.0077089\tbest: 0.0077089 (2399)\ttotal: 12m 34s\tremaining: 13m 36s\n",
      "2448:\tlearn: 0.0033669\ttest: 0.0076908\tbest: 0.0076908 (2448)\ttotal: 12m 53s\tremaining: 13m 25s\n",
      "2496:\tlearn: 0.0033119\ttest: 0.0076715\tbest: 0.0076715 (2496)\ttotal: 13m 12s\tremaining: 13m 14s\n",
      "2544:\tlearn: 0.0032544\ttest: 0.0076521\tbest: 0.0076521 (2544)\ttotal: 13m 31s\tremaining: 13m 2s\n",
      "2592:\tlearn: 0.0031991\ttest: 0.0076372\tbest: 0.0076372 (2592)\ttotal: 13m 50s\tremaining: 12m 51s\n",
      "2640:\tlearn: 0.0031397\ttest: 0.0076171\tbest: 0.0076171 (2640)\ttotal: 14m 10s\tremaining: 12m 39s\n",
      "2688:\tlearn: 0.0030902\ttest: 0.0075996\tbest: 0.0075996 (2688)\ttotal: 14m 30s\tremaining: 12m 27s\n",
      "2736:\tlearn: 0.0030440\ttest: 0.0075856\tbest: 0.0075856 (2736)\ttotal: 14m 50s\tremaining: 12m 16s\n",
      "2784:\tlearn: 0.0029913\ttest: 0.0075686\tbest: 0.0075686 (2784)\ttotal: 15m 10s\tremaining: 12m 4s\n",
      "2832:\tlearn: 0.0029459\ttest: 0.0075538\tbest: 0.0075538 (2832)\ttotal: 15m 30s\tremaining: 11m 51s\n",
      "2880:\tlearn: 0.0029002\ttest: 0.0075408\tbest: 0.0075408 (2880)\ttotal: 15m 51s\tremaining: 11m 39s\n",
      "2928:\tlearn: 0.0028551\ttest: 0.0075247\tbest: 0.0075247 (2927)\ttotal: 16m 12s\tremaining: 11m 27s\n",
      "2976:\tlearn: 0.0028135\ttest: 0.0075124\tbest: 0.0075124 (2976)\ttotal: 16m 33s\tremaining: 11m 15s\n",
      "3024:\tlearn: 0.0027713\ttest: 0.0074983\tbest: 0.0074983 (3024)\ttotal: 16m 54s\tremaining: 11m 2s\n",
      "3072:\tlearn: 0.0027407\ttest: 0.0074872\tbest: 0.0074872 (3072)\ttotal: 17m 15s\tremaining: 10m 49s\n",
      "3120:\tlearn: 0.0026954\ttest: 0.0074717\tbest: 0.0074717 (3120)\ttotal: 17m 37s\tremaining: 10m 36s\n",
      "3168:\tlearn: 0.0026577\ttest: 0.0074605\tbest: 0.0074605 (3168)\ttotal: 17m 58s\tremaining: 10m 23s\n",
      "3216:\tlearn: 0.0026167\ttest: 0.0074452\tbest: 0.0074452 (3216)\ttotal: 18m 20s\tremaining: 10m 9s\n",
      "3264:\tlearn: 0.0025767\ttest: 0.0074364\tbest: 0.0074363 (3263)\ttotal: 18m 42s\tremaining: 9m 56s\n",
      "3312:\tlearn: 0.0025438\ttest: 0.0074246\tbest: 0.0074246 (3312)\ttotal: 19m 4s\tremaining: 9m 42s\n",
      "3360:\tlearn: 0.0025048\ttest: 0.0074134\tbest: 0.0074134 (3360)\ttotal: 19m 27s\tremaining: 9m 29s\n",
      "3408:\tlearn: 0.0024703\ttest: 0.0074013\tbest: 0.0074013 (3408)\ttotal: 19m 49s\tremaining: 9m 15s\n",
      "3456:\tlearn: 0.0024370\ttest: 0.0073903\tbest: 0.0073903 (3456)\ttotal: 20m 12s\tremaining: 9m 1s\n",
      "3504:\tlearn: 0.0023997\ttest: 0.0073778\tbest: 0.0073778 (3502)\ttotal: 20m 35s\tremaining: 8m 46s\n",
      "3552:\tlearn: 0.0023643\ttest: 0.0073665\tbest: 0.0073665 (3552)\ttotal: 20m 58s\tremaining: 8m 32s\n",
      "3600:\tlearn: 0.0023300\ttest: 0.0073562\tbest: 0.0073562 (3600)\ttotal: 21m 21s\tremaining: 8m 17s\n",
      "3648:\tlearn: 0.0022971\ttest: 0.0073462\tbest: 0.0073461 (3647)\ttotal: 21m 44s\tremaining: 8m 2s\n",
      "3696:\tlearn: 0.0022656\ttest: 0.0073363\tbest: 0.0073363 (3696)\ttotal: 22m 7s\tremaining: 7m 48s\n",
      "3744:\tlearn: 0.0022347\ttest: 0.0073261\tbest: 0.0073260 (3742)\ttotal: 22m 31s\tremaining: 7m 32s\n",
      "3792:\tlearn: 0.0022018\ttest: 0.0073153\tbest: 0.0073153 (3791)\ttotal: 22m 54s\tremaining: 7m 17s\n",
      "3840:\tlearn: 0.0021722\ttest: 0.0073059\tbest: 0.0073059 (3840)\ttotal: 23m 18s\tremaining: 7m 2s\n",
      "3888:\tlearn: 0.0021412\ttest: 0.0072966\tbest: 0.0072966 (3888)\ttotal: 23m 42s\tremaining: 6m 46s\n",
      "3936:\tlearn: 0.0021173\ttest: 0.0072908\tbest: 0.0072908 (3936)\ttotal: 24m 7s\tremaining: 6m 30s\n",
      "3984:\tlearn: 0.0020898\ttest: 0.0072829\tbest: 0.0072829 (3984)\ttotal: 24m 31s\tremaining: 6m 14s\n",
      "4032:\tlearn: 0.0020612\ttest: 0.0072747\tbest: 0.0072747 (4032)\ttotal: 24m 56s\tremaining: 5m 58s\n",
      "4080:\tlearn: 0.0020353\ttest: 0.0072673\tbest: 0.0072673 (4080)\ttotal: 25m 20s\tremaining: 5m 42s\n",
      "4128:\tlearn: 0.0020091\ttest: 0.0072590\tbest: 0.0072590 (4128)\ttotal: 25m 45s\tremaining: 5m 26s\n",
      "4176:\tlearn: 0.0019836\ttest: 0.0072536\tbest: 0.0072536 (4174)\ttotal: 26m 11s\tremaining: 5m 9s\n",
      "4224:\tlearn: 0.0019608\ttest: 0.0072475\tbest: 0.0072475 (4224)\ttotal: 26m 36s\tremaining: 4m 52s\n",
      "4272:\tlearn: 0.0019339\ttest: 0.0072399\tbest: 0.0072399 (4272)\ttotal: 27m 1s\tremaining: 4m 35s\n",
      "4320:\tlearn: 0.0019063\ttest: 0.0072333\tbest: 0.0072333 (4320)\ttotal: 27m 27s\tremaining: 4m 18s\n",
      "4368:\tlearn: 0.0018830\ttest: 0.0072273\tbest: 0.0072273 (4368)\ttotal: 27m 53s\tremaining: 4m 1s\n",
      "4416:\tlearn: 0.0018596\ttest: 0.0072205\tbest: 0.0072205 (4416)\ttotal: 28m 19s\tremaining: 3m 44s\n",
      "4464:\tlearn: 0.0018356\ttest: 0.0072139\tbest: 0.0072139 (4464)\ttotal: 28m 46s\tremaining: 3m 26s\n",
      "4512:\tlearn: 0.0018132\ttest: 0.0072077\tbest: 0.0072077 (4512)\ttotal: 29m 11s\tremaining: 3m 9s\n",
      "4560:\tlearn: 0.0017937\ttest: 0.0072028\tbest: 0.0072028 (4560)\ttotal: 29m 38s\tremaining: 2m 51s\n",
      "4608:\tlearn: 0.0017736\ttest: 0.0071973\tbest: 0.0071973 (4608)\ttotal: 30m 4s\tremaining: 2m 33s\n",
      "4656:\tlearn: 0.0017523\ttest: 0.0071905\tbest: 0.0071905 (4656)\ttotal: 30m 30s\tremaining: 2m 14s\n",
      "4704:\tlearn: 0.0017314\ttest: 0.0071838\tbest: 0.0071838 (4704)\ttotal: 30m 56s\tremaining: 1m 56s\n",
      "4752:\tlearn: 0.0017090\ttest: 0.0071770\tbest: 0.0071770 (4752)\ttotal: 31m 22s\tremaining: 1m 37s\n",
      "4800:\tlearn: 0.0016885\ttest: 0.0071712\tbest: 0.0071712 (4800)\ttotal: 31m 49s\tremaining: 1m 19s\n",
      "4848:\tlearn: 0.0016691\ttest: 0.0071657\tbest: 0.0071657 (4848)\ttotal: 32m 17s\tremaining: 1m\n",
      "4896:\tlearn: 0.0016477\ttest: 0.0071598\tbest: 0.0071598 (4896)\ttotal: 32m 44s\tremaining: 41.3s\n",
      "4944:\tlearn: 0.0016268\ttest: 0.0071548\tbest: 0.0071548 (4944)\ttotal: 33m 12s\tremaining: 22.2s\n",
      "4992:\tlearn: 0.0016068\ttest: 0.0071493\tbest: 0.0071493 (4992)\ttotal: 33m 40s\tremaining: 2.83s\n",
      "4999:\tlearn: 0.0016042\ttest: 0.0071489\tbest: 0.0071488 (4997)\ttotal: 33m 44s\tremaining: 0us\n",
      "\n",
      "bestTest = 0.007148842824\n",
      "bestIteration = 4997\n",
      "\n",
      "Shrink model to first 4998 iterations.\n"
     ]
    },
    {
     "output_type": "execute_result",
     "data": {
      "text/plain": [
       "<catboost.core.CatBoostRegressor at 0x2b16d526e48>"
      ]
     },
     "metadata": {},
     "execution_count": 10
    }
   ],
   "source": [
    "catboost_params = {\n",
    "    'iterations': 5000,\n",
    "    'learning_rate': 0.05775539388456,\n",
    "    'depth': 12,\n",
    "    'random_seed': RANDOM_SEED,\n",
    "    'eval_metric': 'MAPE',\n",
    "    'custom_metric': ['R2', 'MAE'],\n",
    "    'l2_leaf_reg': 1,\n",
    "    \"loss_function\": \"MAPE\"\n",
    "}\n",
    "\n",
    "train_pool = Pool(\n",
    "    X_train,\n",
    "    y_train,\n",
    "    cat_features=cat_features_ids,\n",
    ")\n",
    "test_pool = Pool(\n",
    "    X_test,\n",
    "    y_test,\n",
    "    cat_features=cat_features_ids,\n",
    ")\n",
    "\n",
    "model_catb = CatBoostRegressor(iterations = catboost_params['iterations'],\n",
    "                          learning_rate = catboost_params['learning_rate'],\n",
    "                          random_seed = RANDOM_SEED,\n",
    "                          eval_metric=catboost_params['eval_metric'],\n",
    "                          custom_metric=catboost_params['custom_metric'],\n",
    "                          l2_leaf_reg=catboost_params['l2_leaf_reg'],\n",
    "                          depth=catboost_params['depth'],\n",
    "                          metric_period=catboost_params['depth'],\n",
    "                          od_type='Iter',\n",
    "                          od_wait=20,\n",
    "                          rsm=0.2,\n",
    "                          devices='GPU'\n",
    "                         )\n",
    "model_catb.fit(train_pool,\n",
    "         eval_set=test_pool,\n",
    "         verbose_eval=catboost_params['depth']*4,\n",
    "         use_best_model=True,\n",
    "         plot=False\n",
    "         )"
   ]
  },
  {
   "cell_type": "code",
   "execution_count": 23,
   "metadata": {},
   "outputs": [
    {
     "output_type": "stream",
     "name": "stdout",
     "text": [
      "Точность модели по метрике MAPE: nan%\n"
     ]
    }
   ],
   "source": [
    "predict_catb = model_catb.predict(X_test)\n",
    "\n",
    "predict_catb = np.e ** predict_catb\n",
    "# y_test = np.e ** y_test\n",
    "\n",
    "# оцениваем точность\n",
    "MAPE = f'{(mape(y_test, predict_catb))*100:0.4f}'\n",
    "print(f\"Точность модели по метрике MAPE: {MAPE}%\")"
   ]
  },
  {
   "cell_type": "code",
   "execution_count": 13,
   "metadata": {},
   "outputs": [
    {
     "output_type": "execute_result",
     "data": {
      "text/plain": [
       "XGBRegressor(base_score=0.5, booster='gbtree', colsample_bylevel=1,\n",
       "             colsample_bynode=1, colsample_bytree=1, gamma=0, gpu_id=-1,\n",
       "             importance_type='gain', interaction_constraints='',\n",
       "             learning_rate=0.08, max_delta_step=0, max_depth=13,\n",
       "             min_child_weight=1, missing=None, monotone_constraints='()',\n",
       "             n_estimators=5000, n_jobs=20, nthread=20, num_parallel_tree=1,\n",
       "             random_state=0, reg_alpha=0, reg_lambda=1, scale_pos_weight=1,\n",
       "             seed=42, silent=None, subsample=0.75, tree_method='exact',\n",
       "             validate_parameters=1, verbose=True, verbosity=0)"
      ]
     },
     "metadata": {},
     "execution_count": 13
    }
   ],
   "source": [
    "model_xgb = xgb.XGBRegressor(base_score=0.5, \n",
    "                             booster='gbtree',\n",
    "                             colsample_bylevel=1,\n",
    "                             colsample_bynode=1, \n",
    "                             colsample_bytree=1, \n",
    "                             gamma=0, #0.15340366103115533, #0, \n",
    "                             importance_type='gain',  \n",
    "                             learning_rate=0.08, \n",
    "                             max_delta_step=0, \n",
    "                             max_depth=13, #12 #6, #7, \n",
    "                             min_child_weight=1,  \n",
    "                             missing=None, \n",
    "                             n_estimators=5000,\n",
    "                             n_jobs=20, \n",
    "                             nthread=None, \n",
    "                             random_state=0,\n",
    "                             reg_alpha=0, #1.8400184528746324, #0, \n",
    "                             reg_lambda=1, #1.0868061353806249,#1, \n",
    "                             scale_pos_weight=1, \n",
    "                             seed=RANDOM_SEED,\n",
    "                             silent=None, \n",
    "                             subsample=0.75, \n",
    "                             verbosity=0, \n",
    "                             objective='reg:squarederror',\n",
    "                             verbose=True#, eval_metric=mape\n",
    "                            )\n",
    "\n",
    "model_xgb.fit(X_train, y_train, eval_metric=mape)"
   ]
  },
  {
   "cell_type": "code",
   "execution_count": 27,
   "metadata": {},
   "outputs": [
    {
     "output_type": "stream",
     "name": "stdout",
     "text": [
      "Точность модели по метрике MAPE: 9.3244%\n"
     ]
    }
   ],
   "source": [
    "predict_xgb = model_xgb.predict(X_test)\n",
    "\n",
    "predict_xgb = np.e ** predict_xgb\n",
    "# y_test = np.e ** y_test\n",
    "\n",
    "# оцениваем точность\n",
    "MAPE = f'{(mape(y_test, predict_xgb))*100:0.4f}'\n",
    "print(f\"Точность модели по метрике MAPE: {MAPE}%\")"
   ]
  },
  {
   "cell_type": "code",
   "execution_count": 25,
   "metadata": {},
   "outputs": [
    {
     "output_type": "execute_result",
     "data": {
      "text/plain": [
       "71443      255000.0\n",
       "159732     580000.0\n",
       "111481    1400000.0\n",
       "107477     670000.0\n",
       "56306      320000.0\n",
       "            ...    \n",
       "153098    1780000.0\n",
       "209148     950000.0\n",
       "176389    2850210.0\n",
       "50169      105000.0\n",
       "87392     4020000.0\n",
       "Name: price, Length: 34973, dtype: float64"
      ]
     },
     "metadata": {},
     "execution_count": 25
    }
   ],
   "source": [
    "y_test"
   ]
  },
  {
   "source": [
    "# FINAL PREDICT"
   ],
   "cell_type": "markdown",
   "metadata": {}
  },
  {
   "cell_type": "code",
   "execution_count": 28,
   "metadata": {},
   "outputs": [
    {
     "output_type": "stream",
     "name": "stdout",
     "text": [
      "Точность модели по метрике MAPE: 9.0003%\n"
     ]
    }
   ],
   "source": [
    "predict_fin = np.mean(np.array([predict_catb, predict_xgb]), axis=0)\n",
    "\n",
    "# оцениваем точность\n",
    "MAPE = f'{(mape(y_test, predict_fin))*100:0.4f}'\n",
    "print(f\"Точность модели по метрике MAPE: {MAPE}%\")"
   ]
  },
  {
   "cell_type": "code",
   "execution_count": 29,
   "metadata": {},
   "outputs": [
    {
     "output_type": "stream",
     "name": "stdout",
     "text": [
      "Точность модели по метрике MAPE: 8.9740%\n"
     ]
    }
   ],
   "source": [
    "predict_fin_1k = np.round(predict_fin // 1000) * 1000\n",
    "MAPE = f'{(mape(y_test, predict_fin_1k))*100:0.4f}'\n",
    "print(f\"Точность модели по метрике MAPE: {MAPE}%\")"
   ]
  },
  {
   "cell_type": "code",
   "execution_count": 30,
   "metadata": {},
   "outputs": [
    {
     "output_type": "stream",
     "name": "stdout",
     "text": [
      "Точность модели по метрике MAPE: 8.8974%\n"
     ]
    }
   ],
   "source": [
    "predict_fin_10k = np.round(predict_fin // 10000) * 10000\n",
    "MAPE = f'{(mape(y_test, predict_fin_10k))*100:0.4f}'\n",
    "print(f\"Точность модели по метрике MAPE: {MAPE}%\")"
   ]
  },
  {
   "cell_type": "code",
   "execution_count": 35,
   "metadata": {},
   "outputs": [
    {
     "output_type": "execute_result",
     "data": {
      "text/plain": [
       "      sell_id      price\n",
       "0  1100575026   620000.0\n",
       "1  1100549428  1050000.0\n",
       "2  1100658222   880000.0\n",
       "3  1100937408   830000.0\n",
       "4  1101037972   810000.0"
      ],
      "text/html": "<div>\n<style scoped>\n    .dataframe tbody tr th:only-of-type {\n        vertical-align: middle;\n    }\n\n    .dataframe tbody tr th {\n        vertical-align: top;\n    }\n\n    .dataframe thead th {\n        text-align: right;\n    }\n</style>\n<table border=\"1\" class=\"dataframe\">\n  <thead>\n    <tr style=\"text-align: right;\">\n      <th></th>\n      <th>sell_id</th>\n      <th>price</th>\n    </tr>\n  </thead>\n  <tbody>\n    <tr>\n      <th>0</th>\n      <td>1100575026</td>\n      <td>620000.0</td>\n    </tr>\n    <tr>\n      <th>1</th>\n      <td>1100549428</td>\n      <td>1050000.0</td>\n    </tr>\n    <tr>\n      <th>2</th>\n      <td>1100658222</td>\n      <td>880000.0</td>\n    </tr>\n    <tr>\n      <th>3</th>\n      <td>1100937408</td>\n      <td>830000.0</td>\n    </tr>\n    <tr>\n      <th>4</th>\n      <td>1101037972</td>\n      <td>810000.0</td>\n    </tr>\n  </tbody>\n</table>\n</div>"
     },
     "metadata": {},
     "execution_count": 35
    }
   ],
   "source": [
    "new_version = 'xgb_13depth'\n",
    "\n",
    "predict_xgb_sub = model_xgb.predict(X_sub)\n",
    "predict_xgb_sub = np.e ** predict_xgb_sub\n",
    "\n",
    "predict_catb_sub = model_catb.predict(X_sub)\n",
    "predict_catb_sub = np.e ** predict_catb_sub\n",
    "\n",
    "predict_submission = np.max(np.array([predict_xgb_sub, predict_catb_sub]), axis=0)\n",
    "\n",
    "# predict_submission = np.e ** predict_submission\n",
    "predict_submission = predict_submission // 10000 * 10000\n",
    "sample_submission['price'] = predict_submission\n",
    "sample_submission.to_csv(f'..\\kaggle\\submissions_kaggle\\submission_{new_version}.csv', index=False)\n",
    "sample_submission.head(5)"
   ]
  },
  {
   "cell_type": "code",
   "execution_count": 16,
   "metadata": {},
   "outputs": [
    {
     "output_type": "execute_result",
     "data": {
      "text/plain": [
       "array([ 606542.03818756, 1045658.76530822,  880418.20330087, ...,\n",
       "        245842.70040454, 1204897.50550932, 1078203.02652019])"
      ]
     },
     "metadata": {},
     "execution_count": 16
    }
   ],
   "source": [
    "np.mean(np.array([predict_xgb_sub, predict_catb_sub]), axis=0)"
   ]
  },
  {
   "cell_type": "code",
   "execution_count": 17,
   "metadata": {},
   "outputs": [],
   "source": [
    "# estimators = [\n",
    "#     ('catboost', model_catb),\n",
    "#     ('xgboost', model_xgb)\n",
    "# ]\n",
    "\n",
    "# stacker = StackingRegressor(\n",
    "#     estimators=estimators,\n",
    "#     final_estimator=RandomForestRegressor(n_estimators=10,\n",
    "#                                           random_state=RANDOM_SEED),\n",
    "#     n_jobs=-1,\n",
    "#     cv=4\n",
    "# )\n",
    "\n",
    "# stacker.fit(X_train, y_train).score(X_test, y_test)"
   ]
  },
  {
   "cell_type": "code",
   "execution_count": 18,
   "metadata": {},
   "outputs": [],
   "source": [
    "# predict = stacker.predict(X_test)\n",
    "\n",
    "# predict = np.e ** predict\n",
    "# y_test = np.e ** y_test\n",
    "\n",
    "# # оцениваем точность\n",
    "# MAPE = f'{(mape(y_test, predict))*100:0.4f}'\n",
    "# print(f\"Точность модели по метрике MAPE: {MAPE}%\")"
   ]
  },
  {
   "cell_type": "code",
   "execution_count": 44,
   "metadata": {},
   "outputs": [
    {
     "output_type": "execute_result",
     "data": {
      "text/plain": [
       "0       NaN\n",
       "1       NaN\n",
       "2       NaN\n",
       "3       NaN\n",
       "4       NaN\n",
       "         ..\n",
       "34681   NaN\n",
       "34682   NaN\n",
       "34683   NaN\n",
       "34684   NaN\n",
       "34685   NaN\n",
       "Name: price, Length: 34686, dtype: float64"
      ]
     },
     "metadata": {},
     "execution_count": 44
    }
   ],
   "source": []
  }
 ]
}
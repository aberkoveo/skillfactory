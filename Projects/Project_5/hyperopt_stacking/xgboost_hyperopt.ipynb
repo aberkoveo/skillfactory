{
 "cells": [
  {
   "cell_type": "code",
   "execution_count": 171,
   "metadata": {
    "ExecuteTime": {
     "end_time": "2020-12-14T15:24:53.980985Z",
     "start_time": "2020-12-14T15:24:53.977993Z"
    },
    "code_folding": []
   },
   "outputs": [],
   "source": [
    "# !jt -t chesterish -T -N -kl"
   ]
  },
  {
   "cell_type": "code",
   "execution_count": 172,
   "metadata": {
    "ExecuteTime": {
     "end_time": "2020-12-14T15:24:53.990982Z",
     "start_time": "2020-12-14T15:24:53.982011Z"
    }
   },
   "outputs": [],
   "source": [
    "import numpy as np # linear algebra\n",
    "import pandas as pd # data processing, CSV file I/O (e.g. pd.read_csv)\n",
    "\n",
    "import sys\n",
    "from sklearn.model_selection import train_test_split\n",
    "from sklearn.model_selection import KFold\n",
    "from sklearn.preprocessing import LabelEncoder\n",
    "import numpy as np\n",
    "from catboost import CatBoostRegressor\n",
    "\n",
    "from tqdm.notebook import tqdm\n",
    "\n",
    "from pprint import pprint   \n",
    "\n",
    "\n",
    "from ast import literal_eval\n",
    "import json\n",
    "\n",
    "import matplotlib.pyplot as plt\n",
    "import seaborn as sns\n",
    "from pandas_profiling import ProfileReport\n",
    "from sklearn.preprocessing import StandardScaler\n",
    "\n",
    "from IPython.display import Audio\n",
    "from russian_names import RussianNames\n",
    "\n",
    "from catboost import CatBoostRegressor, Pool, cv\n",
    "from huperopt_class import HyperOpt"
   ]
  },
  {
   "cell_type": "code",
   "execution_count": 173,
   "metadata": {
    "ExecuteTime": {
     "end_time": "2020-12-14T15:24:53.997965Z",
     "start_time": "2020-12-14T15:24:53.992952Z"
    }
   },
   "outputs": [],
   "source": [
    "RANDOM_SEED = 42"
   ]
  },
  {
   "cell_type": "code",
   "execution_count": 174,
   "metadata": {
    "ExecuteTime": {
     "end_time": "2020-12-14T15:24:54.003948Z",
     "start_time": "2020-12-14T15:24:53.998970Z"
    },
    "code_folding": [
     0
    ]
   },
   "outputs": [],
   "source": [
    "def mape(y_true, y_pred):\n",
    "    return np.mean(np.abs((y_pred-y_true)/y_true))"
   ]
  },
  {
   "cell_type": "code",
   "execution_count": 175,
   "metadata": {
    "ExecuteTime": {
     "end_time": "2020-12-14T15:24:56.750131Z",
     "start_time": "2020-12-14T15:24:54.004946Z"
    }
   },
   "outputs": [],
   "source": [
    "data = pd.read_csv('data_for_stacking.csv')\n",
    "cat_features_ids = ['bodyType', 'brand', 'color','descr_labels', 'fuelType', \n",
    "                    'model_name', 'vehicleTransmission',\n",
    "                    'pts', 'privod', 'wheel', 'state', 'descr_labels']"
   ]
  },
  {
   "cell_type": "code",
   "execution_count": 176,
   "metadata": {
    "ExecuteTime": {
     "end_time": "2020-12-14T15:24:56.882777Z",
     "start_time": "2020-12-14T15:24:56.751129Z"
    }
   },
   "outputs": [],
   "source": [
    "X = data.query('sample == 1').drop(['sample'], axis=1)\n",
    "y = X['price']\n",
    "\n",
    "X.drop('price', axis=1, inplace=True, errors='ignore')"
   ]
  },
  {
   "cell_type": "code",
   "execution_count": 177,
   "metadata": {
    "ExecuteTime": {
     "end_time": "2020-12-14T15:24:56.962593Z",
     "start_time": "2020-12-14T15:24:56.884772Z"
    }
   },
   "outputs": [],
   "source": [
    "VAL_SIZE=0.20\n",
    "X_train, X_test, y_train, y_test = train_test_split(X, y, test_size=VAL_SIZE, shuffle=True, random_state=RANDOM_SEED)"
   ]
  },
  {
   "cell_type": "code",
   "execution_count": 178,
   "metadata": {
    "ExecuteTime": {
     "end_time": "2020-12-14T15:24:56.969545Z",
     "start_time": "2020-12-14T15:24:56.964558Z"
    }
   },
   "outputs": [],
   "source": [
    "y_train = np.log(y_train)\n",
    "y_test = np.log(y_test)"
   ]
  },
  {
   "cell_type": "code",
   "execution_count": 179,
   "metadata": {
    "ExecuteTime": {
     "end_time": "2020-12-14T15:24:56.994478Z",
     "start_time": "2020-12-14T15:24:56.971540Z"
    }
   },
   "outputs": [
    {
     "output_type": "execute_result",
     "data": {
      "text/plain": [
       "False    117620\n",
       "True      62433\n",
       "dtype: int64"
      ]
     },
     "metadata": {},
     "execution_count": 179
    }
   ],
   "source": [
    "data.duplicated(subset='sell_id', keep='first').value_counts()"
   ]
  },
  {
   "cell_type": "markdown",
   "metadata": {},
   "source": [
    "# XGBoost"
   ]
  },
  {
   "cell_type": "code",
   "execution_count": 180,
   "metadata": {
    "ExecuteTime": {
     "end_time": "2020-12-14T15:27:25.332750Z",
     "start_time": "2020-12-14T15:27:22.433152Z"
    }
   },
   "outputs": [],
   "source": [
    "data = pd.read_csv('data_for_stacking.csv')\n",
    "cat_features_ids = ['bodyType', 'brand', 'color', 'fuelType', \n",
    "                    'model_name', 'vehicleTransmission',\n",
    "                    'pts', 'privod', 'wheel', 'state', 'descr_labels']\n",
    "\n",
    "for colum in cat_features_ids:\n",
    "    data[colum] = data[colum].astype('category').cat.codes"
   ]
  },
  {
   "cell_type": "code",
   "execution_count": 181,
   "metadata": {
    "ExecuteTime": {
     "end_time": "2020-12-14T15:24:57.746927Z",
     "start_time": "2020-12-14T15:24:53.989Z"
    }
   },
   "outputs": [],
   "source": [
    "X = data.query('sample == 1').drop(['sample'], axis=1)\n",
    "y = X['price']\n",
    "\n",
    "X.drop('price', axis=1, inplace=True, errors='ignore')\n",
    "X_sub = data.query('sample == 0').drop(['sample'], axis=1)\n",
    "VAL_SIZE=0.20\n",
    "X_train, X_test, y_train, y_test = train_test_split(X, y, test_size=VAL_SIZE, shuffle=True, random_state=RANDOM_SEED)\n",
    "y_train = np.log(y_train)\n",
    "y_test = np.log(y_test)"
   ]
  },
  {
   "cell_type": "code",
   "execution_count": 182,
   "metadata": {},
   "outputs": [],
   "source": [
    "eval_set = [(X_test, y_test)]"
   ]
  },
  {
   "cell_type": "code",
   "execution_count": 183,
   "metadata": {
    "ExecuteTime": {
     "end_time": "2020-12-14T15:24:57.747893Z",
     "start_time": "2020-12-14T15:24:53.990Z"
    }
   },
   "outputs": [],
   "source": [
    "import xgboost as xgb\n",
    "\n",
    "\n",
    "model_xgb = xgb.XGBRegressor(base_score=0.5, \n",
    "                             booster='gbtree',\n",
    "                             colsample_bylevel=1,\n",
    "                             colsample_bynode=1, \n",
    "                             colsample_bytree=1, \n",
    "                             gamma=0, #0.15340366103115533, #0,\n",
    "                             importance_type='gain', \n",
    "                             learning_rate=0.08,\n",
    "                             \n",
    "                             max_delta_step=0,\n",
    "                             max_depth=12, #6, #7, \n",
    "                             min_child_weight=1, \n",
    "                             missing=None, \n",
    "                             n_estimators=5000,\n",
    "                             n_jobs=20, \n",
    "                             nthread=None, \n",
    "                             random_state=0,\n",
    "                             reg_alpha=0, #1.8400184528746324, #0, \n",
    "                             reg_lambda=1, #1.0868061353806249,#1, \n",
    "                             scale_pos_weight=1, \n",
    "                             seed=RANDOM_SEED,\n",
    "                             silent=None, \n",
    "                             subsample=0.75, \n",
    "                             verbosity=0, \n",
    "                             objective='reg:squarederror',\n",
    "                             verbose=True\n",
    "                            )\n",
    "\n",
    "\n",
    "# {'gamma': 0.15340366103115533, 'l2_leaf_reg': 2.0, 'learning_rate': 0.00853890793354474, 'max_depth': 5.971733628773733, 'reg_alpha': 1.8400184528746324, 'reg_lambda': 1.0868061353806249}"
   ]
  },
  {
   "cell_type": "code",
   "execution_count": 184,
   "metadata": {
    "ExecuteTime": {
     "end_time": "2020-12-14T15:24:57.747893Z",
     "start_time": "2020-12-14T15:24:53.990Z"
    }
   },
   "outputs": [
    {
     "output_type": "stream",
     "name": "stdout",
     "text": [
      "[19:20:08] WARNING: C:\\Users\\Administrator\\workspace\\xgboost-win64_release_1.2.0\\src\\learner.cc:516: \nParameters: { verbose } might not be used.\n\n  This may not be accurate due to some parameters are only used in language bindings but\n  passed down to XGBoost core.  Or some parameters are not used but slip through this\n  verification. Please open an issue if you find above cases.\n\n\n"
     ]
    },
    {
     "output_type": "execute_result",
     "data": {
      "text/plain": [
       "XGBRegressor(base_score=0.5, booster='gbtree', colsample_bylevel=1,\n",
       "             colsample_bynode=1, colsample_bytree=1, gamma=0, gpu_id=-1,\n",
       "             importance_type='gain', interaction_constraints='',\n",
       "             learning_rate=0.08, max_delta_step=0, max_depth=12,\n",
       "             min_child_weight=1, missing=None, monotone_constraints='()',\n",
       "             n_estimators=5000, n_jobs=20, nthread=20, num_parallel_tree=1,\n",
       "             random_state=0, reg_alpha=0, reg_lambda=1, scale_pos_weight=1,\n",
       "             seed=42, silent=None, subsample=0.75, tree_method='exact',\n",
       "             validate_parameters=1, verbose=True, verbosity=1)"
      ]
     },
     "metadata": {},
     "execution_count": 184
    }
   ],
   "source": [
    "model_xgb.fit(X_train, y_train, eval_metric=mape)"
   ]
  },
  {
   "cell_type": "code",
   "execution_count": 185,
   "metadata": {
    "ExecuteTime": {
     "end_time": "2020-12-14T15:24:57.748891Z",
     "start_time": "2020-12-14T15:24:53.992Z"
    }
   },
   "outputs": [
    {
     "output_type": "stream",
     "name": "stdout",
     "text": [
      "Точность модели по метрике MAPE: 9.7719%\n"
     ]
    }
   ],
   "source": [
    "predict = model_xgb.predict(X_test)\n",
    "\n",
    "predict = np.e ** predict\n",
    "y_test = np.e ** y_test\n",
    "\n",
    "# оцениваем точность\n",
    "MAPE = f'{(mape(y_test, predict))*100:0.4f}'\n",
    "print(f\"Точность модели по метрике MAPE: {MAPE}%\")"
   ]
  },
  {
   "cell_type": "code",
   "execution_count": 186,
   "metadata": {
    "ExecuteTime": {
     "end_time": "2020-12-14T15:24:57.748891Z",
     "start_time": "2020-12-14T15:24:53.993Z"
    }
   },
   "outputs": [],
   "source": [
    "# import hyperopt \n",
    "# import numpy as np\n",
    "# from huperopt_class import HyperOpt\n",
    "# xgb_kwargs = {'cv':5, 'n_estimators':5000, 'verbose':False,'rounds':50,\n",
    "#               'X_train':X_train, 'X_val':X_test, 'y_train':y_train, 'y_val':y_test,\n",
    "#               'n_jobs':20 }\n",
    "\n",
    "# params_space = {'l2_leaf_reg': hyperopt.hp.qloguniform('l2_leaf_reg', 0, 2, 1),\n",
    "#                 'learning_rate': hyperopt.hp.uniform('learning_rate', 1e-3, 1e-2),\n",
    "#                 'max_depth': hyperopt.hp.uniform('max_depth', 2, 10),\n",
    "#                 'gamma': hyperopt.hp.uniform('gamma', 0, 3),\n",
    "#                 'reg_alpha': hyperopt.hp.uniform('reg_alpha', 0, 2),\n",
    "#                 'reg_lambda': hyperopt.hp.uniform('reg_lambda', 0, 2)\n",
    "#                }\n",
    "\n",
    "# xgb_hyperopt_inst = HyperOpt(**xgb_kwargs)\n",
    "# trials = hyperopt.Trials()\n",
    "# best = hyperopt.fmin(\n",
    "#     xgb_hyperopt_inst.hyperopt_xgb_score,\n",
    "#     space=params_space,\n",
    "#     algo=hyperopt.tpe.suggest,\n",
    "#     max_evals=20,\n",
    "#     trials=trials,\n",
    "#     rstate=np.random.RandomState(42)\n",
    "# )\n",
    "# print(best)\n",
    "\n",
    "\n",
    "# {'gamma': 0.15340366103115533, 'l2_leaf_reg': 2.0, 'learning_rate': 0.00853890793354474, 'max_depth': 5.971733628773733, 'reg_alpha': 1.8400184528746324, 'reg_lambda': 1.0868061353806249}"
   ]
  },
  {
   "cell_type": "code",
   "execution_count": 187,
   "metadata": {
    "ExecuteTime": {
     "end_time": "2020-12-14T15:24:57.749888Z",
     "start_time": "2020-12-14T15:24:53.994Z"
    }
   },
   "outputs": [],
   "source": [
    "import winsound\n",
    "freq = 2000 # Set frequency To 2500 Hertz\n",
    "dur = 700 # Set duration To 1000 ms == 1 second\n",
    "winsound.Beep(freq, dur)"
   ]
  }
 ],
 "metadata": {
  "kernelspec": {
   "display_name": "Python 3",
   "language": "python",
   "name": "python3"
  },
  "language_info": {
   "codemirror_mode": {
    "name": "ipython",
    "version": 3
   },
   "file_extension": ".py",
   "mimetype": "text/x-python",
   "name": "python",
   "nbconvert_exporter": "python",
   "pygments_lexer": "ipython3",
   "version": "3.7.7-final"
  }
 },
 "nbformat": 4,
 "nbformat_minor": 2
}
{
 "metadata": {
  "language_info": {
   "codemirror_mode": {
    "name": "ipython",
    "version": 3
   },
   "file_extension": ".py",
   "mimetype": "text/x-python",
   "name": "python",
   "nbconvert_exporter": "python",
   "pygments_lexer": "ipython3",
   "version": "3.7.7-final"
  },
  "orig_nbformat": 2,
  "kernelspec": {
   "name": "python3",
   "display_name": "Python 3"
  }
 },
 "nbformat": 4,
 "nbformat_minor": 2,
 "cells": [
  {
   "cell_type": "code",
   "execution_count": 3,
   "metadata": {},
   "outputs": [],
   "source": [
    "import numpy as np # linear algebra\n",
    "import pandas as pd # data processing, CSV file I/O (e.g. pd.read_csv)\n",
    "import sys\n",
    "from sklearn.model_selection import train_test_split\n",
    "from sklearn.model_selection import KFold\n",
    "from tqdm.notebook import tqdm\n",
    "from catboost import CatBoostRegressor\n",
    "from sklearn.preprocessing import LabelEncoder\n",
    "from nesteddictionary import NestedDict \n",
    "# from nested_dict import nested_dict\n",
    "\n",
    "from tqdm.notebook import tqdm\n",
    "import time\n",
    "from bs4 import BeautifulSoup  as bs\n",
    "from pprint import pprint  \n",
    "import requests  \n",
    "import json\n",
    "from multiprocessing import Pool  #предоставляет возможность параллельных процессов\n",
    "from threading import Thread\n",
    "from joblib import Parallel, delayed\n",
    "import itertools"
   ]
  },
  {
   "cell_type": "code",
   "execution_count": 4,
   "metadata": {},
   "outputs": [],
   "source": [
    "max_colwidth = 1000\n",
    "pd.set_option(\"display.max_colwidth\", max_colwidth)"
   ]
  },
  {
   "cell_type": "code",
   "execution_count": 5,
   "metadata": {},
   "outputs": [],
   "source": [
    "!pip freeze > requirements.txt\n",
    "RANDOM_SEED = 42"
   ]
  },
  {
   "source": [
    "# Собираем датасет - парсим AUTO.RU"
   ],
   "cell_type": "markdown",
   "metadata": {}
  },
  {
   "cell_type": "code",
   "execution_count": 6,
   "metadata": {
    "tags": []
   },
   "outputs": [],
   "source": [
    "global df\n",
    "df = []\n",
    "\n",
    "def parse_car_page(url):\n",
    "\n",
    "\n",
    "    def text_rem(tag, rem_text):\n",
    "        try:\n",
    "            return tag.text.replace(rem_text, '')\n",
    "        except Exception:\n",
    "            return np.nan\n",
    "\n",
    "\n",
    "    headers = {'User-Agent':'Chrome/47.0.2526.83'}\n",
    "    response = requests.get(url, headers=headers)\n",
    "    response.encoding = 'utf-8'\n",
    "    soup = bs(response.text, 'html.parser')\n",
    "    \n",
    "\n",
    "    try: color = soup.find('li', class_='CardInfoRow CardInfoRow_color').a.text\n",
    "    except: color = np.nan\n",
    "\n",
    "    try: seller_name = soup.find('div', class_=\"CardSellerNamePlace__name\").text\n",
    "    except: \n",
    "        try: seller_name = soup.find('a', class_=\"Link Link_color_black CardSellerNamePlace__name_dealer\").text\n",
    "        except: seller_name = 'already_sold'\n",
    "\n",
    "\n",
    "    engineDisplacement = soup.find('meta', itemprop=\"engineDisplacement\").get('content', np.nan)\n",
    "    fuelType = soup.find('meta', itemprop=\"fuelType\").get('content', np.nan)\n",
    "    modelDate = soup.find('meta', itemprop=\"modelDate\").get('content', np.nan)\n",
    "    numberOfDoors = soup.find('meta', itemprop=\"numberOfDoors\").get('content', np.nan)\n",
    "    priceCurrency = soup.find('meta', itemprop=\"priceCurrency\").get('content', np.nan)\n",
    "    bodyType = soup.find('meta', itemprop=\"bodyType\").get('content', np.nan)\n",
    "    vehicleTransmission = soup.find('meta', itemprop=\"vehicleTransmission\").get('content', np.nan)\n",
    "\n",
    "    sell_id_tag = soup.find('div', title=\"Идентификатор объявления\")#.text.replace('№ ', '')\n",
    "    sell_id = text_rem(sell_id_tag, '№ ')\n",
    "\n",
    "    description_tag = soup.find('div', class_=\"CardDescription__textInner\")\n",
    "    description = text_rem(description_tag, '')\n",
    "\n",
    "    owners_tag = soup.find('li', class_=\"CardInfoRow CardInfoRow_ownersCount\")#.text.replace('Владельцы', '')\n",
    "    owners = text_rem(owners_tag, 'Владельцы')\n",
    "\n",
    "    pts_tag = soup.find('li', class_=\"CardInfoRow CardInfoRow_pts\")#.text.replace('ПТС', '')\n",
    "    pts = text_rem(pts_tag, 'ПТС')\n",
    "\n",
    "    owning_tag = soup.find('li', class_=\"CardInfoRow CardInfoRow_owningTime\")#.text.replace('Владение', '')\n",
    "    owning = text_rem(owning_tag, 'Владение')\n",
    "    \n",
    "\n",
    "    privod_tag = soup.find('li', class_=\"CardInfoRow CardInfoRow_drive\")#.text.replace('Привод', '')\n",
    "    privod = text_rem(privod_tag, 'Привод')\n",
    "\n",
    "    rul_tag = soup.find('li', class_=\"CardInfoRow CardInfoRow_wheel\")#.text.replace('Руль', '')\n",
    "    rul = text_rem(rul_tag, 'Руль')\n",
    "\n",
    "    state_tag = soup.find('li', class_=\"CardInfoRow CardInfoRow_state\")#.text.replace('Состояние', '')\n",
    "    state = text_rem(state_tag, 'Состояние')\n",
    "\n",
    "    customs_tag = soup.find('li', class_=\"CardInfoRow CardInfoRow_customs\")#.text.replace('Таможня', '')\n",
    "    customs = text_rem(customs_tag, 'Таможня')\n",
    "\n",
    "    s1 = soup.find('div', id='app').find('div', id=\"sale-data-attributes\").get('data-bem')#['data-bem']\n",
    "    d1 = json.loads(s1).get('sale-data-attributes')#['sale-data-attributes']\n",
    "    brand = d1.get('mark', np.nan)#['mark']\n",
    "    model_name = d1.get('model', np.nan)#['model']\n",
    "    productionDate = d1.get('year', np.nan)#['year']\n",
    "    enginePower = d1.get('power', np.nan)#['power']\n",
    "    # image = d1.get('image', np.nan)#['image']\n",
    "    mileage = d1.get('km-age', np.nan)#['km-age']\n",
    "\n",
    "    s2 = soup.find('script', id=\"initial-state\").string\n",
    "    d2 = json.loads(s2)\n",
    "\n",
    "    # nested_dict = NestedDict( d2 )\n",
    "    # way_to_equip = nested_dict.findall('equipment')\n",
    "    \n",
    "    # equipment_dict = dict(nested_dict[way_to_equip[0]])\n",
    "    try: equipment_dict = d2['card']['vehicle_info']['equipment']\n",
    "    except: equipment_dict = np.nan\n",
    "\n",
    "    s3 = soup.find('div', id='sale-data-attributes')['data-bem']\n",
    "    d3 = json.loads(s1)['sale-data-attributes']\n",
    "    price = d3.get('price', np.nan)#d3['price']\n",
    "\n",
    "\n",
    "    # way_to_super_gen = nested_dict.findall('tech_param')\n",
    "    # super_gen = dict(nested_dict[way_to_super_gen[0]])\n",
    "    try: super_gen = d2['card']['vehicle_info']['tech_param']\n",
    "    except: super_gen = np.nan #nested_dict[way_to_super_gen]\n",
    "\n",
    "\n",
    "    #return \n",
    "    car_params = {'brand': brand, \n",
    "                 'model_name': model_name, \n",
    "                 'productionDate': productionDate,\n",
    "                 'enginePower':enginePower,\n",
    "                #  'image': image,\n",
    "                 'car_url': url,\n",
    "                 'mileage': mileage,\n",
    "                 'equipment_dict': equipment_dict,\n",
    "                 'bodyType': bodyType,\n",
    "                 'color': color,\n",
    "                 'engineDisplacement': engineDisplacement,\n",
    "                 'fuelType': fuelType,\n",
    "                 'modelDate': modelDate,\n",
    "                 'numberOfDoors': numberOfDoors,\n",
    "                 'priceCurrency': priceCurrency,\n",
    "                 'sell_id': sell_id,\n",
    "                 'super_gen': super_gen,\n",
    "                 'vehicleTransmission': vehicleTransmission,\n",
    "                 'Владельцы': owners,\n",
    "                 'ПТС': pts,\n",
    "                 'Владение': owning,\n",
    "                 'Привод': privod,\n",
    "                 'Руль': rul,\n",
    "                 'Состояние': state,\n",
    "                 'Таможня': customs,\n",
    "                 'description': description,\n",
    "                 'seller_name': seller_name,\n",
    "                 'parsing_unixtime' : int(time.time()),\n",
    "                 'price': price\n",
    "                 }\n",
    "\n",
    "    return car_params\n",
    "    # df.append(car_params)\n",
    "\n",
    "def parse_catalog_pages(url_catalog):\n",
    "    response = requests.get(url_catalog)\n",
    "    response.encoding = 'utf-8'\n",
    "    soup = bs(response.text, 'html.parser')\n",
    "    link_tags = soup.find_all('a', class_='Link ListingItemTitle-module__link')\n",
    "    links = [link['href'] for link in link_tags]\n",
    "\n",
    "    return links\n",
    "\n",
    "def find_last_page(first_page_url):\n",
    "    response = requests.get(first_page_url)\n",
    "    response.encoding = 'utf-8'\n",
    "    soup = bs(response.text, 'html.parser')\n",
    "    all_pages = soup.find('span', class_='ControlGroup ControlGroup_responsive_no ControlGroup_size_s ListingPagination-module__pages')#.text\n",
    "    page_buttoms = all_pages.find_all('span', class_='Button__text')\n",
    "\n",
    "    return int(page_buttoms[-1].text)\n",
    "\n",
    "\n",
    "def pages_list(pages_url):\n",
    "    pages_list = []\n",
    "    try: last_page = find_last_page(pages_url)\n",
    "    except: return [pages_url]\n",
    "    for page_i in range(1, last_page + 1):\n",
    "        pages_list.append(f'{pages_url}?page={str(page_i)}&output_type=list')\n",
    "    return pages_list\n",
    "\n",
    "\n",
    "\n",
    "def collect_marks_links_list():\n",
    "    marks_list = []\n",
    "    catalog_url = 'https://auto.ru/catalog/cars/'\n",
    "    response = requests.get(catalog_url)\n",
    "    response.encoding = 'utf-8'\n",
    "    soup = bs(response.text, 'html.parser')\n",
    "    all_marks_tags = soup.find('div', class_='search-form-v2-list search-form-v2-list_invisible search-form-v2-list_type_all clearfix')\n",
    "    marks_list_by_columns = all_marks_tags.find_all('div', class_='search-form-v2-list__text-item')\n",
    "    marks_links_list = [mark.a['href'].split('/')[-2] for mark in marks_list_by_columns]\n",
    "    return marks_links_list\n",
    "\n",
    "def generate_all_pages_list():\n",
    "    all_pages_list = []\n",
    "    for mark in collect_marks_links_list():\n",
    "        for year in range(1960, 2021):\n",
    "            all_pages_list.append(f'https://auto.ru/moskva/cars/{mark}/{year}-year/all/')\n",
    "\n",
    "    return all_pages_list"
   ]
  },
  {
   "cell_type": "code",
   "execution_count": 5,
   "metadata": {},
   "outputs": [
    {
     "output_type": "execute_result",
     "data": {
      "text/plain": [
       "Index(['bodyType', 'brand', 'car_url', 'color', 'complectation_dict',\n",
       "       'description', 'engineDisplacement', 'enginePower', 'equipment_dict',\n",
       "       'fuelType', 'image', 'mileage', 'modelDate', 'model_info', 'model_name',\n",
       "       'name', 'numberOfDoors', 'parsing_unixtime', 'priceCurrency',\n",
       "       'productionDate', 'sell_id', 'super_gen', 'vehicleConfiguration',\n",
       "       'vehicleTransmission', 'vendor', 'Владельцы', 'Владение', 'ПТС',\n",
       "       'Привод', 'Руль', 'Состояние', 'Таможня'],\n",
       "      dtype='object')"
      ]
     },
     "metadata": {},
     "execution_count": 5
    }
   ],
   "source": [
    "test = pd.read_csv('kaggle/test.csv')\n",
    "test.columns"
   ]
  },
  {
   "cell_type": "code",
   "execution_count": 6,
   "metadata": {},
   "outputs": [],
   "source": [
    "all_pages_list = generate_all_pages_list()"
   ]
  },
  {
   "cell_type": "code",
   "execution_count": 7,
   "metadata": {},
   "outputs": [
    {
     "output_type": "execute_result",
     "data": {
      "text/plain": [
       "'https://auto.ru/moskva/cars/volkswagen/2017-year/all/'"
      ]
     },
     "metadata": {},
     "execution_count": 7
    }
   ],
   "source": [
    "all_pages_list[14697]"
   ]
  },
  {
   "cell_type": "code",
   "execution_count": 8,
   "metadata": {
    "tags": []
   },
   "outputs": [
    {
     "output_type": "display_data",
     "data": {
      "text/plain": "HBox(children=(FloatProgress(value=0.0, max=16653.0), HTML(value='')))",
      "application/vnd.jupyter.widget-view+json": {
       "version_major": 2,
       "version_minor": 0,
       "model_id": "aceeb62cd51c4e6b93d48840a4eabf04"
      }
     },
     "metadata": {}
    },
    {
     "output_type": "stream",
     "name": "stdout",
     "text": [
      "\n"
     ]
    }
   ],
   "source": [
    "# pages_url = 'https://auto.ru/moskva/cars/all/?output_type=list&page='\n",
    "# pages_url = 'https://auto.ru/moskva/cars/acura/1998-year/all/'\n",
    "# threads = []\n",
    "n_jobs = 50\n",
    "car_urls = []\n",
    "car_pages_lists_urls = []\n",
    "\n",
    "# all_pages_list = generate_all_pages_list()\n",
    "# print(all_pages_list)\n",
    "# for page_link in tqdm(all_pages_list[14695:14700:]):\n",
    "    # print(page_link)\n",
    "car_pages_lists_urls = Parallel(n_jobs=n_jobs)(delayed(pages_list)(page_link) for page_link in tqdm(all_pages_list))\n",
    "car_pages_lists_urls = list(itertools.chain(*car_pages_lists_urls))\n",
    "\n",
    "\n",
    "\n",
    "\n",
    "\n",
    "\n",
    "# for page_link in tqdm(pages_list(pages_url)):\n",
    "# for page_link in tqdm(all_pages_list[14680:14700:]):\n",
    "    # for car_link in parse_catalog_pages(page_link):\n",
    "        # x = Thread(target=parse_car_page, args=[car_link])\n",
    "        # Parallel(n_jobs = 8)(delayed(parse_car_page)(car_link) for url in tqdm(car_link))\n",
    "        # threads.append(x)\n",
    "        # x.start()"
   ]
  },
  {
   "cell_type": "code",
   "execution_count": 9,
   "metadata": {},
   "outputs": [
    {
     "output_type": "display_data",
     "data": {
      "text/plain": "HBox(children=(FloatProgress(value=0.0, max=18485.0), HTML(value='')))",
      "application/vnd.jupyter.widget-view+json": {
       "version_major": 2,
       "version_minor": 0,
       "model_id": "31e379c521e04c9581787b877fa1320b"
      }
     },
     "metadata": {}
    },
    {
     "output_type": "stream",
     "name": "stdout",
     "text": [
      "\n"
     ]
    }
   ],
   "source": [
    "full_cars_links = Parallel(n_jobs=n_jobs)(delayed(parse_catalog_pages)(page_link) for page_link in tqdm(car_pages_lists_urls))"
   ]
  },
  {
   "cell_type": "code",
   "execution_count": 10,
   "metadata": {},
   "outputs": [],
   "source": [
    "full_cars_links = list(itertools.chain(*full_cars_links))"
   ]
  },
  {
   "cell_type": "code",
   "execution_count": 11,
   "metadata": {
    "tags": []
   },
   "outputs": [
    {
     "output_type": "display_data",
     "data": {
      "text/plain": "HBox(children=(FloatProgress(value=0.0, max=88694.0), HTML(value='')))",
      "application/vnd.jupyter.widget-view+json": {
       "version_major": 2,
       "version_minor": 0,
       "model_id": "dc41002219ce4357a0c0440846ead0c7"
      }
     },
     "metadata": {}
    },
    {
     "output_type": "stream",
     "name": "stdout",
     "text": [
      "\n"
     ]
    }
   ],
   "source": [
    "full_cars_list = []\n",
    "full_cars_list += (Parallel(n_jobs=n_jobs)(delayed(parse_car_page)(car_link) for car_link in tqdm(full_cars_links)))\n",
    "# len(chunked_cars_links[1][10800:11100])"
   ]
  },
  {
   "cell_type": "code",
   "execution_count": 1,
   "metadata": {},
   "outputs": [
    {
     "output_type": "error",
     "ename": "NameError",
     "evalue": "name 'pd' is not defined",
     "traceback": [
      "\u001b[1;31m---------------------------------------------------------------------------\u001b[0m",
      "\u001b[1;31mNameError\u001b[0m                                 Traceback (most recent call last)",
      "\u001b[1;32m<ipython-input-1-95ea3f8d377e>\u001b[0m in \u001b[0;36m<module>\u001b[1;34m\u001b[0m\n\u001b[1;32m----> 1\u001b[1;33m \u001b[0mdata\u001b[0m \u001b[1;33m=\u001b[0m \u001b[0mpd\u001b[0m\u001b[1;33m.\u001b[0m\u001b[0mDataFrame\u001b[0m\u001b[1;33m(\u001b[0m\u001b[0mfull_cars_list\u001b[0m\u001b[1;33m)\u001b[0m\u001b[1;33m\u001b[0m\u001b[1;33m\u001b[0m\u001b[0m\n\u001b[0m\u001b[0;32m      2\u001b[0m \u001b[0mdata\u001b[0m\u001b[1;33m.\u001b[0m\u001b[0minfo\u001b[0m\u001b[1;33m(\u001b[0m\u001b[1;33m)\u001b[0m\u001b[1;33m\u001b[0m\u001b[1;33m\u001b[0m\u001b[0m\n\u001b[0;32m      3\u001b[0m \u001b[1;33m\u001b[0m\u001b[0m\n\u001b[0;32m      4\u001b[0m \u001b[1;31m# full_cars_list[0]['super_gen']\u001b[0m\u001b[1;33m\u001b[0m\u001b[1;33m\u001b[0m\u001b[1;33m\u001b[0m\u001b[0m\n\u001b[0;32m      5\u001b[0m \u001b[1;31m# for keyval in full_cars_list[0]['equipment_dict']:\u001b[0m\u001b[1;33m\u001b[0m\u001b[1;33m\u001b[0m\u001b[1;33m\u001b[0m\u001b[0m\n",
      "\u001b[1;31mNameError\u001b[0m: name 'pd' is not defined"
     ]
    }
   ],
   "source": [
    "data = pd.DataFrame(full_cars_list)\n",
    "data.info()\n",
    "\n",
    "# full_cars_list[0]['super_gen']\n",
    "# for keyval in full_cars_list[0]['equipment_dict']:\n",
    "#     print(keyval)\n",
    "# full_cars_list += (Parallel(n_jobs=n_jobs)(delayed(parse_car_page)(page_link) for page_link in tqdm(full_cars_links[33474:33475])))\n"
   ]
  },
  {
   "cell_type": "code",
   "execution_count": 13,
   "metadata": {},
   "outputs": [],
   "source": [
    "data.to_csv('parsed_data_2.csv')"
   ]
  },
  {
   "cell_type": "code",
   "execution_count": null,
   "metadata": {},
   "outputs": [],
   "source": []
  },
  {
   "cell_type": "code",
   "execution_count": 9,
   "metadata": {},
   "outputs": [
    {
     "output_type": "execute_result",
     "data": {
      "text/plain": [
       "{'brand': 'BMW',\n",
       " 'model_name': '3ER',\n",
       " 'productionDate': 2017,\n",
       " 'enginePower': 184,\n",
       " 'car_url': 'https://auto.ru/cars/used/sale/bmw/3er/1101491619-2f330a09/',\n",
       " 'mileage': 95000,\n",
       " 'equipment_dict': {'cruise-control': True,\n",
       "  'roller-blind-for-rear-window': True,\n",
       "  'tinted-glass': True,\n",
       "  'esp': True,\n",
       "  'usb': True,\n",
       "  'sport-seats': True,\n",
       "  'multi-wheel': True,\n",
       "  'heated-wash-system': True,\n",
       "  'ashtray-and-cigarette-lighter': True,\n",
       "  'airbag-passenger': True,\n",
       "  'front-centre-armrest': True,\n",
       "  'navigation': True,\n",
       "  'apple-carplay': True,\n",
       "  'decorative-interior-lighting': True,\n",
       "  '20-inch-wheels': True,\n",
       "  'rear-camera': True,\n",
       "  'lock': True,\n",
       "  'door-sill-panel': True,\n",
       "  'servo': True,\n",
       "  'electro-mirrors': True,\n",
       "  'steering-wheel-gear-shift-paddles': True,\n",
       "  'electro-window-back': True,\n",
       "  '18-inch-wheels': True,\n",
       "  'mirrors-heat': True,\n",
       "  'dark-interior': True,\n",
       "  'park-assist-f': True,\n",
       "  'sport-suspension': True,\n",
       "  'leather': True,\n",
       "  'wheel-heat': True,\n",
       "  'led-lights': True,\n",
       "  'park-assist-r': True,\n",
       "  'engine-proof': True,\n",
       "  'body-kit': True,\n",
       "  'start-stop-function': True,\n",
       "  'airbag-driver': True,\n",
       "  'aux': True,\n",
       "  'isofix': True,\n",
       "  'electro-window-front': True,\n",
       "  'light-sensor': True,\n",
       "  'hcc': True,\n",
       "  'automatic-lighting-control': True,\n",
       "  'airbag-curtain': True,\n",
       "  'computer': True,\n",
       "  'high-beam-assist': True,\n",
       "  'seat-transformation': True,\n",
       "  'android-auto': True,\n",
       "  'alcantara': True,\n",
       "  'alloy-wheel-disks': True,\n",
       "  'paint-metallic': True,\n",
       "  'start-button': True,\n",
       "  'leather-gear-stick': True,\n",
       "  'ptf': True,\n",
       "  'rain-sensor': True,\n",
       "  'airbag-side': True,\n",
       "  'tyre-pressure': True,\n",
       "  'voice-recognition': True,\n",
       "  'audiosystem-cd': True,\n",
       "  'electronic-gage-panel': True,\n",
       "  'abs': True,\n",
       "  'bluetooth': True,\n",
       "  'front-seats-heat': True,\n",
       "  'wheel-leather': True,\n",
       "  'wheel-configuration2': True,\n",
       "  'wheel-configuration1': True,\n",
       "  'immo': True,\n",
       "  'climate-control-2': True,\n",
       "  'auto-mirrors': True,\n",
       "  '12v-socket': True,\n",
       "  'third-rear-headrest': True,\n",
       "  'black-roof': True},\n",
       " 'bodyType': 'седан',\n",
       " 'color': 'чёрный',\n",
       " 'engineDisplacement': '2.0 LTR',\n",
       " 'fuelType': 'бензин',\n",
       " 'modelDate': '2015',\n",
       " 'numberOfDoors': '4',\n",
       " 'priceCurrency': 'RUB',\n",
       " 'sell_id': '1101491619',\n",
       " 'super_gen': {'id': '20548541',\n",
       "  'name': '320',\n",
       "  'nameplate': '320i xDrive',\n",
       "  'displacement': 1998,\n",
       "  'engine_type': 'GASOLINE',\n",
       "  'gear_type': 'ALL_WHEEL_DRIVE',\n",
       "  'transmission': 'AUTOMATIC',\n",
       "  'power': 184,\n",
       "  'power_kvt': 135,\n",
       "  'human_name': '320i xDrive 2.0 AT (184 л.с.) 4WD',\n",
       "  'acceleration': 7.6,\n",
       "  'clearance_min': 140,\n",
       "  'fuel_rate': 6.1},\n",
       " 'vehicleTransmission': 'автоматическая',\n",
       " 'Владельцы': '2\\xa0владельца',\n",
       " 'ПТС': 'Оригинал',\n",
       " 'Владение': '2 года и 4 месяца',\n",
       " 'Привод': 'полный',\n",
       " 'Руль': 'Левый',\n",
       " 'Состояние': 'Не требует ремонта',\n",
       " 'Таможня': 'Растаможен',\n",
       " 'description': 'Продаётся Bmw 3er серии в кузове f30 lci производства 2017 года. Эксплуатация с марта 2018 года. Я второй собственник, покупал с пробегом 5000км, все остальное время эксплуатировал лично. В ДТП не участвовала, ничего не красилось, окрас полностью заводской. Пройдено ТО 08.11.2020, полностью в исправном состоянии, вложений не требует. Машину очень люблю и много сил было в неё вложено и много всего дооснащено, а теперь по списку с чем она продаётся:1. Оригинальные кованные летние диски m performance 624м стиль 20r с новой резиной, которую поставил 3 месяца назад (мишлен пилот спорт 4 runflat) с датчиками давления2. Оригинальные кованные зимние диски m performance 405m стиль с датчиками давления ( за отдельную плату)3. M performance обвес (задний диффузор, боковые пороги, решетки радиатора)Переходим в салон:4. Установлена расширенная панель приборов5. Nbt evo touch с монитором от Bmw f15 с активацией навигации, пробками, CarPlay6. Спортивный селектор с лепестками на руле7. Kafas 2 с распознованием знаков ограничения скорости, автоматическим дальним, распознованием пешеходов и автомобилей, контроль полосы8. Контроль мертвых зон9. Наружные зеркала со складыванием и затемнением10. Салонное зеркало с затемнением безрамочное и функцией открывания гаража 11. Электрическая задняя шторка12. M performance накладки в салоне13. Аудиосистема alpine kit14. Блок asd для воспроизведения искусственного звучания двигателя15. Задние фонари m performance16. Автоматическая парковка 17. Камера заднего вида18. Практически все готово для установки электропривода багажника, доводчик его уже стоит. 19. Растяжка заднего подрамника от bmw f32 с пластиной от bmw f80Обслуживание только у оф дилера, замена масла каждые 5000-7000 тыс (подтверждается документально), замена масла во всех агрегатах (коробка, раздаёте, редукторы) на 68тыс, бензин только 98-100. Будут вопросы, звоните',\n",
       " 'seller_name': 'Василий',\n",
       " 'parsing_unixtime': 1606008934,\n",
       " 'price': 2200000}"
      ]
     },
     "metadata": {},
     "execution_count": 9
    }
   ],
   "source": [
    "# ur = 'https://auto.ru/cars/used/sale/honda/civic/1097454742-c7416dcb/'\n",
    "ur1 = 'https://auto.ru/cars/used/sale/bmw/3er/1101491619-2f330a09/'\n",
    "parse_car_page(ur1)\n",
    "# abba = []\n",
    "# abba.append(parse_car_page(ur))\n",
    "# # abba.append(parse_car_page(ur1))\n",
    "# # data = pd.DataFrame(abba)\n",
    "# # data#['super_gen']\n",
    "# abba"
   ]
  },
  {
   "cell_type": "code",
   "execution_count": 15,
   "metadata": {},
   "outputs": [],
   "source": [
    "# chunked_cars_links[1][10715:10720]"
   ]
  },
  {
   "cell_type": "code",
   "execution_count": 16,
   "metadata": {
    "tags": []
   },
   "outputs": [],
   "source": [
    "# len(full_cars_dict)\n",
    "# parse_car_page(full_cars_links[0])\n",
    "# df\n",
    "\n",
    "# https://auto.ru/moskva/cars/volkswagen/2017-year/all/?page=1&output_type=list"
   ]
  },
  {
   "cell_type": "code",
   "execution_count": 17,
   "metadata": {
    "tags": []
   },
   "outputs": [],
   "source": [
    "# data = pd.DataFrame(full_cars_dict)\n",
    "# data.info()\n",
    "# # print(collect_marks_links_list())\n",
    "# full_cars_list[1]"
   ]
  },
  {
   "cell_type": "code",
   "execution_count": 18,
   "metadata": {},
   "outputs": [],
   "source": [
    "# # mark_url = 'https://auto.ru/catalog/cars/uaz/'\n",
    "# mark_url_name = 'ac'\n",
    "          \n",
    "# def collect_models_links_list(mark_url_name):\n",
    "#     models_links_list = []\n",
    "#     mark_url = f'https://auto.ru/catalog/cars/{mark_url_name}/'\n",
    "#     response = requests.get(mark_url)\n",
    "#     response.encoding = 'utf-8'\n",
    "#     soup = bs(response.text, 'html.parser')\n",
    "#     all_models_tags = soup.find('div', class_='search-form-v2-list search-form-v2-list_invisible search-form-v2-list_type_all clearfix')\n",
    "#     if all_models_tags==None:\n",
    "#         all_models_tags = soup.find('div', class_='search-form-v2-list search-form-v2-list_type_popular clearfix')\n",
    "#     models_list_by_columns = all_models_tags.find_all('div', class_='search-form-v2-list__text-item')\n",
    "#     models_links_list = [mark.a['href'].split('/')[-2] for mark in models_list_by_columns]\n",
    "#     return models_links_list\n",
    "# all_models_links = []\n",
    "# marks_links_list = collect_marks_links_list()\n",
    "\n",
    "# for mark in tqdm(marks_links_list):\n",
    "#     x = Thread(target=collect_models_links_list, args=[mark])\n",
    "#     threads.append(x)\n",
    "#     x.start()\n",
    "#     all_models_links.append(collect_models_links_list(mark))\n",
    "\n",
    "# all_models_links\n",
    "\n",
    "# # print(collect_models_links_list(mark_url_name))"
   ]
  },
  {
   "cell_type": "code",
   "execution_count": 19,
   "metadata": {},
   "outputs": [],
   "source": [
    "# def collect_marks():\n",
    "#     marks_list = []\n",
    "#     catalog_url = 'https://auto.ru/catalog/cars/bmw/'\n",
    "#     response = requests.get(catalog_url)\n",
    "#     response.encoding = 'utf-8'\n",
    "#     soup = bs(response.text, 'html.parser')\n",
    "#     all_marks_tags = soup.find('div', class_='search-form-v2-list search-form-v2-list_invisible search-form-v2-list_type_all clearfix')\n",
    "#     marks_list_by_columns = all_marks_tags.find_all('div', class_='search-form-v2-list__text-item')\n",
    "#     marks_list.append([mark.text for mark in marks_list_by_columns])\n",
    "#     return marks_list\n",
    "# print(collect_marks())"
   ]
  },
  {
   "cell_type": "code",
   "execution_count": 20,
   "metadata": {},
   "outputs": [],
   "source": [
    "# /html/body/div[4]/div[2]/div[2]/div/div/form/div[1]/div[4]/div/div[3]"
   ]
  },
  {
   "cell_type": "code",
   "execution_count": 21,
   "metadata": {},
   "outputs": [],
   "source": [
    "# len(df)"
   ]
  },
  {
   "cell_type": "code",
   "execution_count": 22,
   "metadata": {},
   "outputs": [],
   "source": [
    "# data = pd.DataFrame(df)\n",
    "# data.to_csv(r'parsed_data.csv', index=False)"
   ]
  },
  {
   "cell_type": "code",
   "execution_count": 23,
   "metadata": {},
   "outputs": [],
   "source": [
    "# test = pd.read_csv('kaggle/test.csv')\n",
    "# l = list(test.columns)\n",
    "# l.remove('model_name')\n",
    "# l.remove('brand')\n",
    "# l.remove('productionDate')\n",
    "# l.remove('enginePower')\n",
    "# l.remove('image')\n",
    "# l.remove('mileage')\n",
    "# l.remove('equipment_dict')\n",
    "# l.remove('bodyType')\n",
    "# l.remove('color')\n",
    "# l.remove('engineDisplacement')\n",
    "# l.remove('fuelType')\n",
    "# l.remove('modelDate')\n",
    "# l.remove('numberOfDoors')\n",
    "# l.remove('priceCurrency')\n",
    "# l.remove('sell_id')\n",
    "# l.remove('super_gen')\n",
    "# l.remove('vehicleTransmission')\n",
    "# l.remove('Владельцы')\n",
    "# l.remove('ПТС')\n",
    "# l.remove('Владение')\n",
    "# l.remove('Привод')\n",
    "# l.remove('Руль')\n",
    "# l.remove('Состояние')\n",
    "# l.remove('Таможня')\n",
    "# l.remove('Состояние')\n",
    "# l.remove('Состояние')\n",
    "# l.remove('Состояние')\n",
    "# l"
   ]
  },
  {
   "cell_type": "code",
   "execution_count": 24,
   "metadata": {},
   "outputs": [],
   "source": [
    "# def get_page(url):\n",
    "#   page = requests.get(url)\n",
    "#   if page.status_code != 200:\n",
    "#     raise BaseException(\"response code \" + str(page.status_code))\n",
    "#   return page\n",
    "# pages = Parallel(n_jobs = 5)(delayed(get_page)(url) for url in tqdm(urls))"
   ]
  },
  {
   "cell_type": "code",
   "execution_count": null,
   "metadata": {},
   "outputs": [],
   "source": []
  }
 ]
}
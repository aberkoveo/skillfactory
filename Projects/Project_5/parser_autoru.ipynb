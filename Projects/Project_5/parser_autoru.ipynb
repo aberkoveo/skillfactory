{
 "metadata": {
  "language_info": {
   "codemirror_mode": {
    "name": "ipython",
    "version": 3
   },
   "file_extension": ".py",
   "mimetype": "text/x-python",
   "name": "python",
   "nbconvert_exporter": "python",
   "pygments_lexer": "ipython3",
   "version": "3.7.7-final"
  },
  "orig_nbformat": 2,
  "kernelspec": {
   "name": "python3",
   "display_name": "Python 3"
  }
 },
 "nbformat": 4,
 "nbformat_minor": 2,
 "cells": [
  {
   "cell_type": "code",
   "execution_count": 306,
   "metadata": {},
   "outputs": [],
   "source": [
    "import numpy as np # linear algebra\n",
    "import pandas as pd # data processing, CSV file I/O (e.g. pd.read_csv)\n",
    "import sys\n",
    "from sklearn.model_selection import train_test_split\n",
    "from sklearn.model_selection import KFold\n",
    "from tqdm.notebook import tqdm\n",
    "from catboost import CatBoostRegressor\n",
    "from sklearn.preprocessing import LabelEncoder\n",
    "from nesteddictionary import NestedDict \n",
    "# from nested_dict import nested_dict\n",
    "\n",
    "from tqdm.notebook import tqdm\n",
    "\n",
    "from bs4 import BeautifulSoup  as bs\n",
    "from pprint import pprint  \n",
    "import requests  \n",
    "import json\n",
    "from multiprocessing import Pool  #предоставляет возможность параллельных процессов\n",
    "from threading import Thread\n",
    "from joblib import Parallel, delayed\n",
    "import itertools"
   ]
  },
  {
   "cell_type": "code",
   "execution_count": 307,
   "metadata": {},
   "outputs": [],
   "source": [
    "max_colwidth = 1000\n",
    "pd.set_option(\"display.max_colwidth\", max_colwidth)"
   ]
  },
  {
   "cell_type": "code",
   "execution_count": 308,
   "metadata": {},
   "outputs": [],
   "source": [
    "!pip freeze > requirements.txt\n",
    "RANDOM_SEED = 42"
   ]
  },
  {
   "source": [
    "# Собираем датасет - парсим AUTO.RU"
   ],
   "cell_type": "markdown",
   "metadata": {}
  },
  {
   "cell_type": "code",
   "execution_count": 309,
   "metadata": {
    "tags": []
   },
   "outputs": [],
   "source": [
    "global df\n",
    "df = []\n",
    "\n",
    "def parse_car_page(url):\n",
    "\n",
    "\n",
    "    def text_rem(tag, rem_text):\n",
    "        try:\n",
    "            return tag.text.replace(rem_text, '')\n",
    "        except Exception:\n",
    "            return np.nan\n",
    "\n",
    "\n",
    "    headers = {'User-Agent':'Chrome/47.0.2526.83'}\n",
    "    response = requests.get(url, headers=headers)\n",
    "    response.encoding = 'utf-8'\n",
    "    soup = bs(response.text, 'html.parser')\n",
    "    \n",
    "\n",
    "    try:\n",
    "        color = soup.find('li', class_='CardInfoRow CardInfoRow_color').a.text\n",
    "    except Exception:\n",
    "        color = np.nan\n",
    "\n",
    "    engineDisplacement = soup.find('meta', itemprop=\"engineDisplacement\").get('content', np.nan)\n",
    "    fuelType = soup.find('meta', itemprop=\"fuelType\").get('content', np.nan)\n",
    "    modelDate = soup.find('meta', itemprop=\"modelDate\").get('content', np.nan)\n",
    "    numberOfDoors = soup.find('meta', itemprop=\"numberOfDoors\").get('content', np.nan)\n",
    "    priceCurrency = soup.find('meta', itemprop=\"priceCurrency\").get('content', np.nan)\n",
    "    bodyType = soup.find('meta', itemprop=\"bodyType\").get('content', np.nan)\n",
    "    vehicleTransmission = soup.find('meta', itemprop=\"vehicleTransmission\").get('content', np.nan)\n",
    "\n",
    "    sell_id_tag = soup.find('div', title=\"Идентификатор объявления\")#.text.replace('№ ', '')\n",
    "    sell_id = text_rem(sell_id_tag, '№ ')\n",
    "\n",
    "    owners_tag = soup.find('li', class_=\"CardInfoRow CardInfoRow_ownersCount\")#.text.replace('Владельцы', '')\n",
    "    owners = text_rem(owners_tag, 'Владельцы')\n",
    "\n",
    "    pts_tag = soup.find('li', class_=\"CardInfoRow CardInfoRow_pts\")#.text.replace('ПТС', '')\n",
    "    pts = text_rem(pts_tag, 'ПТС')\n",
    "\n",
    "    owning_tag = soup.find('li', class_=\"CardInfoRow CardInfoRow_owningTime\")#.text.replace('Владение', '')\n",
    "    owning = text_rem(owning_tag, 'Владение')\n",
    "    \n",
    "\n",
    "    privod_tag = soup.find('li', class_=\"CardInfoRow CardInfoRow_drive\")#.text.replace('Привод', '')\n",
    "    privod = text_rem(privod_tag, 'Привод')\n",
    "\n",
    "    rul_tag = soup.find('li', class_=\"CardInfoRow CardInfoRow_wheel\")#.text.replace('Руль', '')\n",
    "    rul = text_rem(rul_tag, 'Руль')\n",
    "\n",
    "    state_tag = soup.find('li', class_=\"CardInfoRow CardInfoRow_state\")#.text.replace('Состояние', '')\n",
    "    state = text_rem(state_tag, 'Состояние')\n",
    "\n",
    "    customs_tag = soup.find('li', class_=\"CardInfoRow CardInfoRow_customs\")#.text.replace('Таможня', '')\n",
    "    customs = text_rem(customs_tag, 'Таможня')\n",
    "\n",
    "    s1 = soup.find('div', id='app').find('div', id=\"sale-data-attributes\").get('data-bem')#['data-bem']\n",
    "    d1 = json.loads(s1).get('sale-data-attributes')#['sale-data-attributes']\n",
    "    brand = d1.get('mark', np.nan)#['mark']\n",
    "    model_name = d1.get('model', np.nan)#['model']\n",
    "    productionDate = d1.get('year', np.nan)#['year']\n",
    "    enginePower = d1.get('power', np.nan)#['power']\n",
    "    # image = d1.get('image', np.nan)#['image']\n",
    "    mileage = d1.get('km-age', np.nan)#['km-age']\n",
    "\n",
    "    s2 = soup.find('script', id=\"initial-state\").string\n",
    "    d2 = json.loads(s2)\n",
    "\n",
    "    # nested_dict = NestedDict( d2 )\n",
    "    # way_to_equip = nested_dict.findall('equipment')\n",
    "    \n",
    "    # equipment_dict = dict(nested_dict[way_to_equip[0]])\n",
    "    try: equipment_dict = d2['card']['vehicle_info']['equipment']\n",
    "    except: equipment_dict = np.nan\n",
    "\n",
    "    s3 = soup.find('div', id='sale-data-attributes')['data-bem']\n",
    "    d3 = json.loads(s1)['sale-data-attributes']\n",
    "    price = d3.get('price', np.nan)#d3['price']\n",
    "\n",
    "\n",
    "    # way_to_super_gen = nested_dict.findall('tech_param')\n",
    "    # super_gen = dict(nested_dict[way_to_super_gen[0]])\n",
    "    try: super_gen = d2['card']['vehicle_info']['tech_param']\n",
    "    except: super_gen = np.nan #nested_dict[way_to_super_gen]\n",
    "\n",
    "\n",
    "    #return \n",
    "    car_params = {'brand': brand, \n",
    "                 'model_name': model_name, \n",
    "                 'productionDate': productionDate,\n",
    "                 'enginePower':enginePower,\n",
    "                #  'image': image,\n",
    "                 'mileage': mileage,\n",
    "                 'equipment_dict': equipment_dict,\n",
    "                 'bodyType': bodyType,\n",
    "                 'color': color,\n",
    "                 'engineDisplacement': engineDisplacement,\n",
    "                 'fuelType': fuelType,\n",
    "                 'modelDate': modelDate,\n",
    "                 'numberOfDoors': numberOfDoors,\n",
    "                 'priceCurrency': priceCurrency,\n",
    "                 'sell_id': sell_id,\n",
    "                 'super_gen': super_gen,\n",
    "                 'vehicleTransmission': vehicleTransmission,\n",
    "                 'Владельцы': owners,\n",
    "                 'ПТС': pts,\n",
    "                 'Владение': owning,\n",
    "                 'Привод': privod,\n",
    "                 'Руль': rul,\n",
    "                 'Состояние': state,\n",
    "                 'Таможня': customs,\n",
    "                 'price': price\n",
    "                 }\n",
    "\n",
    "    return car_params\n",
    "    # df.append(car_params)\n",
    "\n",
    "def parse_catalog_pages(url_catalog):\n",
    "    response = requests.get(url_catalog)\n",
    "    response.encoding = 'utf-8'\n",
    "    soup = bs(response.text, 'html.parser')\n",
    "    link_tags = soup.find_all('a', class_='Link ListingItemTitle-module__link')\n",
    "    links = [link['href'] for link in link_tags]\n",
    "\n",
    "    return links\n",
    "\n",
    "def find_last_page(first_page_url):\n",
    "    response = requests.get(first_page_url)\n",
    "    response.encoding = 'utf-8'\n",
    "    soup = bs(response.text, 'html.parser')\n",
    "    all_pages = soup.find('span', class_='ControlGroup ControlGroup_responsive_no ControlGroup_size_s ListingPagination-module__pages')#.text\n",
    "    page_buttoms = all_pages.find_all('span', class_='Button__text')\n",
    "\n",
    "    return int(page_buttoms[-1].text)\n",
    "\n",
    "\n",
    "def pages_list(pages_url):\n",
    "    pages_list = []\n",
    "    try: last_page = find_last_page(pages_url)\n",
    "    except: return [pages_url]\n",
    "    for page_i in range(1, last_page + 1):\n",
    "        pages_list.append(f'{pages_url}?page={str(page_i)}&output_type=list')\n",
    "    return pages_list\n",
    "\n",
    "\n",
    "\n",
    "def collect_marks_links_list():\n",
    "    marks_list = []\n",
    "    catalog_url = 'https://auto.ru/catalog/cars/'\n",
    "    response = requests.get(catalog_url)\n",
    "    response.encoding = 'utf-8'\n",
    "    soup = bs(response.text, 'html.parser')\n",
    "    all_marks_tags = soup.find('div', class_='search-form-v2-list search-form-v2-list_invisible search-form-v2-list_type_all clearfix')\n",
    "    marks_list_by_columns = all_marks_tags.find_all('div', class_='search-form-v2-list__text-item')\n",
    "    marks_links_list = [mark.a['href'].split('/')[-2] for mark in marks_list_by_columns]\n",
    "    return marks_links_list\n",
    "\n",
    "def generate_all_pages_list():\n",
    "    all_pages_list = []\n",
    "    for mark in collect_marks_links_list():\n",
    "        for year in range(1960, 2021):\n",
    "            all_pages_list.append(f'https://auto.ru/moskva/cars/{mark}/{year}-year/all/')\n",
    "\n",
    "    return all_pages_list"
   ]
  },
  {
   "cell_type": "code",
   "execution_count": 310,
   "metadata": {},
   "outputs": [],
   "source": [
    "all_pages_list = generate_all_pages_list()"
   ]
  },
  {
   "cell_type": "code",
   "execution_count": 311,
   "metadata": {},
   "outputs": [
    {
     "output_type": "execute_result",
     "data": {
      "text/plain": [
       "'https://auto.ru/moskva/cars/volkswagen/2017-year/all/'"
      ]
     },
     "metadata": {},
     "execution_count": 311
    }
   ],
   "source": [
    "all_pages_list[14697]"
   ]
  },
  {
   "cell_type": "code",
   "execution_count": 312,
   "metadata": {
    "tags": []
   },
   "outputs": [
    {
     "output_type": "display_data",
     "data": {
      "text/plain": "HBox(children=(FloatProgress(value=0.0, max=16653.0), HTML(value='')))",
      "application/vnd.jupyter.widget-view+json": {
       "version_major": 2,
       "version_minor": 0,
       "model_id": "e2f3d69a6b214995a7d662c66d071e1b"
      }
     },
     "metadata": {}
    },
    {
     "output_type": "stream",
     "name": "stdout",
     "text": [
      "\n",
      "\n",
      "\n"
     ]
    }
   ],
   "source": [
    "# pages_url = 'https://auto.ru/moskva/cars/all/?output_type=list&page='\n",
    "# pages_url = 'https://auto.ru/moskva/cars/acura/1998-year/all/'\n",
    "# threads = []\n",
    "n_jobs = 50\n",
    "car_urls = []\n",
    "car_pages_lists_urls = []\n",
    "\n",
    "# all_pages_list = generate_all_pages_list()\n",
    "# print(all_pages_list)\n",
    "# for page_link in tqdm(all_pages_list[14695:14700:]):\n",
    "    # print(page_link)\n",
    "car_pages_lists_urls = Parallel(n_jobs=n_jobs)(delayed(pages_list)(page_link) for page_link in tqdm(all_pages_list))\n",
    "car_pages_lists_urls = list(itertools.chain(*car_pages_lists_urls))\n",
    "\n",
    "\n",
    "\n",
    "\n",
    "\n",
    "\n",
    "# for page_link in tqdm(pages_list(pages_url)):\n",
    "# for page_link in tqdm(all_pages_list[14680:14700:]):\n",
    "    # for car_link in parse_catalog_pages(page_link):\n",
    "        # x = Thread(target=parse_car_page, args=[car_link])\n",
    "        # Parallel(n_jobs = 8)(delayed(parse_car_page)(car_link) for url in tqdm(car_link))\n",
    "        # threads.append(x)\n",
    "        # x.start()"
   ]
  },
  {
   "cell_type": "code",
   "execution_count": 313,
   "metadata": {},
   "outputs": [
    {
     "output_type": "display_data",
     "data": {
      "text/plain": "HBox(children=(FloatProgress(value=0.0, max=18468.0), HTML(value='')))",
      "application/vnd.jupyter.widget-view+json": {
       "version_major": 2,
       "version_minor": 0,
       "model_id": "3121326ebf8b4e4b94c14ad9ca298996"
      }
     },
     "metadata": {}
    },
    {
     "output_type": "stream",
     "name": "stdout",
     "text": [
      "\n"
     ]
    }
   ],
   "source": [
    "full_cars_links = Parallel(n_jobs=n_jobs)(delayed(parse_catalog_pages)(page_link) for page_link in tqdm(car_pages_lists_urls))\n"
   ]
  },
  {
   "cell_type": "code",
   "execution_count": null,
   "metadata": {},
   "outputs": [],
   "source": [
    "full_cars_links = list(itertools.chain(*full_cars_links))"
   ]
  },
  {
   "cell_type": "code",
   "execution_count": null,
   "metadata": {},
   "outputs": [],
   "source": [
    "print(full_cars_links[102:110][0])\n",
    "print(len(full_cars_links))\n",
    "# # np.unique(np.unique(full_cars_links, return_counts=True)[1], return_counts=True)\n",
    "# # ser = pd.Series(full_cars_links)\n",
    "# # ser.value_counts()\n",
    "# def chunkIt(seq, num):\n",
    "#     avg = len(seq) / float(num)\n",
    "#     out = []\n",
    "#     last = 0.0\n",
    "#     while last < len(seq):\n",
    "#         out.append(seq[int(last):int(last + avg)])\n",
    "#         last += avg\n",
    "#     return out\n",
    "\n",
    "# chunked_cars_links = chunkIt(full_cars_links, 8)\n",
    "# len(chunked_cars_links)"
   ]
  },
  {
   "cell_type": "code",
   "execution_count": null,
   "metadata": {},
   "outputs": [],
   "source": [
    "full_cars_links[10750]"
   ]
  },
  {
   "cell_type": "code",
   "execution_count": 283,
   "metadata": {
    "tags": []
   },
   "outputs": [
    {
     "output_type": "display_data",
     "data": {
      "text/plain": "HBox(children=(FloatProgress(value=0.0, max=88997.0), HTML(value='')))",
      "application/vnd.jupyter.widget-view+json": {
       "version_major": 2,
       "version_minor": 0,
       "model_id": "634c592d9c7b4112bf93a8a041d69aff"
      }
     },
     "metadata": {}
    },
    {
     "output_type": "error",
     "ename": "AttributeError",
     "evalue": "'NoneType' object has no attribute 'text'",
     "traceback": [
      "\u001b[1;31m---------------------------------------------------------------------------\u001b[0m",
      "\u001b[1;31m_RemoteTraceback\u001b[0m                          Traceback (most recent call last)",
      "\u001b[1;31m_RemoteTraceback\u001b[0m: \n\"\"\"\nTraceback (most recent call last):\n  File \"C:\\Users\\Evgen\\anaconda3\\lib\\site-packages\\joblib\\externals\\loky\\process_executor.py\", line 431, in _process_worker\n    r = call_item()\n  File \"C:\\Users\\Evgen\\anaconda3\\lib\\site-packages\\joblib\\externals\\loky\\process_executor.py\", line 285, in __call__\n    return self.fn(*self.args, **self.kwargs)\n  File \"C:\\Users\\Evgen\\anaconda3\\lib\\site-packages\\joblib\\_parallel_backends.py\", line 595, in __call__\n    return self.func(*args, **kwargs)\n  File \"C:\\Users\\Evgen\\anaconda3\\lib\\site-packages\\joblib\\parallel.py\", line 253, in __call__\n    for func, args, kwargs in self.items]\n  File \"C:\\Users\\Evgen\\anaconda3\\lib\\site-packages\\joblib\\parallel.py\", line 253, in <listcomp>\n    for func, args, kwargs in self.items]\n  File \"<ipython-input-277-cf6f43e54d02>\", line 33, in parse_car_page\nAttributeError: 'NoneType' object has no attribute 'text'\n\"\"\"",
      "\nThe above exception was the direct cause of the following exception:\n",
      "\u001b[1;31mAttributeError\u001b[0m                            Traceback (most recent call last)",
      "\u001b[1;32m<ipython-input-283-a4afce4381f6>\u001b[0m in \u001b[0;36m<module>\u001b[1;34m\u001b[0m\n\u001b[0;32m     21\u001b[0m \u001b[1;31m# soup = bs(response.text, 'html.parser')\u001b[0m\u001b[1;33m\u001b[0m\u001b[1;33m\u001b[0m\u001b[1;33m\u001b[0m\u001b[0m\n\u001b[0;32m     22\u001b[0m \u001b[1;31m# sell_id = soup.find('div', title=\"Идентификатор объявления\").text.replace('№ ', '')\u001b[0m\u001b[1;33m\u001b[0m\u001b[1;33m\u001b[0m\u001b[1;33m\u001b[0m\u001b[0m\n\u001b[1;32m---> 23\u001b[1;33m \u001b[0mfull_cars_list\u001b[0m \u001b[1;33m+=\u001b[0m \u001b[1;33m(\u001b[0m\u001b[0mParallel\u001b[0m\u001b[1;33m(\u001b[0m\u001b[0mn_jobs\u001b[0m\u001b[1;33m=\u001b[0m\u001b[0mn_jobs\u001b[0m\u001b[1;33m)\u001b[0m\u001b[1;33m(\u001b[0m\u001b[0mdelayed\u001b[0m\u001b[1;33m(\u001b[0m\u001b[0mparse_car_page\u001b[0m\u001b[1;33m)\u001b[0m\u001b[1;33m(\u001b[0m\u001b[0mpage_link\u001b[0m\u001b[1;33m)\u001b[0m \u001b[1;32mfor\u001b[0m \u001b[0mpage_link\u001b[0m \u001b[1;32min\u001b[0m \u001b[0mtqdm\u001b[0m\u001b[1;33m(\u001b[0m\u001b[0mfull_cars_links\u001b[0m\u001b[1;33m)\u001b[0m\u001b[1;33m)\u001b[0m\u001b[1;33m)\u001b[0m\u001b[1;33m\u001b[0m\u001b[1;33m\u001b[0m\u001b[0m\n\u001b[0m\u001b[0;32m     24\u001b[0m \u001b[1;31m# len(chunked_cars_links[1][10800:11100])\u001b[0m\u001b[1;33m\u001b[0m\u001b[1;33m\u001b[0m\u001b[1;33m\u001b[0m\u001b[0m\n",
      "\u001b[1;32m~\\anaconda3\\lib\\site-packages\\joblib\\parallel.py\u001b[0m in \u001b[0;36m__call__\u001b[1;34m(self, iterable)\u001b[0m\n\u001b[0;32m   1040\u001b[0m \u001b[1;33m\u001b[0m\u001b[0m\n\u001b[0;32m   1041\u001b[0m             \u001b[1;32mwith\u001b[0m \u001b[0mself\u001b[0m\u001b[1;33m.\u001b[0m\u001b[0m_backend\u001b[0m\u001b[1;33m.\u001b[0m\u001b[0mretrieval_context\u001b[0m\u001b[1;33m(\u001b[0m\u001b[1;33m)\u001b[0m\u001b[1;33m:\u001b[0m\u001b[1;33m\u001b[0m\u001b[1;33m\u001b[0m\u001b[0m\n\u001b[1;32m-> 1042\u001b[1;33m                 \u001b[0mself\u001b[0m\u001b[1;33m.\u001b[0m\u001b[0mretrieve\u001b[0m\u001b[1;33m(\u001b[0m\u001b[1;33m)\u001b[0m\u001b[1;33m\u001b[0m\u001b[1;33m\u001b[0m\u001b[0m\n\u001b[0m\u001b[0;32m   1043\u001b[0m             \u001b[1;31m# Make sure that we get a last message telling us we are done\u001b[0m\u001b[1;33m\u001b[0m\u001b[1;33m\u001b[0m\u001b[1;33m\u001b[0m\u001b[0m\n\u001b[0;32m   1044\u001b[0m             \u001b[0melapsed_time\u001b[0m \u001b[1;33m=\u001b[0m \u001b[0mtime\u001b[0m\u001b[1;33m.\u001b[0m\u001b[0mtime\u001b[0m\u001b[1;33m(\u001b[0m\u001b[1;33m)\u001b[0m \u001b[1;33m-\u001b[0m \u001b[0mself\u001b[0m\u001b[1;33m.\u001b[0m\u001b[0m_start_time\u001b[0m\u001b[1;33m\u001b[0m\u001b[1;33m\u001b[0m\u001b[0m\n",
      "\u001b[1;32m~\\anaconda3\\lib\\site-packages\\joblib\\parallel.py\u001b[0m in \u001b[0;36mretrieve\u001b[1;34m(self)\u001b[0m\n\u001b[0;32m    919\u001b[0m             \u001b[1;32mtry\u001b[0m\u001b[1;33m:\u001b[0m\u001b[1;33m\u001b[0m\u001b[1;33m\u001b[0m\u001b[0m\n\u001b[0;32m    920\u001b[0m                 \u001b[1;32mif\u001b[0m \u001b[0mgetattr\u001b[0m\u001b[1;33m(\u001b[0m\u001b[0mself\u001b[0m\u001b[1;33m.\u001b[0m\u001b[0m_backend\u001b[0m\u001b[1;33m,\u001b[0m \u001b[1;34m'supports_timeout'\u001b[0m\u001b[1;33m,\u001b[0m \u001b[1;32mFalse\u001b[0m\u001b[1;33m)\u001b[0m\u001b[1;33m:\u001b[0m\u001b[1;33m\u001b[0m\u001b[1;33m\u001b[0m\u001b[0m\n\u001b[1;32m--> 921\u001b[1;33m                     \u001b[0mself\u001b[0m\u001b[1;33m.\u001b[0m\u001b[0m_output\u001b[0m\u001b[1;33m.\u001b[0m\u001b[0mextend\u001b[0m\u001b[1;33m(\u001b[0m\u001b[0mjob\u001b[0m\u001b[1;33m.\u001b[0m\u001b[0mget\u001b[0m\u001b[1;33m(\u001b[0m\u001b[0mtimeout\u001b[0m\u001b[1;33m=\u001b[0m\u001b[0mself\u001b[0m\u001b[1;33m.\u001b[0m\u001b[0mtimeout\u001b[0m\u001b[1;33m)\u001b[0m\u001b[1;33m)\u001b[0m\u001b[1;33m\u001b[0m\u001b[1;33m\u001b[0m\u001b[0m\n\u001b[0m\u001b[0;32m    922\u001b[0m                 \u001b[1;32melse\u001b[0m\u001b[1;33m:\u001b[0m\u001b[1;33m\u001b[0m\u001b[1;33m\u001b[0m\u001b[0m\n\u001b[0;32m    923\u001b[0m                     \u001b[0mself\u001b[0m\u001b[1;33m.\u001b[0m\u001b[0m_output\u001b[0m\u001b[1;33m.\u001b[0m\u001b[0mextend\u001b[0m\u001b[1;33m(\u001b[0m\u001b[0mjob\u001b[0m\u001b[1;33m.\u001b[0m\u001b[0mget\u001b[0m\u001b[1;33m(\u001b[0m\u001b[1;33m)\u001b[0m\u001b[1;33m)\u001b[0m\u001b[1;33m\u001b[0m\u001b[1;33m\u001b[0m\u001b[0m\n",
      "\u001b[1;32m~\\anaconda3\\lib\\site-packages\\joblib\\_parallel_backends.py\u001b[0m in \u001b[0;36mwrap_future_result\u001b[1;34m(future, timeout)\u001b[0m\n\u001b[0;32m    540\u001b[0m         AsyncResults.get from multiprocessing.\"\"\"\n\u001b[0;32m    541\u001b[0m         \u001b[1;32mtry\u001b[0m\u001b[1;33m:\u001b[0m\u001b[1;33m\u001b[0m\u001b[1;33m\u001b[0m\u001b[0m\n\u001b[1;32m--> 542\u001b[1;33m             \u001b[1;32mreturn\u001b[0m \u001b[0mfuture\u001b[0m\u001b[1;33m.\u001b[0m\u001b[0mresult\u001b[0m\u001b[1;33m(\u001b[0m\u001b[0mtimeout\u001b[0m\u001b[1;33m=\u001b[0m\u001b[0mtimeout\u001b[0m\u001b[1;33m)\u001b[0m\u001b[1;33m\u001b[0m\u001b[1;33m\u001b[0m\u001b[0m\n\u001b[0m\u001b[0;32m    543\u001b[0m         \u001b[1;32mexcept\u001b[0m \u001b[0mCfTimeoutError\u001b[0m \u001b[1;32mas\u001b[0m \u001b[0me\u001b[0m\u001b[1;33m:\u001b[0m\u001b[1;33m\u001b[0m\u001b[1;33m\u001b[0m\u001b[0m\n\u001b[0;32m    544\u001b[0m             \u001b[1;32mraise\u001b[0m \u001b[0mTimeoutError\u001b[0m \u001b[1;32mfrom\u001b[0m \u001b[0me\u001b[0m\u001b[1;33m\u001b[0m\u001b[1;33m\u001b[0m\u001b[0m\n",
      "\u001b[1;32m~\\anaconda3\\lib\\concurrent\\futures\\_base.py\u001b[0m in \u001b[0;36mresult\u001b[1;34m(self, timeout)\u001b[0m\n\u001b[0;32m    426\u001b[0m                 \u001b[1;32mraise\u001b[0m \u001b[0mCancelledError\u001b[0m\u001b[1;33m(\u001b[0m\u001b[1;33m)\u001b[0m\u001b[1;33m\u001b[0m\u001b[1;33m\u001b[0m\u001b[0m\n\u001b[0;32m    427\u001b[0m             \u001b[1;32melif\u001b[0m \u001b[0mself\u001b[0m\u001b[1;33m.\u001b[0m\u001b[0m_state\u001b[0m \u001b[1;33m==\u001b[0m \u001b[0mFINISHED\u001b[0m\u001b[1;33m:\u001b[0m\u001b[1;33m\u001b[0m\u001b[1;33m\u001b[0m\u001b[0m\n\u001b[1;32m--> 428\u001b[1;33m                 \u001b[1;32mreturn\u001b[0m \u001b[0mself\u001b[0m\u001b[1;33m.\u001b[0m\u001b[0m__get_result\u001b[0m\u001b[1;33m(\u001b[0m\u001b[1;33m)\u001b[0m\u001b[1;33m\u001b[0m\u001b[1;33m\u001b[0m\u001b[0m\n\u001b[0m\u001b[0;32m    429\u001b[0m \u001b[1;33m\u001b[0m\u001b[0m\n\u001b[0;32m    430\u001b[0m             \u001b[0mself\u001b[0m\u001b[1;33m.\u001b[0m\u001b[0m_condition\u001b[0m\u001b[1;33m.\u001b[0m\u001b[0mwait\u001b[0m\u001b[1;33m(\u001b[0m\u001b[0mtimeout\u001b[0m\u001b[1;33m)\u001b[0m\u001b[1;33m\u001b[0m\u001b[1;33m\u001b[0m\u001b[0m\n",
      "\u001b[1;32m~\\anaconda3\\lib\\concurrent\\futures\\_base.py\u001b[0m in \u001b[0;36m__get_result\u001b[1;34m(self)\u001b[0m\n\u001b[0;32m    382\u001b[0m     \u001b[1;32mdef\u001b[0m \u001b[0m__get_result\u001b[0m\u001b[1;33m(\u001b[0m\u001b[0mself\u001b[0m\u001b[1;33m)\u001b[0m\u001b[1;33m:\u001b[0m\u001b[1;33m\u001b[0m\u001b[1;33m\u001b[0m\u001b[0m\n\u001b[0;32m    383\u001b[0m         \u001b[1;32mif\u001b[0m \u001b[0mself\u001b[0m\u001b[1;33m.\u001b[0m\u001b[0m_exception\u001b[0m\u001b[1;33m:\u001b[0m\u001b[1;33m\u001b[0m\u001b[1;33m\u001b[0m\u001b[0m\n\u001b[1;32m--> 384\u001b[1;33m             \u001b[1;32mraise\u001b[0m \u001b[0mself\u001b[0m\u001b[1;33m.\u001b[0m\u001b[0m_exception\u001b[0m\u001b[1;33m\u001b[0m\u001b[1;33m\u001b[0m\u001b[0m\n\u001b[0m\u001b[0;32m    385\u001b[0m         \u001b[1;32melse\u001b[0m\u001b[1;33m:\u001b[0m\u001b[1;33m\u001b[0m\u001b[1;33m\u001b[0m\u001b[0m\n\u001b[0;32m    386\u001b[0m             \u001b[1;32mreturn\u001b[0m \u001b[0mself\u001b[0m\u001b[1;33m.\u001b[0m\u001b[0m_result\u001b[0m\u001b[1;33m\u001b[0m\u001b[1;33m\u001b[0m\u001b[0m\n",
      "\u001b[1;31mAttributeError\u001b[0m: 'NoneType' object has no attribute 'text'"
     ]
    }
   ],
   "source": [
    "full_cars_list = []\n",
    "\n",
    "# for chunked_cars in tqdm(chunked_cars_links):\n",
    "#     full_cars_dict.append(Parallel(n_jobs=n_jobs)(delayed(parse_car_page)(page_link) for page_link in tqdm(chunked_cars)))\n",
    "\n",
    "# full_cars_dict = list(itertools.chain(*full_cars_dict))\n",
    "# Parallel(n_jobs=32)(delayed(parse_car_page)(page_link) for page_link in tqdm(full_cars_links))\n",
    "\n",
    "# for page_link in tqdm(all_pages_list[14680:14700:]):\n",
    "#     for car_link in parse_catalog_pages(page_link):\n",
    "#         x = Thread(target=parse_car_page, args=[car_link])\n",
    "#         Parallel(n_jobs = 8)(delayed(parse_car_page)(car_link) for url in tqdm(car_link))\n",
    "#         threads.append(x)\n",
    "#         x.start()\n",
    "\n",
    "# ur = 'https://auto.ru/cars/used/sale/honda/civic/1097454742-c7416dcb/'\n",
    "# ur = 'https://auto.ru/cars/used/sale/chery/tiggo/1101446096-1b649488/'\n",
    "# parse_car_page(ur)\n",
    "# response = requests.get(ur)\n",
    "# response.encoding = 'utf-8'\n",
    "# soup = bs(response.text, 'html.parser')\n",
    "# sell_id = soup.find('div', title=\"Идентификатор объявления\").text.replace('№ ', '')\n",
    "full_cars_list += (Parallel(n_jobs=n_jobs)(delayed(parse_car_page)(page_link) for page_link in tqdm(full_cars_links)))\n",
    "# len(chunked_cars_links[1][10800:11100])"
   ]
  },
  {
   "cell_type": "code",
   "execution_count": 304,
   "metadata": {},
   "outputs": [
    {
     "output_type": "display_data",
     "data": {
      "text/plain": "HBox(children=(FloatProgress(value=0.0, max=1.0), HTML(value='')))",
      "application/vnd.jupyter.widget-view+json": {
       "version_major": 2,
       "version_minor": 0,
       "model_id": "255c004bf4814de7b719e8e30bd59da6"
      }
     },
     "metadata": {}
    },
    {
     "output_type": "stream",
     "name": "stdout",
     "text": [
      "\n"
     ]
    },
    {
     "output_type": "error",
     "ename": "AttributeError",
     "evalue": "'NoneType' object has no attribute 'text'",
     "traceback": [
      "\u001b[1;31m---------------------------------------------------------------------------\u001b[0m",
      "\u001b[1;31m_RemoteTraceback\u001b[0m                          Traceback (most recent call last)",
      "\u001b[1;31m_RemoteTraceback\u001b[0m: \n\"\"\"\nTraceback (most recent call last):\n  File \"C:\\Users\\Evgen\\anaconda3\\lib\\site-packages\\joblib\\externals\\loky\\process_executor.py\", line 431, in _process_worker\n    r = call_item()\n  File \"C:\\Users\\Evgen\\anaconda3\\lib\\site-packages\\joblib\\externals\\loky\\process_executor.py\", line 285, in __call__\n    return self.fn(*self.args, **self.kwargs)\n  File \"C:\\Users\\Evgen\\anaconda3\\lib\\site-packages\\joblib\\_parallel_backends.py\", line 595, in __call__\n    return self.func(*args, **kwargs)\n  File \"C:\\Users\\Evgen\\anaconda3\\lib\\site-packages\\joblib\\parallel.py\", line 253, in __call__\n    for func, args, kwargs in self.items]\n  File \"C:\\Users\\Evgen\\anaconda3\\lib\\site-packages\\joblib\\parallel.py\", line 253, in <listcomp>\n    for func, args, kwargs in self.items]\n  File \"<ipython-input-277-cf6f43e54d02>\", line 33, in parse_car_page\nAttributeError: 'NoneType' object has no attribute 'text'\n\"\"\"",
      "\nThe above exception was the direct cause of the following exception:\n",
      "\u001b[1;31mAttributeError\u001b[0m                            Traceback (most recent call last)",
      "\u001b[1;32m<ipython-input-304-2a3c4d18e7ad>\u001b[0m in \u001b[0;36m<module>\u001b[1;34m\u001b[0m\n\u001b[0;32m      4\u001b[0m \u001b[1;31m# for keyval in full_cars_list[0]['equipment_dict']:\u001b[0m\u001b[1;33m\u001b[0m\u001b[1;33m\u001b[0m\u001b[1;33m\u001b[0m\u001b[0m\n\u001b[0;32m      5\u001b[0m \u001b[1;31m#     print(keyval)\u001b[0m\u001b[1;33m\u001b[0m\u001b[1;33m\u001b[0m\u001b[1;33m\u001b[0m\u001b[0m\n\u001b[1;32m----> 6\u001b[1;33m \u001b[0mfull_cars_list\u001b[0m \u001b[1;33m+=\u001b[0m \u001b[1;33m(\u001b[0m\u001b[0mParallel\u001b[0m\u001b[1;33m(\u001b[0m\u001b[0mn_jobs\u001b[0m\u001b[1;33m=\u001b[0m\u001b[0mn_jobs\u001b[0m\u001b[1;33m)\u001b[0m\u001b[1;33m(\u001b[0m\u001b[0mdelayed\u001b[0m\u001b[1;33m(\u001b[0m\u001b[0mparse_car_page\u001b[0m\u001b[1;33m)\u001b[0m\u001b[1;33m(\u001b[0m\u001b[0mpage_link\u001b[0m\u001b[1;33m)\u001b[0m \u001b[1;32mfor\u001b[0m \u001b[0mpage_link\u001b[0m \u001b[1;32min\u001b[0m \u001b[0mtqdm\u001b[0m\u001b[1;33m(\u001b[0m\u001b[0mfull_cars_links\u001b[0m\u001b[1;33m[\u001b[0m\u001b[1;36m33474\u001b[0m\u001b[1;33m:\u001b[0m\u001b[1;36m33475\u001b[0m\u001b[1;33m]\u001b[0m\u001b[1;33m)\u001b[0m\u001b[1;33m)\u001b[0m\u001b[1;33m)\u001b[0m\u001b[1;33m\u001b[0m\u001b[1;33m\u001b[0m\u001b[0m\n\u001b[0m",
      "\u001b[1;32m~\\anaconda3\\lib\\site-packages\\joblib\\parallel.py\u001b[0m in \u001b[0;36m__call__\u001b[1;34m(self, iterable)\u001b[0m\n\u001b[0;32m   1040\u001b[0m \u001b[1;33m\u001b[0m\u001b[0m\n\u001b[0;32m   1041\u001b[0m             \u001b[1;32mwith\u001b[0m \u001b[0mself\u001b[0m\u001b[1;33m.\u001b[0m\u001b[0m_backend\u001b[0m\u001b[1;33m.\u001b[0m\u001b[0mretrieval_context\u001b[0m\u001b[1;33m(\u001b[0m\u001b[1;33m)\u001b[0m\u001b[1;33m:\u001b[0m\u001b[1;33m\u001b[0m\u001b[1;33m\u001b[0m\u001b[0m\n\u001b[1;32m-> 1042\u001b[1;33m                 \u001b[0mself\u001b[0m\u001b[1;33m.\u001b[0m\u001b[0mretrieve\u001b[0m\u001b[1;33m(\u001b[0m\u001b[1;33m)\u001b[0m\u001b[1;33m\u001b[0m\u001b[1;33m\u001b[0m\u001b[0m\n\u001b[0m\u001b[0;32m   1043\u001b[0m             \u001b[1;31m# Make sure that we get a last message telling us we are done\u001b[0m\u001b[1;33m\u001b[0m\u001b[1;33m\u001b[0m\u001b[1;33m\u001b[0m\u001b[0m\n\u001b[0;32m   1044\u001b[0m             \u001b[0melapsed_time\u001b[0m \u001b[1;33m=\u001b[0m \u001b[0mtime\u001b[0m\u001b[1;33m.\u001b[0m\u001b[0mtime\u001b[0m\u001b[1;33m(\u001b[0m\u001b[1;33m)\u001b[0m \u001b[1;33m-\u001b[0m \u001b[0mself\u001b[0m\u001b[1;33m.\u001b[0m\u001b[0m_start_time\u001b[0m\u001b[1;33m\u001b[0m\u001b[1;33m\u001b[0m\u001b[0m\n",
      "\u001b[1;32m~\\anaconda3\\lib\\site-packages\\joblib\\parallel.py\u001b[0m in \u001b[0;36mretrieve\u001b[1;34m(self)\u001b[0m\n\u001b[0;32m    919\u001b[0m             \u001b[1;32mtry\u001b[0m\u001b[1;33m:\u001b[0m\u001b[1;33m\u001b[0m\u001b[1;33m\u001b[0m\u001b[0m\n\u001b[0;32m    920\u001b[0m                 \u001b[1;32mif\u001b[0m \u001b[0mgetattr\u001b[0m\u001b[1;33m(\u001b[0m\u001b[0mself\u001b[0m\u001b[1;33m.\u001b[0m\u001b[0m_backend\u001b[0m\u001b[1;33m,\u001b[0m \u001b[1;34m'supports_timeout'\u001b[0m\u001b[1;33m,\u001b[0m \u001b[1;32mFalse\u001b[0m\u001b[1;33m)\u001b[0m\u001b[1;33m:\u001b[0m\u001b[1;33m\u001b[0m\u001b[1;33m\u001b[0m\u001b[0m\n\u001b[1;32m--> 921\u001b[1;33m                     \u001b[0mself\u001b[0m\u001b[1;33m.\u001b[0m\u001b[0m_output\u001b[0m\u001b[1;33m.\u001b[0m\u001b[0mextend\u001b[0m\u001b[1;33m(\u001b[0m\u001b[0mjob\u001b[0m\u001b[1;33m.\u001b[0m\u001b[0mget\u001b[0m\u001b[1;33m(\u001b[0m\u001b[0mtimeout\u001b[0m\u001b[1;33m=\u001b[0m\u001b[0mself\u001b[0m\u001b[1;33m.\u001b[0m\u001b[0mtimeout\u001b[0m\u001b[1;33m)\u001b[0m\u001b[1;33m)\u001b[0m\u001b[1;33m\u001b[0m\u001b[1;33m\u001b[0m\u001b[0m\n\u001b[0m\u001b[0;32m    922\u001b[0m                 \u001b[1;32melse\u001b[0m\u001b[1;33m:\u001b[0m\u001b[1;33m\u001b[0m\u001b[1;33m\u001b[0m\u001b[0m\n\u001b[0;32m    923\u001b[0m                     \u001b[0mself\u001b[0m\u001b[1;33m.\u001b[0m\u001b[0m_output\u001b[0m\u001b[1;33m.\u001b[0m\u001b[0mextend\u001b[0m\u001b[1;33m(\u001b[0m\u001b[0mjob\u001b[0m\u001b[1;33m.\u001b[0m\u001b[0mget\u001b[0m\u001b[1;33m(\u001b[0m\u001b[1;33m)\u001b[0m\u001b[1;33m)\u001b[0m\u001b[1;33m\u001b[0m\u001b[1;33m\u001b[0m\u001b[0m\n",
      "\u001b[1;32m~\\anaconda3\\lib\\site-packages\\joblib\\_parallel_backends.py\u001b[0m in \u001b[0;36mwrap_future_result\u001b[1;34m(future, timeout)\u001b[0m\n\u001b[0;32m    540\u001b[0m         AsyncResults.get from multiprocessing.\"\"\"\n\u001b[0;32m    541\u001b[0m         \u001b[1;32mtry\u001b[0m\u001b[1;33m:\u001b[0m\u001b[1;33m\u001b[0m\u001b[1;33m\u001b[0m\u001b[0m\n\u001b[1;32m--> 542\u001b[1;33m             \u001b[1;32mreturn\u001b[0m \u001b[0mfuture\u001b[0m\u001b[1;33m.\u001b[0m\u001b[0mresult\u001b[0m\u001b[1;33m(\u001b[0m\u001b[0mtimeout\u001b[0m\u001b[1;33m=\u001b[0m\u001b[0mtimeout\u001b[0m\u001b[1;33m)\u001b[0m\u001b[1;33m\u001b[0m\u001b[1;33m\u001b[0m\u001b[0m\n\u001b[0m\u001b[0;32m    543\u001b[0m         \u001b[1;32mexcept\u001b[0m \u001b[0mCfTimeoutError\u001b[0m \u001b[1;32mas\u001b[0m \u001b[0me\u001b[0m\u001b[1;33m:\u001b[0m\u001b[1;33m\u001b[0m\u001b[1;33m\u001b[0m\u001b[0m\n\u001b[0;32m    544\u001b[0m             \u001b[1;32mraise\u001b[0m \u001b[0mTimeoutError\u001b[0m \u001b[1;32mfrom\u001b[0m \u001b[0me\u001b[0m\u001b[1;33m\u001b[0m\u001b[1;33m\u001b[0m\u001b[0m\n",
      "\u001b[1;32m~\\anaconda3\\lib\\concurrent\\futures\\_base.py\u001b[0m in \u001b[0;36mresult\u001b[1;34m(self, timeout)\u001b[0m\n\u001b[0;32m    433\u001b[0m                 \u001b[1;32mraise\u001b[0m \u001b[0mCancelledError\u001b[0m\u001b[1;33m(\u001b[0m\u001b[1;33m)\u001b[0m\u001b[1;33m\u001b[0m\u001b[1;33m\u001b[0m\u001b[0m\n\u001b[0;32m    434\u001b[0m             \u001b[1;32melif\u001b[0m \u001b[0mself\u001b[0m\u001b[1;33m.\u001b[0m\u001b[0m_state\u001b[0m \u001b[1;33m==\u001b[0m \u001b[0mFINISHED\u001b[0m\u001b[1;33m:\u001b[0m\u001b[1;33m\u001b[0m\u001b[1;33m\u001b[0m\u001b[0m\n\u001b[1;32m--> 435\u001b[1;33m                 \u001b[1;32mreturn\u001b[0m \u001b[0mself\u001b[0m\u001b[1;33m.\u001b[0m\u001b[0m__get_result\u001b[0m\u001b[1;33m(\u001b[0m\u001b[1;33m)\u001b[0m\u001b[1;33m\u001b[0m\u001b[1;33m\u001b[0m\u001b[0m\n\u001b[0m\u001b[0;32m    436\u001b[0m             \u001b[1;32melse\u001b[0m\u001b[1;33m:\u001b[0m\u001b[1;33m\u001b[0m\u001b[1;33m\u001b[0m\u001b[0m\n\u001b[0;32m    437\u001b[0m                 \u001b[1;32mraise\u001b[0m \u001b[0mTimeoutError\u001b[0m\u001b[1;33m(\u001b[0m\u001b[1;33m)\u001b[0m\u001b[1;33m\u001b[0m\u001b[1;33m\u001b[0m\u001b[0m\n",
      "\u001b[1;32m~\\anaconda3\\lib\\concurrent\\futures\\_base.py\u001b[0m in \u001b[0;36m__get_result\u001b[1;34m(self)\u001b[0m\n\u001b[0;32m    382\u001b[0m     \u001b[1;32mdef\u001b[0m \u001b[0m__get_result\u001b[0m\u001b[1;33m(\u001b[0m\u001b[0mself\u001b[0m\u001b[1;33m)\u001b[0m\u001b[1;33m:\u001b[0m\u001b[1;33m\u001b[0m\u001b[1;33m\u001b[0m\u001b[0m\n\u001b[0;32m    383\u001b[0m         \u001b[1;32mif\u001b[0m \u001b[0mself\u001b[0m\u001b[1;33m.\u001b[0m\u001b[0m_exception\u001b[0m\u001b[1;33m:\u001b[0m\u001b[1;33m\u001b[0m\u001b[1;33m\u001b[0m\u001b[0m\n\u001b[1;32m--> 384\u001b[1;33m             \u001b[1;32mraise\u001b[0m \u001b[0mself\u001b[0m\u001b[1;33m.\u001b[0m\u001b[0m_exception\u001b[0m\u001b[1;33m\u001b[0m\u001b[1;33m\u001b[0m\u001b[0m\n\u001b[0m\u001b[0;32m    385\u001b[0m         \u001b[1;32melse\u001b[0m\u001b[1;33m:\u001b[0m\u001b[1;33m\u001b[0m\u001b[1;33m\u001b[0m\u001b[0m\n\u001b[0;32m    386\u001b[0m             \u001b[1;32mreturn\u001b[0m \u001b[0mself\u001b[0m\u001b[1;33m.\u001b[0m\u001b[0m_result\u001b[0m\u001b[1;33m\u001b[0m\u001b[1;33m\u001b[0m\u001b[0m\n",
      "\u001b[1;31mAttributeError\u001b[0m: 'NoneType' object has no attribute 'text'"
     ]
    }
   ],
   "source": [
    "# data = pd.DataFrame(full_cars_list)\n",
    "# data\n",
    "# full_cars_list[0]['super_gen']\n",
    "# for keyval in full_cars_list[0]['equipment_dict']:\n",
    "#     print(keyval)\n",
    "# full_cars_list += (Parallel(n_jobs=n_jobs)(delayed(parse_car_page)(page_link) for page_link in tqdm(full_cars_links[33474:33475])))"
   ]
  },
  {
   "cell_type": "code",
   "execution_count": 305,
   "metadata": {},
   "outputs": [
    {
     "output_type": "execute_result",
     "data": {
      "text/plain": [
       "['https://auto.ru/cars/new/group/kia/soul/21551907/21552208/1100903374-39f3a2e7/']"
      ]
     },
     "metadata": {},
     "execution_count": 305
    }
   ],
   "source": [
    "full_cars_links[33474:33475]"
   ]
  },
  {
   "cell_type": "code",
   "execution_count": null,
   "metadata": {},
   "outputs": [],
   "source": [
    "# ur = 'https://auto.ru/cars/used/sale/honda/civic/1097454742-c7416dcb/'\n",
    "# ur1 = 'https://auto.ru/cars/used/sale/chery/tiggo/1101446096-1b649488/'\n",
    "# abba = []\n",
    "# abba.append(parse_car_page(ur))\n",
    "# # abba.append(parse_car_page(ur1))\n",
    "# # data = pd.DataFrame(abba)\n",
    "# # data#['super_gen']\n",
    "# abba"
   ]
  },
  {
   "cell_type": "code",
   "execution_count": null,
   "metadata": {},
   "outputs": [],
   "source": [
    "# chunked_cars_links[1][10715:10720]"
   ]
  },
  {
   "cell_type": "code",
   "execution_count": null,
   "metadata": {
    "tags": []
   },
   "outputs": [],
   "source": [
    "# len(full_cars_dict)\n",
    "# parse_car_page(full_cars_links[0])\n",
    "# df\n",
    "\n",
    "# https://auto.ru/moskva/cars/volkswagen/2017-year/all/?page=1&output_type=list"
   ]
  },
  {
   "cell_type": "code",
   "execution_count": 281,
   "metadata": {
    "tags": []
   },
   "outputs": [
    {
     "output_type": "stream",
     "name": "stdout",
     "text": [
      "<class 'pandas.core.frame.DataFrame'>\nIndex: 0 entries\nEmpty DataFrame"
     ]
    },
    {
     "output_type": "execute_result",
     "data": {
      "text/plain": [
       "{'brand': 'HAVAL',\n",
       " 'model_name': 'F7',\n",
       " 'productionDate': 2020,\n",
       " 'enginePower': 150,\n",
       " 'mileage': 0,\n",
       " 'equipment_dict': {'cruise-control': True,\n",
       "  'asr': True,\n",
       "  'esp': True,\n",
       "  'usb': True,\n",
       "  'multi-wheel': True,\n",
       "  'audiosystem-tv': True,\n",
       "  'airbag-passenger': True,\n",
       "  'front-centre-armrest': True,\n",
       "  'apple-carplay': True,\n",
       "  'roof-rails': True,\n",
       "  'bas': True,\n",
       "  'lock': True,\n",
       "  'rear-camera': True,\n",
       "  'servo': True,\n",
       "  'electro-mirrors': True,\n",
       "  'drl': True,\n",
       "  'steering-wheel-gear-shift-paddles': True,\n",
       "  'electro-window-back': True,\n",
       "  'mirrors-heat': True,\n",
       "  '17-inch-wheels': True,\n",
       "  'dark-interior': True,\n",
       "  'rear-seats-heat': True,\n",
       "  'wheel-heat': True,\n",
       "  'led-lights': True,\n",
       "  'park-assist-r': True,\n",
       "  'glonass': True,\n",
       "  'airbag-driver': True,\n",
       "  'isofix': True,\n",
       "  'aux': True,\n",
       "  'electro-window-front': True,\n",
       "  'drive-mode-sys': True,\n",
       "  'light-sensor': True,\n",
       "  'hcc': True,\n",
       "  'automatic-lighting-control': True,\n",
       "  'passenger-seat-updown': True,\n",
       "  'computer': True,\n",
       "  'keyless-entry': True,\n",
       "  'seat-transformation': True,\n",
       "  'android-auto': True,\n",
       "  'alarm': True,\n",
       "  'passenger-seat-electric': True,\n",
       "  'dha': True,\n",
       "  'fabric-seats': True,\n",
       "  'paint-metallic': True,\n",
       "  'alloy-wheel-disks': True,\n",
       "  'ptf': True,\n",
       "  'start-button': True,\n",
       "  'rain-sensor': True,\n",
       "  'airbag-side': True,\n",
       "  'tyre-pressure': True,\n",
       "  'audiosystem-cd': True,\n",
       "  'abs': True,\n",
       "  'front-seats-heat': True,\n",
       "  'bluetooth': True,\n",
       "  'wheel-leather': True,\n",
       "  'wheel-configuration2': True,\n",
       "  'wheel-configuration1': True,\n",
       "  'immo': True,\n",
       "  'windscreen-heat': True,\n",
       "  'climate-control-1': True,\n",
       "  'auto-mirrors': True,\n",
       "  '12v-socket': True,\n",
       "  'third-rear-headrest': True},\n",
       " 'bodyType': 'внедорожник 5 дв.',\n",
       " 'color': nan,\n",
       " 'engineDisplacement': '1.5 LTR',\n",
       " 'fuelType': 'бензин',\n",
       " 'modelDate': '2019',\n",
       " 'numberOfDoors': '5',\n",
       " 'priceCurrency': 'RUB',\n",
       " 'sell_id': '1101482516',\n",
       " 'super_gen': {'id': '21569208',\n",
       "  'displacement': 1499,\n",
       "  'engine_type': 'GASOLINE',\n",
       "  'gear_type': 'ALL_WHEEL_DRIVE',\n",
       "  'transmission': 'ROBOT',\n",
       "  'power': 150,\n",
       "  'power_kvt': 110,\n",
       "  'human_name': '1.5 AMT (150 л.с.) 4WD',\n",
       "  'acceleration': 11,\n",
       "  'clearance_min': 190,\n",
       "  'fuel_rate': 8.4},\n",
       " 'vehicleTransmission': 'роботизированная',\n",
       " 'Владельцы': nan,\n",
       " 'ПТС': nan,\n",
       " 'Владение': nan,\n",
       " 'Привод': nan,\n",
       " 'Руль': nan,\n",
       " 'Состояние': nan,\n",
       " 'Таможня': nan,\n",
       " 'price': 1669000}"
      ]
     },
     "metadata": {},
     "execution_count": 281
    }
   ],
   "source": [
    "data = pd.DataFrame(full_cars_dict)\n",
    "data.info()\n",
    "# print(collect_marks_links_list())\n",
    "full_cars_list[1]"
   ]
  },
  {
   "cell_type": "code",
   "execution_count": null,
   "metadata": {},
   "outputs": [],
   "source": [
    "# # mark_url = 'https://auto.ru/catalog/cars/uaz/'\n",
    "# mark_url_name = 'ac'\n",
    "          \n",
    "# def collect_models_links_list(mark_url_name):\n",
    "#     models_links_list = []\n",
    "#     mark_url = f'https://auto.ru/catalog/cars/{mark_url_name}/'\n",
    "#     response = requests.get(mark_url)\n",
    "#     response.encoding = 'utf-8'\n",
    "#     soup = bs(response.text, 'html.parser')\n",
    "#     all_models_tags = soup.find('div', class_='search-form-v2-list search-form-v2-list_invisible search-form-v2-list_type_all clearfix')\n",
    "#     if all_models_tags==None:\n",
    "#         all_models_tags = soup.find('div', class_='search-form-v2-list search-form-v2-list_type_popular clearfix')\n",
    "#     models_list_by_columns = all_models_tags.find_all('div', class_='search-form-v2-list__text-item')\n",
    "#     models_links_list = [mark.a['href'].split('/')[-2] for mark in models_list_by_columns]\n",
    "#     return models_links_list\n",
    "# all_models_links = []\n",
    "# marks_links_list = collect_marks_links_list()\n",
    "\n",
    "# for mark in tqdm(marks_links_list):\n",
    "#     x = Thread(target=collect_models_links_list, args=[mark])\n",
    "#     threads.append(x)\n",
    "#     x.start()\n",
    "#     all_models_links.append(collect_models_links_list(mark))\n",
    "\n",
    "# all_models_links\n",
    "\n",
    "# # print(collect_models_links_list(mark_url_name))"
   ]
  },
  {
   "cell_type": "code",
   "execution_count": null,
   "metadata": {},
   "outputs": [],
   "source": [
    "# def collect_marks():\n",
    "#     marks_list = []\n",
    "#     catalog_url = 'https://auto.ru/catalog/cars/bmw/'\n",
    "#     response = requests.get(catalog_url)\n",
    "#     response.encoding = 'utf-8'\n",
    "#     soup = bs(response.text, 'html.parser')\n",
    "#     all_marks_tags = soup.find('div', class_='search-form-v2-list search-form-v2-list_invisible search-form-v2-list_type_all clearfix')\n",
    "#     marks_list_by_columns = all_marks_tags.find_all('div', class_='search-form-v2-list__text-item')\n",
    "#     marks_list.append([mark.text for mark in marks_list_by_columns])\n",
    "#     return marks_list\n",
    "# print(collect_marks())"
   ]
  },
  {
   "cell_type": "code",
   "execution_count": null,
   "metadata": {},
   "outputs": [],
   "source": [
    "# /html/body/div[4]/div[2]/div[2]/div/div/form/div[1]/div[4]/div/div[3]"
   ]
  },
  {
   "cell_type": "code",
   "execution_count": null,
   "metadata": {},
   "outputs": [],
   "source": [
    "len(df)"
   ]
  },
  {
   "cell_type": "code",
   "execution_count": null,
   "metadata": {},
   "outputs": [],
   "source": [
    "# data = pd.DataFrame(df)\n",
    "# data.to_csv(r'parsed_data.csv', index=False)"
   ]
  },
  {
   "cell_type": "code",
   "execution_count": null,
   "metadata": {},
   "outputs": [],
   "source": [
    "# l = list(test.columns)\n",
    "# l.remove('model_name')\n",
    "# l.remove('brand')\n",
    "# l.remove('productionDate')\n",
    "# l.remove('enginePower')\n",
    "# l.remove('image')\n",
    "# l.remove('mileage')\n",
    "# l.remove('equipment_dict')\n",
    "# l.remove('bodyType')\n",
    "# l.remove('color')\n",
    "# l.remove('engineDisplacement')\n",
    "# l.remove('fuelType')\n",
    "# l.remove('modelDate')\n",
    "# l.remove('numberOfDoors')\n",
    "# l.remove('priceCurrency')\n",
    "# l.remove('sell_id')\n",
    "# l.remove('super_gen')\n",
    "# l.remove('vehicleTransmission')\n",
    "# l.remove('Владельцы')\n",
    "# l.remove('ПТС')\n",
    "# l.remove('Владение')\n",
    "# l.remove('Привод')\n",
    "# l.remove('Руль')\n",
    "# l.remove('Состояние')\n",
    "# l.remove('Таможня')\n",
    "# l.remove('Состояние')\n",
    "# l.remove('Состояние')\n",
    "# l.remove('Состояние')\n",
    "# l"
   ]
  },
  {
   "cell_type": "code",
   "execution_count": null,
   "metadata": {},
   "outputs": [],
   "source": [
    "# def get_page(url):\n",
    "#   page = requests.get(url)\n",
    "#   if page.status_code != 200:\n",
    "#     raise BaseException(\"response code \" + str(page.status_code))\n",
    "#   return page\n",
    "# pages = Parallel(n_jobs = 5)(delayed(get_page)(url) for url in tqdm(urls))"
   ]
  },
  {
   "cell_type": "code",
   "execution_count": null,
   "metadata": {},
   "outputs": [],
   "source": []
  }
 ]
}